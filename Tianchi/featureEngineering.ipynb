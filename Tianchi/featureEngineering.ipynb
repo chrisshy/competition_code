{
 "cells": [
  {
   "cell_type": "code",
   "execution_count": 4,
   "metadata": {
    "execution": {
     "iopub.execute_input": "2021-12-19T00:45:03.076156Z",
     "iopub.status.busy": "2021-12-19T00:45:03.075812Z",
     "iopub.status.idle": "2021-12-19T00:45:03.083730Z",
     "shell.execute_reply": "2021-12-19T00:45:03.082612Z",
     "shell.execute_reply.started": "2021-12-19T00:45:03.076122Z"
    }
   },
   "outputs": [],
   "source": [
    "import numpy as np\n",
    "import pandas as pd \n",
    "\n",
    "import matplotlib.pyplot as plt\n",
    "import seaborn as sns \n",
    "\n",
    "import plotly.express as px\n",
    "import plotly.graph_objects as go\n",
    "\n",
    "plt.style.use('ggplot')"
   ]
  },
  {
   "cell_type": "code",
   "execution_count": 5,
   "metadata": {
    "execution": {
     "iopub.execute_input": "2021-12-19T00:45:03.330462Z",
     "iopub.status.busy": "2021-12-19T00:45:03.330125Z",
     "iopub.status.idle": "2021-12-19T00:45:03.335211Z",
     "shell.execute_reply": "2021-12-19T00:45:03.334431Z",
     "shell.execute_reply.started": "2021-12-19T00:45:03.330424Z"
    }
   },
   "outputs": [],
   "source": [
    "# reference: https://www.icode9.com/content-4-1103054.html"
   ]
  },
  {
   "cell_type": "code",
   "execution_count": 6,
   "metadata": {
    "execution": {
     "iopub.execute_input": "2021-12-19T00:45:03.520861Z",
     "iopub.status.busy": "2021-12-19T00:45:03.520556Z",
     "iopub.status.idle": "2021-12-19T00:46:13.814308Z",
     "shell.execute_reply": "2021-12-19T00:46:13.813192Z",
     "shell.execute_reply.started": "2021-12-19T00:45:03.520830Z"
    }
   },
   "outputs": [],
   "source": [
    "user_log = pd.read_csv('../input/tianchitemp/user_log_format1.csv', dtype={'time_stamp':'str'})\n",
    "user_info = pd.read_csv('../input/tianchitemp/user_info_format1.csv')\n",
    "train_data1 = pd.read_csv('../input/tianchitemp/train_format1.csv')\n",
    "submission = pd.read_csv('../input/repurchase/test_format1.csv')\n",
    "train_data = pd.read_csv('../input/repurchase/train_format2.csv')\n",
    "\n",
    "train_data1['origin'] = 'train'\n",
    "submission['origin'] = 'test'\n",
    "matrix = pd.concat([train_data1, submission], ignore_index=True, sort=False)\n",
    "#print(matrix)\n"
   ]
  },
  {
   "cell_type": "code",
   "execution_count": 7,
   "metadata": {
    "execution": {
     "iopub.execute_input": "2021-12-19T00:46:13.817053Z",
     "iopub.status.busy": "2021-12-19T00:46:13.816451Z",
     "iopub.status.idle": "2021-12-19T00:46:13.836570Z",
     "shell.execute_reply": "2021-12-19T00:46:13.835725Z",
     "shell.execute_reply.started": "2021-12-19T00:46:13.817004Z"
    }
   },
   "outputs": [],
   "source": [
    "matrix.tail(5)"
   ]
  },
  {
   "cell_type": "code",
   "execution_count": 8,
   "metadata": {
    "execution": {
     "iopub.execute_input": "2021-12-19T00:46:13.838132Z",
     "iopub.status.busy": "2021-12-19T00:46:13.837905Z",
     "iopub.status.idle": "2021-12-19T00:46:14.026554Z",
     "shell.execute_reply": "2021-12-19T00:46:14.025526Z",
     "shell.execute_reply.started": "2021-12-19T00:46:13.838104Z"
    }
   },
   "outputs": [],
   "source": [
    "matrix.drop(['prob'], axis=1, inplace=True)\n",
    "# 连接user_info表，通过user_id关联\n",
    "matrix = matrix.merge(user_info, on='user_id', how='left')\n",
    "# 使用merchant_id（原列名seller_id）\n",
    "user_log.rename(columns={'seller_id':'merchant_id'}, inplace=True)"
   ]
  },
  {
   "cell_type": "code",
   "execution_count": 9,
   "metadata": {
    "execution": {
     "iopub.execute_input": "2021-12-19T00:46:14.029045Z",
     "iopub.status.busy": "2021-12-19T00:46:14.028804Z",
     "iopub.status.idle": "2021-12-19T00:46:28.617669Z",
     "shell.execute_reply": "2021-12-19T00:46:28.616629Z",
     "shell.execute_reply.started": "2021-12-19T00:46:14.029016Z"
    }
   },
   "outputs": [],
   "source": [
    "user_log['user_id'] = user_log['user_id'].astype('int32')\n",
    "user_log['merchant_id'] = user_log['merchant_id'].astype('int32')\n",
    "user_log['item_id'] = user_log['item_id'].astype('int32')\n",
    "user_log['cat_id'] = user_log['cat_id'].astype('int32')\n",
    "user_log['brand_id'].fillna(0, inplace=True)\n",
    "user_log['brand_id'] = user_log['brand_id'].astype('int32')\n",
    "user_log['time_stamp'] = pd.to_datetime(user_log['time_stamp'], format='%H%M')\n",
    "# 1 for <18; 2 for [18,24]; 3 for [25,29]; 4 for [30,34]; 5 for [35,39]; 6 for [40,49]; 7 and 8 for >= 50; 0 and NULL for unknown"
   ]
  },
  {
   "cell_type": "code",
   "execution_count": 10,
   "metadata": {
    "execution": {
     "iopub.execute_input": "2021-12-19T00:46:28.619442Z",
     "iopub.status.busy": "2021-12-19T00:46:28.619141Z",
     "iopub.status.idle": "2021-12-19T00:46:28.999027Z",
     "shell.execute_reply": "2021-12-19T00:46:28.998104Z",
     "shell.execute_reply.started": "2021-12-19T00:46:28.619405Z"
    }
   },
   "outputs": [],
   "source": [
    "matrix['age_range'].fillna(0, inplace=True)\n",
    "# 0:female, 1:male, 2:unknown\n",
    "matrix['gender'].fillna(2, inplace=True)\n",
    "matrix['age_range'] = matrix['age_range'].astype('int8')\n",
    "matrix['gender'] = matrix['gender'].astype('int8')\n",
    "matrix['label'] = matrix['label'].astype('str')\n",
    "matrix['user_id'] = matrix['user_id'].astype('int32')\n",
    "matrix['merchant_id'] = matrix['merchant_id'].astype('int32')\n",
    "del user_info, train_data1"
   ]
  },
  {
   "cell_type": "code",
   "execution_count": 11,
   "metadata": {
    "execution": {
     "iopub.execute_input": "2021-12-19T00:46:29.000305Z",
     "iopub.status.busy": "2021-12-19T00:46:29.000052Z",
     "iopub.status.idle": "2021-12-19T00:46:29.013818Z",
     "shell.execute_reply": "2021-12-19T00:46:29.013026Z",
     "shell.execute_reply.started": "2021-12-19T00:46:29.000276Z"
    }
   },
   "outputs": [],
   "source": [
    "matrix.head()"
   ]
  },
  {
   "cell_type": "markdown",
   "metadata": {},
   "source": [
    "# User"
   ]
  },
  {
   "cell_type": "code",
   "execution_count": 12,
   "metadata": {
    "execution": {
     "iopub.execute_input": "2021-12-19T00:46:29.015557Z",
     "iopub.status.busy": "2021-12-19T00:46:29.014898Z",
     "iopub.status.idle": "2021-12-19T00:46:29.028736Z",
     "shell.execute_reply": "2021-12-19T00:46:29.027499Z",
     "shell.execute_reply.started": "2021-12-19T00:46:29.015506Z"
    }
   },
   "outputs": [],
   "source": [
    "# User特征处理\n",
    "groups = user_log.groupby(['user_id'])"
   ]
  },
  {
   "cell_type": "code",
   "execution_count": 13,
   "metadata": {
    "execution": {
     "iopub.execute_input": "2021-12-19T00:46:29.032188Z",
     "iopub.status.busy": "2021-12-19T00:46:29.031257Z",
     "iopub.status.idle": "2021-12-19T00:46:29.048564Z",
     "shell.execute_reply": "2021-12-19T00:46:29.047670Z",
     "shell.execute_reply.started": "2021-12-19T00:46:29.032146Z"
    }
   },
   "outputs": [],
   "source": [
    "user_log.head()"
   ]
  },
  {
   "cell_type": "code",
   "execution_count": 14,
   "metadata": {
    "execution": {
     "iopub.execute_input": "2021-12-19T00:46:29.050647Z",
     "iopub.status.busy": "2021-12-19T00:46:29.050148Z",
     "iopub.status.idle": "2021-12-19T00:46:30.750452Z",
     "shell.execute_reply": "2021-12-19T00:46:30.749304Z",
     "shell.execute_reply.started": "2021-12-19T00:46:29.050609Z"
    }
   },
   "outputs": [],
   "source": [
    "# 用户交互行为数量 u1\n",
    "temp = groups.size().reset_index().rename(columns={0:'u1'})\n",
    "matrix = matrix.merge(temp, on='user_id', how='left')"
   ]
  },
  {
   "cell_type": "code",
   "execution_count": 15,
   "metadata": {
    "execution": {
     "iopub.execute_input": "2021-12-19T00:46:30.755959Z",
     "iopub.status.busy": "2021-12-19T00:46:30.755180Z",
     "iopub.status.idle": "2021-12-19T00:47:04.255170Z",
     "shell.execute_reply": "2021-12-19T00:47:04.254074Z",
     "shell.execute_reply.started": "2021-12-19T00:46:30.755906Z"
    }
   },
   "outputs": [],
   "source": [
    "# 对于每个user_id 不重复的item_id的数量 => u2\n",
    "temp = groups['item_id'].agg([('u2', 'nunique')]).reset_index()\n",
    "matrix = matrix.merge(temp, on='user_id', how='left')"
   ]
  },
  {
   "cell_type": "code",
   "execution_count": 16,
   "metadata": {
    "execution": {
     "iopub.execute_input": "2021-12-19T00:47:04.256827Z",
     "iopub.status.busy": "2021-12-19T00:47:04.256551Z",
     "iopub.status.idle": "2021-12-19T00:47:26.699403Z",
     "shell.execute_reply": "2021-12-19T00:47:26.698303Z",
     "shell.execute_reply.started": "2021-12-19T00:47:04.256792Z"
    }
   },
   "outputs": [],
   "source": [
    "# 对于每个user_id 不重复的merchant_id的数量 => u3\n",
    "temp = groups['merchant_id'].agg([('u3', 'nunique')]).reset_index()\n",
    "matrix = matrix.merge(temp, on='user_id', how='left')"
   ]
  },
  {
   "cell_type": "code",
   "execution_count": 17,
   "metadata": {
    "execution": {
     "iopub.execute_input": "2021-12-19T00:47:26.702318Z",
     "iopub.status.busy": "2021-12-19T00:47:26.701176Z",
     "iopub.status.idle": "2021-12-19T00:47:47.112054Z",
     "shell.execute_reply": "2021-12-19T00:47:47.110956Z",
     "shell.execute_reply.started": "2021-12-19T00:47:26.702264Z"
    }
   },
   "outputs": [],
   "source": [
    "# 对于每个user_id 不重复的cat_id的数量 => u4\n",
    "temp = groups['cat_id'].agg([('u4', 'nunique')]).reset_index()\n",
    "matrix = matrix.merge(temp, on='user_id', how='left')"
   ]
  },
  {
   "cell_type": "code",
   "execution_count": 18,
   "metadata": {
    "execution": {
     "iopub.execute_input": "2021-12-19T00:47:47.114956Z",
     "iopub.status.busy": "2021-12-19T00:47:47.114245Z",
     "iopub.status.idle": "2021-12-19T00:48:10.144652Z",
     "shell.execute_reply": "2021-12-19T00:48:10.143649Z",
     "shell.execute_reply.started": "2021-12-19T00:47:47.114905Z"
    }
   },
   "outputs": [],
   "source": [
    "# 对于每个user_id 不重复的brand_id的数量 => u5\n",
    "temp = groups['brand_id'].agg([('u5', 'nunique')]).reset_index()\n",
    "matrix = matrix.merge(temp, on='user_id', how='left')"
   ]
  },
  {
   "cell_type": "code",
   "execution_count": 19,
   "metadata": {
    "execution": {
     "iopub.execute_input": "2021-12-19T00:48:10.146235Z",
     "iopub.status.busy": "2021-12-19T00:48:10.145993Z",
     "iopub.status.idle": "2021-12-19T00:48:19.136819Z",
     "shell.execute_reply": "2021-12-19T00:48:19.135317Z",
     "shell.execute_reply.started": "2021-12-19T00:48:10.146207Z"
    }
   },
   "outputs": [],
   "source": [
    "# 统计每个用户操作类型为0，1，2，3的总个数\n",
    "temp = groups['action_type'].value_counts().unstack().reset_index().rename(columns={0:'u6', 1:'u7', 2:'u8', 3:'u9'})\n",
    "matrix = matrix.merge(temp, on='user_id', how='left')"
   ]
  },
  {
   "cell_type": "code",
   "execution_count": 20,
   "metadata": {
    "execution": {
     "iopub.execute_input": "2021-12-19T00:48:19.139067Z",
     "iopub.status.busy": "2021-12-19T00:48:19.138769Z",
     "iopub.status.idle": "2021-12-19T00:48:35.573569Z",
     "shell.execute_reply": "2021-12-19T00:48:35.572478Z",
     "shell.execute_reply.started": "2021-12-19T00:48:19.139030Z"
    }
   },
   "outputs": [],
   "source": [
    "# 统计用户多少次在不同时间段进行操作\n",
    "temp = groups['time_stamp'].agg([('u10', 'nunique')]).reset_index()\n",
    "matrix = matrix.merge(temp, on='user_id', how='left')"
   ]
  },
  {
   "cell_type": "code",
   "execution_count": 21,
   "metadata": {
    "execution": {
     "iopub.execute_input": "2021-12-19T00:48:35.575844Z",
     "iopub.status.busy": "2021-12-19T00:48:35.575520Z",
     "iopub.status.idle": "2021-12-19T00:48:36.508307Z",
     "shell.execute_reply": "2021-12-19T00:48:36.507054Z",
     "shell.execute_reply.started": "2021-12-19T00:48:35.575806Z"
    }
   },
   "outputs": [],
   "source": [
    "# 时间间隔特征 u11 按照小时\n",
    "# 对于每个user_id 计算time_stamp的最小时间 => F_time, 最大时间max => L_time\n",
    "temp = groups['time_stamp'].agg([('F_time', 'min'), ('L_time', 'max')]).reset_index()\n",
    "temp['u11'] = (temp['L_time'] - temp['F_time']).dt.seconds/3600\n",
    "matrix = matrix.merge(temp[['user_id', 'u11']], on='user_id', how='left')"
   ]
  },
  {
   "cell_type": "markdown",
   "metadata": {},
   "source": [
    "# Merchant"
   ]
  },
  {
   "cell_type": "code",
   "execution_count": 22,
   "metadata": {
    "execution": {
     "iopub.execute_input": "2021-12-19T00:48:36.510701Z",
     "iopub.status.busy": "2021-12-19T00:48:36.510341Z",
     "iopub.status.idle": "2021-12-19T00:48:36.517236Z",
     "shell.execute_reply": "2021-12-19T00:48:36.516459Z",
     "shell.execute_reply.started": "2021-12-19T00:48:36.510658Z"
    }
   },
   "outputs": [],
   "source": [
    "# 商家特征处理\n",
    "groups = user_log.groupby(['merchant_id'])"
   ]
  },
  {
   "cell_type": "code",
   "execution_count": 23,
   "metadata": {
    "execution": {
     "iopub.execute_input": "2021-12-19T00:48:36.519612Z",
     "iopub.status.busy": "2021-12-19T00:48:36.518396Z",
     "iopub.status.idle": "2021-12-19T00:48:38.169374Z",
     "shell.execute_reply": "2021-12-19T00:48:38.167974Z",
     "shell.execute_reply.started": "2021-12-19T00:48:36.519566Z"
    }
   },
   "outputs": [],
   "source": [
    "# 商家被交互行为数量 m1\n",
    "temp = groups.size().reset_index().rename(columns={0:'m1'})\n",
    "matrix = matrix.merge(temp, on='merchant_id', how='left')"
   ]
  },
  {
   "cell_type": "code",
   "execution_count": 24,
   "metadata": {
    "execution": {
     "iopub.execute_input": "2021-12-19T00:48:38.171040Z",
     "iopub.status.busy": "2021-12-19T00:48:38.170783Z",
     "iopub.status.idle": "2021-12-19T00:50:04.853073Z",
     "shell.execute_reply": "2021-12-19T00:50:04.852009Z",
     "shell.execute_reply.started": "2021-12-19T00:48:38.171010Z"
    }
   },
   "outputs": [],
   "source": [
    "# 统计商家被交互的user_id, item_id, cat_id, brand_id 唯一值\n",
    "temp = groups['user_id', 'item_id', 'cat_id', 'brand_id'].nunique().reset_index().rename(columns={'user_id':'m2', 'item_id':'m3', 'cat_id':'m4', 'brand_id':'m5'})\n",
    "matrix = matrix.merge(temp, on='merchant_id', how='left')"
   ]
  },
  {
   "cell_type": "code",
   "execution_count": 25,
   "metadata": {
    "execution": {
     "iopub.execute_input": "2021-12-19T00:50:04.854974Z",
     "iopub.status.busy": "2021-12-19T00:50:04.854712Z",
     "iopub.status.idle": "2021-12-19T00:50:21.040184Z",
     "shell.execute_reply": "2021-12-19T00:50:21.039202Z",
     "shell.execute_reply.started": "2021-12-19T00:50:04.854944Z"
    }
   },
   "outputs": [],
   "source": [
    "# 统计商家被交互的action_type 唯一值\n",
    "temp = groups['action_type'].value_counts().unstack().reset_index().rename(columns={0:'m6', 1:'m7', 2:'m8', 3:'m9'})\n",
    "matrix = matrix.merge(temp, on='merchant_id', how='left')"
   ]
  },
  {
   "cell_type": "code",
   "execution_count": 26,
   "metadata": {
    "execution": {
     "iopub.execute_input": "2021-12-19T00:50:21.042060Z",
     "iopub.status.busy": "2021-12-19T00:50:21.041704Z",
     "iopub.status.idle": "2021-12-19T00:50:21.966498Z",
     "shell.execute_reply": "2021-12-19T00:50:21.965037Z",
     "shell.execute_reply.started": "2021-12-19T00:50:21.042025Z"
    }
   },
   "outputs": [],
   "source": [
    "# 按照merchant_id 统计随机负采样的个数\n",
    "temp = train_data[train_data['label']==-1].groupby(['merchant_id']).size().reset_index().rename(columns={0:'m10'})\n",
    "matrix = matrix.merge(temp, on='merchant_id', how='left')"
   ]
  },
  {
   "cell_type": "code",
   "execution_count": 27,
   "metadata": {
    "execution": {
     "iopub.execute_input": "2021-12-19T00:50:21.968906Z",
     "iopub.status.busy": "2021-12-19T00:50:21.968264Z",
     "iopub.status.idle": "2021-12-19T00:50:21.972882Z",
     "shell.execute_reply": "2021-12-19T00:50:21.971889Z",
     "shell.execute_reply.started": "2021-12-19T00:50:21.968864Z"
    }
   },
   "outputs": [],
   "source": [
    "# 统计商家被交互的年龄群体 占比\n",
    "# temp = groups['age_range'].value_counts().unstack().reset_index().rename(columns={'0':'m_a_0','1':'m_a_1','2':'m_a_2','3':'m_a_3','4':'m_a_4','5':'m_a_5','6':'m_a_6','7':'m_a_7','8':'m_a_8'})\n",
    "# temp"
   ]
  },
  {
   "cell_type": "markdown",
   "metadata": {},
   "source": [
    "# User+Merchant"
   ]
  },
  {
   "cell_type": "code",
   "execution_count": 28,
   "metadata": {
    "execution": {
     "iopub.execute_input": "2021-12-19T00:50:21.974972Z",
     "iopub.status.busy": "2021-12-19T00:50:21.974685Z",
     "iopub.status.idle": "2021-12-19T00:53:01.516927Z",
     "shell.execute_reply": "2021-12-19T00:53:01.514009Z",
     "shell.execute_reply.started": "2021-12-19T00:50:21.974939Z"
    }
   },
   "outputs": [],
   "source": [
    "# 按照user_id, merchant_id分组\n",
    "groups = user_log.groupby(['user_id', 'merchant_id'])\n",
    "temp = groups.size().reset_index().rename(columns={0:'um1'}) #统计行为个数\n",
    "matrix = matrix.merge(temp, on=['user_id', 'merchant_id'], how='left')\n",
    "temp = groups['item_id', 'cat_id', 'brand_id'].nunique().reset_index().rename(columns={'item_id':'um2', 'cat_id':'um3', 'brand_id':'um4'}) #统计item_id, cat_id, brand_id唯一个数\n",
    "matrix = matrix.merge(temp, on=['user_id', 'merchant_id'], how='left')\n",
    "temp = groups['action_type'].value_counts().unstack().reset_index().rename(columns={0:'um5', 1:'um6', 2:'um7', 3:'um8'})#统计不同action_type唯一个数\n",
    "matrix = matrix.merge(temp, on=['user_id', 'merchant_id'], how='left')\n",
    "temp = groups['time_stamp'].agg([('first', 'min'), ('last', 'max')]).reset_index()\n",
    "temp['um9'] = (temp['last'] - temp['first']).dt.seconds/3600\n",
    "temp.drop(['first', 'last'], axis=1, inplace=True)\n",
    "matrix = matrix.merge(temp, on=['user_id', 'merchant_id'], how='left') #统计时间间隔\n",
    "#print(matrix)"
   ]
  },
  {
   "cell_type": "markdown",
   "metadata": {},
   "source": [
    "# Derivative Features"
   ]
  },
  {
   "cell_type": "code",
   "execution_count": 29,
   "metadata": {
    "execution": {
     "iopub.execute_input": "2021-12-19T00:53:01.521855Z",
     "iopub.status.busy": "2021-12-19T00:53:01.521273Z",
     "iopub.status.idle": "2021-12-19T00:53:01.561583Z",
     "shell.execute_reply": "2021-12-19T00:53:01.558425Z",
     "shell.execute_reply.started": "2021-12-19T00:53:01.521819Z"
    }
   },
   "outputs": [],
   "source": [
    "#用户购买点击比\n",
    "matrix['r1'] = matrix['u9']/matrix['u7'] \n",
    "#商家购买点击比\n",
    "matrix['r2'] = matrix['m8']/matrix['m6'] \n",
    "#不同用户不同商家购买点击比\n",
    "matrix['r3'] = matrix['um7']/matrix['um5']"
   ]
  },
  {
   "cell_type": "code",
   "execution_count": 30,
   "metadata": {
    "execution": {
     "iopub.execute_input": "2021-12-19T00:53:01.569251Z",
     "iopub.status.busy": "2021-12-19T00:53:01.566394Z",
     "iopub.status.idle": "2021-12-19T00:53:02.098843Z",
     "shell.execute_reply": "2021-12-19T00:53:02.097283Z",
     "shell.execute_reply.started": "2021-12-19T00:53:01.569128Z"
    }
   },
   "outputs": [],
   "source": [
    "matrix.fillna(0, inplace=True)"
   ]
  },
  {
   "cell_type": "code",
   "execution_count": 31,
   "metadata": {
    "execution": {
     "iopub.execute_input": "2021-12-19T00:53:02.105696Z",
     "iopub.status.busy": "2021-12-19T00:53:02.105385Z",
     "iopub.status.idle": "2021-12-19T00:53:02.856785Z",
     "shell.execute_reply": "2021-12-19T00:53:02.855760Z",
     "shell.execute_reply.started": "2021-12-19T00:53:02.105662Z"
    }
   },
   "outputs": [],
   "source": [
    "# # 修改age_range字段名称为 age_0, age_1, age_2... age_8\n",
    "temp = pd.get_dummies(matrix['age_range'], prefix='age')\n",
    "matrix = pd.concat([matrix, temp], axis=1)\n",
    "temp = pd.get_dummies(matrix['gender'], prefix='g')\n",
    "matrix = pd.concat([matrix, temp], axis=1)\n",
    "matrix.drop(['age_range', 'gender'], axis=1, inplace=True)\n",
    "print(matrix)"
   ]
  },
  {
   "cell_type": "code",
   "execution_count": 52,
   "metadata": {
    "execution": {
     "iopub.execute_input": "2021-12-19T01:02:25.753561Z",
     "iopub.status.busy": "2021-12-19T01:02:25.752842Z",
     "iopub.status.idle": "2021-12-19T01:02:32.692676Z",
     "shell.execute_reply": "2021-12-19T01:02:32.691694Z",
     "shell.execute_reply.started": "2021-12-19T01:02:25.753502Z"
    }
   },
   "outputs": [],
   "source": [
    "user_info = pd.read_csv('../input/tianchitemp/user_info_format1.csv')\n",
    "merchant_user_log = user_log.merge(user_info, on='user_id', how='left')\n",
    "del user_info"
   ]
  },
  {
   "cell_type": "code",
   "execution_count": 53,
   "metadata": {
    "execution": {
     "iopub.execute_input": "2021-12-19T01:02:49.732158Z",
     "iopub.status.busy": "2021-12-19T01:02:49.731846Z",
     "iopub.status.idle": "2021-12-19T01:03:12.320090Z",
     "shell.execute_reply": "2021-12-19T01:03:12.319111Z",
     "shell.execute_reply.started": "2021-12-19T01:02:49.732125Z"
    }
   },
   "outputs": [],
   "source": [
    "# 商家对应用户画像特征\n",
    "tempp = merchant_user_log.groupby(['merchant_id','user_id'])['age_range','gender'].mean().reset_index().rename(columns={0:'age_range',1:'gender'})\n",
    "groups = tempp.groupby('merchant_id')\n",
    "del merchant_user_log,tempp"
   ]
  },
  {
   "cell_type": "code",
   "execution_count": 59,
   "metadata": {
    "execution": {
     "iopub.execute_input": "2021-12-19T01:04:47.234264Z",
     "iopub.status.busy": "2021-12-19T01:04:47.233839Z",
     "iopub.status.idle": "2021-12-19T01:04:49.857236Z",
     "shell.execute_reply": "2021-12-19T01:04:49.856054Z",
     "shell.execute_reply.started": "2021-12-19T01:04:47.234214Z"
    }
   },
   "outputs": [],
   "source": [
    "# 每个商家各个年龄段用户的数量\n",
    "temp = groups['age_range'].value_counts().unstack().reset_index().rename(columns={0:'m_a_0',1:'m_a_1',2:'m_a_2',3:'m_a_3',4:'m_a_4',5:'m_a_5',6:'m_a_6',7:'m_a_7',8:'m_a_8'})\n",
    "matrix = matrix.merge(temp, on='merchant_id', how='left')"
   ]
  },
  {
   "cell_type": "code",
   "execution_count": 55,
   "metadata": {
    "execution": {
     "iopub.execute_input": "2021-12-19T01:03:15.001213Z",
     "iopub.status.busy": "2021-12-19T01:03:15.000955Z",
     "iopub.status.idle": "2021-12-19T01:03:16.900638Z",
     "shell.execute_reply": "2021-12-19T01:03:16.899623Z",
     "shell.execute_reply.started": "2021-12-19T01:03:15.001182Z"
    }
   },
   "outputs": [],
   "source": [
    "# 每个商家各个性别用户的数量\n",
    "temp = groups['gender'].value_counts().unstack().reset_index().rename(columns={0:'m_g_0',1:'m_g_1',2:'m_g_2'})\n",
    "matrix = matrix.merge(temp, on='merchant_id', how='left')"
   ]
  },
  {
   "cell_type": "code",
   "execution_count": 61,
   "metadata": {
    "execution": {
     "iopub.execute_input": "2021-12-19T01:05:27.601664Z",
     "iopub.status.busy": "2021-12-19T01:05:27.601307Z",
     "iopub.status.idle": "2021-12-19T01:05:28.152463Z",
     "shell.execute_reply": "2021-12-19T01:05:28.151498Z",
     "shell.execute_reply.started": "2021-12-19T01:05:27.601626Z"
    }
   },
   "outputs": [],
   "source": [
    "# matrix.drop(['m_a_0_x','m_a_1_x','m_a_2_x','m_a_3_x','m_a_4_x','m_a_5_x','m_a_6_x','m_a_7_x','m_a_8_x'],axis=1,inplace=True)\n",
    "# matrix.drop('age_range',axis=1,inplace=True)\n",
    "matrix.fillna(0)"
   ]
  },
  {
   "cell_type": "code",
   "execution_count": 64,
   "metadata": {
    "execution": {
     "iopub.execute_input": "2021-12-19T01:08:23.165410Z",
     "iopub.status.busy": "2021-12-19T01:08:23.165032Z",
     "iopub.status.idle": "2021-12-19T01:08:23.206122Z",
     "shell.execute_reply": "2021-12-19T01:08:23.205163Z",
     "shell.execute_reply.started": "2021-12-19T01:08:23.165375Z"
    }
   },
   "outputs": [],
   "source": [
    "# 上述特征占总用户的比值\n",
    "for i in range(0,9):\n",
    "    matrix['r_m_a_'+str(i)]  = matrix['m_a_'+str(i)]/matrix['m2']"
   ]
  },
  {
   "cell_type": "code",
   "execution_count": 65,
   "metadata": {
    "execution": {
     "iopub.execute_input": "2021-12-19T01:09:01.538105Z",
     "iopub.status.busy": "2021-12-19T01:09:01.537757Z",
     "iopub.status.idle": "2021-12-19T01:09:01.554392Z",
     "shell.execute_reply": "2021-12-19T01:09:01.553462Z",
     "shell.execute_reply.started": "2021-12-19T01:09:01.538067Z"
    }
   },
   "outputs": [],
   "source": [
    "for i in range(0,3):\n",
    "    matrix['r_m_g_'+str(i)]  = matrix['m_g_'+str(i)]/matrix['m2']"
   ]
  },
  {
   "cell_type": "code",
   "execution_count": 66,
   "metadata": {
    "execution": {
     "iopub.execute_input": "2021-12-19T01:09:13.315429Z",
     "iopub.status.busy": "2021-12-19T01:09:13.314498Z",
     "iopub.status.idle": "2021-12-19T01:09:13.513326Z",
     "shell.execute_reply": "2021-12-19T01:09:13.512607Z",
     "shell.execute_reply.started": "2021-12-19T01:09:13.315380Z"
    }
   },
   "outputs": [],
   "source": [
    "matrix"
   ]
  },
  {
   "cell_type": "code",
   "execution_count": 67,
   "metadata": {
    "execution": {
     "iopub.execute_input": "2021-12-19T01:09:33.002378Z",
     "iopub.status.busy": "2021-12-19T01:09:33.001749Z",
     "iopub.status.idle": "2021-12-19T01:10:08.187964Z",
     "shell.execute_reply": "2021-12-19T01:10:08.186931Z",
     "shell.execute_reply.started": "2021-12-19T01:09:33.002319Z"
    }
   },
   "outputs": [],
   "source": [
    "matrix.to_pickle('./matrix.pkl')\n",
    "matrix.to_csv('./matrix.csv')"
   ]
  },
  {
   "cell_type": "markdown",
   "metadata": {},
   "source": [
    "# Training "
   ]
  },
  {
   "cell_type": "code",
   "execution_count": 2,
   "metadata": {
    "ExecuteTime": {
     "end_time": "2022-01-09T23:44:07.139068Z",
     "start_time": "2022-01-09T23:44:04.984597Z"
    }
   },
   "outputs": [],
   "source": [
    "import pandas as pd\n",
    "a = pd.DataFrame({'a1':[1,2,3],'a2':['1.2','2.2.2','2.1.2']}) "
   ]
  },
  {
   "cell_type": "code",
   "execution_count": 2,
   "metadata": {
    "ExecuteTime": {
     "end_time": "2022-01-08T23:23:09.605887Z",
     "start_time": "2022-01-08T23:23:09.550883Z"
    }
   },
   "outputs": [
    {
     "data": {
      "text/html": [
       "<div>\n",
       "<style scoped>\n",
       "    .dataframe tbody tr th:only-of-type {\n",
       "        vertical-align: middle;\n",
       "    }\n",
       "\n",
       "    .dataframe tbody tr th {\n",
       "        vertical-align: top;\n",
       "    }\n",
       "\n",
       "    .dataframe thead th {\n",
       "        text-align: right;\n",
       "    }\n",
       "</style>\n",
       "<table border=\"1\" class=\"dataframe\">\n",
       "  <thead>\n",
       "    <tr style=\"text-align: right;\">\n",
       "      <th></th>\n",
       "      <th>a1</th>\n",
       "      <th>a2</th>\n",
       "    </tr>\n",
       "  </thead>\n",
       "  <tbody>\n",
       "    <tr>\n",
       "      <th>0</th>\n",
       "      <td>1</td>\n",
       "      <td>1.2</td>\n",
       "    </tr>\n",
       "    <tr>\n",
       "      <th>1</th>\n",
       "      <td>2</td>\n",
       "      <td>2.2.2</td>\n",
       "    </tr>\n",
       "    <tr>\n",
       "      <th>2</th>\n",
       "      <td>3</td>\n",
       "      <td>2.1.2</td>\n",
       "    </tr>\n",
       "  </tbody>\n",
       "</table>\n",
       "</div>"
      ],
      "text/plain": [
       "   a1     a2\n",
       "0   1    1.2\n",
       "1   2  2.2.2\n",
       "2   3  2.1.2"
      ]
     },
     "execution_count": 2,
     "metadata": {},
     "output_type": "execute_result"
    }
   ],
   "source": [
    "a"
   ]
  },
  {
   "cell_type": "code",
   "execution_count": null,
   "metadata": {},
   "outputs": [],
   "source": []
  },
  {
   "cell_type": "code",
   "execution_count": 10,
   "metadata": {
    "ExecuteTime": {
     "end_time": "2022-01-08T23:27:35.518639Z",
     "start_time": "2022-01-08T23:27:35.489718Z"
    }
   },
   "outputs": [],
   "source": [
    "for i in range(0,9):\n",
    "    a['dummy'+str(i+1)] = a['a2'].apply(lambda x: 1 if x.split('.')[0]==str(i+1) else 0, 1)"
   ]
  },
  {
   "cell_type": "code",
   "execution_count": 11,
   "metadata": {
    "ExecuteTime": {
     "end_time": "2022-01-08T23:27:36.939220Z",
     "start_time": "2022-01-08T23:27:36.920127Z"
    }
   },
   "outputs": [
    {
     "data": {
      "text/html": [
       "<div>\n",
       "<style scoped>\n",
       "    .dataframe tbody tr th:only-of-type {\n",
       "        vertical-align: middle;\n",
       "    }\n",
       "\n",
       "    .dataframe tbody tr th {\n",
       "        vertical-align: top;\n",
       "    }\n",
       "\n",
       "    .dataframe thead th {\n",
       "        text-align: right;\n",
       "    }\n",
       "</style>\n",
       "<table border=\"1\" class=\"dataframe\">\n",
       "  <thead>\n",
       "    <tr style=\"text-align: right;\">\n",
       "      <th></th>\n",
       "      <th>a1</th>\n",
       "      <th>a2</th>\n",
       "      <th>dummy1</th>\n",
       "      <th>dummy2</th>\n",
       "      <th>dummy3</th>\n",
       "      <th>dummy4</th>\n",
       "      <th>dummy5</th>\n",
       "      <th>dummy6</th>\n",
       "      <th>dummy7</th>\n",
       "      <th>dummy8</th>\n",
       "      <th>dummy9</th>\n",
       "    </tr>\n",
       "  </thead>\n",
       "  <tbody>\n",
       "    <tr>\n",
       "      <th>0</th>\n",
       "      <td>1</td>\n",
       "      <td>1.2</td>\n",
       "      <td>1</td>\n",
       "      <td>0</td>\n",
       "      <td>0</td>\n",
       "      <td>0</td>\n",
       "      <td>0</td>\n",
       "      <td>0</td>\n",
       "      <td>0</td>\n",
       "      <td>0</td>\n",
       "      <td>0</td>\n",
       "    </tr>\n",
       "    <tr>\n",
       "      <th>1</th>\n",
       "      <td>2</td>\n",
       "      <td>2.2.2</td>\n",
       "      <td>0</td>\n",
       "      <td>1</td>\n",
       "      <td>0</td>\n",
       "      <td>0</td>\n",
       "      <td>0</td>\n",
       "      <td>0</td>\n",
       "      <td>0</td>\n",
       "      <td>0</td>\n",
       "      <td>0</td>\n",
       "    </tr>\n",
       "    <tr>\n",
       "      <th>2</th>\n",
       "      <td>3</td>\n",
       "      <td>2.1.2</td>\n",
       "      <td>0</td>\n",
       "      <td>1</td>\n",
       "      <td>0</td>\n",
       "      <td>0</td>\n",
       "      <td>0</td>\n",
       "      <td>0</td>\n",
       "      <td>0</td>\n",
       "      <td>0</td>\n",
       "      <td>0</td>\n",
       "    </tr>\n",
       "  </tbody>\n",
       "</table>\n",
       "</div>"
      ],
      "text/plain": [
       "   a1     a2  dummy1  dummy2  dummy3  dummy4  dummy5  dummy6  dummy7  dummy8  \\\n",
       "0   1    1.2       1       0       0       0       0       0       0       0   \n",
       "1   2  2.2.2       0       1       0       0       0       0       0       0   \n",
       "2   3  2.1.2       0       1       0       0       0       0       0       0   \n",
       "\n",
       "   dummy9  \n",
       "0       0  \n",
       "1       0  \n",
       "2       0  "
      ]
     },
     "execution_count": 11,
     "metadata": {},
     "output_type": "execute_result"
    }
   ],
   "source": [
    "a"
   ]
  },
  {
   "cell_type": "code",
   "execution_count": 3,
   "metadata": {
    "ExecuteTime": {
     "end_time": "2022-01-09T01:31:59.161238Z",
     "start_time": "2022-01-09T01:31:59.153282Z"
    }
   },
   "outputs": [
    {
     "data": {
      "text/plain": [
       "True"
      ]
     },
     "execution_count": 3,
     "metadata": {},
     "output_type": "execute_result"
    }
   ],
   "source": [
    "'2.2'>'10.2'"
   ]
  },
  {
   "cell_type": "code",
   "execution_count": 64,
   "metadata": {
    "ExecuteTime": {
     "end_time": "2022-01-10T00:31:37.549356Z",
     "start_time": "2022-01-10T00:31:37.534396Z"
    }
   },
   "outputs": [],
   "source": [
    "dict_ = {'a':1,'b':3}\n",
    "data = pd.DataFrame({'Country':['a','a','b'],'a2':['1.2','2.2.2','2.1.2'],'Area Income':[None,1,None],'label':[1,1,0]}) \n",
    "test = pd.DataFrame({'Country':['a','c','c'],'a2':['1.2','2.2.2','2.1.2'],'Area Income':[None,1,None],'label':[1,1,0]}) "
   ]
  },
  {
   "cell_type": "code",
   "execution_count": 51,
   "metadata": {
    "ExecuteTime": {
     "end_time": "2022-01-10T00:21:51.770544Z",
     "start_time": "2022-01-10T00:21:51.760205Z"
    }
   },
   "outputs": [],
   "source": [
    "import numpy as np\n",
    "data['temp'] = data['Area Income'].isnull()\n",
    "data['Area Income'] = data.apply(lambda x: dict_[x['Country']] if x['temp']== True else x['Area Income'],axis=1) \n",
    "data.drop('temp',axis=1,inplace=True)"
   ]
  },
  {
   "cell_type": "code",
   "execution_count": 52,
   "metadata": {
    "ExecuteTime": {
     "end_time": "2022-01-10T00:21:52.143592Z",
     "start_time": "2022-01-10T00:21:52.118107Z"
    }
   },
   "outputs": [
    {
     "data": {
      "text/html": [
       "<div>\n",
       "<style scoped>\n",
       "    .dataframe tbody tr th:only-of-type {\n",
       "        vertical-align: middle;\n",
       "    }\n",
       "\n",
       "    .dataframe tbody tr th {\n",
       "        vertical-align: top;\n",
       "    }\n",
       "\n",
       "    .dataframe thead th {\n",
       "        text-align: right;\n",
       "    }\n",
       "</style>\n",
       "<table border=\"1\" class=\"dataframe\">\n",
       "  <thead>\n",
       "    <tr style=\"text-align: right;\">\n",
       "      <th></th>\n",
       "      <th>Country</th>\n",
       "      <th>a2</th>\n",
       "      <th>Area Income</th>\n",
       "      <th>label</th>\n",
       "    </tr>\n",
       "  </thead>\n",
       "  <tbody>\n",
       "    <tr>\n",
       "      <th>0</th>\n",
       "      <td>a</td>\n",
       "      <td>1.2</td>\n",
       "      <td>1.0</td>\n",
       "      <td>1</td>\n",
       "    </tr>\n",
       "    <tr>\n",
       "      <th>1</th>\n",
       "      <td>a</td>\n",
       "      <td>2.2.2</td>\n",
       "      <td>1.0</td>\n",
       "      <td>1</td>\n",
       "    </tr>\n",
       "    <tr>\n",
       "      <th>2</th>\n",
       "      <td>b</td>\n",
       "      <td>2.1.2</td>\n",
       "      <td>3.0</td>\n",
       "      <td>0</td>\n",
       "    </tr>\n",
       "  </tbody>\n",
       "</table>\n",
       "</div>"
      ],
      "text/plain": [
       "  Country     a2  Area Income  label\n",
       "0       a    1.2          1.0      1\n",
       "1       a  2.2.2          1.0      1\n",
       "2       b  2.1.2          3.0      0"
      ]
     },
     "execution_count": 52,
     "metadata": {},
     "output_type": "execute_result"
    }
   ],
   "source": [
    "data"
   ]
  },
  {
   "cell_type": "code",
   "execution_count": 62,
   "metadata": {
    "ExecuteTime": {
     "end_time": "2022-01-10T00:29:05.158044Z",
     "start_time": "2022-01-10T00:29:05.136105Z"
    }
   },
   "outputs": [],
   "source": [
    "# target encoding with smoothing parameter = 4 and 10\n",
    "c=4; nmid=10; y_avg = data['label'].mean()\n",
    "y_catvar = data.groupby('Country')['label'].mean()\n",
    "num_instances_catvar = data.groupby('Country').size()\n",
    "y_catvar_smooth = y_avg + (y_catvar - y_avg) / (1 + np.exp( - (num_instances_catvar - nmid) / c))\n",
    "data['Country'+'_target_encoded'] = data['Country'].map(y_catvar_smooth)"
   ]
  },
  {
   "cell_type": "code",
   "execution_count": 63,
   "metadata": {
    "ExecuteTime": {
     "end_time": "2022-01-10T00:29:06.330341Z",
     "start_time": "2022-01-10T00:29:06.317321Z"
    }
   },
   "outputs": [
    {
     "data": {
      "text/html": [
       "<div>\n",
       "<style scoped>\n",
       "    .dataframe tbody tr th:only-of-type {\n",
       "        vertical-align: middle;\n",
       "    }\n",
       "\n",
       "    .dataframe tbody tr th {\n",
       "        vertical-align: top;\n",
       "    }\n",
       "\n",
       "    .dataframe thead th {\n",
       "        text-align: right;\n",
       "    }\n",
       "</style>\n",
       "<table border=\"1\" class=\"dataframe\">\n",
       "  <thead>\n",
       "    <tr style=\"text-align: right;\">\n",
       "      <th></th>\n",
       "      <th>Country</th>\n",
       "      <th>a2</th>\n",
       "      <th>Area Income</th>\n",
       "      <th>label</th>\n",
       "      <th>Country_target_encoded</th>\n",
       "    </tr>\n",
       "  </thead>\n",
       "  <tbody>\n",
       "    <tr>\n",
       "      <th>0</th>\n",
       "      <td>a</td>\n",
       "      <td>1.2</td>\n",
       "      <td>1.0</td>\n",
       "      <td>1</td>\n",
       "      <td>0.706401</td>\n",
       "    </tr>\n",
       "    <tr>\n",
       "      <th>1</th>\n",
       "      <td>a</td>\n",
       "      <td>2.2.2</td>\n",
       "      <td>1.0</td>\n",
       "      <td>1</td>\n",
       "      <td>0.706401</td>\n",
       "    </tr>\n",
       "    <tr>\n",
       "      <th>2</th>\n",
       "      <td>b</td>\n",
       "      <td>2.1.2</td>\n",
       "      <td>3.0</td>\n",
       "      <td>0</td>\n",
       "      <td>0.603100</td>\n",
       "    </tr>\n",
       "  </tbody>\n",
       "</table>\n",
       "</div>"
      ],
      "text/plain": [
       "  Country     a2  Area Income  label  Country_target_encoded\n",
       "0       a    1.2          1.0      1                0.706401\n",
       "1       a  2.2.2          1.0      1                0.706401\n",
       "2       b  2.1.2          3.0      0                0.603100"
      ]
     },
     "execution_count": 63,
     "metadata": {},
     "output_type": "execute_result"
    }
   ],
   "source": [
    "data"
   ]
  },
  {
   "cell_type": "code",
   "execution_count": 65,
   "metadata": {
    "ExecuteTime": {
     "end_time": "2022-01-10T00:32:03.777606Z",
     "start_time": "2022-01-10T00:32:03.763756Z"
    }
   },
   "outputs": [],
   "source": [
    "test['Country'+'_target_encoded'] = test['Country'].map(y_catvar_smooth)"
   ]
  },
  {
   "cell_type": "code",
   "execution_count": 66,
   "metadata": {
    "ExecuteTime": {
     "end_time": "2022-01-10T00:32:06.530280Z",
     "start_time": "2022-01-10T00:32:06.513613Z"
    }
   },
   "outputs": [
    {
     "data": {
      "text/html": [
       "<div>\n",
       "<style scoped>\n",
       "    .dataframe tbody tr th:only-of-type {\n",
       "        vertical-align: middle;\n",
       "    }\n",
       "\n",
       "    .dataframe tbody tr th {\n",
       "        vertical-align: top;\n",
       "    }\n",
       "\n",
       "    .dataframe thead th {\n",
       "        text-align: right;\n",
       "    }\n",
       "</style>\n",
       "<table border=\"1\" class=\"dataframe\">\n",
       "  <thead>\n",
       "    <tr style=\"text-align: right;\">\n",
       "      <th></th>\n",
       "      <th>Country</th>\n",
       "      <th>a2</th>\n",
       "      <th>Area Income</th>\n",
       "      <th>label</th>\n",
       "      <th>Country_target_encoded</th>\n",
       "    </tr>\n",
       "  </thead>\n",
       "  <tbody>\n",
       "    <tr>\n",
       "      <th>0</th>\n",
       "      <td>a</td>\n",
       "      <td>1.2</td>\n",
       "      <td>NaN</td>\n",
       "      <td>1</td>\n",
       "      <td>0.706401</td>\n",
       "    </tr>\n",
       "    <tr>\n",
       "      <th>1</th>\n",
       "      <td>c</td>\n",
       "      <td>2.2.2</td>\n",
       "      <td>1.0</td>\n",
       "      <td>1</td>\n",
       "      <td>NaN</td>\n",
       "    </tr>\n",
       "    <tr>\n",
       "      <th>2</th>\n",
       "      <td>c</td>\n",
       "      <td>2.1.2</td>\n",
       "      <td>NaN</td>\n",
       "      <td>0</td>\n",
       "      <td>NaN</td>\n",
       "    </tr>\n",
       "  </tbody>\n",
       "</table>\n",
       "</div>"
      ],
      "text/plain": [
       "  Country     a2  Area Income  label  Country_target_encoded\n",
       "0       a    1.2          NaN      1                0.706401\n",
       "1       c  2.2.2          1.0      1                     NaN\n",
       "2       c  2.1.2          NaN      0                     NaN"
      ]
     },
     "execution_count": 66,
     "metadata": {},
     "output_type": "execute_result"
    }
   ],
   "source": [
    "test"
   ]
  },
  {
   "cell_type": "code",
   "execution_count": 67,
   "metadata": {
    "ExecuteTime": {
     "end_time": "2022-01-10T01:45:32.552789Z",
     "start_time": "2022-01-10T01:45:32.526520Z"
    }
   },
   "outputs": [
    {
     "data": {
      "text/plain": [
       "Country                   0\n",
       "a2                        0\n",
       "Area Income               2\n",
       "label                     0\n",
       "Country_target_encoded    2\n",
       "dtype: int64"
      ]
     },
     "execution_count": 67,
     "metadata": {},
     "output_type": "execute_result"
    }
   ],
   "source": [
    "test.isnull().sum("
   ]
  },
  {
   "cell_type": "code",
   "execution_count": null,
   "metadata": {},
   "outputs": [],
   "source": [
    "data['log_Area'] = np.log(data['Area Income'])\n"
   ]
  }
 ],
 "metadata": {
  "kernelspec": {
   "display_name": "Python 3",
   "language": "python",
   "name": "python3"
  },
  "language_info": {
   "codemirror_mode": {
    "name": "ipython",
    "version": 3
   },
   "file_extension": ".py",
   "mimetype": "text/x-python",
   "name": "python",
   "nbconvert_exporter": "python",
   "pygments_lexer": "ipython3",
   "version": "3.6.5"
  },
  "toc": {
   "base_numbering": 1,
   "nav_menu": {},
   "number_sections": true,
   "sideBar": true,
   "skip_h1_title": false,
   "title_cell": "Table of Contents",
   "title_sidebar": "Contents",
   "toc_cell": false,
   "toc_position": {},
   "toc_section_display": true,
   "toc_window_display": false
  }
 },
 "nbformat": 4,
 "nbformat_minor": 4
}
