{
 "cells": [
  {
   "cell_type": "code",
   "execution_count": 1,
   "id": "1b5eb070",
   "metadata": {
    "_cell_guid": "b1076dfc-b9ad-4769-8c92-a6c4dae69d19",
    "_uuid": "8f2839f25d086af736a60e9eeb907d3b93b6e0e5",
    "execution": {
     "iopub.execute_input": "2021-09-25T23:43:46.567634Z",
     "iopub.status.busy": "2021-09-25T23:43:46.566613Z",
     "iopub.status.idle": "2021-09-25T23:43:47.841620Z",
     "shell.execute_reply": "2021-09-25T23:43:47.840760Z",
     "shell.execute_reply.started": "2021-09-25T21:32:51.621951Z"
    },
    "papermill": {
     "duration": 1.298302,
     "end_time": "2021-09-25T23:43:47.841812",
     "exception": false,
     "start_time": "2021-09-25T23:43:46.543510",
     "status": "completed"
    },
    "tags": []
   },
   "outputs": [],
   "source": [
    "import pandas as pd\n",
    "from sklearn.feature_selection import RFECV\n",
    "from sklearn.ensemble import RandomForestRegressor\n",
    "from sklearn.preprocessing import StandardScaler\n",
    "from sklearn.cluster import KMeans\n",
    "\n",
    "import joblib\n",
    "\n",
    "\n",
    "import numpy as np\n",
    "import matplotlib.pyplot as plt\n",
    "import os\n",
    "import glob"
   ]
  },
  {
   "cell_type": "code",
   "execution_count": 2,
   "id": "f4942f29",
   "metadata": {
    "execution": {
     "iopub.execute_input": "2021-09-25T23:43:47.871799Z",
     "iopub.status.busy": "2021-09-25T23:43:47.870999Z",
     "iopub.status.idle": "2021-09-25T23:43:47.874321Z",
     "shell.execute_reply": "2021-09-25T23:43:47.873767Z",
     "shell.execute_reply.started": "2021-09-25T21:32:52.741111Z"
    },
    "papermill": {
     "duration": 0.018816,
     "end_time": "2021-09-25T23:43:47.874467",
     "exception": false,
     "start_time": "2021-09-25T23:43:47.855651",
     "status": "completed"
    },
    "tags": []
   },
   "outputs": [],
   "source": [
    "from sklearn.tree import export_graphviz\n",
    "from sklearn.model_selection import GridSearchCV\n",
    "from sklearn.model_selection import RandomizedSearchCV"
   ]
  },
  {
   "cell_type": "code",
   "execution_count": 3,
   "id": "c3f07fe6",
   "metadata": {
    "execution": {
     "iopub.execute_input": "2021-09-25T23:43:47.901190Z",
     "iopub.status.busy": "2021-09-25T23:43:47.900423Z",
     "iopub.status.idle": "2021-09-25T23:43:47.919986Z",
     "shell.execute_reply": "2021-09-25T23:43:47.920687Z",
     "shell.execute_reply.started": "2021-09-25T21:32:53.627323Z"
    },
    "papermill": {
     "duration": 0.035003,
     "end_time": "2021-09-25T23:43:47.920933",
     "exception": false,
     "start_time": "2021-09-25T23:43:47.885930",
     "status": "completed"
    },
    "tags": []
   },
   "outputs": [],
   "source": [
    "def log_return(stock_price):\n",
    "    \"\"\"\n",
    "    stock price: a series of stock price from groupby function\n",
    "    \"\"\"\n",
    "    return np.log(stock_price).diff()\n",
    "\n",
    "def realized_vol(stock_log_return):\n",
    "    \"\"\"\n",
    "    log_return: the return of function log_return\n",
    "    return: the vol of ten mins\n",
    "    \"\"\"\n",
    "    return np.sqrt(np.sum(stock_log_return[1:]**2))\n",
    "\n",
    "def realized_vol_seconds(stock_log_return,seconds):\n",
    "    \"\"\"\n",
    "    seconds: parameter that controls the target mins\n",
    "    Designed for feature engineering, the volatility of the last several mins\n",
    "    \"\"\"\n",
    "    return np.sqrt(np.sum(stock_log_return[stock_log_return.seconds_in_bucket >= seconds]['log_return']**2))\n",
    "\n",
    "def book_train_feature(book_train_0):\n",
    "    book_train_0['wap1'] = (book_train_0['bid_price1'] * book_train_0['ask_size1']+book_train_0['ask_price1']*book_train_0['bid_size1'])/(book_train_0['bid_size1']+book_train_0['ask_size1'])\n",
    "    book_train_0['wap2'] = (book_train_0['bid_price2'] * book_train_0['ask_size2']+book_train_0['ask_price2']*book_train_0['bid_size2'])/(book_train_0['bid_size2']+book_train_0['ask_size2'])\n",
    "    book_train_0['wap_spread'] = book_train_0['wap1'] - book_train_0['wap2']\n",
    "\n",
    "    book_train_0['bidask_spread'] = (book_train_0['ask_price1'] - book_train_0['bid_price1']) / book_train_0['bid_price1']\n",
    "    book_train_0['bidask_spread2'] = (book_train_0['ask_price2'] - book_train_0['bid_price2']) / book_train_0['bid_price2']\n",
    "    # wap在bid和ask之间的范围\n",
    "    book_train_0['wap_bid_ask_position'] = abs(abs((book_train_0['ask_price2']+book_train_0['ask_price1'])/2-book_train_0['wap1']) - abs((book_train_0['bid_price2']+book_train_0['bid_price1'])/2-book_train_0['wap1']))\n",
    "\n",
    "    book_train_0['total_ask_size'] = book_train_0['ask_size1'] + book_train_0['ask_size2']\n",
    "    book_train_0['total_bid_size'] = book_train_0['bid_size1'] + book_train_0['bid_size2']\n",
    "    book_train_0['total_ask_amount'] = book_train_0['ask_price1'] * book_train_0['ask_size1'] + book_train_0['ask_price2'] * book_train_0['ask_size2']\n",
    "    book_train_0['total_bid_amount'] = book_train_0['bid_price1'] * book_train_0['bid_size1'] + book_train_0['bid_price2'] * book_train_0['bid_size2']\n",
    "    book_train_0['size_imbalance'] = book_train_0['total_ask_size'] / book_train_0['total_bid_size'] - 1\n",
    "    book_train_0['amount_imbalance'] = book_train_0['total_ask_amount'] / book_train_0['total_bid_amount'] - 1\n",
    "    book_train_0['log_return'] = book_train_0.groupby('time_id')['wap1'].apply(log_return).fillna(0)\n",
    "    book_train_0['log_return_wap2'] = book_train_0.groupby('time_id')['wap2'].apply(log_return).fillna(0)\n",
    "\n",
    "    # volatility feature\n",
    "    list_vol_feature_book = []\n",
    "    book_train_0_groupby_timeid = book_train_0.groupby('time_id')\n",
    "    for time_id, book_train_time_id in book_train_0_groupby_timeid:\n",
    "        realized_vol = realized_vol_seconds(book_train_time_id,seconds=0)\n",
    "        realized_vol_seconds_300 = realized_vol_seconds(book_train_time_id,seconds=300)\n",
    "        realized_vol_seconds_480 = realized_vol_seconds(book_train_time_id,seconds=480) \n",
    "        realized_vol_seconds_540 = realized_vol_seconds(book_train_time_id,seconds=540)\n",
    "\n",
    "        book_train_time_id_480 = book_train_time_id[book_train_time_id.seconds_in_bucket>=480]\n",
    "        book_train_time_id_540 = book_train_time_id[book_train_time_id.seconds_in_bucket>=540]\n",
    "\n",
    "        bidask_spread_range = book_train_time_id['bidask_spread'].quantile(0.75)- book_train_time_id['bidask_spread'].quantile(0.25)\n",
    "        bidask_spread_cv = book_train_time_id['bidask_spread'].std()/book_train_time_id['bidask_spread'].mean()\n",
    "        bidask_spread_range2 = book_train_time_id['bidask_spread2'].quantile(0.75)- book_train_time_id['bidask_spread'].quantile(0.25)\n",
    "\n",
    "        size_imbalance_range = book_train_time_id['size_imbalance'].quantile(0.75) - book_train_time_id['size_imbalance'].quantile(0.25)\n",
    "        amount_imbalance_range = book_train_time_id['amount_imbalance'].quantile(0.75) - book_train_time_id['amount_imbalance'].quantile(0.25)\n",
    "        wap_range = book_train_time_id['wap1'].max()/book_train_time_id['wap1'].min()\n",
    "        wap_bid_ask_imbalance = book_train_time_id['wap_bid_ask_position'].sum()\n",
    "        wap_bid_ask_imbalance_last_480 =  book_train_time_id_480['wap_bid_ask_position'].sum()\n",
    "        wap_bid_ask_imbalance_last_540 =  book_train_time_id_540['wap_bid_ask_position'].sum()\n",
    "        wap_bid_ask_imbalance_range = book_train_time_id['wap_bid_ask_position'].quantile(0.75) -book_train_time_id['wap_bid_ask_position'].quantile(0.25) \n",
    "\n",
    "        list_vol_feature_book.append([time_id,realized_vol,realized_vol_seconds_300,realized_vol_seconds_480,realized_vol_seconds_540,bidask_spread_range,bidask_spread_range2,wap_bid_ask_imbalance_range,\n",
    "        bidask_spread_cv,size_imbalance_range,amount_imbalance_range,wap_range,wap_bid_ask_imbalance,wap_bid_ask_imbalance_last_480,wap_bid_ask_imbalance_last_540])\n",
    "\n",
    "    volatility_feature_book = pd.DataFrame(list_vol_feature_book,columns=['time_id','realized_vol','realized_vol_seconds_300','realized_vol_seconds_480','realized_vol_seconds_540','bidask_spread_range','bidask_spread_range2','wap_bid_ask_imbalance_range',\n",
    "        'bidask_spread_cv','size_imbalance_range','amount_imbalance_range','wap_range','wap_bid_ask_imbalance','wap_bid_ask_imbalance_last_480','wap_bid_ask_imbalance_last_540'])\n",
    "    return volatility_feature_book"
   ]
  },
  {
   "cell_type": "code",
   "execution_count": 4,
   "id": "76c848cc",
   "metadata": {
    "execution": {
     "iopub.execute_input": "2021-09-25T23:43:47.958209Z",
     "iopub.status.busy": "2021-09-25T23:43:47.954082Z",
     "iopub.status.idle": "2021-09-25T23:43:47.960028Z",
     "shell.execute_reply": "2021-09-25T23:43:47.960516Z",
     "shell.execute_reply.started": "2021-09-25T21:32:54.135596Z"
    },
    "papermill": {
     "duration": 0.026956,
     "end_time": "2021-09-25T23:43:47.960738",
     "exception": false,
     "start_time": "2021-09-25T23:43:47.933782",
     "status": "completed"
    },
    "tags": []
   },
   "outputs": [],
   "source": [
    "def price_cv_seconds(stock_series,seconds):\n",
    "    return stock_series[stock_series.seconds_in_bucket >= seconds]\n",
    "\n",
    "def trade_train_feature(trade_train_0):\n",
    "    trade_train_0['amount'] = trade_train_0['size'] * trade_train_0['price']\n",
    "    trade_train_0['avg_order_amount'] = trade_train_0['amount'] / trade_train_0['order_count']\n",
    "\n",
    "\n",
    "    trade_train_groupby_timeid = trade_train_0.groupby('time_id')\n",
    "    # feature extraction in trade_train\n",
    "    list_vol_feature_trade = []\n",
    "    for time_id,trade_train_time_id in trade_train_groupby_timeid:\n",
    "\n",
    "        trade_train_time_id_300 = price_cv_seconds(trade_train_time_id,300)\n",
    "        trade_train_time_id_480 = price_cv_seconds(trade_train_time_id,480)\n",
    "        trade_train_time_id_540 = price_cv_seconds(trade_train_time_id,540)\n",
    "        \n",
    "        total_trade_order = trade_train_time_id['order_count'].sum()\n",
    "        total_trade_order_300 = trade_train_time_id_300['order_count'].sum()\n",
    "        total_trade_order_480 = trade_train_time_id_480['order_count'].sum()\n",
    "        total_trade_order_540 = trade_train_time_id_540['order_count'].sum()\n",
    "\n",
    "        price_range = trade_train_time_id['price'].max()/trade_train_time_id['price'].min()\n",
    "        price_std = trade_train_time_id['price'].std()\n",
    "        price_std_300 = trade_train_time_id_300['price'].std()\n",
    "        price_std_480 = trade_train_time_id_480['price'].std()\n",
    "        price_std_540 = trade_train_time_id_540['price'].std()\n",
    "\n",
    "        price_cv = trade_train_time_id['price'].std()/trade_train_time_id['price'].mean()\n",
    "        price_cv_300 = trade_train_time_id_300['price'].std()/trade_train_time_id_300['price'].mean()\n",
    "        price_cv_480 = trade_train_time_id_480['price'].std()/trade_train_time_id_480['price'].mean()\n",
    "        price_cv_540 = trade_train_time_id_540['price'].std()/trade_train_time_id_540['price'].mean()\n",
    "\n",
    "        size_cv = trade_train_time_id['size'].std()/trade_train_time_id['size'].mean()\n",
    "        size_cv_300 = trade_train_time_id_300['size'].std()/trade_train_time_id_300['size'].mean()\n",
    "        size_cv_540 = trade_train_time_id_540['size'].std()/trade_train_time_id_540['size'].mean()\n",
    "\n",
    "        list_vol_feature_trade.append([time_id,total_trade_order, total_trade_order_300,total_trade_order_480,total_trade_order_540,price_range,price_std,price_std_480,price_std_540,price_std_300,\n",
    "        price_cv,price_cv_300,price_cv_480,price_cv_540,size_cv,size_cv_300,size_cv_540])\n",
    "\n",
    "    volatility_feature_trade = pd.DataFrame(list_vol_feature_trade,columns=['time_id','total_trade_order', 'total_trade_order_300','total_trade_order_480','total_trade_order_540','price_range','price_std','price_std_480','price_std_540','price_std_300',\n",
    "    'price_cv','price_cv_300','price_cv_480','price_cv_540','size_cv','size_cv_300','size_cv_54'])\n",
    "    return volatility_feature_trade"
   ]
  },
  {
   "cell_type": "code",
   "execution_count": 5,
   "id": "0511b82f",
   "metadata": {
    "execution": {
     "iopub.execute_input": "2021-09-25T23:43:47.993239Z",
     "iopub.status.busy": "2021-09-25T23:43:47.989876Z",
     "iopub.status.idle": "2021-09-25T23:43:54.687387Z",
     "shell.execute_reply": "2021-09-25T23:43:54.686293Z",
     "shell.execute_reply.started": "2021-09-25T21:32:54.612857Z"
    },
    "papermill": {
     "duration": 6.714055,
     "end_time": "2021-09-25T23:43:54.687551",
     "exception": false,
     "start_time": "2021-09-25T23:43:47.973496",
     "status": "completed"
    },
    "tags": []
   },
   "outputs": [],
   "source": [
    "# data_dir = '../input/optiver-realized-volatility-prediction/book_train.parquet'\n",
    "# stock_list = sorted([int(_.split('=')[1]) for _ in os.listdir(data_dir)])\n",
    "# target_df = pd.read_csv(\"../input/optiver-realized-volatility-prediction/train.csv\")\n",
    "# train_df = pd.DataFrame()\n",
    "# for stock_id in stock_list:\n",
    "#     print(stock_id)\n",
    "#     # 对两个数据集生成特征，每一个id对应的target进行合成\n",
    "#     book_train_0 = pd.read_parquet('../input/optiver-realized-volatility-prediction/book_train.parquet/'+f'stock_id={stock_id}')\n",
    "#     trade_train_0 = pd.read_parquet('../input/optiver-realized-volatility-prediction/trade_train.parquet/'+f'stock_id={stock_id}')\n",
    "#     target_df_stock_0 = target_df[target_df.stock_id==stock_id][['time_id','target']]\n",
    "#     # 合并特征\n",
    "#     volatility_feature = trade_train_feature(trade_train_0).merge(book_train_feature(book_train_0),on='time_id')\n",
    "#     volatility_feature = volatility_feature.fillna(method = 'ffill')\n",
    "#     volatility_feature = volatility_feature.fillna(0)    \n",
    "#     volatility_feature_1 = pd.DataFrame(StandardScaler().fit_transform(volatility_feature.iloc[:,1:]),columns=volatility_feature.iloc[:,1:].columns)\n",
    "# #     volatility_feature_1 = \n",
    "#     volatility_feature_1['stock_id'] = stock_id\n",
    "#     volatility_feature_1['time_id'] = volatility_feature['time_id']\n",
    "#     train_feature_temp = volatility_feature_1.merge(target_df_stock_0,on='time_id')\n",
    "#     # 把所有id的特征合并\n",
    "#     train_df = pd.concat([train_df,train_feature_temp])\n",
    "train_df = pd.read_csv('../input/train-data/train_df.csv')\n",
    "# train_df.head()"
   ]
  },
  {
   "cell_type": "code",
   "execution_count": 6,
   "id": "e7eed25c",
   "metadata": {
    "execution": {
     "iopub.execute_input": "2021-09-25T23:43:54.723573Z",
     "iopub.status.busy": "2021-09-25T23:43:54.722615Z",
     "iopub.status.idle": "2021-09-25T23:43:55.077282Z",
     "shell.execute_reply": "2021-09-25T23:43:55.077897Z",
     "shell.execute_reply.started": "2021-09-25T21:33:00.422346Z"
    },
    "papermill": {
     "duration": 0.379561,
     "end_time": "2021-09-25T23:43:55.078165",
     "exception": false,
     "start_time": "2021-09-25T23:43:54.698604",
     "status": "completed"
    },
    "tags": []
   },
   "outputs": [],
   "source": [
    "# classification\n",
    "norm_feature_groupby = train_df.groupby('stock_id')\n",
    "information_stock = []\n",
    "for stock_id,norm_feature_temp in norm_feature_groupby:\n",
    "    avg_target_vol = norm_feature_temp['target'].mean()\n",
    "    iqr_target = norm_feature_temp['target'].quantile(0.75) - norm_feature_temp['target'].quantile(0.25)\n",
    "    range_target = norm_feature_temp['target'].max() - norm_feature_temp['target'].min()\n",
    "    information_stock.append([stock_id,avg_target_vol,iqr_target,range_target])\n",
    "information_stock_df = pd.DataFrame(information_stock,columns=['stock_id','avg_target_vol','iqr_target','range_target'])\n",
    "estimator = KMeans(n_clusters = 5)\n",
    "estimator.fit(information_stock_df.iloc[:,1:])\n",
    "y_pred = estimator.predict(information_stock_df.iloc[:,1:])\n",
    "information_stock_df['classification'] = y_pred\n",
    "check_dict = dict(zip(information_stock_df['stock_id'],information_stock_df['classification']))"
   ]
  },
  {
   "cell_type": "code",
   "execution_count": 7,
   "id": "bfbb6db5",
   "metadata": {
    "execution": {
     "iopub.execute_input": "2021-09-25T23:43:55.113557Z",
     "iopub.status.busy": "2021-09-25T23:43:55.108288Z",
     "iopub.status.idle": "2021-09-25T23:43:55.343937Z",
     "shell.execute_reply": "2021-09-25T23:43:55.344642Z",
     "shell.execute_reply.started": "2021-09-25T21:33:00.754798Z"
    },
    "papermill": {
     "duration": 0.252731,
     "end_time": "2021-09-25T23:43:55.344880",
     "exception": false,
     "start_time": "2021-09-25T23:43:55.092149",
     "status": "completed"
    },
    "tags": []
   },
   "outputs": [
    {
     "name": "stderr",
     "output_type": "stream",
     "text": [
      "/opt/conda/lib/python3.7/site-packages/ipykernel_launcher.py:5: FutureWarning: In a future version of pandas all arguments of DataFrame.drop except for the argument 'labels' will be keyword-only\n",
      "  \"\"\"\n"
     ]
    }
   ],
   "source": [
    "# every stock has its own characters, \n",
    "# this is the k-means result based on the target features in kaggle_train_feature.ipynb\n",
    "\n",
    "train_df['classification'] = list(train_df['stock_id'].map(check_dict))\n",
    "train_df_train = train_df.copy().drop(['time_id','stock_id','target'],1)"
   ]
  },
  {
   "cell_type": "code",
   "execution_count": 8,
   "id": "a79f9e0a",
   "metadata": {
    "execution": {
     "iopub.execute_input": "2021-09-25T23:43:55.379749Z",
     "iopub.status.busy": "2021-09-25T23:43:55.378791Z",
     "iopub.status.idle": "2021-09-25T23:50:02.948238Z",
     "shell.execute_reply": "2021-09-25T23:50:02.948749Z",
     "shell.execute_reply.started": "2021-09-25T21:33:01.097178Z"
    },
    "papermill": {
     "duration": 367.587978,
     "end_time": "2021-09-25T23:50:02.948930",
     "exception": false,
     "start_time": "2021-09-25T23:43:55.360952",
     "status": "completed"
    },
    "tags": []
   },
   "outputs": [
    {
     "name": "stderr",
     "output_type": "stream",
     "text": [
      "/opt/conda/lib/python3.7/site-packages/ipykernel_launcher.py:5: FutureWarning: In a future version of pandas all arguments of DataFrame.drop except for the argument 'labels' will be keyword-only\n",
      "  \"\"\"\n",
      "/opt/conda/lib/python3.7/site-packages/ipykernel_launcher.py:5: FutureWarning: In a future version of pandas all arguments of DataFrame.drop except for the argument 'labels' will be keyword-only\n",
      "  \"\"\"\n",
      "/opt/conda/lib/python3.7/site-packages/ipykernel_launcher.py:5: FutureWarning: In a future version of pandas all arguments of DataFrame.drop except for the argument 'labels' will be keyword-only\n",
      "  \"\"\"\n",
      "/opt/conda/lib/python3.7/site-packages/ipykernel_launcher.py:5: FutureWarning: In a future version of pandas all arguments of DataFrame.drop except for the argument 'labels' will be keyword-only\n",
      "  \"\"\"\n",
      "/opt/conda/lib/python3.7/site-packages/ipykernel_launcher.py:5: FutureWarning: In a future version of pandas all arguments of DataFrame.drop except for the argument 'labels' will be keyword-only\n",
      "  \"\"\"\n"
     ]
    }
   ],
   "source": [
    "train_df_groupby_class = train_df.groupby('classification')\n",
    "model_list = []\n",
    "for class_,df_ in train_df_groupby_class:\n",
    "    test_y = np.array(df_['target'])\n",
    "    test_x = np.array(df_.copy().drop(['time_id','stock_id','target','classification'],1))\n",
    "    rf = RandomForestRegressor(n_estimators=100,max_depth=30,min_samples_leaf=10,max_features = 30 ,max_samples = 0.2)\n",
    "    model = rf.fit(test_x,test_y)\n",
    "    model_list.append([class_,model])\n",
    "model_dict = dict(model_list)"
   ]
  },
  {
   "cell_type": "code",
   "execution_count": 9,
   "id": "d0ab8b3a",
   "metadata": {
    "execution": {
     "iopub.execute_input": "2021-09-25T23:50:02.978477Z",
     "iopub.status.busy": "2021-09-25T23:50:02.977854Z",
     "iopub.status.idle": "2021-09-25T23:50:10.003265Z",
     "shell.execute_reply": "2021-09-25T23:50:10.003729Z",
     "shell.execute_reply.started": "2021-09-25T22:08:33.472376Z"
    },
    "papermill": {
     "duration": 7.042118,
     "end_time": "2021-09-25T23:50:10.003894",
     "exception": false,
     "start_time": "2021-09-25T23:50:02.961776",
     "status": "completed"
    },
    "tags": []
   },
   "outputs": [
    {
     "name": "stderr",
     "output_type": "stream",
     "text": [
      "/opt/conda/lib/python3.7/site-packages/ipykernel_launcher.py:3: DeprecationWarning: The default dtype for empty Series will be 'object' instead of 'float64' in a future version. Specify a dtype explicitly to silence this warning.\n",
      "  This is separate from the ipykernel package so we can avoid doing imports until\n",
      "/opt/conda/lib/python3.7/site-packages/ipykernel_launcher.py:4: DeprecationWarning: The default dtype for empty Series will be 'object' instead of 'float64' in a future version. Specify a dtype explicitly to silence this warning.\n",
      "  after removing the cwd from sys.path.\n",
      "/opt/conda/lib/python3.7/site-packages/ipykernel_launcher.py:7: FutureWarning: In a future version of pandas all arguments of DataFrame.drop except for the argument 'labels' will be keyword-only\n",
      "  import sys\n",
      "/opt/conda/lib/python3.7/site-packages/ipykernel_launcher.py:7: FutureWarning: In a future version of pandas all arguments of DataFrame.drop except for the argument 'labels' will be keyword-only\n",
      "  import sys\n",
      "/opt/conda/lib/python3.7/site-packages/ipykernel_launcher.py:7: FutureWarning: In a future version of pandas all arguments of DataFrame.drop except for the argument 'labels' will be keyword-only\n",
      "  import sys\n",
      "/opt/conda/lib/python3.7/site-packages/ipykernel_launcher.py:7: FutureWarning: In a future version of pandas all arguments of DataFrame.drop except for the argument 'labels' will be keyword-only\n",
      "  import sys\n",
      "/opt/conda/lib/python3.7/site-packages/ipykernel_launcher.py:7: FutureWarning: In a future version of pandas all arguments of DataFrame.drop except for the argument 'labels' will be keyword-only\n",
      "  import sys\n"
     ]
    },
    {
     "name": "stdout",
     "output_type": "stream",
     "text": [
      "[0.00437409 0.00197836 0.00233476 ... 0.00118207 0.00344597 0.00145229]\n",
      "Performance of the naive prediction: R2 score: 0.761, RMSPE: 0.374\n"
     ]
    }
   ],
   "source": [
    "train_df_groupby_class = train_df.groupby('classification')\n",
    "model_list = []\n",
    "result_pred = pd.Series()\n",
    "result_pred_real = pd.Series()\n",
    "for class_,df_ in train_df_groupby_class:\n",
    "    test_y = np.array(df_['target'])\n",
    "    test_x = np.array(df_.copy().drop(['time_id','stock_id','target','classification'],1))\n",
    "    pred_train_y = model_dict[class_].predict(test_x)\n",
    "    df_['pred'] = pred_train_y\n",
    "    result_pred = pd.concat([result_pred,df_['pred']])\n",
    "    result_pred_real = pd.concat([result_pred_real,df_['target']])\n",
    "    \n",
    "from sklearn.metrics import r2_score\n",
    "def rmspe(y_true, y_pred):\n",
    "    return  (np.sqrt(np.mean(np.square((y_true - y_pred) / y_true))))\n",
    "# pred_train_y = model.predict(np.array(train_df_train))\n",
    "pred_train_y = np.array(result_pred)\n",
    "print(pred_train_y)\n",
    "R2 = round(r2_score(y_true =result_pred_real, y_pred =pred_train_y),3)\n",
    "RMSPE = round(rmspe(y_true = result_pred_real, y_pred =pred_train_y),3)\n",
    "print(f'Performance of the naive prediction: R2 score: {R2}, RMSPE: {RMSPE}')"
   ]
  },
  {
   "cell_type": "code",
   "execution_count": 10,
   "id": "e3d01f0e",
   "metadata": {
    "execution": {
     "iopub.execute_input": "2021-09-25T23:50:10.034817Z",
     "iopub.status.busy": "2021-09-25T23:50:10.034234Z",
     "iopub.status.idle": "2021-09-25T23:50:10.036327Z",
     "shell.execute_reply": "2021-09-25T23:50:10.035754Z",
     "shell.execute_reply.started": "2021-09-25T07:19:58.04212Z"
    },
    "papermill": {
     "duration": 0.019121,
     "end_time": "2021-09-25T23:50:10.036478",
     "exception": false,
     "start_time": "2021-09-25T23:50:10.017357",
     "status": "completed"
    },
    "tags": []
   },
   "outputs": [],
   "source": [
    "#random forest model, parameters are chosen from grid_serch & feature are chosen from RFECV\n",
    "# rf2=RandomForestRegressor(n_estimators=100,max_depth=30,min_samples_leaf=2,max_features = 30 ,max_samples = 0.6)\n",
    "# test_y = np.array(train_df['target'])\n",
    "# test_x = np.array(train_df_train)\n",
    "# model = rf2.fit(test_x,test_y)"
   ]
  },
  {
   "cell_type": "code",
   "execution_count": 11,
   "id": "f6f325b0",
   "metadata": {
    "execution": {
     "iopub.execute_input": "2021-09-25T23:50:10.068609Z",
     "iopub.status.busy": "2021-09-25T23:50:10.067768Z",
     "iopub.status.idle": "2021-09-25T23:50:10.070267Z",
     "shell.execute_reply": "2021-09-25T23:50:10.069716Z",
     "shell.execute_reply.started": "2021-09-25T07:45:00.452102Z"
    },
    "papermill": {
     "duration": 0.0198,
     "end_time": "2021-09-25T23:50:10.070418",
     "exception": false,
     "start_time": "2021-09-25T23:50:10.050618",
     "status": "completed"
    },
    "tags": []
   },
   "outputs": [],
   "source": [
    "# from sklearn.metrics import r2_score\n",
    "# def rmspe(y_true, y_pred):\n",
    "#     return  (np.sqrt(np.mean(np.square((y_true - y_pred) / y_true))))\n",
    "# # pred_train_y = model.predict(np.array(train_df_train))\n",
    "\n",
    "# R2 = round(r2_score(y_true = train_df['target'], y_pred =pred_train_y),3)\n",
    "# RMSPE = round(rmspe(y_true = train_df['target'], y_pred =pred_train_y),3)\n",
    "# print(f'Performance of the naive prediction: R2 score: {R2}, RMSPE: {RMSPE}')"
   ]
  },
  {
   "cell_type": "code",
   "execution_count": 12,
   "id": "d3eec0c0",
   "metadata": {
    "execution": {
     "iopub.execute_input": "2021-09-25T23:50:10.100702Z",
     "iopub.status.busy": "2021-09-25T23:50:10.100111Z",
     "iopub.status.idle": "2021-09-25T23:50:10.106198Z",
     "shell.execute_reply": "2021-09-25T23:50:10.106725Z",
     "shell.execute_reply.started": "2021-09-25T07:45:17.710062Z"
    },
    "papermill": {
     "duration": 0.022761,
     "end_time": "2021-09-25T23:50:10.106895",
     "exception": false,
     "start_time": "2021-09-25T23:50:10.084134",
     "status": "completed"
    },
    "tags": []
   },
   "outputs": [],
   "source": [
    "def model_socre(max_sample,n_estimators,min_samples_leaf):\n",
    "    rf2=RandomForestRegressor(n_estimators=n_estimators,max_depth=30,min_samples_leaf=min_samples_leaf,max_features = 30 ,max_samples = max_sample)\n",
    "    test_y = np.array(train_df['target'])\n",
    "    test_x = np.array(train_df_train)\n",
    "    model = rf2.fit(test_x,test_y)\n",
    "    pred_train_y = model.predict(np.array(train_df_train))\n",
    "    R2 = round(r2_score(y_true = train_df['target'], y_pred =pred_train_y),3)\n",
    "    RMSPE = round(rmspe(y_true = train_df['target'], y_pred =pred_train_y),3)\n",
    "    print(f'Performance of the <{max_sample}{n_estimators}{min_samples_leaf}> prediction: R2 score: {R2}, RMSPE: {RMSPE}')\n",
    "    "
   ]
  },
  {
   "cell_type": "code",
   "execution_count": 13,
   "id": "a8b7e343",
   "metadata": {
    "execution": {
     "iopub.execute_input": "2021-09-25T23:50:10.139409Z",
     "iopub.status.busy": "2021-09-25T23:50:10.138724Z",
     "iopub.status.idle": "2021-09-25T23:50:10.311159Z",
     "shell.execute_reply": "2021-09-25T23:50:10.311794Z",
     "shell.execute_reply.started": "2021-09-25T22:15:35.704912Z"
    },
    "papermill": {
     "duration": 0.190483,
     "end_time": "2021-09-25T23:50:10.312180",
     "exception": false,
     "start_time": "2021-09-25T23:50:10.121697",
     "status": "completed"
    },
    "tags": []
   },
   "outputs": [
    {
     "name": "stderr",
     "output_type": "stream",
     "text": [
      "/opt/conda/lib/python3.7/site-packages/ipykernel_launcher.py:17: FutureWarning: In a future version of pandas all arguments of DataFrame.drop except for the argument 'labels' will be keyword-only\n"
     ]
    }
   ],
   "source": [
    "#测试集数据\n",
    "data_dir_test = '../input/optiver-realized-volatility-prediction/book_test.parquet'\n",
    "stock_list_test = sorted([int(_.split('=')[1]) for _ in os.listdir(data_dir_test)])\n",
    "train_df_test = pd.DataFrame()\n",
    "for stock_id in stock_list_test:\n",
    "    book_test_0 = pd.read_parquet('../input/optiver-realized-volatility-prediction/book_test.parquet/'+f'stock_id={stock_id}')\n",
    "    trade_test_0 = pd.read_parquet('../input/optiver-realized-volatility-prediction/trade_test.parquet/'+f'stock_id={stock_id}')\n",
    "    volatility_feature = trade_train_feature(trade_test_0).merge(book_train_feature(book_test_0),on='time_id')\n",
    "    volatility_feature = volatility_feature.fillna(method='ffill')\n",
    "    volatility_feature = volatility_feature.fillna(0)\n",
    "    volatility_feature_1 = pd.DataFrame(StandardScaler().fit_transform(volatility_feature.iloc[:,1:]),columns=volatility_feature.iloc[:,1:].columns)\n",
    "    volatility_feature_1['stock_id'] = stock_id\n",
    "    volatility_feature_1['time_id'] = volatility_feature['time_id']\n",
    "    train_df_test = pd.concat([train_df_test,volatility_feature_1])\n",
    "\n",
    "train_df_test['classification'] = list(train_df_test['stock_id'].map(check_dict))\n",
    "train_df_test_1 = train_df_test.copy().drop(['time_id','stock_id'],1)"
   ]
  },
  {
   "cell_type": "code",
   "execution_count": 14,
   "id": "4c0c8f51",
   "metadata": {
    "execution": {
     "iopub.execute_input": "2021-09-25T23:50:10.344143Z",
     "iopub.status.busy": "2021-09-25T23:50:10.343211Z",
     "iopub.status.idle": "2021-09-25T23:50:10.348244Z",
     "shell.execute_reply": "2021-09-25T23:50:10.347605Z",
     "shell.execute_reply.started": "2021-09-25T07:46:57.779419Z"
    },
    "papermill": {
     "duration": 0.021886,
     "end_time": "2021-09-25T23:50:10.348400",
     "exception": false,
     "start_time": "2021-09-25T23:50:10.326514",
     "status": "completed"
    },
    "tags": []
   },
   "outputs": [],
   "source": [
    "# # 测试集预测\n",
    "# # print('finished successfully')\n",
    "# pred_test_y = model.predict(np.array(train_df_test_1))\n",
    "\n",
    "# train_df_test['target'] = pred_test_y\n",
    "# train_df_test['row_id'] = train_df_test['stock_id'].astype(str) + '-' + train_df_test['time_id'].astype(str)\n",
    "# result = train_df_test[['row_id','target']].copy()\n",
    "# result_dict = dict(zip(train_df_test['row_id'],train_df_test['target']))\n",
    "# # result\n",
    "# test_for_index = pd.read_csv('../input/optiver-realized-volatility-prediction/test.csv')\n",
    "# test_for_index['target'] = list(test_for_index['row_id'].map(result_dict))\n",
    "# test_for_index = test_for_index.drop(['stock_id','time_id'],1)\n",
    "# test_for_index = test_for_index.fillna(method = 'ffill')\n",
    "# test_for_index.to_csv('submission.csv',index = False)\n"
   ]
  },
  {
   "cell_type": "code",
   "execution_count": 15,
   "id": "bd8c73bc",
   "metadata": {
    "execution": {
     "iopub.execute_input": "2021-09-25T23:50:10.405220Z",
     "iopub.status.busy": "2021-09-25T23:50:10.385859Z",
     "iopub.status.idle": "2021-09-25T23:50:10.422202Z",
     "shell.execute_reply": "2021-09-25T23:50:10.421542Z",
     "shell.execute_reply.started": "2021-09-25T22:16:32.044237Z"
    },
    "papermill": {
     "duration": 0.060481,
     "end_time": "2021-09-25T23:50:10.422390",
     "exception": false,
     "start_time": "2021-09-25T23:50:10.361909",
     "status": "completed"
    },
    "tags": []
   },
   "outputs": [
    {
     "name": "stderr",
     "output_type": "stream",
     "text": [
      "/opt/conda/lib/python3.7/site-packages/ipykernel_launcher.py:4: FutureWarning: In a future version of pandas all arguments of DataFrame.drop except for the argument 'labels' will be keyword-only\n",
      "  after removing the cwd from sys.path.\n",
      "/opt/conda/lib/python3.7/site-packages/ipykernel_launcher.py:15: FutureWarning: In a future version of pandas all arguments of DataFrame.drop except for the argument 'labels' will be keyword-only\n",
      "  from ipykernel import kernelapp as app\n"
     ]
    }
   ],
   "source": [
    "train_df_groupby_class = train_df_test.groupby('classification')\n",
    "result_pred_test = pd.DataFrame()\n",
    "for class_,df_ in train_df_groupby_class:\n",
    "    test_x = np.array(df_.copy().drop(['time_id','stock_id','classification'],1))\n",
    "    pred_test_y = model_dict[class_].predict(test_x)\n",
    "    df_['pred'] = pred_test_y\n",
    "    result_pred_test = pd.concat([result_pred_test,df_[['stock_id','time_id','pred']]])\n",
    "\n",
    "result_pred_test['row_id'] = result_pred_test['stock_id'].astype(str) + '-' + result_pred_test['time_id'].astype(str)\n",
    "result = result_pred_test[['row_id','pred']].copy()\n",
    "result_dict = dict(zip(result['row_id'],result['pred']))\n",
    "# result\n",
    "test_for_index = pd.read_csv('../input/optiver-realized-volatility-prediction/test.csv')\n",
    "test_for_index['target'] = list(test_for_index['row_id'].map(result_dict))\n",
    "test_for_index = test_for_index.drop(['stock_id','time_id'],1)\n",
    "test_for_index = test_for_index.fillna(method = 'ffill')\n",
    "test_for_index.to_csv('submission.csv',index = False)\n"
   ]
  }
 ],
 "metadata": {
  "kernelspec": {
   "display_name": "Python 3",
   "language": "python",
   "name": "python3"
  },
  "language_info": {
   "codemirror_mode": {
    "name": "ipython",
    "version": 3
   },
   "file_extension": ".py",
   "mimetype": "text/x-python",
   "name": "python",
   "nbconvert_exporter": "python",
   "pygments_lexer": "ipython3",
   "version": "3.7.10"
  },
  "papermill": {
   "default_parameters": {},
   "duration": 392.605896,
   "end_time": "2021-09-25T23:50:11.146672",
   "environment_variables": {},
   "exception": null,
   "input_path": "__notebook__.ipynb",
   "output_path": "__notebook__.ipynb",
   "parameters": {},
   "start_time": "2021-09-25T23:43:38.540776",
   "version": "2.3.3"
  }
 },
 "nbformat": 4,
 "nbformat_minor": 5
}
