{
 "cells": [
  {
   "cell_type": "code",
   "execution_count": 1,
   "metadata": {
    "ExecuteTime": {
     "end_time": "2021-10-18T05:34:59.012857Z",
     "start_time": "2021-10-18T05:34:49.854448Z"
    }
   },
   "outputs": [],
   "source": [
    "import time\n",
    "import math\n",
    "import numpy as np\n",
    "import pandas as pd\n",
    "import matplotlib.pyplot as plt\n",
    "import matplotlib.patches as mpatches\n",
    "import seaborn as sns\n",
    "import os\n",
    "from glob import glob\n",
    "from pathlib import Path\n",
    "import cv2\n",
    "\n",
    "from sklearn.metrics import r2_score, mean_squared_error, accuracy_score, f1_score, recall_score\n",
    "from sklearn.model_selection import train_test_split\n",
    "from sklearn.impute import SimpleImputer\n",
    "\n",
    "import tensorflow as tf\n",
    "from tensorflow import keras\n",
    "from tensorflow.keras import layers,datasets,models\n",
    "\n",
    "import matplotlib.pyplot as plt"
   ]
  },
  {
   "cell_type": "code",
   "execution_count": 26,
   "metadata": {
    "ExecuteTime": {
     "end_time": "2021-10-18T05:49:08.676925Z",
     "start_time": "2021-10-18T05:49:08.671939Z"
    }
   },
   "outputs": [],
   "source": [
    "#settings\n",
    "# path = 'D:/Kaggle/PetFinder/train/'\n",
    "\n",
    "TARGET_NAME = 'Pawpularity'\n",
    "# Image data directories\n",
    "TRAIN_DIRECTORY = 'D:/Kaggle/PetFinder/train/'\n",
    "TEST_DIRECTORY = 'D:/Kaggle/PetFinder/test/'\n",
    "# train data split setting\n",
    "VAL_SIZE = 0.2\n",
    "SEED = 0\n",
    "# tf setting\n",
    "AUTOTUNE = tf.data.experimental.AUTOTUNE\n",
    "IMG_SIZE = 224\n",
    "BATCH_SIZE = 64"
   ]
  },
  {
   "cell_type": "code",
   "execution_count": 48,
   "metadata": {
    "ExecuteTime": {
     "end_time": "2021-10-18T06:04:56.587066Z",
     "start_time": "2021-10-18T06:04:56.571108Z"
    }
   },
   "outputs": [],
   "source": [
    "# learning material:\n",
    "# http://www.datalearner.com/blog/1051556350245210\n",
    "# https://blog.csdn.net/rainweic/article/details/95737315\n",
    "\n",
    "@tf.function\n",
    "def get_image(path: str) -> tf.Tensor:\n",
    "    \"\"\"Function loads image from a file and preprocesses it.\n",
    "    :param path: Path to image file\n",
    "    :return: Tensor with preprocessed image\n",
    "    \"\"\"\n",
    "    image = tf.image.decode_jpeg(tf.io.read_file(path), channels=3)\n",
    "    # # 把numpy数据转为Tensor\n",
    "    image = tf.cast(tf.image.resize_with_pad(image, IMG_SIZE, IMG_SIZE), dtype=tf.int32)\n",
    "    return tf.keras.applications.efficientnet.preprocess_input(image)\n",
    "\n",
    "# @tf.function\n",
    "# def id_to_path(img_id: str, dir: str):\n",
    "#     \"\"\"Function returns a path to an image file.\n",
    "#     :param img_id: Image Id\n",
    "#     :param dir: Path to the directory with images\n",
    "#     :return: Image file path\n",
    "#     \"\"\"\n",
    "#     return os.path.join(dir, f'{img_id}.jpg')\n",
    "\n",
    "def id_to_path(img_id: str, dir: str):\n",
    "    \"\"\"Function returns a path to an image file.\n",
    "    :param img_id: Image Id\n",
    "    :param dir: Path to the directory with images\n",
    "    :return: Image file path\n",
    "    \"\"\"\n",
    "    return os.path.join(dir, f'{img_id}.jpg')\n",
    "\n",
    "@tf.function\n",
    "def process_dataset(path: str, label: int) -> tuple:\n",
    "    \"\"\"Function returns preprocessed image and label.\n",
    "    :param path: Path to image file\n",
    "    :param label: Class label\n",
    "    :return: tf.Tensor with preprocessed image, numeric label\n",
    "    \"\"\"\n",
    "    return get_image(path), label\n",
    "\n",
    "\n",
    "@tf.function\n",
    "def get_dataset(x, y=None) -> tf.data.Dataset:\n",
    "    \"\"\"Function creates batched optimized dataset for the model\n",
    "    out of an array of file paths and (optionally) class labels.\n",
    "    :param x: Input data for the model (array of file paths)\n",
    "    :param y: Target values for the model (array of class indexes)\n",
    "    :return TensorFlow Dataset object\n",
    "    \"\"\"\n",
    "    if y is not None:\n",
    "        ds = tf.data.Dataset.from_tensor_slices((x, y))\n",
    "        return ds.map(process_dataset, num_parallel_calls=AUTOTUNE) \\\n",
    "            .batch(BATCH_SIZE).prefetch(buffer_size=AUTOTUNE)\n",
    "    else:\n",
    "        ds = tf.data.Dataset.from_tensor_slices(x)\n",
    "        return ds.map(get_image, num_parallel_calls=AUTOTUNE) \\\n",
    "            .batch(BATCH_SIZE).prefetch(buffer_size=AUTOTUNE)"
   ]
  },
  {
   "cell_type": "markdown",
   "metadata": {},
   "source": [
    "# Data"
   ]
  },
  {
   "cell_type": "code",
   "execution_count": 44,
   "metadata": {
    "ExecuteTime": {
     "end_time": "2021-10-18T06:04:07.541041Z",
     "start_time": "2021-10-18T06:04:07.505136Z"
    }
   },
   "outputs": [],
   "source": [
    "data_train = pd.read_csv('D:/Kaggle/PetFinder/train.csv')"
   ]
  },
  {
   "cell_type": "code",
   "execution_count": 45,
   "metadata": {
    "ExecuteTime": {
     "end_time": "2021-10-18T06:04:08.072778Z",
     "start_time": "2021-10-18T06:04:07.993605Z"
    }
   },
   "outputs": [],
   "source": [
    "# Reconstruct the paths to train and test images.\n",
    "data_train['path'] = data_train['Id'].apply(lambda x: id_to_path(x, TRAIN_DIRECTORY))\n",
    "# data_test['path'] = data_test['Id'].apply(lambda x: id_to_path(x, TEST_DIRECTORY))\n",
    "\n",
    "# Keep a portion of the labeled data for validation.\n",
    "train_subset, valid_subset = train_test_split(\n",
    "    data_train[['path', TARGET_NAME]],\n",
    "    test_size=VAL_SIZE, shuffle=True, random_state=SEED\n",
    ")"
   ]
  },
  {
   "cell_type": "code",
   "execution_count": 46,
   "metadata": {
    "ExecuteTime": {
     "end_time": "2021-10-18T06:04:08.544560Z",
     "start_time": "2021-10-18T06:04:08.530598Z"
    }
   },
   "outputs": [
    {
     "data": {
      "text/html": [
       "<div>\n",
       "<style scoped>\n",
       "    .dataframe tbody tr th:only-of-type {\n",
       "        vertical-align: middle;\n",
       "    }\n",
       "\n",
       "    .dataframe tbody tr th {\n",
       "        vertical-align: top;\n",
       "    }\n",
       "\n",
       "    .dataframe thead th {\n",
       "        text-align: right;\n",
       "    }\n",
       "</style>\n",
       "<table border=\"1\" class=\"dataframe\">\n",
       "  <thead>\n",
       "    <tr style=\"text-align: right;\">\n",
       "      <th></th>\n",
       "      <th>path</th>\n",
       "      <th>Pawpularity</th>\n",
       "    </tr>\n",
       "  </thead>\n",
       "  <tbody>\n",
       "    <tr>\n",
       "      <th>6258</th>\n",
       "      <td>D:/Kaggle/PetFinder/train/a1c4da5842d088af2d04...</td>\n",
       "      <td>85</td>\n",
       "    </tr>\n",
       "    <tr>\n",
       "      <th>8188</th>\n",
       "      <td>D:/Kaggle/PetFinder/train/d41e8327d33ad2a70470...</td>\n",
       "      <td>18</td>\n",
       "    </tr>\n",
       "    <tr>\n",
       "      <th>3043</th>\n",
       "      <td>D:/Kaggle/PetFinder/train/4ec0240d2cbb5cf0b176...</td>\n",
       "      <td>36</td>\n",
       "    </tr>\n",
       "    <tr>\n",
       "      <th>6609</th>\n",
       "      <td>D:/Kaggle/PetFinder/train/aa8a14e16f31dcd1ab01...</td>\n",
       "      <td>42</td>\n",
       "    </tr>\n",
       "    <tr>\n",
       "      <th>2395</th>\n",
       "      <td>D:/Kaggle/PetFinder/train/3dac372745d2acd1371f...</td>\n",
       "      <td>28</td>\n",
       "    </tr>\n",
       "  </tbody>\n",
       "</table>\n",
       "</div>"
      ],
      "text/plain": [
       "                                                   path  Pawpularity\n",
       "6258  D:/Kaggle/PetFinder/train/a1c4da5842d088af2d04...           85\n",
       "8188  D:/Kaggle/PetFinder/train/d41e8327d33ad2a70470...           18\n",
       "3043  D:/Kaggle/PetFinder/train/4ec0240d2cbb5cf0b176...           36\n",
       "6609  D:/Kaggle/PetFinder/train/aa8a14e16f31dcd1ab01...           42\n",
       "2395  D:/Kaggle/PetFinder/train/3dac372745d2acd1371f...           28"
      ]
     },
     "execution_count": 46,
     "metadata": {},
     "output_type": "execute_result"
    }
   ],
   "source": [
    "train_subset.head()"
   ]
  },
  {
   "cell_type": "code",
   "execution_count": 49,
   "metadata": {
    "ExecuteTime": {
     "end_time": "2021-10-18T06:05:27.869318Z",
     "start_time": "2021-10-18T06:05:27.578819Z"
    },
    "scrolled": true
   },
   "outputs": [],
   "source": [
    "# Create TensorFlow datasets\n",
    "train_ds = get_dataset(x=train_subset['path'], y=train_subset[TARGET_NAME])\n",
    "valid_ds = get_dataset(x=valid_subset['path'], y=valid_subset[TARGET_NAME])\n",
    "# test_ds = get_dataset(x=data_test['path'])"
   ]
  },
  {
   "cell_type": "code",
   "execution_count": 50,
   "metadata": {
    "ExecuteTime": {
     "end_time": "2021-10-18T06:05:33.886026Z",
     "start_time": "2021-10-18T06:05:33.877048Z"
    }
   },
   "outputs": [
    {
     "data": {
      "text/plain": [
       "<_VariantDataset shapes: ((None, 224, 224, 3), (None,)), types: (tf.int32, tf.int64)>"
      ]
     },
     "execution_count": 50,
     "metadata": {},
     "output_type": "execute_result"
    }
   ],
   "source": [
    "train_ds"
   ]
  },
  {
   "cell_type": "code",
   "execution_count": 71,
   "metadata": {
    "ExecuteTime": {
     "end_time": "2021-10-18T07:02:27.809527Z",
     "start_time": "2021-10-18T07:02:27.675559Z"
    }
   },
   "outputs": [],
   "source": [
    "cnn = models.Sequential([\n",
    "        # cnn\n",
    "        layers.Conv2D(filters=16, kernel_size=(3,3),activation='relu',input_shape=(224,224,3)),\n",
    "        layers.MaxPool2D((2,2)),\n",
    "        layers.Conv2D(filters=16, kernel_size=(3,3),activation='relu'),\n",
    "        layers.MaxPool2D((2,2)),\n",
    "        layers.Conv2D(filters=8, kernel_size=(3,3),activation='relu'),\n",
    "        layers.MaxPool2D((2,2)),\n",
    "        #dense\n",
    "        layers.Flatten(),\n",
    "        layers.Dense(8, activation='relu'),\n",
    "        layers.Dense(1, activation='softmax'),# will nomralize your probability\n",
    "])\n",
    "\n",
    "cnn.compile(\n",
    "    optimizer = 'adam',\n",
    "    loss=tf.keras.losses.MeanSquaredError(),\n",
    "    metrics=[tf.keras.metrics.RootMeanSquaredError()]\n",
    ")"
   ]
  },
  {
   "cell_type": "code",
   "execution_count": 72,
   "metadata": {
    "ExecuteTime": {
     "end_time": "2021-10-18T07:02:28.957714Z",
     "start_time": "2021-10-18T07:02:28.945029Z"
    },
    "scrolled": false
   },
   "outputs": [
    {
     "name": "stdout",
     "output_type": "stream",
     "text": [
      "Model: \"sequential_9\"\n",
      "_________________________________________________________________\n",
      "Layer (type)                 Output Shape              Param #   \n",
      "=================================================================\n",
      "conv2d_18 (Conv2D)           (None, 222, 222, 16)      448       \n",
      "_________________________________________________________________\n",
      "max_pooling2d_18 (MaxPooling (None, 111, 111, 16)      0         \n",
      "_________________________________________________________________\n",
      "conv2d_19 (Conv2D)           (None, 109, 109, 16)      2320      \n",
      "_________________________________________________________________\n",
      "max_pooling2d_19 (MaxPooling (None, 54, 54, 16)        0         \n",
      "_________________________________________________________________\n",
      "conv2d_20 (Conv2D)           (None, 52, 52, 8)         1160      \n",
      "_________________________________________________________________\n",
      "max_pooling2d_20 (MaxPooling (None, 26, 26, 8)         0         \n",
      "_________________________________________________________________\n",
      "flatten_9 (Flatten)          (None, 5408)              0         \n",
      "_________________________________________________________________\n",
      "dense_18 (Dense)             (None, 8)                 43272     \n",
      "_________________________________________________________________\n",
      "dense_19 (Dense)             (None, 1)                 9         \n",
      "=================================================================\n",
      "Total params: 47,209\n",
      "Trainable params: 47,209\n",
      "Non-trainable params: 0\n",
      "_________________________________________________________________\n"
     ]
    }
   ],
   "source": [
    "cnn.summary()"
   ]
  },
  {
   "cell_type": "code",
   "execution_count": 74,
   "metadata": {
    "ExecuteTime": {
     "end_time": "2021-10-18T07:18:38.537671Z",
     "start_time": "2021-10-18T07:03:36.921771Z"
    }
   },
   "outputs": [
    {
     "name": "stdout",
     "output_type": "stream",
     "text": [
      "Epoch 1/5\n",
      "124/124 [==============================] - 192s 2s/step - loss: 1788.3489 - root_mean_squared_error: 42.2889\n",
      "Epoch 2/5\n",
      "124/124 [==============================] - 189s 2s/step - loss: 1788.3489 - root_mean_squared_error: 42.2889\n",
      "Epoch 3/5\n",
      "124/124 [==============================] - 174s 1s/step - loss: 1788.3489 - root_mean_squared_error: 42.2889\n",
      "Epoch 4/5\n",
      "124/124 [==============================] - 173s 1s/step - loss: 1788.3489 - root_mean_squared_error: 42.2889\n",
      "Epoch 5/5\n",
      "124/124 [==============================] - 173s 1s/step - loss: 1788.3489 - root_mean_squared_error: 42.2889\n"
     ]
    },
    {
     "data": {
      "text/plain": [
       "<keras.callbacks.History at 0x20e3b09a908>"
      ]
     },
     "execution_count": 74,
     "metadata": {},
     "output_type": "execute_result"
    }
   ],
   "source": [
    "cnn.fit(train_ds,epochs=5)"
   ]
  },
  {
   "cell_type": "code",
   "execution_count": null,
   "metadata": {},
   "outputs": [],
   "source": []
  }
 ],
 "metadata": {
  "kernelspec": {
   "display_name": "Python 3",
   "language": "python",
   "name": "python3"
  },
  "language_info": {
   "codemirror_mode": {
    "name": "ipython",
    "version": 3
   },
   "file_extension": ".py",
   "mimetype": "text/x-python",
   "name": "python",
   "nbconvert_exporter": "python",
   "pygments_lexer": "ipython3",
   "version": "3.6.5"
  },
  "toc": {
   "base_numbering": 1,
   "nav_menu": {},
   "number_sections": true,
   "sideBar": true,
   "skip_h1_title": false,
   "title_cell": "Table of Contents",
   "title_sidebar": "Contents",
   "toc_cell": false,
   "toc_position": {},
   "toc_section_display": true,
   "toc_window_display": false
  }
 },
 "nbformat": 4,
 "nbformat_minor": 2
}
