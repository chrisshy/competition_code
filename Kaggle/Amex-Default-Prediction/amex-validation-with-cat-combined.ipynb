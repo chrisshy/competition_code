{
 "cells": [
  {
   "cell_type": "code",
   "execution_count": 1,
   "id": "0c17f00d",
   "metadata": {
    "_cell_guid": "b1076dfc-b9ad-4769-8c92-a6c4dae69d19",
    "_uuid": "8f2839f25d086af736a60e9eeb907d3b93b6e0e5",
    "execution": {
     "iopub.execute_input": "2022-06-19T05:37:17.901777Z",
     "iopub.status.busy": "2022-06-19T05:37:17.901160Z",
     "iopub.status.idle": "2022-06-19T05:37:20.000194Z",
     "shell.execute_reply": "2022-06-19T05:37:19.999387Z"
    },
    "papermill": {
     "duration": 2.113978,
     "end_time": "2022-06-19T05:37:20.002616",
     "exception": false,
     "start_time": "2022-06-19T05:37:17.888638",
     "status": "completed"
    },
    "tags": []
   },
   "outputs": [
    {
     "data": {
      "text/html": [
       "<style type='text/css'>\n",
       ".datatable table.frame { margin-bottom: 0; }\n",
       ".datatable table.frame thead { border-bottom: none; }\n",
       ".datatable table.frame tr.coltypes td {  color: #FFFFFF;  line-height: 6px;  padding: 0 0.5em;}\n",
       ".datatable .bool    { background: #DDDD99; }\n",
       ".datatable .object  { background: #565656; }\n",
       ".datatable .int     { background: #5D9E5D; }\n",
       ".datatable .float   { background: #4040CC; }\n",
       ".datatable .str     { background: #CC4040; }\n",
       ".datatable .time    { background: #40CC40; }\n",
       ".datatable .row_index {  background: var(--jp-border-color3);  border-right: 1px solid var(--jp-border-color0);  color: var(--jp-ui-font-color3);  font-size: 9px;}\n",
       ".datatable .frame tbody td { text-align: left; }\n",
       ".datatable .frame tr.coltypes .row_index {  background: var(--jp-border-color0);}\n",
       ".datatable th:nth-child(2) { padding-left: 12px; }\n",
       ".datatable .hellipsis {  color: var(--jp-cell-editor-border-color);}\n",
       ".datatable .vellipsis {  background: var(--jp-layout-color0);  color: var(--jp-cell-editor-border-color);}\n",
       ".datatable .na {  color: var(--jp-cell-editor-border-color);  font-size: 80%;}\n",
       ".datatable .sp {  opacity: 0.25;}\n",
       ".datatable .footer { font-size: 9px; }\n",
       ".datatable .frame_dimensions {  background: var(--jp-border-color3);  border-top: 1px solid var(--jp-border-color0);  color: var(--jp-ui-font-color3);  display: inline-block;  opacity: 0.6;  padding: 1px 10px 1px 5px;}\n",
       "</style>\n"
      ],
      "text/plain": [
       "<IPython.core.display.HTML object>"
      ]
     },
     "metadata": {},
     "output_type": "display_data"
    }
   ],
   "source": [
    "import pandas as pd\n",
    "import numpy as np\n",
    "import gc\n",
    "import matplotlib.pyplot as plt\n",
    "import seaborn as sns\n",
    "from sklearn.model_selection import KFold, StratifiedKFold\n",
    "import lightgbm as lgb\n",
    "import xgboost as xgb\n",
    "import sklearn"
   ]
  },
  {
   "cell_type": "code",
   "execution_count": 2,
   "id": "04e44d9e",
   "metadata": {
    "execution": {
     "iopub.execute_input": "2022-06-19T05:37:20.024829Z",
     "iopub.status.busy": "2022-06-19T05:37:20.024341Z",
     "iopub.status.idle": "2022-06-19T05:37:30.671229Z",
     "shell.execute_reply": "2022-06-19T05:37:30.670532Z"
    },
    "papermill": {
     "duration": 10.660439,
     "end_time": "2022-06-19T05:37:30.673393",
     "exception": false,
     "start_time": "2022-06-19T05:37:20.012954",
     "status": "completed"
    },
    "tags": []
   },
   "outputs": [],
   "source": [
    "train_ = pd.read_pickle('../input/amexfeatureengineeringdataset/train_.pkl')\n",
    "trainY = pd.read_pickle('../input/amexfeatureengineeringdataset/trainY.pkl')"
   ]
  },
  {
   "cell_type": "code",
   "execution_count": 3,
   "id": "36a4b371",
   "metadata": {
    "execution": {
     "iopub.execute_input": "2022-06-19T05:37:30.695228Z",
     "iopub.status.busy": "2022-06-19T05:37:30.694521Z",
     "iopub.status.idle": "2022-06-19T05:37:30.757077Z",
     "shell.execute_reply": "2022-06-19T05:37:30.756050Z"
    },
    "papermill": {
     "duration": 0.07595,
     "end_time": "2022-06-19T05:37:30.759554",
     "exception": false,
     "start_time": "2022-06-19T05:37:30.683604",
     "status": "completed"
    },
    "tags": []
   },
   "outputs": [
    {
     "name": "stdout",
     "output_type": "stream",
     "text": [
      "<class 'pandas.core.frame.DataFrame'>\n",
      "Index: 458913 entries, 0000099d6bd597052cdcda90ffabf56573fe9d7c79be5fbac11a8ed792feb62a to fffff1d38b785cef84adeace64f8f83db3a0c31e8d92eaba8b115f71cab04681\n",
      "Columns: 751 entries, record to P_B_ratio\n",
      "dtypes: float16(494), float64(245), int64(12)\n",
      "memory usage: 1.3+ GB\n"
     ]
    }
   ],
   "source": [
    "train_.info()"
   ]
  },
  {
   "cell_type": "code",
   "execution_count": 4,
   "id": "614b2522",
   "metadata": {
    "execution": {
     "iopub.execute_input": "2022-06-19T05:37:30.781987Z",
     "iopub.status.busy": "2022-06-19T05:37:30.781204Z",
     "iopub.status.idle": "2022-06-19T05:37:31.252782Z",
     "shell.execute_reply": "2022-06-19T05:37:31.251812Z"
    },
    "papermill": {
     "duration": 0.485933,
     "end_time": "2022-06-19T05:37:31.256078",
     "exception": false,
     "start_time": "2022-06-19T05:37:30.770145",
     "status": "completed"
    },
    "tags": []
   },
   "outputs": [
    {
     "name": "stdout",
     "output_type": "stream",
     "text": [
      "<class 'pandas.core.frame.DataFrame'>\n",
      "Index: 458913 entries, 0000099d6bd597052cdcda90ffabf56573fe9d7c79be5fbac11a8ed792feb62a to fffff1d38b785cef84adeace64f8f83db3a0c31e8d92eaba8b115f71cab04681\n",
      "Data columns (total 12 columns):\n",
      " #   Column     Non-Null Count   Dtype  \n",
      "---  ------     --------------   -----  \n",
      " 0   b30func1   458913 non-null  float16\n",
      " 1   b30func2   458913 non-null  float16\n",
      " 2   b30func3   458913 non-null  float16\n",
      " 3   b30func4   456897 non-null  float16\n",
      " 4   b30func5   458913 non-null  float16\n",
      " 5   b30func6   456897 non-null  float16\n",
      " 6   b38func1   458913 non-null  float16\n",
      " 7   b38func3   458913 non-null  float16\n",
      " 8   b38func4   458913 non-null  float16\n",
      " 9   b38func5   458913 non-null  float16\n",
      " 10  b38func6   458913 non-null  float16\n",
      " 11  datefunc1  458913 non-null  float16\n",
      "dtypes: float16(12)\n",
      "memory usage: 14.0+ MB\n"
     ]
    }
   ],
   "source": [
    "shy_cat = pd.read_pickle('../input/cat-feature/shy_train.pkl')\n",
    "# shy_cat.fillna(0,inplace=True)\n",
    "shy_cat.info()"
   ]
  },
  {
   "cell_type": "code",
   "execution_count": 5,
   "id": "da966fd3",
   "metadata": {
    "execution": {
     "iopub.execute_input": "2022-06-19T05:37:31.279051Z",
     "iopub.status.busy": "2022-06-19T05:37:31.278279Z",
     "iopub.status.idle": "2022-06-19T05:37:32.356670Z",
     "shell.execute_reply": "2022-06-19T05:37:32.355814Z"
    },
    "papermill": {
     "duration": 1.091672,
     "end_time": "2022-06-19T05:37:32.359123",
     "exception": false,
     "start_time": "2022-06-19T05:37:31.267451",
     "status": "completed"
    },
    "tags": []
   },
   "outputs": [],
   "source": [
    "train_ = pd.concat([train_,shy_cat],axis=1)"
   ]
  },
  {
   "cell_type": "code",
   "execution_count": 6,
   "id": "1fa8c3c4",
   "metadata": {
    "execution": {
     "iopub.execute_input": "2022-06-19T05:37:32.380605Z",
     "iopub.status.busy": "2022-06-19T05:37:32.380277Z",
     "iopub.status.idle": "2022-06-19T05:37:32.427233Z",
     "shell.execute_reply": "2022-06-19T05:37:32.426622Z"
    },
    "papermill": {
     "duration": 0.06004,
     "end_time": "2022-06-19T05:37:32.429390",
     "exception": false,
     "start_time": "2022-06-19T05:37:32.369350",
     "status": "completed"
    },
    "tags": []
   },
   "outputs": [
    {
     "name": "stdout",
     "output_type": "stream",
     "text": [
      "<class 'pandas.core.frame.DataFrame'>\n",
      "Index: 458913 entries, 0000099d6bd597052cdcda90ffabf56573fe9d7c79be5fbac11a8ed792feb62a to fffff1d38b785cef84adeace64f8f83db3a0c31e8d92eaba8b115f71cab04681\n",
      "Columns: 763 entries, record to datefunc1\n",
      "dtypes: float16(506), float64(245), int64(12)\n",
      "memory usage: 1.3+ GB\n"
     ]
    }
   ],
   "source": [
    "train_.info()"
   ]
  },
  {
   "cell_type": "code",
   "execution_count": 7,
   "id": "ffd1c302",
   "metadata": {
    "execution": {
     "iopub.execute_input": "2022-06-19T05:37:32.451478Z",
     "iopub.status.busy": "2022-06-19T05:37:32.450754Z",
     "iopub.status.idle": "2022-06-19T05:37:32.593881Z",
     "shell.execute_reply": "2022-06-19T05:37:32.592936Z"
    },
    "papermill": {
     "duration": 0.155939,
     "end_time": "2022-06-19T05:37:32.595734",
     "exception": false,
     "start_time": "2022-06-19T05:37:32.439795",
     "status": "completed"
    },
    "tags": []
   },
   "outputs": [
    {
     "data": {
      "text/plain": [
       "66"
      ]
     },
     "execution_count": 7,
     "metadata": {},
     "output_type": "execute_result"
    }
   ],
   "source": [
    "del shy_cat\n",
    "gc.collect()"
   ]
  },
  {
   "cell_type": "code",
   "execution_count": 8,
   "id": "42f44a90",
   "metadata": {
    "execution": {
     "iopub.execute_input": "2022-06-19T05:37:32.618341Z",
     "iopub.status.busy": "2022-06-19T05:37:32.617972Z",
     "iopub.status.idle": "2022-06-19T05:37:34.056368Z",
     "shell.execute_reply": "2022-06-19T05:37:34.055468Z"
    },
    "papermill": {
     "duration": 1.452401,
     "end_time": "2022-06-19T05:37:34.058538",
     "exception": false,
     "start_time": "2022-06-19T05:37:32.606137",
     "status": "completed"
    },
    "tags": []
   },
   "outputs": [
    {
     "data": {
      "text/plain": [
       "0         0000099d6bd597052cdcda90ffabf56573fe9d7c79be5f...\n",
       "1         00000fd6641609c6ece5454664794f0340ad84dddce9a2...\n",
       "2         00001b22f846c82c51f6e3958ccd81970162bae8b007e8...\n",
       "3         000041bdba6ecadd89a52d11886e8eaaec9325906c9723...\n",
       "4         00007889e4fcd2614b6cbe7f8f3d2e5c728eca32d9eb8a...\n",
       "                                ...                        \n",
       "458908    ffff41c8a52833b56430603969b9ca48d208e7c192c6a4...\n",
       "458909    ffff518bb2075e4816ee3fe9f3b152c57fc0e6f01bf7fd...\n",
       "458910    ffff9984b999fccb2b6127635ed0736dda94e544e67e02...\n",
       "458911    ffffa5c46bc8de74f5a4554e74e239c8dee6b9baf38814...\n",
       "458912    fffff1d38b785cef84adeace64f8f83db3a0c31e8d92ea...\n",
       "Name: customer_ID, Length: 458913, dtype: object"
      ]
     },
     "execution_count": 8,
     "metadata": {},
     "output_type": "execute_result"
    }
   ],
   "source": [
    "train_ = train_.reset_index()\n",
    "train_.pop('customer_ID')"
   ]
  },
  {
   "cell_type": "code",
   "execution_count": 9,
   "id": "4ac43580",
   "metadata": {
    "execution": {
     "iopub.execute_input": "2022-06-19T05:37:34.080807Z",
     "iopub.status.busy": "2022-06-19T05:37:34.080391Z",
     "iopub.status.idle": "2022-06-19T05:37:34.118059Z",
     "shell.execute_reply": "2022-06-19T05:37:34.117375Z"
    },
    "papermill": {
     "duration": 0.050717,
     "end_time": "2022-06-19T05:37:34.119837",
     "exception": false,
     "start_time": "2022-06-19T05:37:34.069120",
     "status": "completed"
    },
    "tags": []
   },
   "outputs": [
    {
     "data": {
      "text/html": [
       "<div>\n",
       "<style scoped>\n",
       "    .dataframe tbody tr th:only-of-type {\n",
       "        vertical-align: middle;\n",
       "    }\n",
       "\n",
       "    .dataframe tbody tr th {\n",
       "        vertical-align: top;\n",
       "    }\n",
       "\n",
       "    .dataframe thead th {\n",
       "        text-align: right;\n",
       "    }\n",
       "</style>\n",
       "<table border=\"1\" class=\"dataframe\">\n",
       "  <thead>\n",
       "    <tr style=\"text-align: right;\">\n",
       "      <th></th>\n",
       "      <th>record</th>\n",
       "      <th>P_2</th>\n",
       "      <th>P_2_trend</th>\n",
       "      <th>D_39</th>\n",
       "      <th>D_39_last</th>\n",
       "      <th>D_39_trend</th>\n",
       "      <th>B_1</th>\n",
       "      <th>B_1_max</th>\n",
       "      <th>B_1_min</th>\n",
       "      <th>B_1_last</th>\n",
       "      <th>...</th>\n",
       "      <th>b30func3</th>\n",
       "      <th>b30func4</th>\n",
       "      <th>b30func5</th>\n",
       "      <th>b30func6</th>\n",
       "      <th>b38func1</th>\n",
       "      <th>b38func3</th>\n",
       "      <th>b38func4</th>\n",
       "      <th>b38func5</th>\n",
       "      <th>b38func6</th>\n",
       "      <th>datefunc1</th>\n",
       "    </tr>\n",
       "  </thead>\n",
       "  <tbody>\n",
       "    <tr>\n",
       "      <th>0</th>\n",
       "      <td>4</td>\n",
       "      <td>0.933594</td>\n",
       "      <td>-0.000300</td>\n",
       "      <td>0.010704</td>\n",
       "      <td>0.009117</td>\n",
       "      <td>0.000568</td>\n",
       "      <td>0.012009</td>\n",
       "      <td>0.021652</td>\n",
       "      <td>0.001930</td>\n",
       "      <td>0.009384</td>\n",
       "      <td>...</td>\n",
       "      <td>0.0</td>\n",
       "      <td>0.0</td>\n",
       "      <td>0.0</td>\n",
       "      <td>0.0</td>\n",
       "      <td>1.0</td>\n",
       "      <td>1.0</td>\n",
       "      <td>0.0</td>\n",
       "      <td>0.0</td>\n",
       "      <td>0.0</td>\n",
       "      <td>369.0</td>\n",
       "    </tr>\n",
       "    <tr>\n",
       "      <th>1</th>\n",
       "      <td>4</td>\n",
       "      <td>0.899902</td>\n",
       "      <td>-0.003756</td>\n",
       "      <td>0.215210</td>\n",
       "      <td>0.178101</td>\n",
       "      <td>-0.015747</td>\n",
       "      <td>0.025650</td>\n",
       "      <td>0.109619</td>\n",
       "      <td>0.006710</td>\n",
       "      <td>0.034698</td>\n",
       "      <td>...</td>\n",
       "      <td>0.0</td>\n",
       "      <td>0.0</td>\n",
       "      <td>0.0</td>\n",
       "      <td>0.0</td>\n",
       "      <td>1.0</td>\n",
       "      <td>1.0</td>\n",
       "      <td>0.0</td>\n",
       "      <td>0.0</td>\n",
       "      <td>0.0</td>\n",
       "      <td>389.0</td>\n",
       "    </tr>\n",
       "    <tr>\n",
       "      <th>2</th>\n",
       "      <td>4</td>\n",
       "      <td>0.878418</td>\n",
       "      <td>0.000338</td>\n",
       "      <td>0.004181</td>\n",
       "      <td>0.009705</td>\n",
       "      <td>0.000634</td>\n",
       "      <td>0.004387</td>\n",
       "      <td>0.009995</td>\n",
       "      <td>0.001472</td>\n",
       "      <td>0.004284</td>\n",
       "      <td>...</td>\n",
       "      <td>0.0</td>\n",
       "      <td>0.0</td>\n",
       "      <td>0.0</td>\n",
       "      <td>0.0</td>\n",
       "      <td>1.0</td>\n",
       "      <td>1.0</td>\n",
       "      <td>0.0</td>\n",
       "      <td>0.0</td>\n",
       "      <td>0.0</td>\n",
       "      <td>366.0</td>\n",
       "    </tr>\n",
       "    <tr>\n",
       "      <th>3</th>\n",
       "      <td>4</td>\n",
       "      <td>0.599121</td>\n",
       "      <td>0.004169</td>\n",
       "      <td>0.048859</td>\n",
       "      <td>0.001082</td>\n",
       "      <td>-0.020575</td>\n",
       "      <td>0.059875</td>\n",
       "      <td>0.280029</td>\n",
       "      <td>0.005909</td>\n",
       "      <td>0.012566</td>\n",
       "      <td>...</td>\n",
       "      <td>0.0</td>\n",
       "      <td>0.0</td>\n",
       "      <td>0.0</td>\n",
       "      <td>0.0</td>\n",
       "      <td>1.0</td>\n",
       "      <td>1.0</td>\n",
       "      <td>0.0</td>\n",
       "      <td>0.0</td>\n",
       "      <td>0.0</td>\n",
       "      <td>363.0</td>\n",
       "    </tr>\n",
       "    <tr>\n",
       "      <th>4</th>\n",
       "      <td>4</td>\n",
       "      <td>0.891602</td>\n",
       "      <td>-0.004995</td>\n",
       "      <td>0.004642</td>\n",
       "      <td>0.005573</td>\n",
       "      <td>-0.000077</td>\n",
       "      <td>0.005939</td>\n",
       "      <td>0.009804</td>\n",
       "      <td>0.000776</td>\n",
       "      <td>0.007679</td>\n",
       "      <td>...</td>\n",
       "      <td>0.0</td>\n",
       "      <td>0.0</td>\n",
       "      <td>0.0</td>\n",
       "      <td>0.0</td>\n",
       "      <td>1.0</td>\n",
       "      <td>1.0</td>\n",
       "      <td>0.0</td>\n",
       "      <td>0.0</td>\n",
       "      <td>0.0</td>\n",
       "      <td>365.0</td>\n",
       "    </tr>\n",
       "  </tbody>\n",
       "</table>\n",
       "<p>5 rows × 763 columns</p>\n",
       "</div>"
      ],
      "text/plain": [
       "   record       P_2  P_2_trend      D_39  D_39_last  D_39_trend       B_1  \\\n",
       "0       4  0.933594  -0.000300  0.010704   0.009117    0.000568  0.012009   \n",
       "1       4  0.899902  -0.003756  0.215210   0.178101   -0.015747  0.025650   \n",
       "2       4  0.878418   0.000338  0.004181   0.009705    0.000634  0.004387   \n",
       "3       4  0.599121   0.004169  0.048859   0.001082   -0.020575  0.059875   \n",
       "4       4  0.891602  -0.004995  0.004642   0.005573   -0.000077  0.005939   \n",
       "\n",
       "    B_1_max   B_1_min  B_1_last  ...  b30func3  b30func4  b30func5  b30func6  \\\n",
       "0  0.021652  0.001930  0.009384  ...       0.0       0.0       0.0       0.0   \n",
       "1  0.109619  0.006710  0.034698  ...       0.0       0.0       0.0       0.0   \n",
       "2  0.009995  0.001472  0.004284  ...       0.0       0.0       0.0       0.0   \n",
       "3  0.280029  0.005909  0.012566  ...       0.0       0.0       0.0       0.0   \n",
       "4  0.009804  0.000776  0.007679  ...       0.0       0.0       0.0       0.0   \n",
       "\n",
       "   b38func1  b38func3  b38func4  b38func5  b38func6  datefunc1  \n",
       "0       1.0       1.0       0.0       0.0       0.0      369.0  \n",
       "1       1.0       1.0       0.0       0.0       0.0      389.0  \n",
       "2       1.0       1.0       0.0       0.0       0.0      366.0  \n",
       "3       1.0       1.0       0.0       0.0       0.0      363.0  \n",
       "4       1.0       1.0       0.0       0.0       0.0      365.0  \n",
       "\n",
       "[5 rows x 763 columns]"
      ]
     },
     "execution_count": 9,
     "metadata": {},
     "output_type": "execute_result"
    }
   ],
   "source": [
    "train_.head()"
   ]
  },
  {
   "cell_type": "code",
   "execution_count": 10,
   "id": "92cb4ce1",
   "metadata": {
    "execution": {
     "iopub.execute_input": "2022-06-19T05:37:34.143221Z",
     "iopub.status.busy": "2022-06-19T05:37:34.142738Z",
     "iopub.status.idle": "2022-06-19T05:59:31.331246Z",
     "shell.execute_reply": "2022-06-19T05:59:31.327804Z"
    },
    "papermill": {
     "duration": 1317.213995,
     "end_time": "2022-06-19T05:59:31.344575",
     "exception": false,
     "start_time": "2022-06-19T05:37:34.130580",
     "status": "completed"
    },
    "tags": []
   },
   "outputs": [
    {
     "name": "stdout",
     "output_type": "stream",
     "text": [
      "Fitting estimator with 763 features.\n",
      "Fitting estimator with 663 features.\n",
      "Fitting estimator with 563 features.\n",
      "Fitting estimator with 463 features.\n",
      "Fitting estimator with 763 features.\n",
      "Fitting estimator with 663 features.\n",
      "Fitting estimator with 563 features.\n",
      "Fitting estimator with 463 features.\n",
      "Fitting estimator with 763 features.\n",
      "Fitting estimator with 663 features.\n",
      "Fitting estimator with 563 features.\n",
      "Fitting estimator with 463 features.\n",
      "Fitting estimator with 763 features.\n",
      "Fitting estimator with 663 features.\n",
      "Fitting estimator with 563 features.\n",
      "Fitting estimator with 463 features.\n",
      "Fitting estimator with 763 features.\n",
      "Fitting estimator with 663 features.\n",
      "Fitting estimator with 563 features.\n",
      "Fitting estimator with 463 features.\n",
      "Fitting estimator with 763 features.\n",
      "Fitting estimator with 663 features.\n",
      "Fitting estimator with 563 features.\n"
     ]
    },
    {
     "data": {
      "text/plain": [
       "RFECV(cv=StratifiedKFold(n_splits=5, random_state=None, shuffle=False),\n",
       "      estimator=LGBMClassifier(colsample_bytree=0.25, max_depth=5,\n",
       "                               min_child_samples=200, n_estimators=200,\n",
       "                               objective='binary', random_state=0, reg_alpha=50,\n",
       "                               reg_lambda=50, subsample=0.4),\n",
       "      min_features_to_select=400, scoring='neg_root_mean_squared_error',\n",
       "      step=100, verbose=100)"
      ]
     },
     "execution_count": 10,
     "metadata": {},
     "output_type": "execute_result"
    }
   ],
   "source": [
    "# feature selection\n",
    "\n",
    "import matplotlib.pyplot as plt\n",
    "# from sklearn.svm import SVC\n",
    "from sklearn.model_selection import StratifiedKFold\n",
    "from sklearn.feature_selection import RFECV\n",
    "\n",
    "# Create the RFE object and compute a cross-validated score.\n",
    "# svc = SVC(kernel=\"linear\")\n",
    "# The \"accuracy\" scoring shows the proportion of correct classifications\n",
    "gbm = lgb.LGBMClassifier(\n",
    "    objective='binary', \n",
    "    boosting_type='gbdt',\n",
    "    max_depth=5, \n",
    "    learning_rate=0.1,\n",
    "    n_estimators=200,\n",
    "    min_child_samples = 200,\n",
    "    subsample = 0.4,\n",
    "    colsample_bytree = 0.25,\n",
    "    reg_alpha = 50,\n",
    "    reg_lambda = 50,\n",
    "    # n_jobs = 4,\n",
    "    random_state = 0\n",
    ")\n",
    "\n",
    "min_features_to_select = 400  # Minimum number of features to consider\n",
    "\n",
    "rfecv = RFECV(\n",
    "    estimator=gbm,\n",
    "    step=100,\n",
    "    cv=StratifiedKFold(5),\n",
    "    scoring=\"neg_root_mean_squared_error\",\n",
    "    min_features_to_select=min_features_to_select,\n",
    "    verbose = 100\n",
    ")\n",
    "\n",
    "rfecv.fit(train_, trainY)  "
   ]
  },
  {
   "cell_type": "code",
   "execution_count": 11,
   "id": "0b8a4c33",
   "metadata": {
    "execution": {
     "iopub.execute_input": "2022-06-19T05:59:31.374439Z",
     "iopub.status.busy": "2022-06-19T05:59:31.373927Z",
     "iopub.status.idle": "2022-06-19T05:59:31.701584Z",
     "shell.execute_reply": "2022-06-19T05:59:31.700731Z"
    },
    "papermill": {
     "duration": 0.347308,
     "end_time": "2022-06-19T05:59:31.703959",
     "exception": false,
     "start_time": "2022-06-19T05:59:31.356651",
     "status": "completed"
    },
    "tags": []
   },
   "outputs": [
    {
     "name": "stdout",
     "output_type": "stream",
     "text": [
      "Optimal number of features : 463\n"
     ]
    },
    {
     "name": "stderr",
     "output_type": "stream",
     "text": [
      "/opt/conda/lib/python3.7/site-packages/sklearn/utils/deprecation.py:103: FutureWarning: The `grid_scores_` attribute is deprecated in version 1.0 in favor of `cv_results_` and will be removed in version 1.2.\n",
      "  warnings.warn(msg, category=FutureWarning)\n"
     ]
    },
    {
     "data": {
      "image/png": "[encoded data removed]",
      "text/plain": [
       "<Figure size 432x288 with 1 Axes>"
      ]
     },
     "metadata": {
      "needs_background": "light"
     },
     "output_type": "display_data"
    }
   ],
   "source": [
    "print(\"Optimal number of features : %d\" % rfecv.n_features_)\n",
    "\n",
    "# Plot number of features VS. cross-validation scores\n",
    "plt.figure()\n",
    "plt.xlabel(\"Number of features selected\")\n",
    "plt.ylabel(\"Cross validation score (accuracy)\")\n",
    "plt.plot(\n",
    "    range(min_features_to_select, len(rfecv.grid_scores_) + min_features_to_select),\n",
    "    rfecv.grid_scores_,\n",
    ")\n",
    "plt.show()"
   ]
  },
  {
   "cell_type": "code",
   "execution_count": 12,
   "id": "b8187efe",
   "metadata": {
    "execution": {
     "iopub.execute_input": "2022-06-19T05:59:31.732926Z",
     "iopub.status.busy": "2022-06-19T05:59:31.732129Z",
     "iopub.status.idle": "2022-06-19T05:59:31.736682Z",
     "shell.execute_reply": "2022-06-19T05:59:31.736116Z"
    },
    "papermill": {
     "duration": 0.020821,
     "end_time": "2022-06-19T05:59:31.738434",
     "exception": false,
     "start_time": "2022-06-19T05:59:31.717613",
     "status": "completed"
    },
    "tags": []
   },
   "outputs": [],
   "source": [
    "selected1 = rfecv.get_support()\n",
    "selected1 = rfecv.support_"
   ]
  },
  {
   "cell_type": "code",
   "execution_count": 13,
   "id": "43be9913",
   "metadata": {
    "execution": {
     "iopub.execute_input": "2022-06-19T05:59:31.765786Z",
     "iopub.status.busy": "2022-06-19T05:59:31.765143Z",
     "iopub.status.idle": "2022-06-19T05:59:32.741213Z",
     "shell.execute_reply": "2022-06-19T05:59:32.740218Z"
    },
    "papermill": {
     "duration": 0.992328,
     "end_time": "2022-06-19T05:59:32.743565",
     "exception": false,
     "start_time": "2022-06-19T05:59:31.751237",
     "status": "completed"
    },
    "tags": []
   },
   "outputs": [],
   "source": [
    "train_ = train_.iloc[:,selected1]"
   ]
  },
  {
   "cell_type": "code",
   "execution_count": 14,
   "id": "c2264768",
   "metadata": {
    "execution": {
     "iopub.execute_input": "2022-06-19T05:59:32.771717Z",
     "iopub.status.busy": "2022-06-19T05:59:32.770920Z",
     "iopub.status.idle": "2022-06-19T05:59:32.774943Z",
     "shell.execute_reply": "2022-06-19T05:59:32.774291Z"
    },
    "papermill": {
     "duration": 0.020227,
     "end_time": "2022-06-19T05:59:32.776687",
     "exception": false,
     "start_time": "2022-06-19T05:59:32.756460",
     "status": "completed"
    },
    "tags": []
   },
   "outputs": [],
   "source": [
    "# del train\n",
    "# gc.collect()\n",
    "\n",
    "  "
   ]
  },
  {
   "cell_type": "code",
   "execution_count": 15,
   "id": "d5c251c0",
   "metadata": {
    "execution": {
     "iopub.execute_input": "2022-06-19T05:59:32.804594Z",
     "iopub.status.busy": "2022-06-19T05:59:32.803781Z",
     "iopub.status.idle": "2022-06-19T05:59:32.818683Z",
     "shell.execute_reply": "2022-06-19T05:59:32.817847Z"
    },
    "papermill": {
     "duration": 0.030953,
     "end_time": "2022-06-19T05:59:32.820575",
     "exception": false,
     "start_time": "2022-06-19T05:59:32.789622",
     "status": "completed"
    },
    "tags": []
   },
   "outputs": [],
   "source": [
    "# model robustness indicator\n",
    "def calc_vdr(pred, actual, vdr_cutoff = 0.2):\n",
    "    # Function to calculate VDR at a given cutoff\n",
    "\n",
    "    df_vdr_train = pd.DataFrame(zip(pred), columns = ['predicted_proba'])\n",
    "    df_vdr_train['actual'] = np.array(actual)\n",
    "    df_vdr_train = df_vdr_train.sort_values(by = 'predicted_proba', ascending = False)\n",
    "    num_bad = df_vdr_train['actual'].sum()\n",
    "    top_20_pct = int(len(df_vdr_train['actual'])*vdr_cutoff)\n",
    "    vdr = df_vdr_train.head(top_20_pct)['actual'].sum()/num_bad\n",
    "    return vdr\n",
    "\n",
    "# evaluation matrix\n",
    "\n",
    "# 4% cutoff measures the true positive rate of the 4% data\n",
    "# positives are given 20x weights\n",
    "# cut_vals   = labels[np.cumsum(weights) <= int(0.04 * np.sum(weights))]\n",
    "# the code above indicates that if we successfully detect more positive cases, we will get less cut_samples\n",
    "# since negative samples have weight of 1, we should have more samples to let cut_vals reach threshold\n",
    "# the top four value equals to the ture positive numbers in cut_vals samples/the number of all true positive samples\n",
    "# therefore, our models should be more sensitive to true positive cases and have a larger true positive rate\n",
    "\n",
    "# gini = 2(ROC-0.5)\n",
    "\n",
    "def amex_metric_mod(y_true, y_pred):\n",
    "\n",
    "    labels     = np.transpose(np.array([y_true, y_pred]))\n",
    "    labels     = labels[labels[:, 1].argsort()[::-1]]\n",
    "    weights    = np.where(labels[:,0]==0, 20, 1)\n",
    "    cut_vals   = labels[np.cumsum(weights) <= int(0.04 * np.sum(weights))]\n",
    "    top_four   = np.sum(cut_vals[:,0]) / np.sum(labels[:,0])\n",
    "    print(f'Top four({len(cut_vals[:,0])} total cases) has {top_four*100}% positives cases being predicted')    \n",
    "\n",
    "    gini = [0,0]\n",
    "    for i in [1,0]:\n",
    "        labels         = np.transpose(np.array([y_true, y_pred]))\n",
    "        labels         = labels[labels[:, i].argsort()[::-1]]\n",
    "        weight         = np.where(labels[:,0]==0, 20, 1)\n",
    "        weight_random  = np.cumsum(weight / np.sum(weight))\n",
    "        total_pos      = np.sum(labels[:, 0] *  weight)\n",
    "        cum_pos_found  = np.cumsum(labels[:, 0] * weight)\n",
    "        lorentz        = cum_pos_found / total_pos\n",
    "        gini[i]        = np.sum((lorentz - weight_random) * weight)\n",
    "    print(f'Gini value is {gini[1]/gini[0]}')\n",
    "    \n",
    "    \n",
    "    return 0.5 * (gini[1]/gini[0] + top_four)"
   ]
  },
  {
   "cell_type": "code",
   "execution_count": 16,
   "id": "97aecbb8",
   "metadata": {
    "execution": {
     "iopub.execute_input": "2022-06-19T05:59:32.848266Z",
     "iopub.status.busy": "2022-06-19T05:59:32.847906Z",
     "iopub.status.idle": "2022-06-19T10:29:12.737993Z",
     "shell.execute_reply": "2022-06-19T10:29:12.736067Z"
    },
    "papermill": {
     "duration": 16179.908672,
     "end_time": "2022-06-19T10:29:12.741603",
     "exception": false,
     "start_time": "2022-06-19T05:59:32.832931",
     "status": "completed"
    },
    "tags": []
   },
   "outputs": [
    {
     "name": "stderr",
     "output_type": "stream",
     "text": [
      "/opt/conda/lib/python3.7/site-packages/lightgbm/sklearn.py:726: UserWarning: 'early_stopping_rounds' argument is deprecated and will be removed in a future release of LightGBM. Pass 'early_stopping()' callback via 'callbacks' argument instead.\n",
      "  _log_warning(\"'early_stopping_rounds' argument is deprecated and will be removed in a future release of LightGBM. \"\n",
      "/opt/conda/lib/python3.7/site-packages/lightgbm/sklearn.py:736: UserWarning: 'verbose' argument is deprecated and will be removed in a future release of LightGBM. Pass 'log_evaluation()' callback via 'callbacks' argument instead.\n",
      "  _log_warning(\"'verbose' argument is deprecated and will be removed in a future release of LightGBM. \"\n"
     ]
    },
    {
     "name": "stdout",
     "output_type": "stream",
     "text": [
      "[100]\tvalid_0's rmse: 0.266339\tvalid_0's binary_logloss: 0.226782\n",
      "[200]\tvalid_0's rmse: 0.263595\tvalid_0's binary_logloss: 0.222205\n",
      "[300]\tvalid_0's rmse: 0.262737\tvalid_0's binary_logloss: 0.22088\n",
      "[400]\tvalid_0's rmse: 0.262368\tvalid_0's binary_logloss: 0.220299\n",
      "[500]\tvalid_0's rmse: 0.262208\tvalid_0's binary_logloss: 0.220036\n",
      "[600]\tvalid_0's rmse: 0.262117\tvalid_0's binary_logloss: 0.21989\n",
      "[700]\tvalid_0's rmse: 0.262067\tvalid_0's binary_logloss: 0.219802\n",
      "[800]\tvalid_0's rmse: 0.262069\tvalid_0's binary_logloss: 0.219835\n"
     ]
    },
    {
     "name": "stderr",
     "output_type": "stream",
     "text": [
      "/opt/conda/lib/python3.7/site-packages/xgboost/sklearn.py:797: UserWarning: `eval_metric` in `fit` method is deprecated for better compatibility with scikit-learn, use `eval_metric` in constructor or`set_params` instead.\n",
      "  UserWarning,\n"
     ]
    },
    {
     "name": "stdout",
     "output_type": "stream",
     "text": [
      "[0]\tvalidation_0-aucpr:0.81956\tvalidation_1-aucpr:0.79682\n",
      "[100]\tvalidation_0-aucpr:0.94593\tvalidation_1-aucpr:0.88699\n",
      "[200]\tvalidation_0-aucpr:0.97296\tvalidation_1-aucpr:0.88639\n",
      "[300]\tvalidation_0-aucpr:0.98703\tvalidation_1-aucpr:0.88525\n",
      "[400]\tvalidation_0-aucpr:0.99486\tvalidation_1-aucpr:0.88429\n",
      "[500]\tvalidation_0-aucpr:0.99833\tvalidation_1-aucpr:0.88440\n",
      "[599]\tvalidation_0-aucpr:0.99957\tvalidation_1-aucpr:0.88431\n",
      "Top four(80534 total cases) has 76.9161179020008% positives cases being predicted\n",
      "Gini value is 0.9507921546299857\n",
      "Top four(17478 total cases) has 65.15610536059917% positives cases being predicted\n",
      "Gini value is 0.9216597690256777\n",
      "LGB - METRICS\n",
      "LGB: Train_score: 0.9754 valid_score: 0.9608\n",
      "LGB: train_vdr score: 0.7166691212051083\n",
      "LGB: valid_vdr score: 0.6775645880669865\n",
      "LGB: Train_score: 0.8600 valid_score: 0.7866\n",
      "Top four(101263 total cases) has 99.86955881424754% positives cases being predicted\n",
      "Gini value is 0.9996779623831099\n",
      "Top four(16898 total cases) has 62.585205756122186% positives cases being predicted\n",
      "Gini value is 0.9125002575351994\n",
      "XGB - METRICS\n",
      "XGB: Train_score: 0.9998 valid_score: 0.9563\n",
      "XGB: train_vdr score: 0.7723906503124277\n",
      "XGB: valid_vdr score: 0.6670453589160986\n",
      "XGB: Train_score: 0.9992 valid_score: 0.7692\n",
      "Top four(17392 total cases) has 64.77320541950687% positives cases being predicted\n",
      "Gini value is 0.9205825215784607\n",
      "Combined - METRICS\n",
      "Combined: roc_valid_score: 0.9603\n",
      "Combined: valid_score: 0.7842\n"
     ]
    },
    {
     "name": "stderr",
     "output_type": "stream",
     "text": [
      "/opt/conda/lib/python3.7/site-packages/lightgbm/sklearn.py:726: UserWarning: 'early_stopping_rounds' argument is deprecated and will be removed in a future release of LightGBM. Pass 'early_stopping()' callback via 'callbacks' argument instead.\n",
      "  _log_warning(\"'early_stopping_rounds' argument is deprecated and will be removed in a future release of LightGBM. \"\n",
      "/opt/conda/lib/python3.7/site-packages/lightgbm/sklearn.py:736: UserWarning: 'verbose' argument is deprecated and will be removed in a future release of LightGBM. Pass 'log_evaluation()' callback via 'callbacks' argument instead.\n",
      "  _log_warning(\"'verbose' argument is deprecated and will be removed in a future release of LightGBM. \"\n"
     ]
    },
    {
     "name": "stdout",
     "output_type": "stream",
     "text": [
      "[100]\tvalid_0's rmse: 0.265403\tvalid_0's binary_logloss: 0.225575\n",
      "[200]\tvalid_0's rmse: 0.262808\tvalid_0's binary_logloss: 0.221337\n",
      "[300]\tvalid_0's rmse: 0.262014\tvalid_0's binary_logloss: 0.220084\n",
      "[400]\tvalid_0's rmse: 0.261733\tvalid_0's binary_logloss: 0.219659\n",
      "[500]\tvalid_0's rmse: 0.26162\tvalid_0's binary_logloss: 0.219485\n",
      "[600]\tvalid_0's rmse: 0.261641\tvalid_0's binary_logloss: 0.219512\n"
     ]
    },
    {
     "name": "stderr",
     "output_type": "stream",
     "text": [
      "/opt/conda/lib/python3.7/site-packages/xgboost/sklearn.py:797: UserWarning: `eval_metric` in `fit` method is deprecated for better compatibility with scikit-learn, use `eval_metric` in constructor or`set_params` instead.\n",
      "  UserWarning,\n"
     ]
    },
    {
     "name": "stdout",
     "output_type": "stream",
     "text": [
      "[0]\tvalidation_0-aucpr:0.82031\tvalidation_1-aucpr:0.80215\n",
      "[100]\tvalidation_0-aucpr:0.94601\tvalidation_1-aucpr:0.88806\n",
      "[200]\tvalidation_0-aucpr:0.97223\tvalidation_1-aucpr:0.88748\n",
      "[300]\tvalidation_0-aucpr:0.98653\tvalidation_1-aucpr:0.88615\n",
      "[400]\tvalidation_0-aucpr:0.99473\tvalidation_1-aucpr:0.88538\n",
      "[500]\tvalidation_0-aucpr:0.99825\tvalidation_1-aucpr:0.88509\n",
      "[599]\tvalidation_0-aucpr:0.99954\tvalidation_1-aucpr:0.88464\n",
      "Top four(78347 total cases) has 74.49348846016284% positives cases being predicted\n",
      "Gini value is 0.9446252045748313\n",
      "Top four(17562 total cases) has 65.52638222671042% positives cases being predicted\n",
      "Gini value is 0.9218140311065827\n",
      "LGB - METRICS\n",
      "LGB: Train_score: 0.9723 valid_score: 0.9609\n",
      "LGB: train_vdr score: 0.7086112221497549\n",
      "LGB: valid_vdr score: 0.6783640494824539\n",
      "LGB: Train_score: 0.8448 valid_score: 0.7885\n",
      "Top four(101246 total cases) has 99.8506238034125% positives cases being predicted\n",
      "Gini value is 0.9996498434770776\n",
      "Top four(16851 total cases) has 62.379028864764784% positives cases being predicted\n",
      "Gini value is 0.9126302902743453\n",
      "XGB - METRICS\n",
      "XGB: Train_score: 0.9998 valid_score: 0.9563\n",
      "XGB: train_vdr score: 0.7723801308619638\n",
      "XGB: valid_vdr score: 0.668518050997223\n",
      "XGB: Train_score: 0.9991 valid_score: 0.7682\n",
      "Top four(17411 total cases) has 64.85735925271396% positives cases being predicted\n",
      "Gini value is 0.9207380592785943\n",
      "Combined - METRICS\n",
      "Combined: roc_valid_score: 0.9604\n",
      "Combined: valid_score: 0.7847\n"
     ]
    },
    {
     "name": "stderr",
     "output_type": "stream",
     "text": [
      "/opt/conda/lib/python3.7/site-packages/lightgbm/sklearn.py:726: UserWarning: 'early_stopping_rounds' argument is deprecated and will be removed in a future release of LightGBM. Pass 'early_stopping()' callback via 'callbacks' argument instead.\n",
      "  _log_warning(\"'early_stopping_rounds' argument is deprecated and will be removed in a future release of LightGBM. \"\n",
      "/opt/conda/lib/python3.7/site-packages/lightgbm/sklearn.py:736: UserWarning: 'verbose' argument is deprecated and will be removed in a future release of LightGBM. Pass 'log_evaluation()' callback via 'callbacks' argument instead.\n",
      "  _log_warning(\"'verbose' argument is deprecated and will be removed in a future release of LightGBM. \"\n"
     ]
    },
    {
     "name": "stdout",
     "output_type": "stream",
     "text": [
      "[100]\tvalid_0's rmse: 0.263738\tvalid_0's binary_logloss: 0.223112\n",
      "[200]\tvalid_0's rmse: 0.261188\tvalid_0's binary_logloss: 0.21902\n",
      "[300]\tvalid_0's rmse: 0.260451\tvalid_0's binary_logloss: 0.217848\n",
      "[400]\tvalid_0's rmse: 0.260186\tvalid_0's binary_logloss: 0.21746\n",
      "[500]\tvalid_0's rmse: 0.260088\tvalid_0's binary_logloss: 0.217301\n",
      "[600]\tvalid_0's rmse: 0.260013\tvalid_0's binary_logloss: 0.217196\n"
     ]
    },
    {
     "name": "stderr",
     "output_type": "stream",
     "text": [
      "/opt/conda/lib/python3.7/site-packages/xgboost/sklearn.py:797: UserWarning: `eval_metric` in `fit` method is deprecated for better compatibility with scikit-learn, use `eval_metric` in constructor or`set_params` instead.\n",
      "  UserWarning,\n"
     ]
    },
    {
     "name": "stdout",
     "output_type": "stream",
     "text": [
      "[0]\tvalidation_0-aucpr:0.81686\tvalidation_1-aucpr:0.80697\n",
      "[100]\tvalidation_0-aucpr:0.94570\tvalidation_1-aucpr:0.89065\n",
      "[200]\tvalidation_0-aucpr:0.97201\tvalidation_1-aucpr:0.88948\n",
      "[300]\tvalidation_0-aucpr:0.98709\tvalidation_1-aucpr:0.88749\n",
      "[400]\tvalidation_0-aucpr:0.99505\tvalidation_1-aucpr:0.88646\n",
      "[500]\tvalidation_0-aucpr:0.99839\tvalidation_1-aucpr:0.88624\n",
      "[599]\tvalidation_0-aucpr:0.99957\tvalidation_1-aucpr:0.88615\n",
      "Top four(78802 total cases) has 74.99737013738402% positives cases being predicted\n",
      "Gini value is 0.9460839010409775\n",
      "Top four(17766 total cases) has 66.43103593368677% positives cases being predicted\n",
      "Gini value is 0.9236003595260045\n",
      "LGB - METRICS\n",
      "LGB: Train_score: 0.9730 valid_score: 0.9618\n",
      "LGB: train_vdr score: 0.7107466705939282\n",
      "LGB: valid_vdr score: 0.6803837414794244\n",
      "LGB: Train_score: 0.8480 valid_score: 0.7940\n",
      "Top four(101265 total cases) has 99.87166270434032% positives cases being predicted\n",
      "Gini value is 0.9996767846497464\n",
      "Top four(17104 total cases) has 63.49827484641926% positives cases being predicted\n",
      "Gini value is 0.9138773682959215\n",
      "XGB - METRICS\n",
      "XGB: Train_score: 0.9998 valid_score: 0.9569\n",
      "XGB: train_vdr score: 0.7723906503124277\n",
      "XGB: valid_vdr score: 0.6704956660775898\n",
      "XGB: Train_score: 0.9992 valid_score: 0.7744\n",
      "Top four(17639 total cases) has 65.8672052511992% positives cases being predicted\n",
      "Gini value is 0.9222253075726488\n",
      "Combined - METRICS\n",
      "Combined: roc_valid_score: 0.9611\n",
      "Combined: valid_score: 0.7904\n"
     ]
    },
    {
     "name": "stderr",
     "output_type": "stream",
     "text": [
      "/opt/conda/lib/python3.7/site-packages/lightgbm/sklearn.py:726: UserWarning: 'early_stopping_rounds' argument is deprecated and will be removed in a future release of LightGBM. Pass 'early_stopping()' callback via 'callbacks' argument instead.\n",
      "  _log_warning(\"'early_stopping_rounds' argument is deprecated and will be removed in a future release of LightGBM. \"\n",
      "/opt/conda/lib/python3.7/site-packages/lightgbm/sklearn.py:736: UserWarning: 'verbose' argument is deprecated and will be removed in a future release of LightGBM. Pass 'log_evaluation()' callback via 'callbacks' argument instead.\n",
      "  _log_warning(\"'verbose' argument is deprecated and will be removed in a future release of LightGBM. \"\n"
     ]
    },
    {
     "name": "stdout",
     "output_type": "stream",
     "text": [
      "[100]\tvalid_0's rmse: 0.264873\tvalid_0's binary_logloss: 0.224817\n",
      "[200]\tvalid_0's rmse: 0.26247\tvalid_0's binary_logloss: 0.220759\n",
      "[300]\tvalid_0's rmse: 0.261681\tvalid_0's binary_logloss: 0.219522\n",
      "[400]\tvalid_0's rmse: 0.261404\tvalid_0's binary_logloss: 0.219063\n",
      "[500]\tvalid_0's rmse: 0.261288\tvalid_0's binary_logloss: 0.218901\n",
      "[600]\tvalid_0's rmse: 0.261242\tvalid_0's binary_logloss: 0.218847\n",
      "[700]\tvalid_0's rmse: 0.261191\tvalid_0's binary_logloss: 0.218806\n"
     ]
    },
    {
     "name": "stderr",
     "output_type": "stream",
     "text": [
      "/opt/conda/lib/python3.7/site-packages/xgboost/sklearn.py:797: UserWarning: `eval_metric` in `fit` method is deprecated for better compatibility with scikit-learn, use `eval_metric` in constructor or`set_params` instead.\n",
      "  UserWarning,\n"
     ]
    },
    {
     "name": "stdout",
     "output_type": "stream",
     "text": [
      "[0]\tvalidation_0-aucpr:0.81833\tvalidation_1-aucpr:0.80276\n",
      "[100]\tvalidation_0-aucpr:0.94667\tvalidation_1-aucpr:0.88898\n",
      "[200]\tvalidation_0-aucpr:0.97250\tvalidation_1-aucpr:0.88739\n",
      "[300]\tvalidation_0-aucpr:0.98764\tvalidation_1-aucpr:0.88594\n",
      "[400]\tvalidation_0-aucpr:0.99502\tvalidation_1-aucpr:0.88545\n",
      "[500]\tvalidation_0-aucpr:0.99839\tvalidation_1-aucpr:0.88503\n",
      "[599]\tvalidation_0-aucpr:0.99959\tvalidation_1-aucpr:0.88500\n",
      "Top four(80133 total cases) has 76.47034072141632% positives cases being predicted\n",
      "Gini value is 0.9499357081205997\n",
      "Top four(17656 total cases) has 65.945718493583% positives cases being predicted\n",
      "Gini value is 0.9223288647874691\n",
      "LGB - METRICS\n",
      "LGB: Train_score: 0.9750 valid_score: 0.9612\n",
      "LGB: train_vdr score: 0.715283548804477\n",
      "LGB: valid_vdr score: 0.6797391121397013\n",
      "LGB: Train_score: 0.8573 valid_score: 0.7909\n",
      "Top four(101266 total cases) has 99.87166405436395% positives cases being predicted\n",
      "Gini value is 0.9996841041483411\n",
      "Top four(16936 total cases) has 62.756154007994944% positives cases being predicted\n",
      "Gini value is 0.9130764017841779\n",
      "XGB - METRICS\n",
      "XGB: Train_score: 0.9998 valid_score: 0.9565\n",
      "XGB: train_vdr score: 0.7723614865931014\n",
      "XGB: valid_vdr score: 0.6682516305491268\n",
      "XGB: Train_score: 0.9992 valid_score: 0.7703\n",
      "Top four(17478 total cases) has 65.15884704397223% positives cases being predicted\n",
      "Gini value is 0.9210980087092114\n",
      "Combined - METRICS\n",
      "Combined: roc_valid_score: 0.9605\n",
      "Combined: valid_score: 0.7863\n"
     ]
    },
    {
     "name": "stderr",
     "output_type": "stream",
     "text": [
      "/opt/conda/lib/python3.7/site-packages/lightgbm/sklearn.py:726: UserWarning: 'early_stopping_rounds' argument is deprecated and will be removed in a future release of LightGBM. Pass 'early_stopping()' callback via 'callbacks' argument instead.\n",
      "  _log_warning(\"'early_stopping_rounds' argument is deprecated and will be removed in a future release of LightGBM. \"\n",
      "/opt/conda/lib/python3.7/site-packages/lightgbm/sklearn.py:736: UserWarning: 'verbose' argument is deprecated and will be removed in a future release of LightGBM. Pass 'log_evaluation()' callback via 'callbacks' argument instead.\n",
      "  _log_warning(\"'verbose' argument is deprecated and will be removed in a future release of LightGBM. \"\n"
     ]
    },
    {
     "name": "stdout",
     "output_type": "stream",
     "text": [
      "[100]\tvalid_0's rmse: 0.265495\tvalid_0's binary_logloss: 0.226114\n",
      "[200]\tvalid_0's rmse: 0.263054\tvalid_0's binary_logloss: 0.22207\n",
      "[300]\tvalid_0's rmse: 0.26217\tvalid_0's binary_logloss: 0.220704\n",
      "[400]\tvalid_0's rmse: 0.261827\tvalid_0's binary_logloss: 0.220176\n",
      "[500]\tvalid_0's rmse: 0.261774\tvalid_0's binary_logloss: 0.220121\n"
     ]
    },
    {
     "name": "stderr",
     "output_type": "stream",
     "text": [
      "/opt/conda/lib/python3.7/site-packages/xgboost/sklearn.py:797: UserWarning: `eval_metric` in `fit` method is deprecated for better compatibility with scikit-learn, use `eval_metric` in constructor or`set_params` instead.\n",
      "  UserWarning,\n"
     ]
    },
    {
     "name": "stdout",
     "output_type": "stream",
     "text": [
      "[0]\tvalidation_0-aucpr:0.81902\tvalidation_1-aucpr:0.80100\n",
      "[100]\tvalidation_0-aucpr:0.94694\tvalidation_1-aucpr:0.88915\n",
      "[200]\tvalidation_0-aucpr:0.97307\tvalidation_1-aucpr:0.88760\n",
      "[300]\tvalidation_0-aucpr:0.98782\tvalidation_1-aucpr:0.88628\n",
      "[400]\tvalidation_0-aucpr:0.99503\tvalidation_1-aucpr:0.88532\n",
      "[500]\tvalidation_0-aucpr:0.99835\tvalidation_1-aucpr:0.88489\n",
      "[599]\tvalidation_0-aucpr:0.99956\tvalidation_1-aucpr:0.88461\n",
      "Top four(77258 total cases) has 73.28718849604999% positives cases being predicted\n",
      "Gini value is 0.9421750273712681\n",
      "Top four(17670 total cases) has 66.00883652430043% positives cases being predicted\n",
      "Gini value is 0.9213597951015777\n",
      "LGB - METRICS\n",
      "LGB: Train_score: 0.9711 valid_score: 0.9607\n",
      "LGB: train_vdr score: 0.7046274575807623\n",
      "LGB: valid_vdr score: 0.6801178203240059\n",
      "LGB: Train_score: 0.8375 valid_score: 0.7907\n",
      "Top four(101250 total cases) has 99.85378117669335% positives cases being predicted\n",
      "Gini value is 0.9996639970565604\n",
      "Top four(16876 total cases) has 62.49105827898169% positives cases being predicted\n",
      "Gini value is 0.9114294796056535\n",
      "XGB - METRICS\n",
      "XGB: Train_score: 0.9998 valid_score: 0.9557\n",
      "XGB: train_vdr score: 0.7723825252727139\n",
      "XGB: valid_vdr score: 0.6679991584262571\n",
      "XGB: Train_score: 0.9991 valid_score: 0.7682\n",
      "Top four(17467 total cases) has 65.10835261939827% positives cases being predicted\n",
      "Gini value is 0.9197906951568354\n",
      "Combined - METRICS\n",
      "Combined: roc_valid_score: 0.9599\n",
      "Combined: valid_score: 0.7854\n",
      "Model_2022 ROC: avg=0.9610768162713225   std=0.00039452771232394206\n",
      "Model_2022 ROC: avg=0.9563519802252809   std=0.00039917005987617494\n",
      "Model_2022 SCORE: avg=0.7901443604936109   std=0.0024692711736438075\n",
      "Model_2022 SCORE: avg=0.7700611015038126   std=0.002321166032554612\n",
      "***********************************\n"
     ]
    },
    {
     "name": "stderr",
     "output_type": "stream",
     "text": [
      "/opt/conda/lib/python3.7/site-packages/lightgbm/sklearn.py:726: UserWarning: 'early_stopping_rounds' argument is deprecated and will be removed in a future release of LightGBM. Pass 'early_stopping()' callback via 'callbacks' argument instead.\n",
      "  _log_warning(\"'early_stopping_rounds' argument is deprecated and will be removed in a future release of LightGBM. \"\n",
      "/opt/conda/lib/python3.7/site-packages/lightgbm/sklearn.py:736: UserWarning: 'verbose' argument is deprecated and will be removed in a future release of LightGBM. Pass 'log_evaluation()' callback via 'callbacks' argument instead.\n",
      "  _log_warning(\"'verbose' argument is deprecated and will be removed in a future release of LightGBM. \"\n"
     ]
    },
    {
     "name": "stdout",
     "output_type": "stream",
     "text": [
      "[100]\tvalid_0's rmse: 0.264564\tvalid_0's binary_logloss: 0.224165\n",
      "[200]\tvalid_0's rmse: 0.261933\tvalid_0's binary_logloss: 0.219761\n",
      "[300]\tvalid_0's rmse: 0.261163\tvalid_0's binary_logloss: 0.218496\n",
      "[400]\tvalid_0's rmse: 0.260888\tvalid_0's binary_logloss: 0.21801\n",
      "[500]\tvalid_0's rmse: 0.260712\tvalid_0's binary_logloss: 0.217706\n",
      "[600]\tvalid_0's rmse: 0.260677\tvalid_0's binary_logloss: 0.217676\n"
     ]
    },
    {
     "name": "stderr",
     "output_type": "stream",
     "text": [
      "/opt/conda/lib/python3.7/site-packages/xgboost/sklearn.py:797: UserWarning: `eval_metric` in `fit` method is deprecated for better compatibility with scikit-learn, use `eval_metric` in constructor or`set_params` instead.\n",
      "  UserWarning,\n"
     ]
    },
    {
     "name": "stdout",
     "output_type": "stream",
     "text": [
      "[0]\tvalidation_0-aucpr:0.81446\tvalidation_1-aucpr:0.80143\n",
      "[100]\tvalidation_0-aucpr:0.94604\tvalidation_1-aucpr:0.89037\n",
      "[200]\tvalidation_0-aucpr:0.97258\tvalidation_1-aucpr:0.88881\n",
      "[300]\tvalidation_0-aucpr:0.98726\tvalidation_1-aucpr:0.88748\n",
      "[400]\tvalidation_0-aucpr:0.99501\tvalidation_1-aucpr:0.88602\n",
      "[500]\tvalidation_0-aucpr:0.99838\tvalidation_1-aucpr:0.88570\n",
      "[599]\tvalidation_0-aucpr:0.99959\tvalidation_1-aucpr:0.88569\n",
      "Top four(78999 total cases) has 75.2161747070333% positives cases being predicted\n",
      "Gini value is 0.9462907816217611\n",
      "Top four(17611 total cases) has 65.74097450138854% positives cases being predicted\n",
      "Gini value is 0.9230580716449327\n",
      "LGB - METRICS\n",
      "LGB: Train_score: 0.9731 valid_score: 0.9615\n",
      "LGB: train_vdr score: 0.7108203067471756\n",
      "LGB: valid_vdr score: 0.6795422031473534\n",
      "LGB: Train_score: 0.8492 valid_score: 0.7902\n",
      "Top four(101273 total cases) has 99.88007826471144% positives cases being predicted\n",
      "Gini value is 0.9996939439078015\n",
      "Top four(16922 total cases) has 62.69039804763107% positives cases being predicted\n",
      "Gini value is 0.9134337992383287\n",
      "XGB - METRICS\n",
      "XGB: Train_score: 0.9998 valid_score: 0.9567\n",
      "XGB: train_vdr score: 0.7723801308619638\n",
      "XGB: valid_vdr score: 0.6675923588319448\n",
      "XGB: Train_score: 0.9992 valid_score: 0.7702\n",
      "Top four(17440 total cases) has 64.98359000252462% positives cases being predicted\n",
      "Gini value is 0.9217133759648775\n",
      "Combined - METRICS\n",
      "Combined: roc_valid_score: 0.9609\n",
      "Combined: valid_score: 0.7858\n"
     ]
    },
    {
     "name": "stderr",
     "output_type": "stream",
     "text": [
      "/opt/conda/lib/python3.7/site-packages/lightgbm/sklearn.py:726: UserWarning: 'early_stopping_rounds' argument is deprecated and will be removed in a future release of LightGBM. Pass 'early_stopping()' callback via 'callbacks' argument instead.\n",
      "  _log_warning(\"'early_stopping_rounds' argument is deprecated and will be removed in a future release of LightGBM. \"\n",
      "/opt/conda/lib/python3.7/site-packages/lightgbm/sklearn.py:736: UserWarning: 'verbose' argument is deprecated and will be removed in a future release of LightGBM. Pass 'log_evaluation()' callback via 'callbacks' argument instead.\n",
      "  _log_warning(\"'verbose' argument is deprecated and will be removed in a future release of LightGBM. \"\n"
     ]
    },
    {
     "name": "stdout",
     "output_type": "stream",
     "text": [
      "[100]\tvalid_0's rmse: 0.266157\tvalid_0's binary_logloss: 0.226849\n",
      "[200]\tvalid_0's rmse: 0.263577\tvalid_0's binary_logloss: 0.222533\n",
      "[300]\tvalid_0's rmse: 0.262701\tvalid_0's binary_logloss: 0.221158\n",
      "[400]\tvalid_0's rmse: 0.262393\tvalid_0's binary_logloss: 0.220721\n",
      "[500]\tvalid_0's rmse: 0.262247\tvalid_0's binary_logloss: 0.220504\n",
      "[600]\tvalid_0's rmse: 0.262254\tvalid_0's binary_logloss: 0.22055\n"
     ]
    },
    {
     "name": "stderr",
     "output_type": "stream",
     "text": [
      "/opt/conda/lib/python3.7/site-packages/xgboost/sklearn.py:797: UserWarning: `eval_metric` in `fit` method is deprecated for better compatibility with scikit-learn, use `eval_metric` in constructor or`set_params` instead.\n",
      "  UserWarning,\n"
     ]
    },
    {
     "name": "stdout",
     "output_type": "stream",
     "text": [
      "[0]\tvalidation_0-aucpr:0.81707\tvalidation_1-aucpr:0.79936\n",
      "[100]\tvalidation_0-aucpr:0.94629\tvalidation_1-aucpr:0.88860\n",
      "[200]\tvalidation_0-aucpr:0.97212\tvalidation_1-aucpr:0.88657\n",
      "[300]\tvalidation_0-aucpr:0.98762\tvalidation_1-aucpr:0.88483\n",
      "[400]\tvalidation_0-aucpr:0.99486\tvalidation_1-aucpr:0.88430\n",
      "[500]\tvalidation_0-aucpr:0.99829\tvalidation_1-aucpr:0.88402\n",
      "[599]\tvalidation_0-aucpr:0.99955\tvalidation_1-aucpr:0.88389\n",
      "Top four(78264 total cases) has 74.40196924112684% positives cases being predicted\n",
      "Gini value is 0.9445572700841468\n",
      "Top four(17519 total cases) has 65.33703610199446% positives cases being predicted\n",
      "Gini value is 0.920977947454871\n",
      "LGB - METRICS\n",
      "LGB: Train_score: 0.9723 valid_score: 0.9605\n",
      "LGB: train_vdr score: 0.7084955081946519\n",
      "LGB: valid_vdr score: 0.6781115879828327\n",
      "LGB: Train_score: 0.8443 valid_score: 0.7872\n",
      "Top four(101241 total cases) has 99.84431213313417% positives cases being predicted\n",
      "Gini value is 0.9996661803323542\n",
      "Top four(16888 total cases) has 62.53892114785828% positives cases being predicted\n",
      "Gini value is 0.9115295409966292\n",
      "XGB - METRICS\n",
      "XGB: Train_score: 0.9998 valid_score: 0.9558\n",
      "XGB: train_vdr score: 0.7723906503124277\n",
      "XGB: valid_vdr score: 0.6678027434149626\n",
      "XGB: Train_score: 0.9991 valid_score: 0.7685\n",
      "Top four(17503 total cases) has 65.26550534376841% positives cases being predicted\n",
      "Gini value is 0.9196637911631937\n",
      "Combined - METRICS\n",
      "Combined: roc_valid_score: 0.9598\n",
      "Combined: valid_score: 0.7862\n"
     ]
    },
    {
     "name": "stderr",
     "output_type": "stream",
     "text": [
      "/opt/conda/lib/python3.7/site-packages/lightgbm/sklearn.py:726: UserWarning: 'early_stopping_rounds' argument is deprecated and will be removed in a future release of LightGBM. Pass 'early_stopping()' callback via 'callbacks' argument instead.\n",
      "  _log_warning(\"'early_stopping_rounds' argument is deprecated and will be removed in a future release of LightGBM. \"\n",
      "/opt/conda/lib/python3.7/site-packages/lightgbm/sklearn.py:736: UserWarning: 'verbose' argument is deprecated and will be removed in a future release of LightGBM. Pass 'log_evaluation()' callback via 'callbacks' argument instead.\n",
      "  _log_warning(\"'verbose' argument is deprecated and will be removed in a future release of LightGBM. \"\n"
     ]
    },
    {
     "name": "stdout",
     "output_type": "stream",
     "text": [
      "[100]\tvalid_0's rmse: 0.264814\tvalid_0's binary_logloss: 0.225041\n",
      "[200]\tvalid_0's rmse: 0.262034\tvalid_0's binary_logloss: 0.220614\n",
      "[300]\tvalid_0's rmse: 0.261157\tvalid_0's binary_logloss: 0.219269\n",
      "[400]\tvalid_0's rmse: 0.260787\tvalid_0's binary_logloss: 0.218708\n",
      "[500]\tvalid_0's rmse: 0.260632\tvalid_0's binary_logloss: 0.218442\n",
      "[600]\tvalid_0's rmse: 0.260496\tvalid_0's binary_logloss: 0.218275\n",
      "[700]\tvalid_0's rmse: 0.260395\tvalid_0's binary_logloss: 0.218127\n",
      "[800]\tvalid_0's rmse: 0.260478\tvalid_0's binary_logloss: 0.218229\n"
     ]
    },
    {
     "name": "stderr",
     "output_type": "stream",
     "text": [
      "/opt/conda/lib/python3.7/site-packages/xgboost/sklearn.py:797: UserWarning: `eval_metric` in `fit` method is deprecated for better compatibility with scikit-learn, use `eval_metric` in constructor or`set_params` instead.\n",
      "  UserWarning,\n"
     ]
    },
    {
     "name": "stdout",
     "output_type": "stream",
     "text": [
      "[0]\tvalidation_0-aucpr:0.81533\tvalidation_1-aucpr:0.80010\n",
      "[100]\tvalidation_0-aucpr:0.94666\tvalidation_1-aucpr:0.88964\n",
      "[200]\tvalidation_0-aucpr:0.97356\tvalidation_1-aucpr:0.88921\n",
      "[300]\tvalidation_0-aucpr:0.98708\tvalidation_1-aucpr:0.88843\n",
      "[400]\tvalidation_0-aucpr:0.99482\tvalidation_1-aucpr:0.88814\n",
      "[500]\tvalidation_0-aucpr:0.99831\tvalidation_1-aucpr:0.88749\n",
      "[599]\tvalidation_0-aucpr:0.99956\tvalidation_1-aucpr:0.88755\n",
      "Top four(80655 total cases) has 77.04971492289243% positives cases being predicted\n",
      "Gini value is 0.9513729133560747\n",
      "Top four(17763 total cases) has 66.41420516704535% positives cases being predicted\n",
      "Gini value is 0.9229384071784684\n",
      "LGB - METRICS\n",
      "LGB: Train_score: 0.9757 valid_score: 0.9615\n",
      "LGB: train_vdr score: 0.7169847047190254\n",
      "LGB: valid_vdr score: 0.6808465875620634\n",
      "LGB: Train_score: 0.8609 valid_score: 0.7935\n",
      "Top four(101249 total cases) has 99.85377963855169% positives cases being predicted\n",
      "Gini value is 0.9996670760438151\n",
      "Top four(17170 total cases) has 63.78860557098376% positives cases being predicted\n",
      "Gini value is 0.9145483625690876\n",
      "XGB - METRICS\n",
      "XGB: Train_score: 0.9998 valid_score: 0.9573\n",
      "XGB: train_vdr score: 0.7723801308619638\n",
      "XGB: valid_vdr score: 0.6718421274089035\n",
      "XGB: Train_score: 0.9991 valid_score: 0.7762\n",
      "Top four(17639 total cases) has 65.8672052511992% positives cases being predicted\n",
      "Gini value is 0.9221498950919532\n",
      "Combined - METRICS\n",
      "Combined: roc_valid_score: 0.9611\n",
      "Combined: valid_score: 0.7904\n"
     ]
    },
    {
     "name": "stderr",
     "output_type": "stream",
     "text": [
      "/opt/conda/lib/python3.7/site-packages/lightgbm/sklearn.py:726: UserWarning: 'early_stopping_rounds' argument is deprecated and will be removed in a future release of LightGBM. Pass 'early_stopping()' callback via 'callbacks' argument instead.\n",
      "  _log_warning(\"'early_stopping_rounds' argument is deprecated and will be removed in a future release of LightGBM. \"\n",
      "/opt/conda/lib/python3.7/site-packages/lightgbm/sklearn.py:736: UserWarning: 'verbose' argument is deprecated and will be removed in a future release of LightGBM. Pass 'log_evaluation()' callback via 'callbacks' argument instead.\n",
      "  _log_warning(\"'verbose' argument is deprecated and will be removed in a future release of LightGBM. \"\n"
     ]
    },
    {
     "name": "stdout",
     "output_type": "stream",
     "text": [
      "[100]\tvalid_0's rmse: 0.26434\tvalid_0's binary_logloss: 0.223911\n",
      "[200]\tvalid_0's rmse: 0.261807\tvalid_0's binary_logloss: 0.219664\n",
      "[300]\tvalid_0's rmse: 0.261133\tvalid_0's binary_logloss: 0.2186\n",
      "[400]\tvalid_0's rmse: 0.260756\tvalid_0's binary_logloss: 0.218008\n",
      "[500]\tvalid_0's rmse: 0.260664\tvalid_0's binary_logloss: 0.217872\n",
      "[600]\tvalid_0's rmse: 0.260613\tvalid_0's binary_logloss: 0.217762\n",
      "[700]\tvalid_0's rmse: 0.260599\tvalid_0's binary_logloss: 0.217739\n",
      "[800]\tvalid_0's rmse: 0.26066\tvalid_0's binary_logloss: 0.217865\n"
     ]
    },
    {
     "name": "stderr",
     "output_type": "stream",
     "text": [
      "/opt/conda/lib/python3.7/site-packages/xgboost/sklearn.py:797: UserWarning: `eval_metric` in `fit` method is deprecated for better compatibility with scikit-learn, use `eval_metric` in constructor or`set_params` instead.\n",
      "  UserWarning,\n"
     ]
    },
    {
     "name": "stdout",
     "output_type": "stream",
     "text": [
      "[0]\tvalidation_0-aucpr:0.81383\tvalidation_1-aucpr:0.80058\n",
      "[100]\tvalidation_0-aucpr:0.94582\tvalidation_1-aucpr:0.89005\n",
      "[200]\tvalidation_0-aucpr:0.97134\tvalidation_1-aucpr:0.88855\n",
      "[300]\tvalidation_0-aucpr:0.98635\tvalidation_1-aucpr:0.88748\n",
      "[400]\tvalidation_0-aucpr:0.99454\tvalidation_1-aucpr:0.88671\n",
      "[500]\tvalidation_0-aucpr:0.99822\tvalidation_1-aucpr:0.88596\n",
      "[599]\tvalidation_0-aucpr:0.99951\tvalidation_1-aucpr:0.88602\n",
      "Top four(80712 total cases) has 77.11202044959659% positives cases being predicted\n",
      "Gini value is 0.9508321176424804\n",
      "Top four(17660 total cases) has 65.96254996844098% positives cases being predicted\n",
      "Gini value is 0.9232448696975389\n",
      "LGB - METRICS\n",
      "LGB: Train_score: 0.9754 valid_score: 0.9616\n",
      "LGB: train_vdr score: 0.7170928752511493\n",
      "LGB: valid_vdr score: 0.6805386071954554\n",
      "LGB: Train_score: 0.8610 valid_score: 0.7914\n",
      "Top four(101241 total cases) has 99.84326183688712% positives cases being predicted\n",
      "Gini value is 0.9996281722228324\n",
      "Top four(17079 total cases) has 63.38733431516936% positives cases being predicted\n",
      "Gini value is 0.9141614896520301\n",
      "XGB - METRICS\n",
      "XGB: Train_score: 0.9998 valid_score: 0.9571\n",
      "XGB: train_vdr score: 0.7723720059329077\n",
      "XGB: valid_vdr score: 0.6701451714706501\n",
      "XGB: Train_score: 0.9990 valid_score: 0.7740\n",
      "Top four(17539 total cases) has 65.42815064169997% positives cases being predicted\n",
      "Gini value is 0.9221466093624248\n",
      "Combined - METRICS\n",
      "Combined: roc_valid_score: 0.9611\n",
      "Combined: valid_score: 0.7882\n"
     ]
    },
    {
     "name": "stderr",
     "output_type": "stream",
     "text": [
      "/opt/conda/lib/python3.7/site-packages/lightgbm/sklearn.py:726: UserWarning: 'early_stopping_rounds' argument is deprecated and will be removed in a future release of LightGBM. Pass 'early_stopping()' callback via 'callbacks' argument instead.\n",
      "  _log_warning(\"'early_stopping_rounds' argument is deprecated and will be removed in a future release of LightGBM. \"\n",
      "/opt/conda/lib/python3.7/site-packages/lightgbm/sklearn.py:736: UserWarning: 'verbose' argument is deprecated and will be removed in a future release of LightGBM. Pass 'log_evaluation()' callback via 'callbacks' argument instead.\n",
      "  _log_warning(\"'verbose' argument is deprecated and will be removed in a future release of LightGBM. \"\n"
     ]
    },
    {
     "name": "stdout",
     "output_type": "stream",
     "text": [
      "[100]\tvalid_0's rmse: 0.265084\tvalid_0's binary_logloss: 0.22528\n",
      "[200]\tvalid_0's rmse: 0.262658\tvalid_0's binary_logloss: 0.221157\n",
      "[300]\tvalid_0's rmse: 0.261828\tvalid_0's binary_logloss: 0.219811\n",
      "[400]\tvalid_0's rmse: 0.261481\tvalid_0's binary_logloss: 0.219248\n",
      "[500]\tvalid_0's rmse: 0.261325\tvalid_0's binary_logloss: 0.218932\n",
      "[600]\tvalid_0's rmse: 0.261299\tvalid_0's binary_logloss: 0.218848\n"
     ]
    },
    {
     "name": "stderr",
     "output_type": "stream",
     "text": [
      "/opt/conda/lib/python3.7/site-packages/xgboost/sklearn.py:797: UserWarning: `eval_metric` in `fit` method is deprecated for better compatibility with scikit-learn, use `eval_metric` in constructor or`set_params` instead.\n",
      "  UserWarning,\n"
     ]
    },
    {
     "name": "stdout",
     "output_type": "stream",
     "text": [
      "[0]\tvalidation_0-aucpr:0.81572\tvalidation_1-aucpr:0.79712\n",
      "[100]\tvalidation_0-aucpr:0.94631\tvalidation_1-aucpr:0.88958\n",
      "[200]\tvalidation_0-aucpr:0.97277\tvalidation_1-aucpr:0.88782\n",
      "[300]\tvalidation_0-aucpr:0.98710\tvalidation_1-aucpr:0.88664\n",
      "[400]\tvalidation_0-aucpr:0.99502\tvalidation_1-aucpr:0.88578\n",
      "[500]\tvalidation_0-aucpr:0.99841\tvalidation_1-aucpr:0.88544\n",
      "[599]\tvalidation_0-aucpr:0.99958\tvalidation_1-aucpr:0.88564\n",
      "Top four(78556 total cases) has 74.72413031358151% positives cases being predicted\n",
      "Gini value is 0.9456892561299225\n",
      "Top four(17563 total cases) has 65.53334735956238% positives cases being predicted\n",
      "Gini value is 0.9220451147969116\n",
      "LGB - METRICS\n",
      "LGB: Train_score: 0.9728 valid_score: 0.9610\n",
      "LGB: train_vdr score: 0.7094873925712423\n",
      "LGB: valid_vdr score: 0.6776351777824532\n",
      "LGB: Train_score: 0.8465 valid_score: 0.7887\n",
      "Top four(101244 total cases) has 99.84746957280962% positives cases being predicted\n",
      "Gini value is 0.9996823153734505\n",
      "Top four(17036 total cases) has 63.19798022301705% positives cases being predicted\n",
      "Gini value is 0.9127927309818489\n",
      "XGB - METRICS\n",
      "XGB: Train_score: 0.9998 valid_score: 0.9564\n",
      "XGB: train_vdr score: 0.7723825252727139\n",
      "XGB: valid_vdr score: 0.6701451714706501\n",
      "XGB: Train_score: 0.9991 valid_score: 0.7724\n",
      "Top four(17549 total cases) has 65.47022932884494% positives cases being predicted\n",
      "Gini value is 0.9209532662338572\n",
      "Combined - METRICS\n",
      "Combined: roc_valid_score: 0.9605\n",
      "Combined: valid_score: 0.7878\n",
      "Model_725 ROC: avg=0.9612269733325863   std=0.0004225424052914915\n",
      "Model_725 ROC: avg=0.9566471870967499   std=0.0005343179516960422\n",
      "Model_725 SCORE: avg=0.790214554175704   std=0.0021964006505158125\n",
      "Model_725 SCORE: avg=0.772249831648452   std=0.002741566175528178\n",
      "***********************************\n"
     ]
    },
    {
     "name": "stderr",
     "output_type": "stream",
     "text": [
      "/opt/conda/lib/python3.7/site-packages/lightgbm/sklearn.py:726: UserWarning: 'early_stopping_rounds' argument is deprecated and will be removed in a future release of LightGBM. Pass 'early_stopping()' callback via 'callbacks' argument instead.\n",
      "  _log_warning(\"'early_stopping_rounds' argument is deprecated and will be removed in a future release of LightGBM. \"\n",
      "/opt/conda/lib/python3.7/site-packages/lightgbm/sklearn.py:736: UserWarning: 'verbose' argument is deprecated and will be removed in a future release of LightGBM. Pass 'log_evaluation()' callback via 'callbacks' argument instead.\n",
      "  _log_warning(\"'verbose' argument is deprecated and will be removed in a future release of LightGBM. \"\n"
     ]
    },
    {
     "name": "stdout",
     "output_type": "stream",
     "text": [
      "[100]\tvalid_0's rmse: 0.265122\tvalid_0's binary_logloss: 0.22583\n",
      "[200]\tvalid_0's rmse: 0.262453\tvalid_0's binary_logloss: 0.221488\n",
      "[300]\tvalid_0's rmse: 0.261753\tvalid_0's binary_logloss: 0.220417\n",
      "[400]\tvalid_0's rmse: 0.261506\tvalid_0's binary_logloss: 0.220077\n",
      "[500]\tvalid_0's rmse: 0.2614\tvalid_0's binary_logloss: 0.219952\n",
      "[600]\tvalid_0's rmse: 0.261321\tvalid_0's binary_logloss: 0.21984\n"
     ]
    },
    {
     "name": "stderr",
     "output_type": "stream",
     "text": [
      "/opt/conda/lib/python3.7/site-packages/xgboost/sklearn.py:797: UserWarning: `eval_metric` in `fit` method is deprecated for better compatibility with scikit-learn, use `eval_metric` in constructor or`set_params` instead.\n",
      "  UserWarning,\n"
     ]
    },
    {
     "name": "stdout",
     "output_type": "stream",
     "text": [
      "[0]\tvalidation_0-aucpr:0.79295\tvalidation_1-aucpr:0.77833\n",
      "[100]\tvalidation_0-aucpr:0.94573\tvalidation_1-aucpr:0.88909\n",
      "[200]\tvalidation_0-aucpr:0.97189\tvalidation_1-aucpr:0.88699\n",
      "[300]\tvalidation_0-aucpr:0.98714\tvalidation_1-aucpr:0.88562\n",
      "[400]\tvalidation_0-aucpr:0.99490\tvalidation_1-aucpr:0.88443\n",
      "[500]\tvalidation_0-aucpr:0.99842\tvalidation_1-aucpr:0.88408\n",
      "[599]\tvalidation_0-aucpr:0.99957\tvalidation_1-aucpr:0.88409\n",
      "Top four(78975 total cases) has 75.18987608087353% positives cases being predicted\n",
      "Gini value is 0.9470256739399153\n",
      "Top four(17664 total cases) has 65.97660523436842% positives cases being predicted\n",
      "Gini value is 0.92143903988311\n",
      "LGB - METRICS\n",
      "LGB: Train_score: 0.9735 valid_score: 0.9607\n",
      "LGB: train_vdr score: 0.7113567987208348\n",
      "LGB: valid_vdr score: 0.6789531263149037\n",
      "LGB: Train_score: 0.8495 valid_score: 0.7906\n",
      "Top four(101255 total cases) has 99.86009130883002% positives cases being predicted\n",
      "Gini value is 0.9996711756849359\n",
      "Top four(16983 total cases) has 62.9596903138938% positives cases being predicted\n",
      "Gini value is 0.9108759711129836\n",
      "XGB - METRICS\n",
      "XGB: Train_score: 0.9998 valid_score: 0.9554\n",
      "XGB: train_vdr score: 0.7723906503124277\n",
      "XGB: valid_vdr score: 0.6690229739964655\n",
      "XGB: Train_score: 0.9991 valid_score: 0.7702\n",
      "Top four(17480 total cases) has 65.16452074391988% positives cases being predicted\n",
      "Gini value is 0.9197654992165988\n",
      "Combined - METRICS\n",
      "Combined: roc_valid_score: 0.9599\n",
      "Combined: valid_score: 0.7857\n"
     ]
    },
    {
     "name": "stderr",
     "output_type": "stream",
     "text": [
      "/opt/conda/lib/python3.7/site-packages/lightgbm/sklearn.py:726: UserWarning: 'early_stopping_rounds' argument is deprecated and will be removed in a future release of LightGBM. Pass 'early_stopping()' callback via 'callbacks' argument instead.\n",
      "  _log_warning(\"'early_stopping_rounds' argument is deprecated and will be removed in a future release of LightGBM. \"\n",
      "/opt/conda/lib/python3.7/site-packages/lightgbm/sklearn.py:736: UserWarning: 'verbose' argument is deprecated and will be removed in a future release of LightGBM. Pass 'log_evaluation()' callback via 'callbacks' argument instead.\n",
      "  _log_warning(\"'verbose' argument is deprecated and will be removed in a future release of LightGBM. \"\n"
     ]
    },
    {
     "name": "stdout",
     "output_type": "stream",
     "text": [
      "[100]\tvalid_0's rmse: 0.265297\tvalid_0's binary_logloss: 0.224892\n",
      "[200]\tvalid_0's rmse: 0.262816\tvalid_0's binary_logloss: 0.220814\n",
      "[300]\tvalid_0's rmse: 0.262051\tvalid_0's binary_logloss: 0.21965\n",
      "[400]\tvalid_0's rmse: 0.261776\tvalid_0's binary_logloss: 0.219175\n",
      "[500]\tvalid_0's rmse: 0.261605\tvalid_0's binary_logloss: 0.218877\n",
      "[600]\tvalid_0's rmse: 0.261543\tvalid_0's binary_logloss: 0.218792\n",
      "[700]\tvalid_0's rmse: 0.261469\tvalid_0's binary_logloss: 0.218726\n"
     ]
    },
    {
     "name": "stderr",
     "output_type": "stream",
     "text": [
      "/opt/conda/lib/python3.7/site-packages/xgboost/sklearn.py:797: UserWarning: `eval_metric` in `fit` method is deprecated for better compatibility with scikit-learn, use `eval_metric` in constructor or`set_params` instead.\n",
      "  UserWarning,\n"
     ]
    },
    {
     "name": "stdout",
     "output_type": "stream",
     "text": [
      "[0]\tvalidation_0-aucpr:0.79269\tvalidation_1-aucpr:0.77519\n",
      "[100]\tvalidation_0-aucpr:0.94598\tvalidation_1-aucpr:0.88990\n",
      "[200]\tvalidation_0-aucpr:0.97102\tvalidation_1-aucpr:0.88872\n",
      "[300]\tvalidation_0-aucpr:0.98618\tvalidation_1-aucpr:0.88692\n",
      "[400]\tvalidation_0-aucpr:0.99445\tvalidation_1-aucpr:0.88634\n",
      "[500]\tvalidation_0-aucpr:0.99814\tvalidation_1-aucpr:0.88560\n",
      "[599]\tvalidation_0-aucpr:0.99953\tvalidation_1-aucpr:0.88550\n",
      "Top four(80068 total cases) has 76.39961288422292% positives cases being predicted\n",
      "Gini value is 0.9496495447860643\n",
      "Top four(17609 total cases) has 65.73255911806783% positives cases being predicted\n",
      "Gini value is 0.9224370405683607\n",
      "LGB - METRICS\n",
      "LGB: Train_score: 0.9748 valid_score: 0.9612\n",
      "LGB: train_vdr score: 0.7149228924280996\n",
      "LGB: valid_vdr score: 0.6798788184801817\n",
      "LGB: Train_score: 0.8568 valid_score: 0.7899\n",
      "Top four(101249 total cases) has 99.85377963855169% positives cases being predicted\n",
      "Gini value is 0.9996394714585051\n",
      "Top four(16913 total cases) has 62.65252882268787% positives cases being predicted\n",
      "Gini value is 0.9134778223302502\n",
      "XGB - METRICS\n",
      "XGB: Train_score: 0.9998 valid_score: 0.9567\n",
      "XGB: train_vdr score: 0.7723696114114998\n",
      "XGB: valid_vdr score: 0.668518050997223\n",
      "XGB: Train_score: 0.9991 valid_score: 0.7700\n",
      "Top four(17424 total cases) has 64.91626693595893% positives cases being predicted\n",
      "Gini value is 0.9214297430810912\n",
      "Combined - METRICS\n",
      "Combined: roc_valid_score: 0.9607\n",
      "Combined: valid_score: 0.7853\n"
     ]
    },
    {
     "name": "stderr",
     "output_type": "stream",
     "text": [
      "/opt/conda/lib/python3.7/site-packages/lightgbm/sklearn.py:726: UserWarning: 'early_stopping_rounds' argument is deprecated and will be removed in a future release of LightGBM. Pass 'early_stopping()' callback via 'callbacks' argument instead.\n",
      "  _log_warning(\"'early_stopping_rounds' argument is deprecated and will be removed in a future release of LightGBM. \"\n",
      "/opt/conda/lib/python3.7/site-packages/lightgbm/sklearn.py:736: UserWarning: 'verbose' argument is deprecated and will be removed in a future release of LightGBM. Pass 'log_evaluation()' callback via 'callbacks' argument instead.\n",
      "  _log_warning(\"'verbose' argument is deprecated and will be removed in a future release of LightGBM. \"\n"
     ]
    },
    {
     "name": "stdout",
     "output_type": "stream",
     "text": [
      "[100]\tvalid_0's rmse: 0.264569\tvalid_0's binary_logloss: 0.224211\n",
      "[200]\tvalid_0's rmse: 0.262146\tvalid_0's binary_logloss: 0.220151\n",
      "[300]\tvalid_0's rmse: 0.261342\tvalid_0's binary_logloss: 0.218873\n",
      "[400]\tvalid_0's rmse: 0.261094\tvalid_0's binary_logloss: 0.218459\n"
     ]
    },
    {
     "name": "stderr",
     "output_type": "stream",
     "text": [
      "/opt/conda/lib/python3.7/site-packages/xgboost/sklearn.py:797: UserWarning: `eval_metric` in `fit` method is deprecated for better compatibility with scikit-learn, use `eval_metric` in constructor or`set_params` instead.\n",
      "  UserWarning,\n"
     ]
    },
    {
     "name": "stdout",
     "output_type": "stream",
     "text": [
      "[0]\tvalidation_0-aucpr:0.79503\tvalidation_1-aucpr:0.77669\n",
      "[100]\tvalidation_0-aucpr:0.94636\tvalidation_1-aucpr:0.88842\n",
      "[200]\tvalidation_0-aucpr:0.97172\tvalidation_1-aucpr:0.88818\n",
      "[300]\tvalidation_0-aucpr:0.98700\tvalidation_1-aucpr:0.88678\n",
      "[400]\tvalidation_0-aucpr:0.99494\tvalidation_1-aucpr:0.88572\n",
      "[500]\tvalidation_0-aucpr:0.99835\tvalidation_1-aucpr:0.88507\n",
      "[599]\tvalidation_0-aucpr:0.99956\tvalidation_1-aucpr:0.88491\n",
      "Top four(76296 total cases) has 72.22233910500515% positives cases being predicted\n",
      "Gini value is 0.9391303860996546\n",
      "Top four(17510 total cases) has 65.2949591853909% positives cases being predicted\n",
      "Gini value is 0.9224841605321804\n",
      "LGB - METRICS\n",
      "LGB: Train_score: 0.9696 valid_score: 0.9612\n",
      "LGB: train_vdr score: 0.701415918032442\n",
      "LGB: valid_vdr score: 0.67760666498359\n",
      "LGB: Train_score: 0.8307 valid_score: 0.7877\n",
      "Top four(101269 total cases) has 99.87587048452589% positives cases being predicted\n",
      "Gini value is 0.9996627052842982\n",
      "Top four(16839 total cases) has 62.32432887318017% positives cases being predicted\n",
      "Gini value is 0.9129810707150228\n",
      "XGB - METRICS\n",
      "XGB: Train_score: 0.9998 valid_score: 0.9565\n",
      "XGB: train_vdr score: 0.7723696114114998\n",
      "XGB: valid_vdr score: 0.6669612050828915\n",
      "XGB: Train_score: 0.9992 valid_score: 0.7681\n",
      "Top four(17383 total cases) has 64.73112850290332% positives cases being predicted\n",
      "Gini value is 0.9211226442474583\n",
      "Combined - METRICS\n",
      "Combined: roc_valid_score: 0.9606\n",
      "Combined: valid_score: 0.7842\n"
     ]
    },
    {
     "name": "stderr",
     "output_type": "stream",
     "text": [
      "/opt/conda/lib/python3.7/site-packages/lightgbm/sklearn.py:726: UserWarning: 'early_stopping_rounds' argument is deprecated and will be removed in a future release of LightGBM. Pass 'early_stopping()' callback via 'callbacks' argument instead.\n",
      "  _log_warning(\"'early_stopping_rounds' argument is deprecated and will be removed in a future release of LightGBM. \"\n",
      "/opt/conda/lib/python3.7/site-packages/lightgbm/sklearn.py:736: UserWarning: 'verbose' argument is deprecated and will be removed in a future release of LightGBM. Pass 'log_evaluation()' callback via 'callbacks' argument instead.\n",
      "  _log_warning(\"'verbose' argument is deprecated and will be removed in a future release of LightGBM. \"\n"
     ]
    },
    {
     "name": "stdout",
     "output_type": "stream",
     "text": [
      "[100]\tvalid_0's rmse: 0.264956\tvalid_0's binary_logloss: 0.22487\n",
      "[200]\tvalid_0's rmse: 0.26259\tvalid_0's binary_logloss: 0.220895\n",
      "[300]\tvalid_0's rmse: 0.261838\tvalid_0's binary_logloss: 0.219712\n",
      "[400]\tvalid_0's rmse: 0.261569\tvalid_0's binary_logloss: 0.219237\n",
      "[500]\tvalid_0's rmse: 0.261458\tvalid_0's binary_logloss: 0.219062\n",
      "[600]\tvalid_0's rmse: 0.261346\tvalid_0's binary_logloss: 0.218942\n",
      "[700]\tvalid_0's rmse: 0.261314\tvalid_0's binary_logloss: 0.218897\n"
     ]
    },
    {
     "name": "stderr",
     "output_type": "stream",
     "text": [
      "/opt/conda/lib/python3.7/site-packages/xgboost/sklearn.py:797: UserWarning: `eval_metric` in `fit` method is deprecated for better compatibility with scikit-learn, use `eval_metric` in constructor or`set_params` instead.\n",
      "  UserWarning,\n"
     ]
    },
    {
     "name": "stdout",
     "output_type": "stream",
     "text": [
      "[0]\tvalidation_0-aucpr:0.79314\tvalidation_1-aucpr:0.77922\n",
      "[100]\tvalidation_0-aucpr:0.94411\tvalidation_1-aucpr:0.88855\n",
      "[200]\tvalidation_0-aucpr:0.97193\tvalidation_1-aucpr:0.88694\n",
      "[300]\tvalidation_0-aucpr:0.98689\tvalidation_1-aucpr:0.88567\n",
      "[400]\tvalidation_0-aucpr:0.99471\tvalidation_1-aucpr:0.88506\n",
      "[500]\tvalidation_0-aucpr:0.99827\tvalidation_1-aucpr:0.88454\n",
      "[599]\tvalidation_0-aucpr:0.99956\tvalidation_1-aucpr:0.88435\n",
      "Top four(80319 total cases) has 76.6765197816185% positives cases being predicted\n",
      "Gini value is 0.95033729233665\n",
      "Top four(17609 total cases) has 65.73532505785819% positives cases being predicted\n",
      "Gini value is 0.9222809868407613\n",
      "LGB - METRICS\n",
      "LGB: Train_score: 0.9752 valid_score: 0.9611\n",
      "LGB: train_vdr score: 0.7158305544744011\n",
      "LGB: valid_vdr score: 0.6783925941510625\n",
      "LGB: Train_score: 0.8586 valid_score: 0.7898\n",
      "Top four(101262 total cases) has 99.86640438446082% positives cases being predicted\n",
      "Gini value is 0.999666504063389\n",
      "Top four(16878 total cases) has 62.49947401641068% positives cases being predicted\n",
      "Gini value is 0.9124014211022262\n",
      "XGB - METRICS\n",
      "XGB: Train_score: 0.9998 valid_score: 0.9562\n",
      "XGB: train_vdr score: 0.7723825252727139\n",
      "XGB: valid_vdr score: 0.6675783715548075\n",
      "XGB: Train_score: 0.9992 valid_score: 0.7687\n",
      "Top four(17495 total cases) has 65.23038081211865% positives cases being predicted\n",
      "Gini value is 0.9208141325124098\n",
      "Combined - METRICS\n",
      "Combined: roc_valid_score: 0.9604\n",
      "Combined: valid_score: 0.7866\n"
     ]
    },
    {
     "name": "stderr",
     "output_type": "stream",
     "text": [
      "/opt/conda/lib/python3.7/site-packages/lightgbm/sklearn.py:726: UserWarning: 'early_stopping_rounds' argument is deprecated and will be removed in a future release of LightGBM. Pass 'early_stopping()' callback via 'callbacks' argument instead.\n",
      "  _log_warning(\"'early_stopping_rounds' argument is deprecated and will be removed in a future release of LightGBM. \"\n",
      "/opt/conda/lib/python3.7/site-packages/lightgbm/sklearn.py:736: UserWarning: 'verbose' argument is deprecated and will be removed in a future release of LightGBM. Pass 'log_evaluation()' callback via 'callbacks' argument instead.\n",
      "  _log_warning(\"'verbose' argument is deprecated and will be removed in a future release of LightGBM. \"\n"
     ]
    },
    {
     "name": "stdout",
     "output_type": "stream",
     "text": [
      "[100]\tvalid_0's rmse: 0.264229\tvalid_0's binary_logloss: 0.224135\n",
      "[200]\tvalid_0's rmse: 0.261862\tvalid_0's binary_logloss: 0.220125\n",
      "[300]\tvalid_0's rmse: 0.261068\tvalid_0's binary_logloss: 0.218875\n",
      "[400]\tvalid_0's rmse: 0.26089\tvalid_0's binary_logloss: 0.218573\n",
      "[500]\tvalid_0's rmse: 0.260875\tvalid_0's binary_logloss: 0.218507\n",
      "[600]\tvalid_0's rmse: 0.260799\tvalid_0's binary_logloss: 0.218374\n",
      "[700]\tvalid_0's rmse: 0.260847\tvalid_0's binary_logloss: 0.218451\n"
     ]
    },
    {
     "name": "stderr",
     "output_type": "stream",
     "text": [
      "/opt/conda/lib/python3.7/site-packages/xgboost/sklearn.py:797: UserWarning: `eval_metric` in `fit` method is deprecated for better compatibility with scikit-learn, use `eval_metric` in constructor or`set_params` instead.\n",
      "  UserWarning,\n"
     ]
    },
    {
     "name": "stdout",
     "output_type": "stream",
     "text": [
      "[0]\tvalidation_0-aucpr:0.79477\tvalidation_1-aucpr:0.77289\n",
      "[100]\tvalidation_0-aucpr:0.94592\tvalidation_1-aucpr:0.88977\n",
      "[200]\tvalidation_0-aucpr:0.97216\tvalidation_1-aucpr:0.88835\n",
      "[300]\tvalidation_0-aucpr:0.98684\tvalidation_1-aucpr:0.88720\n",
      "[400]\tvalidation_0-aucpr:0.99487\tvalidation_1-aucpr:0.88652\n",
      "[500]\tvalidation_0-aucpr:0.99845\tvalidation_1-aucpr:0.88624\n",
      "[599]\tvalidation_0-aucpr:0.99957\tvalidation_1-aucpr:0.88600\n",
      "Top four(79331 total cases) has 75.58250844177019% positives cases being predicted\n",
      "Gini value is 0.9476344368511085\n",
      "Top four(17743 total cases) has 66.32863454660215% positives cases being predicted\n",
      "Gini value is 0.9225282075479347\n",
      "LGB - METRICS\n",
      "LGB: Train_score: 0.9738 valid_score: 0.9613\n",
      "LGB: train_vdr score: 0.7120751501635757\n",
      "LGB: valid_vdr score: 0.6808752366926152\n",
      "LGB: Train_score: 0.8517 valid_score: 0.7929\n",
      "Top four(101251 total cases) has 99.85483311067398% positives cases being predicted\n",
      "Gini value is 0.9996740605778944\n",
      "Top four(17019 total cases) has 63.12223858615611% positives cases being predicted\n",
      "Gini value is 0.9130444122135822\n",
      "XGB - METRICS\n",
      "XGB: Train_score: 0.9998 valid_score: 0.9565\n",
      "XGB: train_vdr score: 0.7723720059329077\n",
      "XGB: valid_vdr score: 0.6696823059120556\n",
      "XGB: Train_score: 0.9991 valid_score: 0.7721\n",
      "Top four(17575 total cases) has 65.58804965285083% positives cases being predicted\n",
      "Gini value is 0.9212604237705025\n",
      "Combined - METRICS\n",
      "Combined: roc_valid_score: 0.9606\n",
      "Combined: valid_score: 0.7886\n",
      "Model_514 ROC: avg=0.9611174772956519   std=0.00020304069738939193\n",
      "Model_514 ROC: avg=0.9562786692498996   std=0.0004536120000785477\n",
      "Model_514 SCORE: avg=0.7901850266795223   std=0.0016675928730959142\n",
      "Model_514 SCORE: avg=0.7698363303597351   std=0.001395149960803157\n",
      "***********************************\n",
      "******************************************\n",
      "Models Weighted ROC: avg=0.9587831839119152\n",
      "Models Weighted SCORE: avg=0.7804485341434728\n",
      "      ROC_1     ROC_2     ROC_3\n",
      "0  0.960830  0.961530  0.960720\n",
      "1  0.956251  0.956717  0.955439\n",
      "2  0.960908  0.960490  0.961219\n",
      "3  0.956316  0.955765  0.956740\n",
      "4  0.961801  0.961470  0.961243\n",
      "5  0.956939  0.957275  0.956491\n",
      "6  0.961165  0.961623  0.961141\n",
      "7  0.956539  0.957081  0.956201\n",
      "8  0.960680  0.961023  0.961265\n",
      "9  0.955715  0.956397  0.956523\n",
      "    SCORE_1   SCORE_2   SCORE_3\n",
      "0  0.786610  0.790234  0.790603\n",
      "1  0.769176  0.770169  0.770236\n",
      "2  0.788539  0.787174  0.789881\n",
      "3  0.768210  0.768459  0.770002\n",
      "4  0.793955  0.793540  0.787717\n",
      "5  0.774430  0.776217  0.768112\n",
      "6  0.790893  0.791435  0.789817\n",
      "7  0.770319  0.774017  0.768698\n",
      "8  0.790724  0.788689  0.792907\n",
      "9  0.768170  0.772386  0.772133\n"
     ]
    },
    {
     "data": {
      "text/plain": [
       "0"
      ]
     },
     "execution_count": 16,
     "metadata": {},
     "output_type": "execute_result"
    }
   ],
   "source": [
    "modelNum = [2022,725,514]\n",
    "performanceROC = []\n",
    "performanceSCORE = []\n",
    "blended = []\n",
    "\n",
    "for _ in modelNum:\n",
    "    folds = StratifiedKFold(n_splits= 5, shuffle=True, random_state=_)\n",
    "    models = []\n",
    "    lgb_performance_roc = []\n",
    "    lgb_performance_score = []\n",
    "    xgb_performance_roc = []\n",
    "    xgb_performance_score = []\n",
    "\n",
    "    for n_fold, (train_idx, valid_idx) in enumerate(folds.split(train_, trainY)):\n",
    "        train_x, train_y = train_.iloc[train_idx], trainY.iloc[train_idx]\n",
    "        valid_x, valid_y = train_.iloc[valid_idx], trainY.iloc[valid_idx]\n",
    "\n",
    "        # LightGBM parameters found by Bayesian optimization\n",
    "\n",
    "        gbm = lgb.LGBMClassifier(\n",
    "            objective='binary', \n",
    "            boosting_type='gbdt',\n",
    "            max_depth=10, \n",
    "            learning_rate=0.1,\n",
    "            n_estimators=1600,\n",
    "            class_weight = {1:1,0:1},\n",
    "            min_child_samples = 1000,\n",
    "            subsample = 0.3,\n",
    "            colsample_bytree = 0.1,\n",
    "            reg_alpha = 10,\n",
    "            reg_lambda = 5,\n",
    "            # n_jobs = 4,\n",
    "            random_state = _            \n",
    "        )\n",
    "        gbm.fit(train_x, \n",
    "                train_y, \n",
    "                eval_set=[(valid_x, valid_y)], \n",
    "                eval_metric='rmse', \n",
    "                early_stopping_rounds=100,\n",
    "                verbose = 100)\n",
    "        \n",
    "        xgbc = xgb.XGBClassifier(\n",
    "            n_estimators=600, \n",
    "            learning_rate=0.1, \n",
    "            subsample=0.3, \n",
    "            seed=_, \n",
    "            max_depth=10,\n",
    "            colsample_bytree=0.1, \n",
    "            reg_alpha=1, \n",
    "            reg_lambda=1)\n",
    "\n",
    "        xgbc.fit(train_x, \n",
    "                 train_y, \n",
    "                 eval_set=[(train_x, train_y), (valid_x, valid_y)], \n",
    "                 eval_metric= 'aucpr',\n",
    "                 verbose=100)\n",
    "        \n",
    "        # gbm evaluation\n",
    "        train_score_lgm = gbm.predict_proba(train_x)[:,1]\n",
    "        valid_score_lgm = gbm.predict_proba(valid_x)[:,1]\n",
    "        roc_auc_train = sklearn.metrics.roc_auc_score(train_y, train_score_lgm)\n",
    "        roc_auc_valid = sklearn.metrics.roc_auc_score(valid_y, valid_score_lgm)\n",
    "        score_train = amex_metric_mod(train_y, train_score_lgm)\n",
    "        score_valid = amex_metric_mod(valid_y, valid_score_lgm)\n",
    "        lgb_performance_roc.append(roc_auc_valid)\n",
    "        lgb_performance_score.append(score_valid)\n",
    "        performanceROC.append(roc_auc_valid)\n",
    "        performanceSCORE.append(score_valid)\n",
    "        print('LGB - METRICS')\n",
    "        print('LGB: Train_score: {:.4f} valid_score: {:.4f}'.format(roc_auc_train , roc_auc_valid))\n",
    "        print(f'LGB: train_vdr score: {calc_vdr(train_score_lgm,actual=train_y)}')\n",
    "        print(f'LGB: valid_vdr score: {calc_vdr(valid_score_lgm,actual=valid_y)}')\n",
    "        #joblib.dump(gbm,'./model_shy/lgm'+str(round(sklearn.metrics.roc_auc_score(valid_y, valid_score_lgm),5)).replace('0.','')+'.model')\n",
    "        print('LGB: Train_score: {:.4f} valid_score: {:.4f}'.format(score_train, score_valid))\n",
    "        \n",
    "        # xgboost evaluation\n",
    "        train_score_lgm = xgbc.predict_proba(train_x)[:,1]\n",
    "        valid_score_lgm = xgbc.predict_proba(valid_x)[:,1]\n",
    "        roc_auc_train = sklearn.metrics.roc_auc_score(train_y, train_score_lgm)\n",
    "        roc_auc_valid = sklearn.metrics.roc_auc_score(valid_y, valid_score_lgm)\n",
    "        score_train = amex_metric_mod(train_y, train_score_lgm)\n",
    "        score_valid = amex_metric_mod(valid_y, valid_score_lgm)\n",
    "        xgb_performance_roc.append(roc_auc_valid)\n",
    "        xgb_performance_score.append(score_valid)\n",
    "        performanceROC.append(roc_auc_valid)\n",
    "        performanceSCORE.append(score_valid)\n",
    "        print('XGB - METRICS')\n",
    "        print('XGB: Train_score: {:.4f} valid_score: {:.4f}'.format(roc_auc_train , roc_auc_valid))\n",
    "        print(f'XGB: train_vdr score: {calc_vdr(train_score_lgm,actual=train_y)}')\n",
    "        print(f'XGB: valid_vdr score: {calc_vdr(valid_score_lgm,actual=valid_y)}')\n",
    "        #joblib.dump(gbm,'./model_shy/lgm'+str(round(sklearn.metrics.roc_auc_score(valid_y, valid_score_lgm),5)).replace('0.','')+'.model')\n",
    "        print('XGB: Train_score: {:.4f} valid_score: {:.4f}'.format(score_train, score_valid))\n",
    "        \n",
    "        # combined\n",
    "        valid_score = np.mean(np.array([gbm.predict_proba(valid_x)[:,1],xgbc.predict_proba(valid_x)[:,1]]),axis=0)\n",
    "        roc_auc_valid = sklearn.metrics.roc_auc_score(valid_y, valid_score)\n",
    "        score_valid = amex_metric_mod(valid_y, valid_score)\n",
    "        print('Combined - METRICS')\n",
    "        print('Combined: roc_valid_score: {:.4f}'.format(roc_auc_valid))\n",
    "        print('Combined: valid_score: {:.4f}'.format(score_valid))\n",
    "        \n",
    "        models.append([gbm,xgbc])\n",
    "        \n",
    "        del train_x, train_y, valid_x, valid_y\n",
    "        gc.collect()\n",
    "        \n",
    "    print(f'Model_{_} ROC: avg={np.mean(lgb_performance_roc)}   std={np.std(lgb_performance_roc)}')\n",
    "    print(f'Model_{_} ROC: avg={np.mean(xgb_performance_roc)}   std={np.std(xgb_performance_roc)}')\n",
    "\n",
    "    print(f'Model_{_} SCORE: avg={np.mean(lgb_performance_score)}   std={np.std(lgb_performance_score)}')\n",
    "    print(f'Model_{_} SCORE: avg={np.mean(xgb_performance_score)}   std={np.std(xgb_performance_score)}')\n",
    "\n",
    "    print('***********************************')\n",
    "    blended.append(models)\n",
    "    \n",
    "print('******************************************')\n",
    "print(f'Models Weighted ROC: avg={np.mean(performanceROC)}')\n",
    "print(f'Models Weighted SCORE: avg={np.mean(performanceSCORE)}')\n",
    "dfROC = pd.DataFrame({'ROC_1':performanceROC[0:10],'ROC_2':performanceROC[10:20],'ROC_3':performanceROC[20:30]})\n",
    "dfSCORE = pd.DataFrame({'SCORE_1':performanceSCORE[0:10],'SCORE_2':performanceSCORE[10:20],'SCORE_3':performanceSCORE[20:30]})\n",
    "print(dfROC)\n",
    "print(dfSCORE)\n",
    "del train_\n",
    "gc.collect()"
   ]
  },
  {
   "cell_type": "code",
   "execution_count": 17,
   "id": "573ef18b",
   "metadata": {
    "execution": {
     "iopub.execute_input": "2022-06-19T10:29:12.815437Z",
     "iopub.status.busy": "2022-06-19T10:29:12.814792Z",
     "iopub.status.idle": "2022-06-19T10:29:12.819845Z",
     "shell.execute_reply": "2022-06-19T10:29:12.819004Z"
    },
    "papermill": {
     "duration": 0.04416,
     "end_time": "2022-06-19T10:29:12.821631",
     "exception": false,
     "start_time": "2022-06-19T10:29:12.777471",
     "status": "completed"
    },
    "tags": []
   },
   "outputs": [],
   "source": [
    "# test = pd.read_feather('../input/amexfeather/test_data.ftr')                          "
   ]
  },
  {
   "cell_type": "code",
   "execution_count": 18,
   "id": "5cf882e7",
   "metadata": {
    "execution": {
     "iopub.execute_input": "2022-06-19T10:29:12.893532Z",
     "iopub.status.busy": "2022-06-19T10:29:12.892958Z",
     "iopub.status.idle": "2022-06-19T10:29:12.898101Z",
     "shell.execute_reply": "2022-06-19T10:29:12.897299Z"
    },
    "papermill": {
     "duration": 0.043461,
     "end_time": "2022-06-19T10:29:12.899977",
     "exception": false,
     "start_time": "2022-06-19T10:29:12.856516",
     "status": "completed"
    },
    "tags": []
   },
   "outputs": [],
   "source": [
    "# # Engineering - New\n",
    "# for i in ['B_30', 'B_38', 'D_114', 'D_116', 'D_117', 'D_120', 'D_126', 'D_63', 'D_64', 'D_66', 'D_68']:\n",
    "#     mapping = test[i].value_counts()\n",
    "#     test[i] = test[i].map(mapping)\n",
    "#     test[i] = test[i].astype('float16').fillna(0,inplace=True)\n",
    "\n",
    "# test['weighted1'] = 0\n",
    "# test['weighted2'] = 0\n",
    "# test['weighted3'] = 0\n",
    "\n",
    "# for idx in test.columns[0:]:\n",
    "#     if idx.startswith('B_'):\n",
    "#         if idx in ['B_'+str(_) for _ in [1,3,4,6,7,9,11,12,13,14,15,21,23,24,25,26,27,28,29,36,37,40,42]]:        \n",
    "#             mid = test[idx].quantile(0.5)\n",
    "#             temp = test[[idx]].fillna(mid)\n",
    "#             temp.rank(pct=True)\n",
    "#             test['weighted1'] += temp[idx]\n",
    "            \n",
    "#         elif idx in ['B_'+str(_) for _ in [2,31]]:    \n",
    "#             mid = test[idx].quantile(0.5)\n",
    "#             temp = test[[idx]].fillna(mid)\n",
    "#             temp.rank(pct=True)\n",
    "#             test['weighted2'] += temp[idx]\n",
    "            \n",
    "#         elif idx in ['B_'+str(_) for _ in [10,17,39]]:  \n",
    "#             mid = test[idx].quantile(0.5)\n",
    "#             temp = test[[idx]].fillna(mid)\n",
    "#             temp.rank(pct=True)\n",
    "#             test['weighted3'] += temp[idx]\n",
    "        \n",
    "#         elif idx in ['B_'+ str(_) for _ in [8,16,18,19,20,22,32,33,41]]:\n",
    "#             test[idx] = test[idx].apply(lambda x: round(x,1))\n",
    "    \n",
    "# test['weighted1'] = (test['weighted1']/23).astype('float16')\n",
    "# test['weighted2'] = (test['weighted2']/2).astype('float16')\n",
    "# test['weighted3'] = (test['weighted3']/3).astype('float16')"
   ]
  },
  {
   "cell_type": "code",
   "execution_count": 19,
   "id": "ef3effc1",
   "metadata": {
    "execution": {
     "iopub.execute_input": "2022-06-19T10:29:12.972762Z",
     "iopub.status.busy": "2022-06-19T10:29:12.972199Z",
     "iopub.status.idle": "2022-06-19T10:29:12.975581Z",
     "shell.execute_reply": "2022-06-19T10:29:12.974957Z"
    },
    "papermill": {
     "duration": 0.04167,
     "end_time": "2022-06-19T10:29:12.977363",
     "exception": false,
     "start_time": "2022-06-19T10:29:12.935693",
     "status": "completed"
    },
    "tags": []
   },
   "outputs": [],
   "source": [
    "# test.fillna(0,inplace=True)  "
   ]
  },
  {
   "cell_type": "code",
   "execution_count": 20,
   "id": "96e57c44",
   "metadata": {
    "execution": {
     "iopub.execute_input": "2022-06-19T10:29:13.049801Z",
     "iopub.status.busy": "2022-06-19T10:29:13.049164Z",
     "iopub.status.idle": "2022-06-19T10:29:13.054060Z",
     "shell.execute_reply": "2022-06-19T10:29:13.053329Z"
    },
    "papermill": {
     "duration": 0.043171,
     "end_time": "2022-06-19T10:29:13.055893",
     "exception": false,
     "start_time": "2022-06-19T10:29:13.012722",
     "status": "completed"
    },
    "tags": []
   },
   "outputs": [],
   "source": [
    "# test_ = test[['customer_ID','S_2']].groupby('customer_ID').agg({'S_2':['count']})//3\n",
    "# test_.columns = ['record']\n",
    "\n",
    "# count = 1\n",
    "# for name in test.columns[2:]:\n",
    "#     if name.startswith('B_'):\n",
    "#         temp = test[['customer_ID',name]].groupby('customer_ID').agg({name:['mean','max','min','last',trend]})\n",
    "#         temp.columns = [name, name+'_max',name+'_min',name+'_last',name+'_trend']\n",
    "#         test_ = pd.concat([test_, temp], axis=1)\n",
    "#     elif name.startswith('D_'):\n",
    "#         temp = test[['customer_ID',name]].groupby('customer_ID').agg({name:['mean','last',trend]})\n",
    "#         temp.columns = [name,name+'_last',name+'_trend']\n",
    "#         test_ = pd.concat([test_, temp], axis=1)\n",
    "#     elif name.startswith('P_'):\n",
    "#         temp = test[['customer_ID',name]].groupby('customer_ID').agg({name:['mean','sum',trend]})\n",
    "#         temp.columns = [name,name+'_sum',name+'_trend']\n",
    "#         test_ = pd.concat([test_, temp], axis=1)\n",
    "#     elif name.startswith('S_'):\n",
    "#         temp = test[['customer_ID',name]].groupby('customer_ID').agg({name:['mean','sum',trend]})\n",
    "#         temp.columns = [name,name+'_sum',name+'_trend']\n",
    "#         test_ = pd.concat([test_, temp], axis=1)\n",
    "#     elif name.startswith('R_'):\n",
    "#         temp = test[['customer_ID',name]].groupby('customer_ID').agg({name:['mean','last',trend]})\n",
    "#         temp.columns = [name,name+'_last',name+'_trend']\n",
    "#         test_ = pd.concat([test_, temp], axis=1)\n",
    "#     elif name.startswith('weighted'):\n",
    "#         temp = test[['customer_ID',name]].groupby('customer_ID').agg({name:['mean','max','min','last',trend]})\n",
    "#         temp.columns = [name, name+'_max',name+'_min',name+'_last',name+'_trend']\n",
    "#         test_ = pd.concat([test_, temp], axis=1)\n",
    "    \n",
    "#     print(count)\n",
    "#     count+=1"
   ]
  },
  {
   "cell_type": "code",
   "execution_count": 21,
   "id": "33862c8c",
   "metadata": {
    "execution": {
     "iopub.execute_input": "2022-06-19T10:29:13.127100Z",
     "iopub.status.busy": "2022-06-19T10:29:13.126528Z",
     "iopub.status.idle": "2022-06-19T10:29:13.130580Z",
     "shell.execute_reply": "2022-06-19T10:29:13.129796Z"
    },
    "papermill": {
     "duration": 0.041856,
     "end_time": "2022-06-19T10:29:13.132520",
     "exception": false,
     "start_time": "2022-06-19T10:29:13.090664",
     "status": "completed"
    },
    "tags": []
   },
   "outputs": [],
   "source": [
    "# cat_trend = [i for i in ['B_30', 'B_38', 'D_114', 'D_116', 'D_117', 'D_120', 'D_126', 'D_63', 'D_64', 'D_66', 'D_68']]\n",
    "# for i in cat_trend:\n",
    "#     test_.pop(i)\n",
    "\n",
    "# cat_trend = [i+'_trend' for i in ['B_30', 'B_38', 'D_114', 'D_116', 'D_117', 'D_120', 'D_126', 'D_63', 'D_64', 'D_66', 'D_68']]\n",
    "# for i in cat_trend:\n",
    "#     test_.pop(i)\n",
    "\n",
    "# cat_trend = [i+'_max' for i in ['B_30', 'B_38']]\n",
    "# for i in cat_trend:\n",
    "#     test_.pop(i)\n",
    "\n",
    "# cat_trend = [i+'_min' for i in ['B_30', 'B_38']]\n",
    "# for i in cat_trend:\n",
    "#     test_.pop(i)"
   ]
  },
  {
   "cell_type": "code",
   "execution_count": 22,
   "id": "9a05f376",
   "metadata": {
    "execution": {
     "iopub.execute_input": "2022-06-19T10:29:13.203360Z",
     "iopub.status.busy": "2022-06-19T10:29:13.202962Z",
     "iopub.status.idle": "2022-06-19T10:29:13.206672Z",
     "shell.execute_reply": "2022-06-19T10:29:13.205807Z"
    },
    "papermill": {
     "duration": 0.04164,
     "end_time": "2022-06-19T10:29:13.208740",
     "exception": false,
     "start_time": "2022-06-19T10:29:13.167100",
     "status": "completed"
    },
    "tags": []
   },
   "outputs": [],
   "source": [
    "# test_.to_pickle('test_.pkl')"
   ]
  },
  {
   "cell_type": "code",
   "execution_count": 23,
   "id": "1a69b0e4",
   "metadata": {
    "execution": {
     "iopub.execute_input": "2022-06-19T10:29:13.280202Z",
     "iopub.status.busy": "2022-06-19T10:29:13.279801Z",
     "iopub.status.idle": "2022-06-19T10:29:13.283459Z",
     "shell.execute_reply": "2022-06-19T10:29:13.282645Z"
    },
    "papermill": {
     "duration": 0.041272,
     "end_time": "2022-06-19T10:29:13.285241",
     "exception": false,
     "start_time": "2022-06-19T10:29:13.243969",
     "status": "completed"
    },
    "tags": []
   },
   "outputs": [],
   "source": [
    "# test_.info()  "
   ]
  },
  {
   "cell_type": "code",
   "execution_count": 24,
   "id": "c45c9536",
   "metadata": {
    "execution": {
     "iopub.execute_input": "2022-06-19T10:29:13.356687Z",
     "iopub.status.busy": "2022-06-19T10:29:13.355844Z",
     "iopub.status.idle": "2022-06-19T10:29:35.091873Z",
     "shell.execute_reply": "2022-06-19T10:29:35.090993Z"
    },
    "papermill": {
     "duration": 21.774074,
     "end_time": "2022-06-19T10:29:35.094170",
     "exception": false,
     "start_time": "2022-06-19T10:29:13.320096",
     "status": "completed"
    },
    "tags": []
   },
   "outputs": [],
   "source": [
    "import pandas as pd\n",
    "test_ = pd.read_pickle('../input/amexfeatureengineeringdataset/test_.pkl')"
   ]
  },
  {
   "cell_type": "code",
   "execution_count": 25,
   "id": "771da551",
   "metadata": {
    "execution": {
     "iopub.execute_input": "2022-06-19T10:29:35.166368Z",
     "iopub.status.busy": "2022-06-19T10:29:35.165292Z",
     "iopub.status.idle": "2022-06-19T10:29:35.221436Z",
     "shell.execute_reply": "2022-06-19T10:29:35.220442Z"
    },
    "papermill": {
     "duration": 0.094749,
     "end_time": "2022-06-19T10:29:35.224127",
     "exception": false,
     "start_time": "2022-06-19T10:29:35.129378",
     "status": "completed"
    },
    "tags": []
   },
   "outputs": [
    {
     "name": "stdout",
     "output_type": "stream",
     "text": [
      "<class 'pandas.core.frame.DataFrame'>\n",
      "Index: 924621 entries, 00000469ba478561f23a92a868bd366de6f6527a684c9a2e78fb826dcac3b9b7 to fffffa7cf7e453e1acc6a1426475d5cb9400859f82ff61cceb803ea8ec37634d\n",
      "Columns: 751 entries, record to P_B_ratio\n",
      "dtypes: float16(494), float64(245), int64(12)\n",
      "memory usage: 2.6+ GB\n"
     ]
    }
   ],
   "source": [
    "test_.info()"
   ]
  },
  {
   "cell_type": "code",
   "execution_count": 26,
   "id": "9e70d1b9",
   "metadata": {
    "execution": {
     "iopub.execute_input": "2022-06-19T10:29:35.296702Z",
     "iopub.status.busy": "2022-06-19T10:29:35.296338Z",
     "iopub.status.idle": "2022-06-19T10:29:37.840854Z",
     "shell.execute_reply": "2022-06-19T10:29:37.839869Z"
    },
    "papermill": {
     "duration": 2.583405,
     "end_time": "2022-06-19T10:29:37.843311",
     "exception": false,
     "start_time": "2022-06-19T10:29:35.259906",
     "status": "completed"
    },
    "tags": []
   },
   "outputs": [],
   "source": [
    "shy_cat_ = pd.read_pickle('../input/cat-feature/shy_test.pkl')\n",
    "# shy_cat_.fillna(0,inplace=True)\n",
    "test_ = pd.concat([test_,shy_cat_],axis=1)"
   ]
  },
  {
   "cell_type": "code",
   "execution_count": 27,
   "id": "f2b346a7",
   "metadata": {
    "execution": {
     "iopub.execute_input": "2022-06-19T10:29:37.915123Z",
     "iopub.status.busy": "2022-06-19T10:29:37.914767Z",
     "iopub.status.idle": "2022-06-19T10:29:38.080159Z",
     "shell.execute_reply": "2022-06-19T10:29:38.079224Z"
    },
    "papermill": {
     "duration": 0.203992,
     "end_time": "2022-06-19T10:29:38.082515",
     "exception": false,
     "start_time": "2022-06-19T10:29:37.878523",
     "status": "completed"
    },
    "tags": []
   },
   "outputs": [
    {
     "data": {
      "text/plain": [
       "21"
      ]
     },
     "execution_count": 27,
     "metadata": {},
     "output_type": "execute_result"
    }
   ],
   "source": [
    "del shy_cat_\n",
    "gc.collect()"
   ]
  },
  {
   "cell_type": "code",
   "execution_count": 28,
   "id": "2b67c361",
   "metadata": {
    "execution": {
     "iopub.execute_input": "2022-06-19T10:29:38.153767Z",
     "iopub.status.busy": "2022-06-19T10:29:38.153343Z",
     "iopub.status.idle": "2022-06-19T10:29:38.203602Z",
     "shell.execute_reply": "2022-06-19T10:29:38.202446Z"
    },
    "papermill": {
     "duration": 0.088733,
     "end_time": "2022-06-19T10:29:38.206094",
     "exception": false,
     "start_time": "2022-06-19T10:29:38.117361",
     "status": "completed"
    },
    "tags": []
   },
   "outputs": [
    {
     "name": "stdout",
     "output_type": "stream",
     "text": [
      "<class 'pandas.core.frame.DataFrame'>\n",
      "Index: 924621 entries, 00000469ba478561f23a92a868bd366de6f6527a684c9a2e78fb826dcac3b9b7 to fffffa7cf7e453e1acc6a1426475d5cb9400859f82ff61cceb803ea8ec37634d\n",
      "Columns: 763 entries, record to datefunc1\n",
      "dtypes: float16(506), float64(245), int64(12)\n",
      "memory usage: 2.6+ GB\n"
     ]
    }
   ],
   "source": [
    "test_.info()"
   ]
  },
  {
   "cell_type": "code",
   "execution_count": 29,
   "id": "b99eaaa1",
   "metadata": {
    "execution": {
     "iopub.execute_input": "2022-06-19T10:29:38.278595Z",
     "iopub.status.busy": "2022-06-19T10:29:38.278192Z",
     "iopub.status.idle": "2022-06-19T10:29:42.392972Z",
     "shell.execute_reply": "2022-06-19T10:29:42.391960Z"
    },
    "papermill": {
     "duration": 4.153567,
     "end_time": "2022-06-19T10:29:42.395348",
     "exception": false,
     "start_time": "2022-06-19T10:29:38.241781",
     "status": "completed"
    },
    "tags": []
   },
   "outputs": [],
   "source": [
    "test_= test_.reset_index()\n",
    "id_ = test_.pop('customer_ID')"
   ]
  },
  {
   "cell_type": "code",
   "execution_count": 30,
   "id": "26070edc",
   "metadata": {
    "execution": {
     "iopub.execute_input": "2022-06-19T10:29:42.468173Z",
     "iopub.status.busy": "2022-06-19T10:29:42.467140Z",
     "iopub.status.idle": "2022-06-19T10:29:48.285261Z",
     "shell.execute_reply": "2022-06-19T10:29:48.282262Z"
    },
    "papermill": {
     "duration": 5.860391,
     "end_time": "2022-06-19T10:29:48.290885",
     "exception": false,
     "start_time": "2022-06-19T10:29:42.430494",
     "status": "completed"
    },
    "tags": []
   },
   "outputs": [],
   "source": [
    "test_ = test_.iloc[:,selected1]"
   ]
  },
  {
   "cell_type": "code",
   "execution_count": 31,
   "id": "19dcfaa8",
   "metadata": {
    "execution": {
     "iopub.execute_input": "2022-06-19T10:29:48.389758Z",
     "iopub.status.busy": "2022-06-19T10:29:48.388822Z",
     "iopub.status.idle": "2022-06-19T10:29:48.424520Z",
     "shell.execute_reply": "2022-06-19T10:29:48.423709Z"
    },
    "papermill": {
     "duration": 0.096674,
     "end_time": "2022-06-19T10:29:48.427330",
     "exception": false,
     "start_time": "2022-06-19T10:29:48.330656",
     "status": "completed"
    },
    "tags": []
   },
   "outputs": [
    {
     "name": "stdout",
     "output_type": "stream",
     "text": [
      "<class 'pandas.core.frame.DataFrame'>\n",
      "RangeIndex: 924621 entries, 0 to 924620\n",
      "Columns: 463 entries, P_2 to datefunc1\n",
      "dtypes: float16(344), float64(119)\n",
      "memory usage: 1.4 GB\n"
     ]
    }
   ],
   "source": [
    "test_.info()"
   ]
  },
  {
   "cell_type": "code",
   "execution_count": 32,
   "id": "2bb06278",
   "metadata": {
    "execution": {
     "iopub.execute_input": "2022-06-19T10:29:48.514436Z",
     "iopub.status.busy": "2022-06-19T10:29:48.513818Z",
     "iopub.status.idle": "2022-06-19T10:40:39.460297Z",
     "shell.execute_reply": "2022-06-19T10:40:39.459168Z"
    },
    "papermill": {
     "duration": 650.991441,
     "end_time": "2022-06-19T10:40:39.462808",
     "exception": false,
     "start_time": "2022-06-19T10:29:48.471367",
     "status": "completed"
    },
    "tags": []
   },
   "outputs": [],
   "source": [
    "result = []\n",
    "for _ in blended:\n",
    "    for i in _:\n",
    "        \n",
    "        result.append(np.mean(np.array([i[0].predict_proba(test_)[:,1],i[1].predict_proba(test_)[:,1]]),axis=0))"
   ]
  },
  {
   "cell_type": "code",
   "execution_count": 33,
   "id": "499db0e4",
   "metadata": {
    "execution": {
     "iopub.execute_input": "2022-06-19T10:40:39.534478Z",
     "iopub.status.busy": "2022-06-19T10:40:39.534091Z",
     "iopub.status.idle": "2022-06-19T10:40:39.565962Z",
     "shell.execute_reply": "2022-06-19T10:40:39.565033Z"
    },
    "papermill": {
     "duration": 0.069062,
     "end_time": "2022-06-19T10:40:39.568380",
     "exception": false,
     "start_time": "2022-06-19T10:40:39.499318",
     "status": "completed"
    },
    "tags": []
   },
   "outputs": [],
   "source": [
    "temp = np.array(result)"
   ]
  },
  {
   "cell_type": "code",
   "execution_count": 34,
   "id": "36ad6046",
   "metadata": {
    "execution": {
     "iopub.execute_input": "2022-06-19T10:40:39.639391Z",
     "iopub.status.busy": "2022-06-19T10:40:39.638996Z",
     "iopub.status.idle": "2022-06-19T10:40:39.642538Z",
     "shell.execute_reply": "2022-06-19T10:40:39.641957Z"
    },
    "papermill": {
     "duration": 0.040848,
     "end_time": "2022-06-19T10:40:39.644292",
     "exception": false,
     "start_time": "2022-06-19T10:40:39.603444",
     "status": "completed"
    },
    "tags": []
   },
   "outputs": [],
   "source": [
    "# temp = np.where(temp<0.5, np.square(temp), temp)"
   ]
  },
  {
   "cell_type": "code",
   "execution_count": 35,
   "id": "f67607d7",
   "metadata": {
    "execution": {
     "iopub.execute_input": "2022-06-19T10:40:39.715021Z",
     "iopub.status.busy": "2022-06-19T10:40:39.714345Z",
     "iopub.status.idle": "2022-06-19T10:40:39.737584Z",
     "shell.execute_reply": "2022-06-19T10:40:39.736789Z"
    },
    "papermill": {
     "duration": 0.060592,
     "end_time": "2022-06-19T10:40:39.739468",
     "exception": false,
     "start_time": "2022-06-19T10:40:39.678876",
     "status": "completed"
    },
    "tags": []
   },
   "outputs": [
    {
     "data": {
      "text/plain": [
       "array([0.01568916, 0.00066584, 0.03059652, ..., 0.50326278, 0.28254606,\n",
       "       0.03016173])"
      ]
     },
     "execution_count": 35,
     "metadata": {},
     "output_type": "execute_result"
    }
   ],
   "source": [
    "np.mean(temp,axis=0)"
   ]
  },
  {
   "cell_type": "code",
   "execution_count": 36,
   "id": "512435a3",
   "metadata": {
    "execution": {
     "iopub.execute_input": "2022-06-19T10:40:39.809463Z",
     "iopub.status.busy": "2022-06-19T10:40:39.809082Z",
     "iopub.status.idle": "2022-06-19T10:40:45.209670Z",
     "shell.execute_reply": "2022-06-19T10:40:45.208868Z"
    },
    "papermill": {
     "duration": 5.437866,
     "end_time": "2022-06-19T10:40:45.211972",
     "exception": false,
     "start_time": "2022-06-19T10:40:39.774106",
     "status": "completed"
    },
    "tags": []
   },
   "outputs": [],
   "source": [
    "submission = pd.DataFrame({'customer_ID':id_,'prediction':np.mean(temp,axis=0)})\n",
    "submission.to_csv('submission.csv',index=False)"
   ]
  },
  {
   "cell_type": "code",
   "execution_count": null,
   "id": "dbc96bcc",
   "metadata": {
    "papermill": {
     "duration": 0.034392,
     "end_time": "2022-06-19T10:40:45.281568",
     "exception": false,
     "start_time": "2022-06-19T10:40:45.247176",
     "status": "completed"
    },
    "tags": []
   },
   "outputs": [],
   "source": []
  }
 ],
 "metadata": {
  "kernelspec": {
   "display_name": "Python 3",
   "language": "python",
   "name": "python3"
  },
  "language_info": {
   "codemirror_mode": {
    "name": "ipython",
    "version": 3
   },
   "file_extension": ".py",
   "mimetype": "text/x-python",
   "name": "python",
   "nbconvert_exporter": "python",
   "pygments_lexer": "ipython3",
   "version": "3.7.12"
  },
  "papermill": {
   "default_parameters": {},
   "duration": 18218.333051,
   "end_time": "2022-06-19T10:40:47.022647",
   "environment_variables": {},
   "exception": null,
   "input_path": "__notebook__.ipynb",
   "output_path": "__notebook__.ipynb",
   "parameters": {},
   "start_time": "2022-06-19T05:37:08.689596",
   "version": "2.3.4"
  }
 },
 "nbformat": 4,
 "nbformat_minor": 5
}
