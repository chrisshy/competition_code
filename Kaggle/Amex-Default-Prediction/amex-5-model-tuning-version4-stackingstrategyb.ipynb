{
 "cells": [
  {
   "cell_type": "code",
   "execution_count": 1,
   "id": "13b50bc4",
   "metadata": {
    "_cell_guid": "b1076dfc-b9ad-4769-8c92-a6c4dae69d19",
    "_uuid": "8f2839f25d086af736a60e9eeb907d3b93b6e0e5",
    "execution": {
     "iopub.execute_input": "2022-07-14T10:01:32.259731Z",
     "iopub.status.busy": "2022-07-14T10:01:32.258725Z",
     "iopub.status.idle": "2022-07-14T10:01:34.676343Z",
     "shell.execute_reply": "2022-07-14T10:01:34.675168Z"
    },
    "papermill": {
     "duration": 2.430221,
     "end_time": "2022-07-14T10:01:34.679480",
     "exception": false,
     "start_time": "2022-07-14T10:01:32.249259",
     "status": "completed"
    },
    "tags": []
   },
   "outputs": [
    {
     "data": {
      "text/html": [
       "<style type='text/css'>\n",
       ".datatable table.frame { margin-bottom: 0; }\n",
       ".datatable table.frame thead { border-bottom: none; }\n",
       ".datatable table.frame tr.coltypes td {  color: #FFFFFF;  line-height: 6px;  padding: 0 0.5em;}\n",
       ".datatable .bool    { background: #DDDD99; }\n",
       ".datatable .object  { background: #565656; }\n",
       ".datatable .int     { background: #5D9E5D; }\n",
       ".datatable .float   { background: #4040CC; }\n",
       ".datatable .str     { background: #CC4040; }\n",
       ".datatable .time    { background: #40CC40; }\n",
       ".datatable .row_index {  background: var(--jp-border-color3);  border-right: 1px solid var(--jp-border-color0);  color: var(--jp-ui-font-color3);  font-size: 9px;}\n",
       ".datatable .frame tbody td { text-align: left; }\n",
       ".datatable .frame tr.coltypes .row_index {  background: var(--jp-border-color0);}\n",
       ".datatable th:nth-child(2) { padding-left: 12px; }\n",
       ".datatable .hellipsis {  color: var(--jp-cell-editor-border-color);}\n",
       ".datatable .vellipsis {  background: var(--jp-layout-color0);  color: var(--jp-cell-editor-border-color);}\n",
       ".datatable .na {  color: var(--jp-cell-editor-border-color);  font-size: 80%;}\n",
       ".datatable .sp {  opacity: 0.25;}\n",
       ".datatable .footer { font-size: 9px; }\n",
       ".datatable .frame_dimensions {  background: var(--jp-border-color3);  border-top: 1px solid var(--jp-border-color0);  color: var(--jp-ui-font-color3);  display: inline-block;  opacity: 0.6;  padding: 1px 10px 1px 5px;}\n",
       "</style>\n"
      ],
      "text/plain": [
       "<IPython.core.display.HTML object>"
      ]
     },
     "metadata": {},
     "output_type": "display_data"
    }
   ],
   "source": [
    "import numpy as np\n",
    "import pandas as pd\n",
    "import os\n",
    "\n",
    "import gc\n",
    "import matplotlib.pyplot as plt\n",
    "import seaborn as sns\n",
    "from sklearn.naive_bayes import GaussianNB\n",
    "from sklearn.model_selection import KFold, StratifiedKFold\n",
    "import lightgbm as lgb\n",
    "import xgboost as xgb\n",
    "import sklearn"
   ]
  },
  {
   "cell_type": "code",
   "execution_count": 2,
   "id": "539f9210",
   "metadata": {
    "execution": {
     "iopub.execute_input": "2022-07-14T10:01:34.695607Z",
     "iopub.status.busy": "2022-07-14T10:01:34.694522Z",
     "iopub.status.idle": "2022-07-14T10:01:46.002045Z",
     "shell.execute_reply": "2022-07-14T10:01:46.000743Z"
    },
    "papermill": {
     "duration": 11.318078,
     "end_time": "2022-07-14T10:01:46.004970",
     "exception": false,
     "start_time": "2022-07-14T10:01:34.686892",
     "status": "completed"
    },
    "tags": []
   },
   "outputs": [],
   "source": [
    "train = pd.read_pickle('../input/amexlgbselectedfeatures/trainLGBSelected.pkl')\n",
    "# newtrain = pd.read_pickle('../input/amexlgbselectedfeatures/trainLGBSelected2.pkl')\n",
    "trainY = pd.read_pickle('../input/amexshycombinedfeatures/trainY.pkl')"
   ]
  },
  {
   "cell_type": "code",
   "execution_count": 3,
   "id": "794b91bf",
   "metadata": {
    "execution": {
     "iopub.execute_input": "2022-07-14T10:01:46.019962Z",
     "iopub.status.busy": "2022-07-14T10:01:46.019071Z",
     "iopub.status.idle": "2022-07-14T10:01:47.455507Z",
     "shell.execute_reply": "2022-07-14T10:01:47.454160Z"
    },
    "papermill": {
     "duration": 1.447071,
     "end_time": "2022-07-14T10:01:47.458471",
     "exception": false,
     "start_time": "2022-07-14T10:01:46.011400",
     "status": "completed"
    },
    "tags": []
   },
   "outputs": [],
   "source": [
    "folds = StratifiedKFold(n_splits= 10, shuffle=True, random_state=514)\n",
    "result = folds.split(train, trainY)\n",
    "for n_fold, (train_idx, valid_idx) in enumerate(result):\n",
    "    if n_fold == 0:\n",
    "        holdout_x, holdout_y = train.iloc[valid_idx], trainY.iloc[valid_idx]\n",
    "\n",
    "train_idx = [i for i in range(train.shape[0]) if i not in holdout_x.index]"
   ]
  },
  {
   "cell_type": "code",
   "execution_count": 4,
   "id": "8bc4de6f",
   "metadata": {
    "execution": {
     "iopub.execute_input": "2022-07-14T10:01:47.473230Z",
     "iopub.status.busy": "2022-07-14T10:01:47.472741Z",
     "iopub.status.idle": "2022-07-14T10:01:51.373745Z",
     "shell.execute_reply": "2022-07-14T10:01:51.372535Z"
    },
    "papermill": {
     "duration": 3.91173,
     "end_time": "2022-07-14T10:01:51.376642",
     "exception": false,
     "start_time": "2022-07-14T10:01:47.464912",
     "status": "completed"
    },
    "tags": []
   },
   "outputs": [],
   "source": [
    "train = train.iloc[train_idx]\n",
    "trainY = trainY.iloc[train_idx]"
   ]
  },
  {
   "cell_type": "code",
   "execution_count": 5,
   "id": "023188bc",
   "metadata": {
    "execution": {
     "iopub.execute_input": "2022-07-14T10:01:51.392140Z",
     "iopub.status.busy": "2022-07-14T10:01:51.391398Z",
     "iopub.status.idle": "2022-07-14T10:01:51.642027Z",
     "shell.execute_reply": "2022-07-14T10:01:51.640756Z"
    },
    "papermill": {
     "duration": 0.261435,
     "end_time": "2022-07-14T10:01:51.644809",
     "exception": false,
     "start_time": "2022-07-14T10:01:51.383374",
     "status": "completed"
    },
    "tags": []
   },
   "outputs": [],
   "source": [
    "train.index = [i for i in range(train.shape[0])]\n",
    "trainY.index = [i for i in range(train.shape[0])]"
   ]
  },
  {
   "cell_type": "code",
   "execution_count": 6,
   "id": "4834a1b4",
   "metadata": {
    "execution": {
     "iopub.execute_input": "2022-07-14T10:01:51.660262Z",
     "iopub.status.busy": "2022-07-14T10:01:51.659829Z",
     "iopub.status.idle": "2022-07-14T10:01:51.726860Z",
     "shell.execute_reply": "2022-07-14T10:01:51.725020Z"
    },
    "papermill": {
     "duration": 0.078319,
     "end_time": "2022-07-14T10:01:51.729546",
     "exception": false,
     "start_time": "2022-07-14T10:01:51.651227",
     "status": "completed"
    },
    "tags": []
   },
   "outputs": [
    {
     "name": "stdout",
     "output_type": "stream",
     "text": [
      "<class 'pandas.core.frame.DataFrame'>\n",
      "Int64Index: 413021 entries, 0 to 413020\n",
      "Columns: 945 entries, f_2 to f_1827\n",
      "dtypes: float16(944), int64(1)\n",
      "memory usage: 750.0 MB\n"
     ]
    }
   ],
   "source": [
    "train.info()"
   ]
  },
  {
   "cell_type": "code",
   "execution_count": 7,
   "id": "b6d068f9",
   "metadata": {
    "execution": {
     "iopub.execute_input": "2022-07-14T10:01:51.744993Z",
     "iopub.status.busy": "2022-07-14T10:01:51.744530Z",
     "iopub.status.idle": "2022-07-14T10:01:51.764999Z",
     "shell.execute_reply": "2022-07-14T10:01:51.763812Z"
    },
    "papermill": {
     "duration": 0.031126,
     "end_time": "2022-07-14T10:01:51.767285",
     "exception": false,
     "start_time": "2022-07-14T10:01:51.736159",
     "status": "completed"
    },
    "tags": []
   },
   "outputs": [],
   "source": [
    "# model robustness indicator\n",
    "def calc_vdr(pred, actual, vdr_cutoff = 0.2):\n",
    "    # Function to calculate VDR at a given cutoff\n",
    "\n",
    "    df_vdr_train = pd.DataFrame(zip(pred), columns = ['predicted_proba'])\n",
    "    df_vdr_train['actual'] = np.array(actual)\n",
    "    df_vdr_train = df_vdr_train.sort_values(by = 'predicted_proba', ascending = False)\n",
    "    num_bad = df_vdr_train['actual'].sum()\n",
    "    top_20_pct = int(len(df_vdr_train['actual'])*vdr_cutoff)\n",
    "    vdr = df_vdr_train.head(top_20_pct)['actual'].sum()/num_bad\n",
    "    return vdr\n",
    "\n",
    "# evaluation matrix\n",
    "\n",
    "# 4% cutoff measures the true positive rate of the 4% data\n",
    "# positives are given 20x weights\n",
    "# cut_vals   = labels[np.cumsum(weights) <= int(0.04 * np.sum(weights))]\n",
    "# the code above indicates that if we successfully detect more positive cases, we will get less cut_samples\n",
    "# since negative samples have weight of 1, we should have more samples to let cut_vals reach threshold\n",
    "# the top four value equals to the ture positive numbers in cut_vals samples/the number of all true positive samples\n",
    "# therefore, our models should be more sensitive to true positive cases and have a larger true positive rate\n",
    "\n",
    "# gini = 2(ROC-0.5)\n",
    "\n",
    "def amex_metric_mod(y_true, y_pred):\n",
    "\n",
    "    labels     = np.transpose(np.array([y_true, y_pred]))\n",
    "    labels     = labels[labels[:, 1].argsort()[::-1]]\n",
    "    weights    = np.where(labels[:,0]==0, 20, 1)\n",
    "    cut_vals   = labels[np.cumsum(weights) <= int(0.04 * np.sum(weights))]\n",
    "    top_four   = np.sum(cut_vals[:,0]) / np.sum(labels[:,0])\n",
    "    print(f'Top four({len(cut_vals[:,0])} total cases) has {top_four*100}% positives cases being predicted')    \n",
    "\n",
    "    gini = [0,0]\n",
    "    for i in [1,0]:\n",
    "        labels         = np.transpose(np.array([y_true, y_pred]))\n",
    "        labels         = labels[labels[:, i].argsort()[::-1]]\n",
    "        weight         = np.where(labels[:,0]==0, 20, 1)\n",
    "        weight_random  = np.cumsum(weight / np.sum(weight))\n",
    "        total_pos      = np.sum(labels[:, 0] *  weight)\n",
    "        cum_pos_found  = np.cumsum(labels[:, 0] * weight)\n",
    "        lorentz        = cum_pos_found / total_pos\n",
    "        gini[i]        = np.sum((lorentz - weight_random) * weight)\n",
    "    print(f'Gini value is {gini[1]/gini[0]}')\n",
    "    \n",
    "    \n",
    "    return 0.5 * (gini[1]/gini[0] + top_four)\n",
    "\n",
    "# matplotlib\n",
    "def plot_auc(y_test, pred_prob1,pred_prob2,modelname,modelname2):\n",
    "    from sklearn.metrics import roc_curve\n",
    "\n",
    "    # roc curve for models\n",
    "    fpr1, tpr1, thresh1 = roc_curve(y_test, pred_prob1, pos_label=1)\n",
    "    fpr2, tpr2, thresh2 = roc_curve(y_test, pred_prob2, pos_label=1)\n",
    "\n",
    "\n",
    "    # roc curve for tpr = fpr \n",
    "    random_probs = [0 for i in range(len(y_test))]\n",
    "    p_fpr, p_tpr, _ = roc_curve(y_test, random_probs, pos_label=1)\n",
    "\n",
    "    plt.style.use('seaborn')\n",
    "\n",
    "    # plot roc curves\n",
    "    plt.plot(fpr1, tpr1, linestyle='--',color='orange', label=modelname)\n",
    "    plt.plot(fpr2, tpr2, linestyle='--',color='green', label=modelname2)\n",
    "    plt.plot(p_fpr, p_tpr, linestyle='--', color='blue')\n",
    "    # title\n",
    "    plt.title('ROC curve')\n",
    "    # x label\n",
    "    plt.xlabel('False Positive Rate')\n",
    "    # y label\n",
    "    plt.ylabel('True Positive rate')\n",
    "\n",
    "    plt.legend(loc='best')\n",
    "#     plt.savefig('ROC',dpi=)\n",
    "    plt.show()\n",
    "\n",
    "def evaluation(gbm, train_x, valid_x,performanceROC,performanceSCORE):\n",
    "    # lightgbm single model evaluation in cv\n",
    "    # predict the valid dataset in cv\n",
    "    train_score_lgm = gbm.predict_proba(train_x)[:,1]\n",
    "    valid_score_lgm = gbm.predict_proba(valid_x)[:,1]\n",
    "    # get roc score\n",
    "    roc_auc_train = sklearn.metrics.roc_auc_score(train_y, train_score_lgm)\n",
    "    roc_auc_valid = sklearn.metrics.roc_auc_score(valid_y, valid_score_lgm)\n",
    "    # get the provided evaluation metrics of Gini and D score\n",
    "    score_train = amex_metric_mod(train_y, train_score_lgm)\n",
    "    score_valid = amex_metric_mod(valid_y, valid_score_lgm)\n",
    "    # record the above variables\n",
    "    performanceROC.append(roc_auc_valid)\n",
    "    performanceSCORE.append(score_valid)\n",
    "\n",
    "    print('LGB - METRICS')\n",
    "    print('LGB: Train_score: {:.4f} valid_score: {:.4f}'.format(roc_auc_train , roc_auc_valid))\n",
    "    print(f'LGB: train_vdr score: {calc_vdr(train_score_lgm,actual=train_y)}')\n",
    "    print(f'LGB: valid_vdr score: {calc_vdr(valid_score_lgm,actual=valid_y)}')\n",
    "    #joblib.dump(gbm,'./model_shy/lgm'+str(round(sklearn.metrics.roc_auc_score(valid_y, valid_score_lgm),5)).replace('0.','')+'.model')\n",
    "    print('LGB: Train_score: {:.4f} valid_score: {:.4f}'.format(score_train, score_valid))\n"
   ]
  },
  {
   "cell_type": "code",
   "execution_count": 8,
   "id": "3bcc1495",
   "metadata": {
    "execution": {
     "iopub.execute_input": "2022-07-14T10:01:51.782863Z",
     "iopub.status.busy": "2022-07-14T10:01:51.782342Z",
     "iopub.status.idle": "2022-07-14T16:05:16.609098Z",
     "shell.execute_reply": "2022-07-14T16:05:16.607728Z"
    },
    "papermill": {
     "duration": 21804.839356,
     "end_time": "2022-07-14T16:05:16.613209",
     "exception": false,
     "start_time": "2022-07-14T10:01:51.773853",
     "status": "completed"
    },
    "tags": []
   },
   "outputs": [
    {
     "name": "stdout",
     "output_type": "stream",
     "text": [
      "Top four(59476 total cases) has 60.915657580999586% positives cases being predicted\n",
      "Gini value is 0.9069363989744557\n",
      "Top four(14671 total cases) has 59.94202627518818% positives cases being predicted\n",
      "Gini value is 0.9042236024014932\n",
      "LGB - METRICS\n",
      "LGB: Train_score: 0.9535 valid_score: 0.9521\n",
      "LGB: train_vdr score: 0.6606550095843658\n",
      "LGB: valid_vdr score: 0.656926457524896\n",
      "LGB: Train_score: 0.7580 valid_score: 0.7518\n",
      "rf\n"
     ]
    },
    {
     "name": "stderr",
     "output_type": "stream",
     "text": [
      "/opt/conda/lib/python3.7/site-packages/lightgbm/sklearn.py:726: UserWarning: 'early_stopping_rounds' argument is deprecated and will be removed in a future release of LightGBM. Pass 'early_stopping()' callback via 'callbacks' argument instead.\n",
      "  _log_warning(\"'early_stopping_rounds' argument is deprecated and will be removed in a future release of LightGBM. \"\n",
      "/opt/conda/lib/python3.7/site-packages/lightgbm/sklearn.py:736: UserWarning: 'verbose' argument is deprecated and will be removed in a future release of LightGBM. Pass 'log_evaluation()' callback via 'callbacks' argument instead.\n",
      "  _log_warning(\"'verbose' argument is deprecated and will be removed in a future release of LightGBM. \"\n"
     ]
    },
    {
     "name": "stdout",
     "output_type": "stream",
     "text": [
      "[100]\tvalid_0's auc: 0.953886\tvalid_0's binary_logloss: 0.267017\n",
      "[200]\tvalid_0's auc: 0.957161\tvalid_0's binary_logloss: 0.234127\n",
      "[300]\tvalid_0's auc: 0.959028\tvalid_0's binary_logloss: 0.225988\n",
      "[400]\tvalid_0's auc: 0.960146\tvalid_0's binary_logloss: 0.22227\n",
      "[500]\tvalid_0's auc: 0.960813\tvalid_0's binary_logloss: 0.220177\n",
      "[600]\tvalid_0's auc: 0.961258\tvalid_0's binary_logloss: 0.21883\n",
      "[700]\tvalid_0's auc: 0.961526\tvalid_0's binary_logloss: 0.218022\n",
      "[800]\tvalid_0's auc: 0.961733\tvalid_0's binary_logloss: 0.217405\n",
      "[900]\tvalid_0's auc: 0.96188\tvalid_0's binary_logloss: 0.216964\n",
      "[1000]\tvalid_0's auc: 0.961986\tvalid_0's binary_logloss: 0.216652\n",
      "[1100]\tvalid_0's auc: 0.962081\tvalid_0's binary_logloss: 0.216373\n",
      "[1200]\tvalid_0's auc: 0.962142\tvalid_0's binary_logloss: 0.216184\n",
      "[1300]\tvalid_0's auc: 0.962197\tvalid_0's binary_logloss: 0.216025\n",
      "[1400]\tvalid_0's auc: 0.962232\tvalid_0's binary_logloss: 0.215923\n",
      "[1500]\tvalid_0's auc: 0.962259\tvalid_0's binary_logloss: 0.215843\n",
      "[1600]\tvalid_0's auc: 0.962289\tvalid_0's binary_logloss: 0.215757\n",
      "Top four(70345 total cases) has 74.28818551591941% positives cases being predicted\n",
      "Gini value is 0.9447035316895664\n",
      "Top four(16029 total cases) has 66.62770583009959% positives cases being predicted\n",
      "Gini value is 0.9245775569188924\n",
      "LGB - METRICS\n",
      "LGB: Train_score: 0.9724 valid_score: 0.9623\n",
      "LGB: train_vdr score: 0.7082846322876245\n",
      "LGB: valid_vdr score: 0.6816587965776801\n",
      "LGB: Train_score: 0.8438 valid_score: 0.7954\n",
      "gnb\n"
     ]
    },
    {
     "name": "stderr",
     "output_type": "stream",
     "text": [
      "/opt/conda/lib/python3.7/site-packages/xgboost/sklearn.py:797: UserWarning: `eval_metric` in `fit` method is deprecated for better compatibility with scikit-learn, use `eval_metric` in constructor or`set_params` instead.\n",
      "  UserWarning,\n"
     ]
    },
    {
     "name": "stdout",
     "output_type": "stream",
     "text": [
      "[0]\tvalidation_0-aucpr:0.82823\n",
      "[100]\tvalidation_0-aucpr:0.88414\n",
      "[200]\tvalidation_0-aucpr:0.89045\n",
      "[300]\tvalidation_0-aucpr:0.89401\n",
      "[400]\tvalidation_0-aucpr:0.89610\n",
      "[499]\tvalidation_0-aucpr:0.89743\n",
      "Top four(68441 total cases) has 71.94586002150638% positives cases being predicted\n",
      "Gini value is 0.939546269238231\n",
      "Top four(15873 total cases) has 65.85628126607135% positives cases being predicted\n",
      "Gini value is 0.9223647319665962\n",
      "LGB - METRICS\n",
      "LGB: Train_score: 0.9698 valid_score: 0.9612\n",
      "LGB: train_vdr score: 0.6998457150871944\n",
      "LGB: valid_vdr score: 0.6795081583991771\n",
      "LGB: Train_score: 0.8295 valid_score: 0.7905\n",
      "xgbc\n",
      "0:\tlearn: 0.6679651\ttotal: 796ms\tremaining: 15m 54s\n",
      "100:\tlearn: 0.2479415\ttotal: 51.6s\tremaining: 9m 21s\n",
      "200:\tlearn: 0.2321624\ttotal: 1m 41s\tremaining: 8m 23s\n",
      "300:\tlearn: 0.2267492\ttotal: 2m 30s\tremaining: 7m 28s\n",
      "400:\tlearn: 0.2234007\ttotal: 3m 19s\tremaining: 6m 37s\n",
      "500:\tlearn: 0.2208952\ttotal: 4m 10s\tremaining: 5m 49s\n",
      "600:\tlearn: 0.2189173\ttotal: 4m 59s\tremaining: 4m 58s\n",
      "700:\tlearn: 0.2170589\ttotal: 5m 47s\tremaining: 4m 7s\n",
      "800:\tlearn: 0.2153620\ttotal: 6m 36s\tremaining: 3m 17s\n",
      "900:\tlearn: 0.2137956\ttotal: 7m 24s\tremaining: 2m 27s\n",
      "1000:\tlearn: 0.2123816\ttotal: 8m 12s\tremaining: 1m 37s\n",
      "1100:\tlearn: 0.2110558\ttotal: 9m\tremaining: 48.6s\n",
      "1199:\tlearn: 0.2098448\ttotal: 9m 47s\tremaining: 0us\n",
      "Top four(66213 total cases) has 69.20379634391509% positives cases being predicted\n",
      "Gini value is 0.9291208656298044\n",
      "Top four(15970 total cases) has 66.33316190565243% positives cases being predicted\n",
      "Gini value is 0.9228179167473701\n",
      "LGB - METRICS\n",
      "LGB: Train_score: 0.9646 valid_score: 0.9614\n",
      "LGB: train_vdr score: 0.6909158913460189\n",
      "LGB: valid_vdr score: 0.6803964654729067\n",
      "LGB: Train_score: 0.8106 valid_score: 0.7931\n",
      "cat\n"
     ]
    },
    {
     "name": "stderr",
     "output_type": "stream",
     "text": [
      "/opt/conda/lib/python3.7/site-packages/lightgbm/sklearn.py:726: UserWarning: 'early_stopping_rounds' argument is deprecated and will be removed in a future release of LightGBM. Pass 'early_stopping()' callback via 'callbacks' argument instead.\n",
      "  _log_warning(\"'early_stopping_rounds' argument is deprecated and will be removed in a future release of LightGBM. \"\n",
      "/opt/conda/lib/python3.7/site-packages/lightgbm/sklearn.py:736: UserWarning: 'verbose' argument is deprecated and will be removed in a future release of LightGBM. Pass 'log_evaluation()' callback via 'callbacks' argument instead.\n",
      "  _log_warning(\"'verbose' argument is deprecated and will be removed in a future release of LightGBM. \"\n"
     ]
    },
    {
     "name": "stdout",
     "output_type": "stream",
     "text": [
      "[100]\tvalid_0's auc: 0.953877\tvalid_0's binary_logloss: 0.266556\n",
      "[200]\tvalid_0's auc: 0.957196\tvalid_0's binary_logloss: 0.234025\n",
      "[300]\tvalid_0's auc: 0.959094\tvalid_0's binary_logloss: 0.22582\n",
      "[400]\tvalid_0's auc: 0.960174\tvalid_0's binary_logloss: 0.222169\n",
      "[500]\tvalid_0's auc: 0.960855\tvalid_0's binary_logloss: 0.220052\n",
      "[600]\tvalid_0's auc: 0.961304\tvalid_0's binary_logloss: 0.218691\n",
      "[700]\tvalid_0's auc: 0.961599\tvalid_0's binary_logloss: 0.217804\n",
      "[800]\tvalid_0's auc: 0.961809\tvalid_0's binary_logloss: 0.217171\n",
      "[900]\tvalid_0's auc: 0.961953\tvalid_0's binary_logloss: 0.216746\n",
      "[1000]\tvalid_0's auc: 0.962068\tvalid_0's binary_logloss: 0.216403\n",
      "[1100]\tvalid_0's auc: 0.962145\tvalid_0's binary_logloss: 0.216173\n",
      "[1200]\tvalid_0's auc: 0.962211\tvalid_0's binary_logloss: 0.215973\n",
      "[1300]\tvalid_0's auc: 0.962256\tvalid_0's binary_logloss: 0.215833\n",
      "[1400]\tvalid_0's auc: 0.962301\tvalid_0's binary_logloss: 0.215699\n",
      "[1500]\tvalid_0's auc: 0.962347\tvalid_0's binary_logloss: 0.215564\n",
      "Top four(66213 total cases) has 69.20379634391509% positives cases being predicted\n",
      "Gini value is 0.9291208656298044\n",
      "Top four(15970 total cases) has 66.33316190565243% positives cases being predicted\n",
      "Gini value is 0.9228179167473701\n",
      "LGB - METRICS\n",
      "LGB: Train_score: 0.9646 valid_score: 0.9614\n",
      "LGB: train_vdr score: 0.6909158913460189\n",
      "LGB: valid_vdr score: 0.6803964654729067\n",
      "LGB: Train_score: 0.8106 valid_score: 0.7931\n",
      "Top four(59490 total cases) has 60.93202113235775% positives cases being predicted\n",
      "Gini value is 0.907294336510113\n",
      "Top four(14604 total cases) has 59.614755248024686% positives cases being predicted\n",
      "Gini value is 0.9031131051512488\n",
      "LGB - METRICS\n",
      "LGB: Train_score: 0.9536 valid_score: 0.9516\n",
      "LGB: train_vdr score: 0.6611576043760812\n",
      "LGB: valid_vdr score: 0.6570667165365375\n",
      "LGB: Train_score: 0.7583 valid_score: 0.7496\n",
      "rf\n"
     ]
    },
    {
     "name": "stderr",
     "output_type": "stream",
     "text": [
      "/opt/conda/lib/python3.7/site-packages/lightgbm/sklearn.py:726: UserWarning: 'early_stopping_rounds' argument is deprecated and will be removed in a future release of LightGBM. Pass 'early_stopping()' callback via 'callbacks' argument instead.\n",
      "  _log_warning(\"'early_stopping_rounds' argument is deprecated and will be removed in a future release of LightGBM. \"\n",
      "/opt/conda/lib/python3.7/site-packages/lightgbm/sklearn.py:736: UserWarning: 'verbose' argument is deprecated and will be removed in a future release of LightGBM. Pass 'log_evaluation()' callback via 'callbacks' argument instead.\n",
      "  _log_warning(\"'verbose' argument is deprecated and will be removed in a future release of LightGBM. \"\n"
     ]
    },
    {
     "name": "stdout",
     "output_type": "stream",
     "text": [
      "[100]\tvalid_0's auc: 0.95323\tvalid_0's binary_logloss: 0.267677\n",
      "[200]\tvalid_0's auc: 0.956603\tvalid_0's binary_logloss: 0.234984\n",
      "[300]\tvalid_0's auc: 0.958574\tvalid_0's binary_logloss: 0.22679\n",
      "[400]\tvalid_0's auc: 0.959753\tvalid_0's binary_logloss: 0.223017\n",
      "[500]\tvalid_0's auc: 0.960443\tvalid_0's binary_logloss: 0.220919\n",
      "[600]\tvalid_0's auc: 0.960893\tvalid_0's binary_logloss: 0.219559\n",
      "[700]\tvalid_0's auc: 0.961187\tvalid_0's binary_logloss: 0.218681\n",
      "[800]\tvalid_0's auc: 0.961398\tvalid_0's binary_logloss: 0.218059\n",
      "[900]\tvalid_0's auc: 0.961563\tvalid_0's binary_logloss: 0.21759\n",
      "[1000]\tvalid_0's auc: 0.961686\tvalid_0's binary_logloss: 0.217231\n",
      "[1100]\tvalid_0's auc: 0.961775\tvalid_0's binary_logloss: 0.216973\n",
      "[1200]\tvalid_0's auc: 0.961861\tvalid_0's binary_logloss: 0.216734\n",
      "[1300]\tvalid_0's auc: 0.961907\tvalid_0's binary_logloss: 0.216601\n",
      "[1400]\tvalid_0's auc: 0.961952\tvalid_0's binary_logloss: 0.216467\n",
      "[1500]\tvalid_0's auc: 0.961988\tvalid_0's binary_logloss: 0.216371\n",
      "[1600]\tvalid_0's auc: 0.962021\tvalid_0's binary_logloss: 0.216278\n",
      "Top four(70510 total cases) has 74.49039225770255% positives cases being predicted\n",
      "Gini value is 0.9448793321274175\n",
      "Top four(15852 total cases) has 65.75342465753424% positives cases being predicted\n",
      "Gini value is 0.9240442237464481\n",
      "LGB - METRICS\n",
      "LGB: Train_score: 0.9724 valid_score: 0.9620\n",
      "LGB: train_vdr score: 0.709172939361354\n",
      "LGB: valid_vdr score: 0.6790406283603722\n",
      "LGB: Train_score: 0.8449 valid_score: 0.7908\n",
      "gnb\n"
     ]
    },
    {
     "name": "stderr",
     "output_type": "stream",
     "text": [
      "/opt/conda/lib/python3.7/site-packages/xgboost/sklearn.py:797: UserWarning: `eval_metric` in `fit` method is deprecated for better compatibility with scikit-learn, use `eval_metric` in constructor or`set_params` instead.\n",
      "  UserWarning,\n"
     ]
    },
    {
     "name": "stdout",
     "output_type": "stream",
     "text": [
      "[0]\tvalidation_0-aucpr:0.82168\n",
      "[100]\tvalidation_0-aucpr:0.88274\n",
      "[200]\tvalidation_0-aucpr:0.88885\n",
      "[300]\tvalidation_0-aucpr:0.89263\n",
      "[400]\tvalidation_0-aucpr:0.89492\n",
      "[499]\tvalidation_0-aucpr:0.89621\n",
      "Top four(68500 total cases) has 72.01832717752116% positives cases being predicted\n",
      "Gini value is 0.9397821743273065\n",
      "Top four(15778 total cases) has 65.38875122726635% positives cases being predicted\n",
      "Gini value is 0.9213238058515576\n",
      "LGB - METRICS\n",
      "LGB: Train_score: 0.9699 valid_score: 0.9607\n",
      "LGB: train_vdr score: 0.7007340221609238\n",
      "LGB: valid_vdr score: 0.6780120622750012\n",
      "LGB: Train_score: 0.8300 valid_score: 0.7876\n",
      "xgbc\n",
      "0:\tlearn: 0.6674622\ttotal: 537ms\tremaining: 10m 44s\n",
      "100:\tlearn: 0.2475401\ttotal: 53.2s\tremaining: 9m 38s\n",
      "200:\tlearn: 0.2320526\ttotal: 1m 43s\tremaining: 8m 35s\n",
      "300:\tlearn: 0.2265475\ttotal: 2m 34s\tremaining: 7m 41s\n",
      "400:\tlearn: 0.2231946\ttotal: 3m 24s\tremaining: 6m 47s\n",
      "500:\tlearn: 0.2207961\ttotal: 4m 14s\tremaining: 5m 55s\n",
      "600:\tlearn: 0.2187703\ttotal: 5m 4s\tremaining: 5m 3s\n",
      "700:\tlearn: 0.2168658\ttotal: 5m 53s\tremaining: 4m 11s\n",
      "800:\tlearn: 0.2151470\ttotal: 6m 42s\tremaining: 3m 20s\n",
      "900:\tlearn: 0.2135786\ttotal: 7m 32s\tremaining: 2m 30s\n",
      "1000:\tlearn: 0.2121176\ttotal: 8m 26s\tremaining: 1m 40s\n",
      "1100:\tlearn: 0.2108218\ttotal: 9m 26s\tremaining: 50.9s\n",
      "1199:\tlearn: 0.2096050\ttotal: 10m 14s\tremaining: 0us\n",
      "Top four(66275 total cases) has 69.28093880031791% positives cases being predicted\n",
      "Gini value is 0.9293331094376288\n",
      "Top four(15874 total cases) has 65.8609565664594% positives cases being predicted\n",
      "Gini value is 0.9221427653896415\n",
      "LGB - METRICS\n",
      "LGB: Train_score: 0.9647 valid_score: 0.9611\n",
      "LGB: train_vdr score: 0.6911262798634812\n",
      "LGB: valid_vdr score: 0.6794146523914162\n",
      "LGB: Train_score: 0.8111 valid_score: 0.7904\n",
      "cat\n"
     ]
    },
    {
     "name": "stderr",
     "output_type": "stream",
     "text": [
      "/opt/conda/lib/python3.7/site-packages/lightgbm/sklearn.py:726: UserWarning: 'early_stopping_rounds' argument is deprecated and will be removed in a future release of LightGBM. Pass 'early_stopping()' callback via 'callbacks' argument instead.\n",
      "  _log_warning(\"'early_stopping_rounds' argument is deprecated and will be removed in a future release of LightGBM. \"\n",
      "/opt/conda/lib/python3.7/site-packages/lightgbm/sklearn.py:736: UserWarning: 'verbose' argument is deprecated and will be removed in a future release of LightGBM. Pass 'log_evaluation()' callback via 'callbacks' argument instead.\n",
      "  _log_warning(\"'verbose' argument is deprecated and will be removed in a future release of LightGBM. \"\n"
     ]
    },
    {
     "name": "stdout",
     "output_type": "stream",
     "text": [
      "[100]\tvalid_0's auc: 0.953153\tvalid_0's binary_logloss: 0.267337\n",
      "[200]\tvalid_0's auc: 0.956581\tvalid_0's binary_logloss: 0.234976\n",
      "[300]\tvalid_0's auc: 0.958562\tvalid_0's binary_logloss: 0.226758\n",
      "[400]\tvalid_0's auc: 0.959714\tvalid_0's binary_logloss: 0.223064\n",
      "[500]\tvalid_0's auc: 0.960391\tvalid_0's binary_logloss: 0.220986\n",
      "[600]\tvalid_0's auc: 0.960853\tvalid_0's binary_logloss: 0.219604\n",
      "[700]\tvalid_0's auc: 0.961156\tvalid_0's binary_logloss: 0.218701\n",
      "[800]\tvalid_0's auc: 0.961388\tvalid_0's binary_logloss: 0.218036\n",
      "[900]\tvalid_0's auc: 0.961543\tvalid_0's binary_logloss: 0.217582\n",
      "[1000]\tvalid_0's auc: 0.961658\tvalid_0's binary_logloss: 0.217247\n",
      "[1100]\tvalid_0's auc: 0.961731\tvalid_0's binary_logloss: 0.217038\n",
      "[1200]\tvalid_0's auc: 0.961802\tvalid_0's binary_logloss: 0.216834\n",
      "[1300]\tvalid_0's auc: 0.96186\tvalid_0's binary_logloss: 0.216663\n",
      "[1400]\tvalid_0's auc: 0.961905\tvalid_0's binary_logloss: 0.216527\n",
      "[1500]\tvalid_0's auc: 0.961937\tvalid_0's binary_logloss: 0.216436\n",
      "Top four(66275 total cases) has 69.28093880031791% positives cases being predicted\n",
      "Gini value is 0.9293331094376288\n",
      "Top four(15874 total cases) has 65.8609565664594% positives cases being predicted\n",
      "Gini value is 0.9221427653896415\n",
      "LGB - METRICS\n",
      "LGB: Train_score: 0.9647 valid_score: 0.9611\n",
      "LGB: train_vdr score: 0.6911262798634812\n",
      "LGB: valid_vdr score: 0.6794146523914162\n",
      "LGB: Train_score: 0.8111 valid_score: 0.7904\n",
      "Top four(59470 total cases) has 60.90747580532049% positives cases being predicted\n",
      "Gini value is 0.9077737176353894\n",
      "Top four(14646 total cases) has 59.820468465098884% positives cases being predicted\n",
      "Gini value is 0.9008321225515666\n",
      "LGB - METRICS\n",
      "LGB: Train_score: 0.9539 valid_score: 0.9504\n",
      "LGB: train_vdr score: 0.6614731871522745\n",
      "LGB: valid_vdr score: 0.656552433493852\n",
      "LGB: Train_score: 0.7584 valid_score: 0.7495\n",
      "rf\n"
     ]
    },
    {
     "name": "stderr",
     "output_type": "stream",
     "text": [
      "/opt/conda/lib/python3.7/site-packages/lightgbm/sklearn.py:726: UserWarning: 'early_stopping_rounds' argument is deprecated and will be removed in a future release of LightGBM. Pass 'early_stopping()' callback via 'callbacks' argument instead.\n",
      "  _log_warning(\"'early_stopping_rounds' argument is deprecated and will be removed in a future release of LightGBM. \"\n",
      "/opt/conda/lib/python3.7/site-packages/lightgbm/sklearn.py:736: UserWarning: 'verbose' argument is deprecated and will be removed in a future release of LightGBM. Pass 'log_evaluation()' callback via 'callbacks' argument instead.\n",
      "  _log_warning(\"'verbose' argument is deprecated and will be removed in a future release of LightGBM. \"\n"
     ]
    },
    {
     "name": "stdout",
     "output_type": "stream",
     "text": [
      "[100]\tvalid_0's auc: 0.952009\tvalid_0's binary_logloss: 0.269824\n",
      "[200]\tvalid_0's auc: 0.955453\tvalid_0's binary_logloss: 0.237863\n",
      "[300]\tvalid_0's auc: 0.957476\tvalid_0's binary_logloss: 0.229809\n",
      "[400]\tvalid_0's auc: 0.958686\tvalid_0's binary_logloss: 0.226075\n",
      "[500]\tvalid_0's auc: 0.959414\tvalid_0's binary_logloss: 0.223933\n",
      "[600]\tvalid_0's auc: 0.959908\tvalid_0's binary_logloss: 0.222497\n",
      "[700]\tvalid_0's auc: 0.960237\tvalid_0's binary_logloss: 0.221555\n",
      "[800]\tvalid_0's auc: 0.960463\tvalid_0's binary_logloss: 0.220908\n",
      "[900]\tvalid_0's auc: 0.960623\tvalid_0's binary_logloss: 0.220456\n",
      "[1000]\tvalid_0's auc: 0.960745\tvalid_0's binary_logloss: 0.22012\n",
      "[1100]\tvalid_0's auc: 0.960842\tvalid_0's binary_logloss: 0.219847\n",
      "[1200]\tvalid_0's auc: 0.960903\tvalid_0's binary_logloss: 0.219676\n",
      "[1300]\tvalid_0's auc: 0.960949\tvalid_0's binary_logloss: 0.219537\n",
      "[1400]\tvalid_0's auc: 0.960978\tvalid_0's binary_logloss: 0.219455\n",
      "[1500]\tvalid_0's auc: 0.961016\tvalid_0's binary_logloss: 0.219347\n",
      "[1600]\tvalid_0's auc: 0.96105\tvalid_0's binary_logloss: 0.21925\n",
      "Top four(70522 total cases) has 74.50558698396372% positives cases being predicted\n",
      "Gini value is 0.9452568386643111\n",
      "Top four(15903 total cases) has 66.00589087848894% positives cases being predicted\n",
      "Gini value is 0.9220991698302798\n",
      "LGB - METRICS\n",
      "LGB: Train_score: 0.9726 valid_score: 0.9611\n",
      "LGB: train_vdr score: 0.7084716443031465\n",
      "LGB: valid_vdr score: 0.6798821824302211\n",
      "LGB: Train_score: 0.8452 valid_score: 0.7911\n",
      "gnb\n"
     ]
    },
    {
     "name": "stderr",
     "output_type": "stream",
     "text": [
      "/opt/conda/lib/python3.7/site-packages/xgboost/sklearn.py:797: UserWarning: `eval_metric` in `fit` method is deprecated for better compatibility with scikit-learn, use `eval_metric` in constructor or`set_params` instead.\n",
      "  UserWarning,\n"
     ]
    },
    {
     "name": "stdout",
     "output_type": "stream",
     "text": [
      "[0]\tvalidation_0-aucpr:0.82054\n",
      "[100]\tvalidation_0-aucpr:0.88013\n",
      "[200]\tvalidation_0-aucpr:0.88672\n",
      "[300]\tvalidation_0-aucpr:0.89039\n",
      "[400]\tvalidation_0-aucpr:0.89268\n",
      "[499]\tvalidation_0-aucpr:0.89387\n",
      "Top four(68494 total cases) has 72.01014540184207% positives cases being predicted\n",
      "Gini value is 0.9401536173529438\n",
      "Top four(15729 total cases) has 65.15031090747581% positives cases being predicted\n",
      "Gini value is 0.9193305997693909\n",
      "LGB - METRICS\n",
      "LGB: Train_score: 0.9701 valid_score: 0.9597\n",
      "LGB: train_vdr score: 0.7005002571415213\n",
      "LGB: valid_vdr score: 0.6781523212866427\n",
      "LGB: Train_score: 0.8301 valid_score: 0.7854\n",
      "xgbc\n",
      "0:\tlearn: 0.6674637\ttotal: 518ms\tremaining: 10m 21s\n",
      "100:\tlearn: 0.2468902\ttotal: 52.2s\tremaining: 9m 28s\n",
      "200:\tlearn: 0.2310897\ttotal: 1m 43s\tremaining: 8m 33s\n",
      "300:\tlearn: 0.2258067\ttotal: 2m 33s\tremaining: 7m 38s\n",
      "400:\tlearn: 0.2224630\ttotal: 3m 24s\tremaining: 6m 46s\n",
      "500:\tlearn: 0.2200460\ttotal: 4m 13s\tremaining: 5m 54s\n",
      "600:\tlearn: 0.2180007\ttotal: 5m 7s\tremaining: 5m 6s\n",
      "700:\tlearn: 0.2160789\ttotal: 5m 57s\tremaining: 4m 14s\n",
      "800:\tlearn: 0.2143392\ttotal: 6m 46s\tremaining: 3m 22s\n",
      "900:\tlearn: 0.2128098\ttotal: 7m 35s\tremaining: 2m 31s\n",
      "1000:\tlearn: 0.2114256\ttotal: 8m 24s\tremaining: 1m 40s\n",
      "1100:\tlearn: 0.2101525\ttotal: 9m 25s\tremaining: 50.8s\n",
      "1199:\tlearn: 0.2088804\ttotal: 10m 12s\tremaining: 0us\n",
      "Top four(66300 total cases) has 69.31132825284024% positives cases being predicted\n",
      "Gini value is 0.929786623285745\n",
      "Top four(15817 total cases) has 65.58511384356444% positives cases being predicted\n",
      "Gini value is 0.919820612940071\n",
      "LGB - METRICS\n",
      "LGB: Train_score: 0.9649 valid_score: 0.9599\n",
      "LGB: train_vdr score: 0.6912665388751227\n",
      "LGB: valid_vdr score: 0.6780120622750012\n",
      "LGB: Train_score: 0.8114 valid_score: 0.7878\n",
      "cat\n"
     ]
    },
    {
     "name": "stderr",
     "output_type": "stream",
     "text": [
      "/opt/conda/lib/python3.7/site-packages/lightgbm/sklearn.py:726: UserWarning: 'early_stopping_rounds' argument is deprecated and will be removed in a future release of LightGBM. Pass 'early_stopping()' callback via 'callbacks' argument instead.\n",
      "  _log_warning(\"'early_stopping_rounds' argument is deprecated and will be removed in a future release of LightGBM. \"\n",
      "/opt/conda/lib/python3.7/site-packages/lightgbm/sklearn.py:736: UserWarning: 'verbose' argument is deprecated and will be removed in a future release of LightGBM. Pass 'log_evaluation()' callback via 'callbacks' argument instead.\n",
      "  _log_warning(\"'verbose' argument is deprecated and will be removed in a future release of LightGBM. \"\n"
     ]
    },
    {
     "name": "stdout",
     "output_type": "stream",
     "text": [
      "[100]\tvalid_0's auc: 0.951845\tvalid_0's binary_logloss: 0.269694\n",
      "[200]\tvalid_0's auc: 0.95543\tvalid_0's binary_logloss: 0.237917\n",
      "[300]\tvalid_0's auc: 0.957458\tvalid_0's binary_logloss: 0.22985\n",
      "[400]\tvalid_0's auc: 0.958663\tvalid_0's binary_logloss: 0.226129\n",
      "[500]\tvalid_0's auc: 0.959369\tvalid_0's binary_logloss: 0.224037\n",
      "[600]\tvalid_0's auc: 0.959862\tvalid_0's binary_logloss: 0.222613\n",
      "[700]\tvalid_0's auc: 0.960166\tvalid_0's binary_logloss: 0.221736\n",
      "[800]\tvalid_0's auc: 0.960394\tvalid_0's binary_logloss: 0.221087\n",
      "[900]\tvalid_0's auc: 0.960542\tvalid_0's binary_logloss: 0.220672\n",
      "[1000]\tvalid_0's auc: 0.96066\tvalid_0's binary_logloss: 0.220332\n",
      "[1100]\tvalid_0's auc: 0.960745\tvalid_0's binary_logloss: 0.220088\n",
      "[1200]\tvalid_0's auc: 0.960815\tvalid_0's binary_logloss: 0.219895\n",
      "[1300]\tvalid_0's auc: 0.960868\tvalid_0's binary_logloss: 0.21975\n",
      "[1400]\tvalid_0's auc: 0.960905\tvalid_0's binary_logloss: 0.219643\n",
      "[1500]\tvalid_0's auc: 0.960941\tvalid_0's binary_logloss: 0.219536\n",
      "Top four(66300 total cases) has 69.31132825284024% positives cases being predicted\n",
      "Gini value is 0.929786623285745\n",
      "Top four(15817 total cases) has 65.58511384356444% positives cases being predicted\n",
      "Gini value is 0.919820612940071\n",
      "LGB - METRICS\n",
      "LGB: Train_score: 0.9649 valid_score: 0.9599\n",
      "LGB: train_vdr score: 0.6912665388751227\n",
      "LGB: valid_vdr score: 0.6780120622750012\n",
      "LGB: Train_score: 0.8114 valid_score: 0.7878\n",
      "Top four(59633 total cases) has 61.10851372200664% positives cases being predicted\n",
      "Gini value is 0.9076391598688047\n",
      "Top four(14509 total cases) has 59.14722520921969% positives cases being predicted\n",
      "Gini value is 0.902467125582785\n",
      "LGB - METRICS\n",
      "LGB: Train_score: 0.9538 valid_score: 0.9512\n",
      "LGB: train_vdr score: 0.6619874701949601\n",
      "LGB: valid_vdr score: 0.6550095843657955\n",
      "LGB: Train_score: 0.7594 valid_score: 0.7470\n",
      "rf\n"
     ]
    },
    {
     "name": "stderr",
     "output_type": "stream",
     "text": [
      "/opt/conda/lib/python3.7/site-packages/lightgbm/sklearn.py:726: UserWarning: 'early_stopping_rounds' argument is deprecated and will be removed in a future release of LightGBM. Pass 'early_stopping()' callback via 'callbacks' argument instead.\n",
      "  _log_warning(\"'early_stopping_rounds' argument is deprecated and will be removed in a future release of LightGBM. \"\n",
      "/opt/conda/lib/python3.7/site-packages/lightgbm/sklearn.py:736: UserWarning: 'verbose' argument is deprecated and will be removed in a future release of LightGBM. Pass 'log_evaluation()' callback via 'callbacks' argument instead.\n",
      "  _log_warning(\"'verbose' argument is deprecated and will be removed in a future release of LightGBM. \"\n"
     ]
    },
    {
     "name": "stdout",
     "output_type": "stream",
     "text": [
      "[100]\tvalid_0's auc: 0.952854\tvalid_0's binary_logloss: 0.268259\n",
      "[200]\tvalid_0's auc: 0.95615\tvalid_0's binary_logloss: 0.235957\n",
      "[300]\tvalid_0's auc: 0.958029\tvalid_0's binary_logloss: 0.228113\n",
      "[400]\tvalid_0's auc: 0.95916\tvalid_0's binary_logloss: 0.224534\n",
      "[500]\tvalid_0's auc: 0.959818\tvalid_0's binary_logloss: 0.222559\n",
      "[600]\tvalid_0's auc: 0.960283\tvalid_0's binary_logloss: 0.221214\n",
      "[700]\tvalid_0's auc: 0.960611\tvalid_0's binary_logloss: 0.220281\n",
      "[800]\tvalid_0's auc: 0.960827\tvalid_0's binary_logloss: 0.219668\n",
      "[900]\tvalid_0's auc: 0.960987\tvalid_0's binary_logloss: 0.219213\n",
      "[1000]\tvalid_0's auc: 0.961102\tvalid_0's binary_logloss: 0.218882\n",
      "[1100]\tvalid_0's auc: 0.961183\tvalid_0's binary_logloss: 0.218649\n",
      "[1200]\tvalid_0's auc: 0.961249\tvalid_0's binary_logloss: 0.218465\n",
      "[1300]\tvalid_0's auc: 0.961301\tvalid_0's binary_logloss: 0.218322\n",
      "[1400]\tvalid_0's auc: 0.96134\tvalid_0's binary_logloss: 0.218209\n",
      "[1500]\tvalid_0's auc: 0.961365\tvalid_0's binary_logloss: 0.21814\n",
      "[1600]\tvalid_0's auc: 0.961384\tvalid_0's binary_logloss: 0.218084\n",
      "Top four(70572 total cases) has 74.56753471410538% positives cases being predicted\n",
      "Gini value is 0.9452743272158304\n",
      "Top four(15817 total cases) has 65.5804385431764% positives cases being predicted\n",
      "Gini value is 0.9227670006417966\n",
      "LGB - METRICS\n",
      "LGB: Train_score: 0.9726 valid_score: 0.9614\n",
      "LGB: train_vdr score: 0.7092430688671747\n",
      "LGB: valid_vdr score: 0.6773107672167937\n",
      "LGB: Train_score: 0.8455 valid_score: 0.7893\n",
      "gnb\n"
     ]
    },
    {
     "name": "stderr",
     "output_type": "stream",
     "text": [
      "/opt/conda/lib/python3.7/site-packages/xgboost/sklearn.py:797: UserWarning: `eval_metric` in `fit` method is deprecated for better compatibility with scikit-learn, use `eval_metric` in constructor or`set_params` instead.\n",
      "  UserWarning,\n"
     ]
    },
    {
     "name": "stdout",
     "output_type": "stream",
     "text": [
      "[0]\tvalidation_0-aucpr:0.82691\n",
      "[100]\tvalidation_0-aucpr:0.88079\n",
      "[200]\tvalidation_0-aucpr:0.88697\n",
      "[300]\tvalidation_0-aucpr:0.89102\n",
      "[400]\tvalidation_0-aucpr:0.89297\n",
      "[499]\tvalidation_0-aucpr:0.89426\n",
      "Top four(68610 total cases) has 72.1527420636776% positives cases being predicted\n",
      "Gini value is 0.9397988890085593\n",
      "Top four(15665 total cases) has 64.83239048108841% positives cases being predicted\n",
      "Gini value is 0.9199314073728462\n",
      "LGB - METRICS\n",
      "LGB: Train_score: 0.9699 valid_score: 0.9600\n",
      "LGB: train_vdr score: 0.7009444106783861\n",
      "LGB: valid_vdr score: 0.6759549301042592\n",
      "LGB: Train_score: 0.8307 valid_score: 0.7841\n",
      "xgbc\n",
      "0:\tlearn: 0.6681422\ttotal: 504ms\tremaining: 10m 4s\n",
      "100:\tlearn: 0.2472630\ttotal: 52.7s\tremaining: 9m 33s\n",
      "200:\tlearn: 0.2315468\ttotal: 1m 43s\tremaining: 8m 32s\n",
      "300:\tlearn: 0.2260606\ttotal: 2m 33s\tremaining: 7m 37s\n",
      "400:\tlearn: 0.2226785\ttotal: 3m 23s\tremaining: 6m 45s\n",
      "500:\tlearn: 0.2201235\ttotal: 4m 15s\tremaining: 5m 56s\n",
      "600:\tlearn: 0.2180342\ttotal: 5m 5s\tremaining: 5m 4s\n",
      "700:\tlearn: 0.2162126\ttotal: 5m 54s\tremaining: 4m 12s\n",
      "800:\tlearn: 0.2144892\ttotal: 6m 43s\tremaining: 3m 21s\n",
      "900:\tlearn: 0.2129240\ttotal: 7m 33s\tremaining: 2m 30s\n",
      "1000:\tlearn: 0.2115072\ttotal: 8m 24s\tremaining: 1m 40s\n",
      "1100:\tlearn: 0.2102133\ttotal: 9m 26s\tremaining: 51s\n",
      "1199:\tlearn: 0.2090259\ttotal: 10m 15s\tremaining: 0us\n",
      "Top four(66378 total cases) has 69.40717191079527% positives cases being predicted\n",
      "Gini value is 0.9297089324773228\n",
      "Top four(15741 total cases) has 65.2064145121324% positives cases being predicted\n",
      "Gini value is 0.9207125408129464\n",
      "LGB - METRICS\n",
      "LGB: Train_score: 0.9649 valid_score: 0.9604\n",
      "LGB: train_vdr score: 0.6917340689139277\n",
      "LGB: valid_vdr score: 0.6768432371779887\n",
      "LGB: Train_score: 0.8119 valid_score: 0.7864\n",
      "cat\n"
     ]
    },
    {
     "name": "stderr",
     "output_type": "stream",
     "text": [
      "/opt/conda/lib/python3.7/site-packages/lightgbm/sklearn.py:726: UserWarning: 'early_stopping_rounds' argument is deprecated and will be removed in a future release of LightGBM. Pass 'early_stopping()' callback via 'callbacks' argument instead.\n",
      "  _log_warning(\"'early_stopping_rounds' argument is deprecated and will be removed in a future release of LightGBM. \"\n",
      "/opt/conda/lib/python3.7/site-packages/lightgbm/sklearn.py:736: UserWarning: 'verbose' argument is deprecated and will be removed in a future release of LightGBM. Pass 'log_evaluation()' callback via 'callbacks' argument instead.\n",
      "  _log_warning(\"'verbose' argument is deprecated and will be removed in a future release of LightGBM. \"\n"
     ]
    },
    {
     "name": "stdout",
     "output_type": "stream",
     "text": [
      "[100]\tvalid_0's auc: 0.95274\tvalid_0's binary_logloss: 0.268083\n",
      "[200]\tvalid_0's auc: 0.956054\tvalid_0's binary_logloss: 0.23609\n",
      "[300]\tvalid_0's auc: 0.957978\tvalid_0's binary_logloss: 0.228216\n",
      "[400]\tvalid_0's auc: 0.959089\tvalid_0's binary_logloss: 0.224695\n",
      "[500]\tvalid_0's auc: 0.959802\tvalid_0's binary_logloss: 0.222586\n",
      "[600]\tvalid_0's auc: 0.960267\tvalid_0's binary_logloss: 0.221244\n",
      "[700]\tvalid_0's auc: 0.960555\tvalid_0's binary_logloss: 0.220414\n",
      "[800]\tvalid_0's auc: 0.960779\tvalid_0's binary_logloss: 0.219776\n",
      "[900]\tvalid_0's auc: 0.960931\tvalid_0's binary_logloss: 0.219345\n",
      "[1000]\tvalid_0's auc: 0.961043\tvalid_0's binary_logloss: 0.219023\n",
      "[1100]\tvalid_0's auc: 0.961099\tvalid_0's binary_logloss: 0.218852\n",
      "[1200]\tvalid_0's auc: 0.961166\tvalid_0's binary_logloss: 0.218665\n",
      "[1300]\tvalid_0's auc: 0.961204\tvalid_0's binary_logloss: 0.218546\n",
      "[1400]\tvalid_0's auc: 0.961243\tvalid_0's binary_logloss: 0.218436\n",
      "[1500]\tvalid_0's auc: 0.961271\tvalid_0's binary_logloss: 0.218358\n",
      "Top four(66378 total cases) has 69.40717191079527% positives cases being predicted\n",
      "Gini value is 0.9297089324773228\n",
      "Top four(15741 total cases) has 65.2064145121324% positives cases being predicted\n",
      "Gini value is 0.9207125408129464\n",
      "LGB - METRICS\n",
      "LGB: Train_score: 0.9649 valid_score: 0.9604\n",
      "LGB: train_vdr score: 0.6917340689139277\n",
      "LGB: valid_vdr score: 0.6768432371779887\n",
      "LGB: Train_score: 0.8119 valid_score: 0.7864\n",
      "Top four(59578 total cases) has 61.04072186637991% positives cases being predicted\n",
      "Gini value is 0.9075146846599224\n",
      "Top four(14583 total cases) has 59.51189863948759% positives cases being predicted\n",
      "Gini value is 0.902013068819666\n",
      "LGB - METRICS\n",
      "LGB: Train_score: 0.9538 valid_score: 0.9510\n",
      "LGB: train_vdr score: 0.6613679928935434\n",
      "LGB: valid_vdr score: 0.6551030903735565\n",
      "LGB: Train_score: 0.7590 valid_score: 0.7486\n",
      "rf\n"
     ]
    },
    {
     "name": "stderr",
     "output_type": "stream",
     "text": [
      "/opt/conda/lib/python3.7/site-packages/lightgbm/sklearn.py:726: UserWarning: 'early_stopping_rounds' argument is deprecated and will be removed in a future release of LightGBM. Pass 'early_stopping()' callback via 'callbacks' argument instead.\n",
      "  _log_warning(\"'early_stopping_rounds' argument is deprecated and will be removed in a future release of LightGBM. \"\n",
      "/opt/conda/lib/python3.7/site-packages/lightgbm/sklearn.py:736: UserWarning: 'verbose' argument is deprecated and will be removed in a future release of LightGBM. Pass 'log_evaluation()' callback via 'callbacks' argument instead.\n",
      "  _log_warning(\"'verbose' argument is deprecated and will be removed in a future release of LightGBM. \"\n"
     ]
    },
    {
     "name": "stdout",
     "output_type": "stream",
     "text": [
      "[100]\tvalid_0's auc: 0.952712\tvalid_0's binary_logloss: 0.268451\n",
      "[200]\tvalid_0's auc: 0.956008\tvalid_0's binary_logloss: 0.236372\n",
      "[300]\tvalid_0's auc: 0.958019\tvalid_0's binary_logloss: 0.228242\n",
      "[400]\tvalid_0's auc: 0.959184\tvalid_0's binary_logloss: 0.224591\n",
      "[500]\tvalid_0's auc: 0.959876\tvalid_0's binary_logloss: 0.222508\n",
      "[600]\tvalid_0's auc: 0.960311\tvalid_0's binary_logloss: 0.221205\n",
      "[700]\tvalid_0's auc: 0.960624\tvalid_0's binary_logloss: 0.220299\n",
      "[800]\tvalid_0's auc: 0.960833\tvalid_0's binary_logloss: 0.219698\n",
      "[900]\tvalid_0's auc: 0.961006\tvalid_0's binary_logloss: 0.219213\n",
      "[1000]\tvalid_0's auc: 0.961131\tvalid_0's binary_logloss: 0.218857\n",
      "[1100]\tvalid_0's auc: 0.96123\tvalid_0's binary_logloss: 0.218586\n",
      "[1200]\tvalid_0's auc: 0.961293\tvalid_0's binary_logloss: 0.218399\n",
      "[1300]\tvalid_0's auc: 0.961345\tvalid_0's binary_logloss: 0.218254\n",
      "[1400]\tvalid_0's auc: 0.961395\tvalid_0's binary_logloss: 0.218105\n",
      "[1500]\tvalid_0's auc: 0.961436\tvalid_0's binary_logloss: 0.217982\n",
      "[1600]\tvalid_0's auc: 0.961466\tvalid_0's binary_logloss: 0.217896\n",
      "Top four(70494 total cases) has 74.47169105615036% positives cases being predicted\n",
      "Gini value is 0.9451183324982131\n",
      "Top four(15911 total cases) has 66.04329328159334% positives cases being predicted\n",
      "Gini value is 0.922931065976364\n",
      "LGB - METRICS\n",
      "LGB: Train_score: 0.9726 valid_score: 0.9615\n",
      "LGB: train_vdr score: 0.7082378792837439\n",
      "LGB: valid_vdr score: 0.6809575015194727\n",
      "LGB: Train_score: 0.8449 valid_score: 0.7917\n",
      "gnb\n"
     ]
    },
    {
     "name": "stderr",
     "output_type": "stream",
     "text": [
      "/opt/conda/lib/python3.7/site-packages/xgboost/sklearn.py:797: UserWarning: `eval_metric` in `fit` method is deprecated for better compatibility with scikit-learn, use `eval_metric` in constructor or`set_params` instead.\n",
      "  UserWarning,\n"
     ]
    },
    {
     "name": "stdout",
     "output_type": "stream",
     "text": [
      "[0]\tvalidation_0-aucpr:0.82081\n",
      "[100]\tvalidation_0-aucpr:0.88221\n",
      "[200]\tvalidation_0-aucpr:0.88852\n",
      "[300]\tvalidation_0-aucpr:0.89234\n",
      "[400]\tvalidation_0-aucpr:0.89458\n",
      "[499]\tvalidation_0-aucpr:0.89576\n",
      "Top four(68579 total cases) has 72.1153396605732% positives cases being predicted\n",
      "Gini value is 0.939766770910319\n",
      "Top four(15814 total cases) has 65.56641264201225% positives cases being predicted\n",
      "Gini value is 0.9206736332273688\n",
      "LGB - METRICS\n",
      "LGB: Train_score: 0.9699 valid_score: 0.9603\n",
      "LGB: train_vdr score: 0.7003366216279396\n",
      "LGB: valid_vdr score: 0.6784795923138062\n",
      "LGB: Train_score: 0.8305 valid_score: 0.7882\n",
      "xgbc\n",
      "0:\tlearn: 0.6677673\ttotal: 503ms\tremaining: 10m 3s\n",
      "100:\tlearn: 0.2471181\ttotal: 53.1s\tremaining: 9m 38s\n",
      "200:\tlearn: 0.2315560\ttotal: 1m 44s\tremaining: 8m 37s\n",
      "300:\tlearn: 0.2261129\ttotal: 2m 34s\tremaining: 7m 41s\n",
      "400:\tlearn: 0.2227260\ttotal: 3m 26s\tremaining: 6m 51s\n",
      "500:\tlearn: 0.2202566\ttotal: 4m 16s\tremaining: 5m 58s\n",
      "600:\tlearn: 0.2182661\ttotal: 5m 6s\tremaining: 5m 5s\n",
      "700:\tlearn: 0.2163948\ttotal: 5m 55s\tremaining: 4m 13s\n",
      "800:\tlearn: 0.2147267\ttotal: 6m 45s\tremaining: 3m 21s\n",
      "900:\tlearn: 0.2131960\ttotal: 7m 34s\tremaining: 2m 30s\n",
      "1000:\tlearn: 0.2117931\ttotal: 8m 24s\tremaining: 1m 40s\n",
      "1100:\tlearn: 0.2104911\ttotal: 9m 25s\tremaining: 50.9s\n",
      "1199:\tlearn: 0.2093409\ttotal: 10m 13s\tremaining: 0us\n",
      "Top four(66083 total cases) has 69.0436673056244% positives cases being predicted\n",
      "Gini value is 0.929481597346348\n",
      "Top four(15871 total cases) has 65.84693066529525% positives cases being predicted\n",
      "Gini value is 0.9207956259448561\n",
      "LGB - METRICS\n",
      "LGB: Train_score: 0.9647 valid_score: 0.9604\n",
      "LGB: train_vdr score: 0.6904366730562439\n",
      "LGB: valid_vdr score: 0.6796951704146992\n",
      "LGB: Train_score: 0.8100 valid_score: 0.7896\n",
      "cat\n"
     ]
    },
    {
     "name": "stderr",
     "output_type": "stream",
     "text": [
      "/opt/conda/lib/python3.7/site-packages/lightgbm/sklearn.py:726: UserWarning: 'early_stopping_rounds' argument is deprecated and will be removed in a future release of LightGBM. Pass 'early_stopping()' callback via 'callbacks' argument instead.\n",
      "  _log_warning(\"'early_stopping_rounds' argument is deprecated and will be removed in a future release of LightGBM. \"\n",
      "/opt/conda/lib/python3.7/site-packages/lightgbm/sklearn.py:736: UserWarning: 'verbose' argument is deprecated and will be removed in a future release of LightGBM. Pass 'log_evaluation()' callback via 'callbacks' argument instead.\n",
      "  _log_warning(\"'verbose' argument is deprecated and will be removed in a future release of LightGBM. \"\n"
     ]
    },
    {
     "name": "stdout",
     "output_type": "stream",
     "text": [
      "[100]\tvalid_0's auc: 0.952595\tvalid_0's binary_logloss: 0.268138\n",
      "[200]\tvalid_0's auc: 0.955992\tvalid_0's binary_logloss: 0.236343\n",
      "[300]\tvalid_0's auc: 0.957989\tvalid_0's binary_logloss: 0.228272\n",
      "[400]\tvalid_0's auc: 0.959167\tvalid_0's binary_logloss: 0.224583\n",
      "[500]\tvalid_0's auc: 0.95985\tvalid_0's binary_logloss: 0.22253\n",
      "[600]\tvalid_0's auc: 0.960289\tvalid_0's binary_logloss: 0.221234\n",
      "[700]\tvalid_0's auc: 0.960611\tvalid_0's binary_logloss: 0.220328\n",
      "[800]\tvalid_0's auc: 0.960814\tvalid_0's binary_logloss: 0.219736\n",
      "[900]\tvalid_0's auc: 0.960956\tvalid_0's binary_logloss: 0.219327\n",
      "[1000]\tvalid_0's auc: 0.96106\tvalid_0's binary_logloss: 0.219029\n",
      "[1100]\tvalid_0's auc: 0.961141\tvalid_0's binary_logloss: 0.218797\n",
      "[1200]\tvalid_0's auc: 0.961192\tvalid_0's binary_logloss: 0.218641\n",
      "[1300]\tvalid_0's auc: 0.961252\tvalid_0's binary_logloss: 0.218474\n",
      "[1400]\tvalid_0's auc: 0.961295\tvalid_0's binary_logloss: 0.218351\n",
      "[1500]\tvalid_0's auc: 0.961328\tvalid_0's binary_logloss: 0.218256\n",
      "Top four(66083 total cases) has 69.0436673056244% positives cases being predicted\n",
      "Gini value is 0.929481597346348\n",
      "Top four(15871 total cases) has 65.84693066529525% positives cases being predicted\n",
      "Gini value is 0.9207956259448561\n",
      "LGB - METRICS\n",
      "LGB: Train_score: 0.9647 valid_score: 0.9604\n",
      "LGB: train_vdr score: 0.6904366730562439\n",
      "LGB: valid_vdr score: 0.6796951704146992\n",
      "LGB: Train_score: 0.8100 valid_score: 0.7896\n"
     ]
    }
   ],
   "source": [
    "## from sklearn.linear_model import LogisticRegression\n",
    "from sklearn.ensemble import RandomForestClassifier\n",
    "from sklearn.svm import SVC\n",
    "from sklearn.naive_bayes import GaussianNB\n",
    "from catboost import CatBoostClassifier\n",
    "\n",
    "modelNum = [2022]\n",
    "# Record the performance of all sub models\n",
    "performanceROC = []\n",
    "performanceSCORE = []\n",
    "blended = []\n",
    "models = []  \n",
    "\n",
    "# set different random seed to let the cross validation result become more stable and robust\n",
    "# total number of sub-models will be modelNum * CV fold number = 3 * 5\n",
    "for _ in modelNum:\n",
    "    folds = StratifiedKFold(n_splits= 5, shuffle=True, random_state=_)\n",
    "    lgb_performance_roc = []\n",
    "    lgb_performance_score = []\n",
    "\n",
    "    for n_fold, (train_idx, valid_idx) in enumerate(folds.split(train, trainY)):\n",
    "        train_x, train_y = train.iloc[train_idx], trainY.iloc[train_idx]\n",
    "        valid_x, valid_y = train.iloc[valid_idx], trainY.iloc[valid_idx]\n",
    "        \n",
    "        rf = RandomForestClassifier(n_estimators=200, \n",
    "                                    criterion='gini', \n",
    "                                    max_depth=12,\n",
    "                                    min_samples_leaf=200, \n",
    "                                    max_features=30, \n",
    "                                    random_state=_, \n",
    "                                    verbose=0,\n",
    "                                    class_weight=None,  \n",
    "                                    max_samples=0.4)\n",
    "        rf.fit(train_x, train_y)\n",
    "        evaluation(rf, train_x, valid_x,performanceROC,performanceSCORE)\n",
    "        print('rf')\n",
    "        gc.collect()\n",
    "        \n",
    "        # gnb\n",
    "        gnb = lgb.LGBMClassifier(\n",
    "            objective='binary', \n",
    "            boosting_type='gbdt',\n",
    "            max_depth=8, \n",
    "            learning_rate=0.02,\n",
    "            n_estimators=1600,\n",
    "            class_weight = {1:1,0:1},\n",
    "            min_child_samples = 100,\n",
    "            subsample = 0.3,\n",
    "            colsample_bytree = 0.25,\n",
    "            reg_alpha = 5,\n",
    "            reg_lambda = 5,\n",
    "            # n_jobs = 4,\n",
    "            random_state = _  ,\n",
    "            max_bin = 501\n",
    "        )\n",
    "        gnb.fit(train_x, \n",
    "                train_y, \n",
    "                eval_set=[(valid_x, valid_y)], \n",
    "                eval_metric='auc', \n",
    "                early_stopping_rounds=200,\n",
    "                verbose = 100)\n",
    "        evaluation(gnb, train_x, valid_x,performanceROC,performanceSCORE)\n",
    "        print('gnb')\n",
    "        \n",
    "        #xgboost\n",
    "        xgbc = xgb.XGBClassifier(\n",
    "            n_estimators=500, \n",
    "            learning_rate=0.02, \n",
    "            subsample=0.3, \n",
    "            seed=_, \n",
    "            max_depth=7,\n",
    "            colsample_bytree=0.25, \n",
    "            reg_alpha=1, \n",
    "            reg_lambda=1)\n",
    "\n",
    "        xgbc.fit(train_x, \n",
    "                 train_y, \n",
    "                 eval_set=[(valid_x, valid_y)], \n",
    "                 eval_metric= 'aucpr',\n",
    "                 verbose=100)\n",
    "        evaluation(xgbc, train_x, valid_x,performanceROC,performanceSCORE)\n",
    "        print('xgbc')\n",
    "        gc.collect()\n",
    "        \n",
    "        # catboost\n",
    "        cat = CatBoostClassifier(\n",
    "                           learning_rate=0.02,\n",
    "                            max_depth=7,\n",
    "                            n_estimators=1200,\n",
    "                         colsample_bylevel=0.25,\n",
    "                         subsample = 0.3,\n",
    "                         random_state=_,\n",
    "                         reg_lambda=5,\n",
    "                         objective='CrossEntropy',\n",
    "                         max_bin=725)\n",
    "        cat.fit(train_x, train_y,verbose = 100)\n",
    "        evaluation(cat, train_x, valid_x,performanceROC,performanceSCORE)      \n",
    "        print('cat')\n",
    "        gc.collect()  \n",
    "        \n",
    "        # single gbm\n",
    "        gbm = lgb.LGBMClassifier(\n",
    "            objective='binary', \n",
    "            boosting_type='gbdt',\n",
    "            max_depth=7, \n",
    "            learning_rate=0.02,\n",
    "            n_estimators=1500,\n",
    "            class_weight = {1:1,0:1},\n",
    "            min_child_samples = 200,\n",
    "            subsample = 0.4,\n",
    "            colsample_bytree = 0.3,\n",
    "            reg_alpha = 1,\n",
    "            reg_lambda = 1,\n",
    "            # n_jobs = 4,\n",
    "            random_state = _  ,\n",
    "            max_bin = 501   \n",
    "        )\n",
    "        gbm.fit(train_x, \n",
    "                train_y, \n",
    "                eval_set=[(valid_x, valid_y)],     \n",
    "                eval_metric='auc', \n",
    "                early_stopping_rounds=200,\n",
    "                verbose = 100)\n",
    "        evaluation(cat, train_x, valid_x,performanceROC,performanceSCORE)\n",
    "        \n",
    "        models.append([rf,gnb,xgbc,cat,gbm])\n",
    "        \n",
    "        del train_x, train_y, valid_x, valid_y    \n",
    "        gc.collect()\n",
    "        "
   ]
  },
  {
   "cell_type": "code",
   "execution_count": 9,
   "id": "fea93260",
   "metadata": {
    "execution": {
     "iopub.execute_input": "2022-07-14T16:05:16.659689Z",
     "iopub.status.busy": "2022-07-14T16:05:16.659289Z",
     "iopub.status.idle": "2022-07-14T16:05:16.799302Z",
     "shell.execute_reply": "2022-07-14T16:05:16.797981Z"
    },
    "papermill": {
     "duration": 0.166876,
     "end_time": "2022-07-14T16:05:16.802013",
     "exception": false,
     "start_time": "2022-07-14T16:05:16.635137",
     "status": "completed"
    },
    "tags": []
   },
   "outputs": [
    {
     "data": {
      "text/plain": [
       "21"
      ]
     },
     "execution_count": 9,
     "metadata": {},
     "output_type": "execute_result"
    }
   ],
   "source": [
    "del train                                            \n",
    "gc.collect()                                                                                   "
   ]
  },
  {
   "cell_type": "code",
   "execution_count": 10,
   "id": "1607435b",
   "metadata": {
    "execution": {
     "iopub.execute_input": "2022-07-14T16:05:16.847941Z",
     "iopub.status.busy": "2022-07-14T16:05:16.846644Z",
     "iopub.status.idle": "2022-07-14T16:05:19.028904Z",
     "shell.execute_reply": "2022-07-14T16:05:19.027742Z"
    },
    "papermill": {
     "duration": 2.207874,
     "end_time": "2022-07-14T16:05:19.031389",
     "exception": false,
     "start_time": "2022-07-14T16:05:16.823515",
     "status": "completed"
    },
    "tags": []
   },
   "outputs": [],
   "source": [
    "import pickle\n",
    "with open('models.pickle','wb') as file:\n",
    "    pickle.dump(models,file)"
   ]
  },
  {
   "cell_type": "code",
   "execution_count": 11,
   "id": "9fdc471c",
   "metadata": {
    "execution": {
     "iopub.execute_input": "2022-07-14T16:05:19.077478Z",
     "iopub.status.busy": "2022-07-14T16:05:19.076310Z",
     "iopub.status.idle": "2022-07-14T16:07:09.250526Z",
     "shell.execute_reply": "2022-07-14T16:07:09.249315Z"
    },
    "papermill": {
     "duration": 110.221371,
     "end_time": "2022-07-14T16:07:09.274372",
     "exception": false,
     "start_time": "2022-07-14T16:05:19.053001",
     "status": "completed"
    },
    "tags": []
   },
   "outputs": [
    {
     "name": "stdout",
     "output_type": "stream",
     "text": [
      "45892\n",
      "m_0\n",
      "m_1\n",
      "m_2\n",
      "m_3\n",
      "m_4\n",
      "45892\n"
     ]
    }
   ],
   "source": [
    "holdout_x1 = []\n",
    "holdout_x2 = []\n",
    "holdout_x3 = []\n",
    "holdout_x4 = []\n",
    "holdout_x5 = []\n",
    "\n",
    "print(holdout_x.shape[0])\n",
    "\n",
    "for idx,model in enumerate(models):\n",
    "    holdout_x1.append(model[0].predict_proba(holdout_x)[:,1])\n",
    "    holdout_x2.append( model[1].predict_proba(holdout_x)[:,1] )\n",
    "    holdout_x3.append(  model[2].predict_proba(holdout_x)[:,1] )\n",
    "    holdout_x4.append(  model[3].predict_proba(holdout_x)[:,1] )\n",
    "    holdout_x5.append(  model[4].predict_proba(holdout_x)[:,1] )\n",
    "    print(f'm_{idx}')\n",
    "\n",
    "for i in range(len(holdout_x1)):\n",
    "    holdout_x[f'm_0_{i}'] = holdout_x1[i]\n",
    "    \n",
    "for i in range(len(holdout_x2)):\n",
    "    holdout_x[f'm_1_{i}'] = holdout_x2[i]\n",
    "\n",
    "for i in range(len(holdout_x3)):\n",
    "    holdout_x[f'm_2_{i}'] = holdout_x3[i]\n",
    "\n",
    "for i in range(len(holdout_x4)):\n",
    "    holdout_x[f'm_3_{i}'] = holdout_x4[i]\n",
    "\n",
    "for i in range(len(holdout_x5)):\n",
    "    holdout_x[f'm_4_{i}'] = holdout_x5[i]\n",
    "    \n",
    "print(holdout_x.shape[0])                          "
   ]
  },
  {
   "cell_type": "code",
   "execution_count": 12,
   "id": "56e8fb18",
   "metadata": {
    "execution": {
     "iopub.execute_input": "2022-07-14T16:07:09.318683Z",
     "iopub.status.busy": "2022-07-14T16:07:09.318272Z",
     "iopub.status.idle": "2022-07-14T16:07:09.350610Z",
     "shell.execute_reply": "2022-07-14T16:07:09.349528Z"
    },
    "papermill": {
     "duration": 0.057277,
     "end_time": "2022-07-14T16:07:09.352866",
     "exception": false,
     "start_time": "2022-07-14T16:07:09.295589",
     "status": "completed"
    },
    "tags": []
   },
   "outputs": [],
   "source": [
    "holdout_x.index = [_ for _ in range(0,holdout_x.shape[0])]\n",
    "holdout_y.index = [_ for _ in range(0,holdout_x.shape[0])]"
   ]
  },
  {
   "cell_type": "code",
   "execution_count": 13,
   "id": "b37898ab",
   "metadata": {
    "execution": {
     "iopub.execute_input": "2022-07-14T16:07:09.397508Z",
     "iopub.status.busy": "2022-07-14T16:07:09.397146Z",
     "iopub.status.idle": "2022-07-14T16:07:09.409069Z",
     "shell.execute_reply": "2022-07-14T16:07:09.408231Z"
    },
    "papermill": {
     "duration": 0.036574,
     "end_time": "2022-07-14T16:07:09.410893",
     "exception": false,
     "start_time": "2022-07-14T16:07:09.374319",
     "status": "completed"
    },
    "tags": []
   },
   "outputs": [],
   "source": [
    "holdout_x = holdout_x.iloc[:,-25:]"
   ]
  },
  {
   "cell_type": "code",
   "execution_count": 14,
   "id": "cc7dcd06",
   "metadata": {
    "execution": {
     "iopub.execute_input": "2022-07-14T16:07:09.456066Z",
     "iopub.status.busy": "2022-07-14T16:07:09.455500Z",
     "iopub.status.idle": "2022-07-14T16:07:09.488589Z",
     "shell.execute_reply": "2022-07-14T16:07:09.487829Z"
    },
    "papermill": {
     "duration": 0.057681,
     "end_time": "2022-07-14T16:07:09.490489",
     "exception": false,
     "start_time": "2022-07-14T16:07:09.432808",
     "status": "completed"
    },
    "tags": []
   },
   "outputs": [
    {
     "data": {
      "text/html": [
       "<div>\n",
       "<style scoped>\n",
       "    .dataframe tbody tr th:only-of-type {\n",
       "        vertical-align: middle;\n",
       "    }\n",
       "\n",
       "    .dataframe tbody tr th {\n",
       "        vertical-align: top;\n",
       "    }\n",
       "\n",
       "    .dataframe thead th {\n",
       "        text-align: right;\n",
       "    }\n",
       "</style>\n",
       "<table border=\"1\" class=\"dataframe\">\n",
       "  <thead>\n",
       "    <tr style=\"text-align: right;\">\n",
       "      <th></th>\n",
       "      <th>m_0_0</th>\n",
       "      <th>m_0_1</th>\n",
       "      <th>m_0_2</th>\n",
       "      <th>m_0_3</th>\n",
       "      <th>m_0_4</th>\n",
       "      <th>m_1_0</th>\n",
       "      <th>m_1_1</th>\n",
       "      <th>m_1_2</th>\n",
       "      <th>m_1_3</th>\n",
       "      <th>m_1_4</th>\n",
       "      <th>...</th>\n",
       "      <th>m_3_0</th>\n",
       "      <th>m_3_1</th>\n",
       "      <th>m_3_2</th>\n",
       "      <th>m_3_3</th>\n",
       "      <th>m_3_4</th>\n",
       "      <th>m_4_0</th>\n",
       "      <th>m_4_1</th>\n",
       "      <th>m_4_2</th>\n",
       "      <th>m_4_3</th>\n",
       "      <th>m_4_4</th>\n",
       "    </tr>\n",
       "  </thead>\n",
       "  <tbody>\n",
       "    <tr>\n",
       "      <th>0</th>\n",
       "      <td>0.002710</td>\n",
       "      <td>0.002916</td>\n",
       "      <td>0.002553</td>\n",
       "      <td>0.002957</td>\n",
       "      <td>0.002843</td>\n",
       "      <td>0.001025</td>\n",
       "      <td>0.001084</td>\n",
       "      <td>0.001069</td>\n",
       "      <td>0.001098</td>\n",
       "      <td>0.001095</td>\n",
       "      <td>...</td>\n",
       "      <td>0.001285</td>\n",
       "      <td>0.001264</td>\n",
       "      <td>0.001433</td>\n",
       "      <td>0.001295</td>\n",
       "      <td>0.001336</td>\n",
       "      <td>0.001088</td>\n",
       "      <td>0.001162</td>\n",
       "      <td>0.001168</td>\n",
       "      <td>0.000904</td>\n",
       "      <td>0.001295</td>\n",
       "    </tr>\n",
       "    <tr>\n",
       "      <th>1</th>\n",
       "      <td>0.016780</td>\n",
       "      <td>0.016042</td>\n",
       "      <td>0.012117</td>\n",
       "      <td>0.013209</td>\n",
       "      <td>0.019256</td>\n",
       "      <td>0.003480</td>\n",
       "      <td>0.003399</td>\n",
       "      <td>0.001998</td>\n",
       "      <td>0.002435</td>\n",
       "      <td>0.003552</td>\n",
       "      <td>...</td>\n",
       "      <td>0.001865</td>\n",
       "      <td>0.001891</td>\n",
       "      <td>0.001811</td>\n",
       "      <td>0.001940</td>\n",
       "      <td>0.001924</td>\n",
       "      <td>0.003837</td>\n",
       "      <td>0.003098</td>\n",
       "      <td>0.002767</td>\n",
       "      <td>0.002628</td>\n",
       "      <td>0.004642</td>\n",
       "    </tr>\n",
       "    <tr>\n",
       "      <th>2</th>\n",
       "      <td>0.011317</td>\n",
       "      <td>0.010332</td>\n",
       "      <td>0.013388</td>\n",
       "      <td>0.011299</td>\n",
       "      <td>0.012092</td>\n",
       "      <td>0.003776</td>\n",
       "      <td>0.002844</td>\n",
       "      <td>0.003141</td>\n",
       "      <td>0.003403</td>\n",
       "      <td>0.003430</td>\n",
       "      <td>...</td>\n",
       "      <td>0.005199</td>\n",
       "      <td>0.004052</td>\n",
       "      <td>0.004921</td>\n",
       "      <td>0.005562</td>\n",
       "      <td>0.004747</td>\n",
       "      <td>0.003581</td>\n",
       "      <td>0.002568</td>\n",
       "      <td>0.002874</td>\n",
       "      <td>0.003571</td>\n",
       "      <td>0.003905</td>\n",
       "    </tr>\n",
       "    <tr>\n",
       "      <th>3</th>\n",
       "      <td>0.002417</td>\n",
       "      <td>0.002652</td>\n",
       "      <td>0.002739</td>\n",
       "      <td>0.002659</td>\n",
       "      <td>0.002535</td>\n",
       "      <td>0.001788</td>\n",
       "      <td>0.001082</td>\n",
       "      <td>0.001318</td>\n",
       "      <td>0.001605</td>\n",
       "      <td>0.001532</td>\n",
       "      <td>...</td>\n",
       "      <td>0.001634</td>\n",
       "      <td>0.001474</td>\n",
       "      <td>0.001569</td>\n",
       "      <td>0.001332</td>\n",
       "      <td>0.001518</td>\n",
       "      <td>0.001935</td>\n",
       "      <td>0.001286</td>\n",
       "      <td>0.001990</td>\n",
       "      <td>0.001478</td>\n",
       "      <td>0.001538</td>\n",
       "    </tr>\n",
       "    <tr>\n",
       "      <th>4</th>\n",
       "      <td>0.074174</td>\n",
       "      <td>0.058298</td>\n",
       "      <td>0.062039</td>\n",
       "      <td>0.066179</td>\n",
       "      <td>0.063232</td>\n",
       "      <td>0.024971</td>\n",
       "      <td>0.025853</td>\n",
       "      <td>0.019531</td>\n",
       "      <td>0.022357</td>\n",
       "      <td>0.022876</td>\n",
       "      <td>...</td>\n",
       "      <td>0.010352</td>\n",
       "      <td>0.009063</td>\n",
       "      <td>0.007839</td>\n",
       "      <td>0.008366</td>\n",
       "      <td>0.011677</td>\n",
       "      <td>0.027081</td>\n",
       "      <td>0.025802</td>\n",
       "      <td>0.019545</td>\n",
       "      <td>0.018423</td>\n",
       "      <td>0.018796</td>\n",
       "    </tr>\n",
       "  </tbody>\n",
       "</table>\n",
       "<p>5 rows × 25 columns</p>\n",
       "</div>"
      ],
      "text/plain": [
       "      m_0_0     m_0_1     m_0_2     m_0_3     m_0_4     m_1_0     m_1_1  \\\n",
       "0  0.002710  0.002916  0.002553  0.002957  0.002843  0.001025  0.001084   \n",
       "1  0.016780  0.016042  0.012117  0.013209  0.019256  0.003480  0.003399   \n",
       "2  0.011317  0.010332  0.013388  0.011299  0.012092  0.003776  0.002844   \n",
       "3  0.002417  0.002652  0.002739  0.002659  0.002535  0.001788  0.001082   \n",
       "4  0.074174  0.058298  0.062039  0.066179  0.063232  0.024971  0.025853   \n",
       "\n",
       "      m_1_2     m_1_3     m_1_4  ...     m_3_0     m_3_1     m_3_2     m_3_3  \\\n",
       "0  0.001069  0.001098  0.001095  ...  0.001285  0.001264  0.001433  0.001295   \n",
       "1  0.001998  0.002435  0.003552  ...  0.001865  0.001891  0.001811  0.001940   \n",
       "2  0.003141  0.003403  0.003430  ...  0.005199  0.004052  0.004921  0.005562   \n",
       "3  0.001318  0.001605  0.001532  ...  0.001634  0.001474  0.001569  0.001332   \n",
       "4  0.019531  0.022357  0.022876  ...  0.010352  0.009063  0.007839  0.008366   \n",
       "\n",
       "      m_3_4     m_4_0     m_4_1     m_4_2     m_4_3     m_4_4  \n",
       "0  0.001336  0.001088  0.001162  0.001168  0.000904  0.001295  \n",
       "1  0.001924  0.003837  0.003098  0.002767  0.002628  0.004642  \n",
       "2  0.004747  0.003581  0.002568  0.002874  0.003571  0.003905  \n",
       "3  0.001518  0.001935  0.001286  0.001990  0.001478  0.001538  \n",
       "4  0.011677  0.027081  0.025802  0.019545  0.018423  0.018796  \n",
       "\n",
       "[5 rows x 25 columns]"
      ]
     },
     "execution_count": 14,
     "metadata": {},
     "output_type": "execute_result"
    }
   ],
   "source": [
    "holdout_x.head()"
   ]
  },
  {
   "cell_type": "code",
   "execution_count": 15,
   "id": "062f330f",
   "metadata": {
    "execution": {
     "iopub.execute_input": "2022-07-14T16:07:09.536139Z",
     "iopub.status.busy": "2022-07-14T16:07:09.535562Z",
     "iopub.status.idle": "2022-07-14T16:07:09.559899Z",
     "shell.execute_reply": "2022-07-14T16:07:09.559026Z"
    },
    "papermill": {
     "duration": 0.049891,
     "end_time": "2022-07-14T16:07:09.562112",
     "exception": false,
     "start_time": "2022-07-14T16:07:09.512221",
     "status": "completed"
    },
    "tags": []
   },
   "outputs": [],
   "source": [
    "holdout_x.to_pickle('holdout_x.pkl')\n",
    "holdout_y.to_pickle('holdout_y.pkl')"
   ]
  },
  {
   "cell_type": "code",
   "execution_count": 16,
   "id": "3cedc3e9",
   "metadata": {
    "execution": {
     "iopub.execute_input": "2022-07-14T16:07:09.609024Z",
     "iopub.status.busy": "2022-07-14T16:07:09.608603Z",
     "iopub.status.idle": "2022-07-14T16:07:16.741712Z",
     "shell.execute_reply": "2022-07-14T16:07:16.740491Z"
    },
    "papermill": {
     "duration": 7.160164,
     "end_time": "2022-07-14T16:07:16.744925",
     "exception": false,
     "start_time": "2022-07-14T16:07:09.584761",
     "status": "completed"
    },
    "tags": []
   },
   "outputs": [
    {
     "name": "stderr",
     "output_type": "stream",
     "text": [
      "/opt/conda/lib/python3.7/site-packages/lightgbm/sklearn.py:726: UserWarning: 'early_stopping_rounds' argument is deprecated and will be removed in a future release of LightGBM. Pass 'early_stopping()' callback via 'callbacks' argument instead.\n",
      "  _log_warning(\"'early_stopping_rounds' argument is deprecated and will be removed in a future release of LightGBM. \"\n",
      "/opt/conda/lib/python3.7/site-packages/lightgbm/sklearn.py:736: UserWarning: 'verbose' argument is deprecated and will be removed in a future release of LightGBM. Pass 'log_evaluation()' callback via 'callbacks' argument instead.\n",
      "  _log_warning(\"'verbose' argument is deprecated and will be removed in a future release of LightGBM. \"\n"
     ]
    },
    {
     "name": "stdout",
     "output_type": "stream",
     "text": [
      "[10]\tvalid_0's auc: 0.957289\tvalid_0's binary_logloss: 0.471652\n",
      "[20]\tvalid_0's auc: 0.957718\tvalid_0's binary_logloss: 0.406773\n",
      "[30]\tvalid_0's auc: 0.957792\tvalid_0's binary_logloss: 0.361381\n",
      "[40]\tvalid_0's auc: 0.957815\tvalid_0's binary_logloss: 0.328367\n",
      "[50]\tvalid_0's auc: 0.957999\tvalid_0's binary_logloss: 0.303726\n",
      "[60]\tvalid_0's auc: 0.957997\tvalid_0's binary_logloss: 0.285219\n",
      "[70]\tvalid_0's auc: 0.957997\tvalid_0's binary_logloss: 0.271164\n",
      "[80]\tvalid_0's auc: 0.957982\tvalid_0's binary_logloss: 0.260441\n",
      "[90]\tvalid_0's auc: 0.958004\tvalid_0's binary_logloss: 0.252168\n",
      "[100]\tvalid_0's auc: 0.958024\tvalid_0's binary_logloss: 0.245795\n",
      "[110]\tvalid_0's auc: 0.958017\tvalid_0's binary_logloss: 0.240888\n",
      "[120]\tvalid_0's auc: 0.957982\tvalid_0's binary_logloss: 0.237101\n",
      "[130]\tvalid_0's auc: 0.958017\tvalid_0's binary_logloss: 0.234188\n",
      "[140]\tvalid_0's auc: 0.958718\tvalid_0's binary_logloss: 0.231926\n",
      "[150]\tvalid_0's auc: 0.958794\tvalid_0's binary_logloss: 0.23014\n",
      "[160]\tvalid_0's auc: 0.958788\tvalid_0's binary_logloss: 0.228786\n",
      "[170]\tvalid_0's auc: 0.9588\tvalid_0's binary_logloss: 0.227819\n",
      "[180]\tvalid_0's auc: 0.958926\tvalid_0's binary_logloss: 0.227046\n",
      "[190]\tvalid_0's auc: 0.958938\tvalid_0's binary_logloss: 0.22644\n",
      "[200]\tvalid_0's auc: 0.958937\tvalid_0's binary_logloss: 0.226041\n",
      "[210]\tvalid_0's auc: 0.958931\tvalid_0's binary_logloss: 0.225752\n",
      "[220]\tvalid_0's auc: 0.958937\tvalid_0's binary_logloss: 0.225511\n",
      "[230]\tvalid_0's auc: 0.958941\tvalid_0's binary_logloss: 0.225321\n",
      "[240]\tvalid_0's auc: 0.958944\tvalid_0's binary_logloss: 0.225185\n",
      "[250]\tvalid_0's auc: 0.958999\tvalid_0's binary_logloss: 0.225075\n",
      "[260]\tvalid_0's auc: 0.95901\tvalid_0's binary_logloss: 0.22498\n",
      "[270]\tvalid_0's auc: 0.959013\tvalid_0's binary_logloss: 0.224898\n",
      "[280]\tvalid_0's auc: 0.958974\tvalid_0's binary_logloss: 0.224852\n",
      "[290]\tvalid_0's auc: 0.958987\tvalid_0's binary_logloss: 0.224792\n",
      "[300]\tvalid_0's auc: 0.958951\tvalid_0's binary_logloss: 0.224751\n",
      "[310]\tvalid_0's auc: 0.958963\tvalid_0's binary_logloss: 0.224714\n",
      "[320]\tvalid_0's auc: 0.958949\tvalid_0's binary_logloss: 0.224705\n",
      "[330]\tvalid_0's auc: 0.958901\tvalid_0's binary_logloss: 0.224748\n",
      "[340]\tvalid_0's auc: 0.958882\tvalid_0's binary_logloss: 0.224733\n",
      "[350]\tvalid_0's auc: 0.958855\tvalid_0's binary_logloss: 0.224746\n",
      "Top four(7193 total cases) has 67.3995371344414% positives cases being predicted\n",
      "Gini value is 0.9235203087874261\n",
      "Top four(1743 total cases) has 64.95582667227598% positives cases being predicted\n",
      "Gini value is 0.9179503307085949\n",
      "LGB - METRICS\n",
      "LGB: Train_score: 0.9618 valid_score: 0.9590\n",
      "LGB: train_vdr score: 0.6840942562592047\n",
      "LGB: valid_vdr score: 0.6764829617164493\n",
      "LGB: Train_score: 0.7988 valid_score: 0.7838\n",
      "[10]\tvalid_0's auc: 0.952429\tvalid_0's binary_logloss: 0.473596\n"
     ]
    },
    {
     "name": "stderr",
     "output_type": "stream",
     "text": [
      "/opt/conda/lib/python3.7/site-packages/lightgbm/sklearn.py:726: UserWarning: 'early_stopping_rounds' argument is deprecated and will be removed in a future release of LightGBM. Pass 'early_stopping()' callback via 'callbacks' argument instead.\n",
      "  _log_warning(\"'early_stopping_rounds' argument is deprecated and will be removed in a future release of LightGBM. \"\n",
      "/opt/conda/lib/python3.7/site-packages/lightgbm/sklearn.py:736: UserWarning: 'verbose' argument is deprecated and will be removed in a future release of LightGBM. Pass 'log_evaluation()' callback via 'callbacks' argument instead.\n",
      "  _log_warning(\"'verbose' argument is deprecated and will be removed in a future release of LightGBM. \"\n"
     ]
    },
    {
     "name": "stdout",
     "output_type": "stream",
     "text": [
      "[20]\tvalid_0's auc: 0.952897\tvalid_0's binary_logloss: 0.409892\n",
      "[30]\tvalid_0's auc: 0.953399\tvalid_0's binary_logloss: 0.365345\n",
      "[40]\tvalid_0's auc: 0.954412\tvalid_0's binary_logloss: 0.332904\n",
      "[50]\tvalid_0's auc: 0.954558\tvalid_0's binary_logloss: 0.30882\n",
      "[60]\tvalid_0's auc: 0.954592\tvalid_0's binary_logloss: 0.29071\n",
      "[70]\tvalid_0's auc: 0.954601\tvalid_0's binary_logloss: 0.277034\n",
      "[80]\tvalid_0's auc: 0.954621\tvalid_0's binary_logloss: 0.266543\n",
      "[90]\tvalid_0's auc: 0.954713\tvalid_0's binary_logloss: 0.258548\n",
      "[100]\tvalid_0's auc: 0.95527\tvalid_0's binary_logloss: 0.252399\n",
      "[110]\tvalid_0's auc: 0.955273\tvalid_0's binary_logloss: 0.247641\n",
      "[120]\tvalid_0's auc: 0.955356\tvalid_0's binary_logloss: 0.244\n",
      "[130]\tvalid_0's auc: 0.955721\tvalid_0's binary_logloss: 0.24124\n",
      "[140]\tvalid_0's auc: 0.955724\tvalid_0's binary_logloss: 0.239144\n",
      "[150]\tvalid_0's auc: 0.955707\tvalid_0's binary_logloss: 0.237535\n",
      "[160]\tvalid_0's auc: 0.955677\tvalid_0's binary_logloss: 0.236313\n",
      "[170]\tvalid_0's auc: 0.955678\tvalid_0's binary_logloss: 0.235407\n",
      "[180]\tvalid_0's auc: 0.955679\tvalid_0's binary_logloss: 0.234726\n",
      "[190]\tvalid_0's auc: 0.955839\tvalid_0's binary_logloss: 0.234186\n",
      "[200]\tvalid_0's auc: 0.955828\tvalid_0's binary_logloss: 0.233795\n",
      "[210]\tvalid_0's auc: 0.955816\tvalid_0's binary_logloss: 0.233493\n",
      "[220]\tvalid_0's auc: 0.95582\tvalid_0's binary_logloss: 0.233269\n",
      "[230]\tvalid_0's auc: 0.955824\tvalid_0's binary_logloss: 0.233119\n",
      "[240]\tvalid_0's auc: 0.956001\tvalid_0's binary_logloss: 0.232998\n",
      "[250]\tvalid_0's auc: 0.955981\tvalid_0's binary_logloss: 0.23291\n",
      "[260]\tvalid_0's auc: 0.955979\tvalid_0's binary_logloss: 0.232841\n",
      "[270]\tvalid_0's auc: 0.956001\tvalid_0's binary_logloss: 0.232751\n",
      "[280]\tvalid_0's auc: 0.95599\tvalid_0's binary_logloss: 0.232707\n",
      "[290]\tvalid_0's auc: 0.955961\tvalid_0's binary_logloss: 0.232705\n",
      "[300]\tvalid_0's auc: 0.955965\tvalid_0's binary_logloss: 0.232686\n",
      "[310]\tvalid_0's auc: 0.955962\tvalid_0's binary_logloss: 0.232673\n",
      "[320]\tvalid_0's auc: 0.95596\tvalid_0's binary_logloss: 0.232644\n",
      "[330]\tvalid_0's auc: 0.955963\tvalid_0's binary_logloss: 0.232629\n",
      "[340]\tvalid_0's auc: 0.955946\tvalid_0's binary_logloss: 0.232634\n",
      "[350]\tvalid_0's auc: 0.955937\tvalid_0's binary_logloss: 0.232672\n",
      "[360]\tvalid_0's auc: 0.955929\tvalid_0's binary_logloss: 0.232674\n",
      "[370]\tvalid_0's auc: 0.955926\tvalid_0's binary_logloss: 0.232687\n",
      "Top four(7223 total cases) has 67.72564695981485% positives cases being predicted\n",
      "Gini value is 0.9253011241040329\n",
      "Top four(1717 total cases) has 63.777871266302064% positives cases being predicted\n",
      "Gini value is 0.911801798466142\n",
      "LGB - METRICS\n",
      "LGB: Train_score: 0.9627 valid_score: 0.9560\n",
      "LGB: train_vdr score: 0.685987797180728\n",
      "LGB: valid_vdr score: 0.6722759781236853\n",
      "LGB: Train_score: 0.8013 valid_score: 0.7748\n",
      "[10]\tvalid_0's auc: 0.957416\tvalid_0's binary_logloss: 0.46974\n"
     ]
    },
    {
     "name": "stderr",
     "output_type": "stream",
     "text": [
      "/opt/conda/lib/python3.7/site-packages/lightgbm/sklearn.py:726: UserWarning: 'early_stopping_rounds' argument is deprecated and will be removed in a future release of LightGBM. Pass 'early_stopping()' callback via 'callbacks' argument instead.\n",
      "  _log_warning(\"'early_stopping_rounds' argument is deprecated and will be removed in a future release of LightGBM. \"\n",
      "/opt/conda/lib/python3.7/site-packages/lightgbm/sklearn.py:736: UserWarning: 'verbose' argument is deprecated and will be removed in a future release of LightGBM. Pass 'log_evaluation()' callback via 'callbacks' argument instead.\n",
      "  _log_warning(\"'verbose' argument is deprecated and will be removed in a future release of LightGBM. \"\n"
     ]
    },
    {
     "name": "stdout",
     "output_type": "stream",
     "text": [
      "[20]\tvalid_0's auc: 0.960058\tvalid_0's binary_logloss: 0.403715\n",
      "[30]\tvalid_0's auc: 0.96013\tvalid_0's binary_logloss: 0.357482\n",
      "[40]\tvalid_0's auc: 0.96019\tvalid_0's binary_logloss: 0.323718\n",
      "[50]\tvalid_0's auc: 0.961667\tvalid_0's binary_logloss: 0.298571\n",
      "[60]\tvalid_0's auc: 0.961701\tvalid_0's binary_logloss: 0.279658\n",
      "[70]\tvalid_0's auc: 0.961726\tvalid_0's binary_logloss: 0.265313\n",
      "[80]\tvalid_0's auc: 0.961742\tvalid_0's binary_logloss: 0.254347\n",
      "[90]\tvalid_0's auc: 0.961733\tvalid_0's binary_logloss: 0.245872\n",
      "[100]\tvalid_0's auc: 0.961758\tvalid_0's binary_logloss: 0.239311\n",
      "[110]\tvalid_0's auc: 0.961974\tvalid_0's binary_logloss: 0.234158\n",
      "[120]\tvalid_0's auc: 0.961986\tvalid_0's binary_logloss: 0.230163\n",
      "[130]\tvalid_0's auc: 0.961954\tvalid_0's binary_logloss: 0.226983\n",
      "[140]\tvalid_0's auc: 0.962014\tvalid_0's binary_logloss: 0.22451\n",
      "[150]\tvalid_0's auc: 0.962048\tvalid_0's binary_logloss: 0.222577\n",
      "[160]\tvalid_0's auc: 0.962059\tvalid_0's binary_logloss: 0.221037\n",
      "[170]\tvalid_0's auc: 0.962069\tvalid_0's binary_logloss: 0.219848\n",
      "[180]\tvalid_0's auc: 0.96206\tvalid_0's binary_logloss: 0.218926\n",
      "[190]\tvalid_0's auc: 0.962058\tvalid_0's binary_logloss: 0.218207\n",
      "[200]\tvalid_0's auc: 0.962082\tvalid_0's binary_logloss: 0.217624\n",
      "[210]\tvalid_0's auc: 0.962074\tvalid_0's binary_logloss: 0.217187\n",
      "[220]\tvalid_0's auc: 0.962023\tvalid_0's binary_logloss: 0.216874\n",
      "[230]\tvalid_0's auc: 0.962034\tvalid_0's binary_logloss: 0.216642\n",
      "[240]\tvalid_0's auc: 0.962036\tvalid_0's binary_logloss: 0.21644\n",
      "[250]\tvalid_0's auc: 0.962022\tvalid_0's binary_logloss: 0.216312\n",
      "[260]\tvalid_0's auc: 0.96197\tvalid_0's binary_logloss: 0.216232\n",
      "[270]\tvalid_0's auc: 0.96197\tvalid_0's binary_logloss: 0.216188\n",
      "[280]\tvalid_0's auc: 0.961977\tvalid_0's binary_logloss: 0.216134\n",
      "[290]\tvalid_0's auc: 0.961978\tvalid_0's binary_logloss: 0.216096\n",
      "[300]\tvalid_0's auc: 0.961944\tvalid_0's binary_logloss: 0.216059\n",
      "Top four(7131 total cases) has 66.69822236246976% positives cases being predicted\n",
      "Gini value is 0.9220040582175714\n",
      "Top four(1798 total cases) has 67.42424242424242% positives cases being predicted\n",
      "Gini value is 0.9238394333235274\n",
      "LGB - METRICS\n",
      "LGB: Train_score: 0.9610 valid_score: 0.9621\n",
      "LGB: train_vdr score: 0.6811822867360892\n",
      "LGB: valid_vdr score: 0.6839225589225589\n",
      "LGB: Train_score: 0.7945 valid_score: 0.7990\n"
     ]
    },
    {
     "name": "stderr",
     "output_type": "stream",
     "text": [
      "/opt/conda/lib/python3.7/site-packages/lightgbm/sklearn.py:726: UserWarning: 'early_stopping_rounds' argument is deprecated and will be removed in a future release of LightGBM. Pass 'early_stopping()' callback via 'callbacks' argument instead.\n",
      "  _log_warning(\"'early_stopping_rounds' argument is deprecated and will be removed in a future release of LightGBM. \"\n",
      "/opt/conda/lib/python3.7/site-packages/lightgbm/sklearn.py:736: UserWarning: 'verbose' argument is deprecated and will be removed in a future release of LightGBM. Pass 'log_evaluation()' callback via 'callbacks' argument instead.\n",
      "  _log_warning(\"'verbose' argument is deprecated and will be removed in a future release of LightGBM. \"\n"
     ]
    },
    {
     "name": "stdout",
     "output_type": "stream",
     "text": [
      "[10]\tvalid_0's auc: 0.961321\tvalid_0's binary_logloss: 0.469995\n",
      "[20]\tvalid_0's auc: 0.961456\tvalid_0's binary_logloss: 0.403937\n",
      "[30]\tvalid_0's auc: 0.961998\tvalid_0's binary_logloss: 0.357537\n",
      "[40]\tvalid_0's auc: 0.962135\tvalid_0's binary_logloss: 0.323679\n",
      "[50]\tvalid_0's auc: 0.96213\tvalid_0's binary_logloss: 0.298395\n",
      "[60]\tvalid_0's auc: 0.962108\tvalid_0's binary_logloss: 0.279297\n",
      "[70]\tvalid_0's auc: 0.962138\tvalid_0's binary_logloss: 0.264656\n",
      "[80]\tvalid_0's auc: 0.962172\tvalid_0's binary_logloss: 0.253424\n",
      "[90]\tvalid_0's auc: 0.962172\tvalid_0's binary_logloss: 0.244705\n",
      "[100]\tvalid_0's auc: 0.963074\tvalid_0's binary_logloss: 0.237929\n",
      "[110]\tvalid_0's auc: 0.963193\tvalid_0's binary_logloss: 0.232626\n",
      "[120]\tvalid_0's auc: 0.963291\tvalid_0's binary_logloss: 0.228493\n",
      "[130]\tvalid_0's auc: 0.963283\tvalid_0's binary_logloss: 0.225366\n",
      "[140]\tvalid_0's auc: 0.96326\tvalid_0's binary_logloss: 0.222897\n",
      "[150]\tvalid_0's auc: 0.963214\tvalid_0's binary_logloss: 0.22098\n",
      "[160]\tvalid_0's auc: 0.96337\tvalid_0's binary_logloss: 0.219511\n",
      "[170]\tvalid_0's auc: 0.963357\tvalid_0's binary_logloss: 0.218358\n",
      "[180]\tvalid_0's auc: 0.963355\tvalid_0's binary_logloss: 0.217434\n",
      "[190]\tvalid_0's auc: 0.963357\tvalid_0's binary_logloss: 0.216684\n",
      "[200]\tvalid_0's auc: 0.963359\tvalid_0's binary_logloss: 0.216077\n",
      "[210]\tvalid_0's auc: 0.963356\tvalid_0's binary_logloss: 0.215611\n",
      "[220]\tvalid_0's auc: 0.963361\tvalid_0's binary_logloss: 0.215251\n",
      "[230]\tvalid_0's auc: 0.963361\tvalid_0's binary_logloss: 0.214962\n",
      "[240]\tvalid_0's auc: 0.963356\tvalid_0's binary_logloss: 0.21476\n",
      "[250]\tvalid_0's auc: 0.963368\tvalid_0's binary_logloss: 0.214586\n",
      "[260]\tvalid_0's auc: 0.963371\tvalid_0's binary_logloss: 0.214472\n",
      "[270]\tvalid_0's auc: 0.963363\tvalid_0's binary_logloss: 0.214376\n",
      "[280]\tvalid_0's auc: 0.963346\tvalid_0's binary_logloss: 0.214284\n",
      "[290]\tvalid_0's auc: 0.963331\tvalid_0's binary_logloss: 0.214222\n",
      "[300]\tvalid_0's auc: 0.963288\tvalid_0's binary_logloss: 0.21418\n",
      "[310]\tvalid_0's auc: 0.96328\tvalid_0's binary_logloss: 0.214135\n",
      "[320]\tvalid_0's auc: 0.963279\tvalid_0's binary_logloss: 0.214111\n",
      "[330]\tvalid_0's auc: 0.963271\tvalid_0's binary_logloss: 0.214088\n",
      "[340]\tvalid_0's auc: 0.963236\tvalid_0's binary_logloss: 0.214098\n",
      "[350]\tvalid_0's auc: 0.963237\tvalid_0's binary_logloss: 0.214114\n",
      "Top four(7101 total cases) has 66.37214683917114% positives cases being predicted\n",
      "Gini value is 0.9214374272791754\n",
      "Top four(1825 total cases) has 68.60269360269359% positives cases being predicted\n",
      "Gini value is 0.9265574909633508\n",
      "LGB - METRICS\n",
      "LGB: Train_score: 0.9608 valid_score: 0.9634\n",
      "LGB: train_vdr score: 0.6816030293467971\n",
      "LGB: valid_vdr score: 0.6885521885521886\n",
      "LGB: Train_score: 0.7926 valid_score: 0.8063\n",
      "[10]\tvalid_0's auc: 0.959128\tvalid_0's binary_logloss: 0.47061\n"
     ]
    },
    {
     "name": "stderr",
     "output_type": "stream",
     "text": [
      "/opt/conda/lib/python3.7/site-packages/lightgbm/sklearn.py:726: UserWarning: 'early_stopping_rounds' argument is deprecated and will be removed in a future release of LightGBM. Pass 'early_stopping()' callback via 'callbacks' argument instead.\n",
      "  _log_warning(\"'early_stopping_rounds' argument is deprecated and will be removed in a future release of LightGBM. \"\n",
      "/opt/conda/lib/python3.7/site-packages/lightgbm/sklearn.py:736: UserWarning: 'verbose' argument is deprecated and will be removed in a future release of LightGBM. Pass 'log_evaluation()' callback via 'callbacks' argument instead.\n",
      "  _log_warning(\"'verbose' argument is deprecated and will be removed in a future release of LightGBM. \"\n"
     ]
    },
    {
     "name": "stdout",
     "output_type": "stream",
     "text": [
      "[20]\tvalid_0's auc: 0.959366\tvalid_0's binary_logloss: 0.404914\n",
      "[30]\tvalid_0's auc: 0.960184\tvalid_0's binary_logloss: 0.358757\n",
      "[40]\tvalid_0's auc: 0.960241\tvalid_0's binary_logloss: 0.325112\n",
      "[50]\tvalid_0's auc: 0.960458\tvalid_0's binary_logloss: 0.300047\n",
      "[60]\tvalid_0's auc: 0.960619\tvalid_0's binary_logloss: 0.281112\n",
      "[70]\tvalid_0's auc: 0.960639\tvalid_0's binary_logloss: 0.266681\n",
      "[80]\tvalid_0's auc: 0.960661\tvalid_0's binary_logloss: 0.255603\n",
      "[90]\tvalid_0's auc: 0.96072\tvalid_0's binary_logloss: 0.247151\n",
      "[100]\tvalid_0's auc: 0.960728\tvalid_0's binary_logloss: 0.240591\n",
      "[110]\tvalid_0's auc: 0.961129\tvalid_0's binary_logloss: 0.235459\n",
      "[120]\tvalid_0's auc: 0.961093\tvalid_0's binary_logloss: 0.231467\n",
      "[130]\tvalid_0's auc: 0.961385\tvalid_0's binary_logloss: 0.228357\n",
      "[140]\tvalid_0's auc: 0.961408\tvalid_0's binary_logloss: 0.225914\n",
      "[150]\tvalid_0's auc: 0.961412\tvalid_0's binary_logloss: 0.224007\n",
      "[160]\tvalid_0's auc: 0.961429\tvalid_0's binary_logloss: 0.222482\n",
      "[170]\tvalid_0's auc: 0.961429\tvalid_0's binary_logloss: 0.221285\n",
      "[180]\tvalid_0's auc: 0.961431\tvalid_0's binary_logloss: 0.220362\n",
      "[190]\tvalid_0's auc: 0.961426\tvalid_0's binary_logloss: 0.219634\n",
      "[200]\tvalid_0's auc: 0.961421\tvalid_0's binary_logloss: 0.219059\n",
      "[210]\tvalid_0's auc: 0.961424\tvalid_0's binary_logloss: 0.2186\n",
      "[220]\tvalid_0's auc: 0.961424\tvalid_0's binary_logloss: 0.218251\n",
      "[230]\tvalid_0's auc: 0.96143\tvalid_0's binary_logloss: 0.217966\n",
      "[240]\tvalid_0's auc: 0.961435\tvalid_0's binary_logloss: 0.21775\n",
      "[250]\tvalid_0's auc: 0.961437\tvalid_0's binary_logloss: 0.21758\n",
      "[260]\tvalid_0's auc: 0.961425\tvalid_0's binary_logloss: 0.21745\n",
      "[270]\tvalid_0's auc: 0.961527\tvalid_0's binary_logloss: 0.217356\n",
      "[280]\tvalid_0's auc: 0.961528\tvalid_0's binary_logloss: 0.217259\n",
      "[290]\tvalid_0's auc: 0.961471\tvalid_0's binary_logloss: 0.217192\n",
      "[300]\tvalid_0's auc: 0.961484\tvalid_0's binary_logloss: 0.217136\n",
      "[310]\tvalid_0's auc: 0.961487\tvalid_0's binary_logloss: 0.217099\n",
      "[320]\tvalid_0's auc: 0.961481\tvalid_0's binary_logloss: 0.217072\n",
      "[330]\tvalid_0's auc: 0.96147\tvalid_0's binary_logloss: 0.217059\n",
      "[340]\tvalid_0's auc: 0.961465\tvalid_0's binary_logloss: 0.217034\n",
      "[350]\tvalid_0's auc: 0.961453\tvalid_0's binary_logloss: 0.217023\n",
      "[360]\tvalid_0's auc: 0.961451\tvalid_0's binary_logloss: 0.217009\n",
      "[370]\tvalid_0's auc: 0.961444\tvalid_0's binary_logloss: 0.217005\n",
      "[380]\tvalid_0's auc: 0.961439\tvalid_0's binary_logloss: 0.217002\n",
      "Top four(7129 total cases) has 66.68419945297707% positives cases being predicted\n",
      "Gini value is 0.92256827449131\n",
      "Top four(1797 total cases) has 67.35380732015145% positives cases being predicted\n",
      "Gini value is 0.9229978555627868\n",
      "LGB - METRICS\n",
      "LGB: Train_score: 0.9613 valid_score: 0.9615\n",
      "LGB: train_vdr score: 0.6815695350305071\n",
      "LGB: valid_vdr score: 0.6811106436684897\n",
      "LGB: Train_score: 0.7947 valid_score: 0.7983\n"
     ]
    }
   ],
   "source": [
    "stage2Models = []\n",
    "\n",
    "for _ in modelNum:\n",
    "    folds = StratifiedKFold(n_splits= 5, shuffle=True, random_state=_)\n",
    "\n",
    "    for n_fold, (train_idx, valid_idx) in enumerate(folds.split(holdout_x, holdout_y)):\n",
    "        train_x, train_y = holdout_x.iloc[train_idx], holdout_y.iloc[train_idx]\n",
    "        valid_x, valid_y = holdout_x.iloc[valid_idx], holdout_y.iloc[valid_idx]\n",
    "        \n",
    "        gbm = lgb.LGBMClassifier(\n",
    "            objective='binary', \n",
    "            boosting_type='gbdt',\n",
    "            max_depth=3, \n",
    "            learning_rate=0.02,\n",
    "            n_estimators=1200,\n",
    "            class_weight = {1:1,0:1},\n",
    "            min_child_samples = 20,\n",
    "            subsample = 1,\n",
    "            colsample_bytree = 1,\n",
    "            reg_alpha = 5,\n",
    "            reg_lambda = 5,\n",
    "            # n_jobs = 4,\n",
    "            random_state = _,\n",
    "        )\n",
    "        \n",
    "        gbm.fit(train_x, \n",
    "                train_y, \n",
    "                eval_set=[(valid_x, valid_y)], \n",
    "                eval_metric='auc', \n",
    "                early_stopping_rounds=100,\n",
    "                verbose = 10)\n",
    "        \n",
    "        evaluation(gbm, train_x, valid_x, performanceROC, performanceSCORE)\n",
    "    \n",
    "        stage2Models.append(gbm)        "
   ]
  },
  {
   "cell_type": "code",
   "execution_count": 17,
   "id": "1a0f5329",
   "metadata": {
    "execution": {
     "iopub.execute_input": "2022-07-14T16:07:16.794933Z",
     "iopub.status.busy": "2022-07-14T16:07:16.794032Z",
     "iopub.status.idle": "2022-07-14T16:07:37.788980Z",
     "shell.execute_reply": "2022-07-14T16:07:37.787968Z"
    },
    "papermill": {
     "duration": 21.022466,
     "end_time": "2022-07-14T16:07:37.791598",
     "exception": false,
     "start_time": "2022-07-14T16:07:16.769132",
     "status": "completed"
    },
    "tags": []
   },
   "outputs": [],
   "source": [
    "testList = []\n",
    "\n",
    "for i in range(1,8):\n",
    "    testList.append(pd.read_pickle(f'../input/amexlgbselectedfeatures/test{i}.pkl'))"
   ]
  },
  {
   "cell_type": "code",
   "execution_count": 18,
   "id": "77820b8d",
   "metadata": {
    "execution": {
     "iopub.execute_input": "2022-07-14T16:07:37.842446Z",
     "iopub.status.busy": "2022-07-14T16:07:37.841659Z",
     "iopub.status.idle": "2022-07-14T16:41:52.475663Z",
     "shell.execute_reply": "2022-07-14T16:41:52.474266Z"
    },
    "papermill": {
     "duration": 2054.662705,
     "end_time": "2022-07-14T16:41:52.478388",
     "exception": false,
     "start_time": "2022-07-14T16:07:37.815683",
     "status": "completed"
    },
    "tags": []
   },
   "outputs": [
    {
     "name": "stdout",
     "output_type": "stream",
     "text": [
      "m0_0_0\n",
      "m0_1_0\n",
      "m0_2_0\n",
      "m0_3_0\n",
      "m0_4_0\n",
      "m0_0_1\n",
      "m0_1_1\n",
      "m0_2_1\n",
      "m0_3_1\n",
      "m0_4_1\n",
      "m0_0_2\n",
      "m0_1_2\n",
      "m0_2_2\n",
      "m0_3_2\n",
      "m0_4_2\n",
      "m0_0_3\n",
      "m0_1_3\n",
      "m0_2_3\n",
      "m0_3_3\n",
      "m0_4_3\n",
      "m0_0_4\n",
      "m0_1_4\n",
      "m0_2_4\n",
      "m0_3_4\n",
      "m0_4_4\n",
      "m1_0_0\n",
      "m1_1_0\n",
      "m1_2_0\n",
      "m1_3_0\n",
      "m1_4_0\n",
      "m1_0_1\n",
      "m1_1_1\n",
      "m1_2_1\n",
      "m1_3_1\n",
      "m1_4_1\n",
      "m1_0_2\n",
      "m1_1_2\n",
      "m1_2_2\n",
      "m1_3_2\n",
      "m1_4_2\n",
      "m1_0_3\n",
      "m1_1_3\n",
      "m1_2_3\n",
      "m1_3_3\n",
      "m1_4_3\n",
      "m1_0_4\n",
      "m1_1_4\n",
      "m1_2_4\n",
      "m1_3_4\n",
      "m1_4_4\n",
      "m2_0_0\n",
      "m2_1_0\n",
      "m2_2_0\n",
      "m2_3_0\n",
      "m2_4_0\n",
      "m2_0_1\n",
      "m2_1_1\n",
      "m2_2_1\n",
      "m2_3_1\n",
      "m2_4_1\n",
      "m2_0_2\n",
      "m2_1_2\n",
      "m2_2_2\n",
      "m2_3_2\n",
      "m2_4_2\n",
      "m2_0_3\n",
      "m2_1_3\n",
      "m2_2_3\n",
      "m2_3_3\n",
      "m2_4_3\n",
      "m2_0_4\n",
      "m2_1_4\n",
      "m2_2_4\n",
      "m2_3_4\n",
      "m2_4_4\n",
      "m3_0_0\n",
      "m3_1_0\n",
      "m3_2_0\n",
      "m3_3_0\n",
      "m3_4_0\n",
      "m3_0_1\n",
      "m3_1_1\n",
      "m3_2_1\n",
      "m3_3_1\n",
      "m3_4_1\n",
      "m3_0_2\n",
      "m3_1_2\n",
      "m3_2_2\n",
      "m3_3_2\n",
      "m3_4_2\n",
      "m3_0_3\n",
      "m3_1_3\n",
      "m3_2_3\n",
      "m3_3_3\n",
      "m3_4_3\n",
      "m3_0_4\n",
      "m3_1_4\n",
      "m3_2_4\n",
      "m3_3_4\n",
      "m3_4_4\n",
      "m4_0_0\n",
      "m4_1_0\n",
      "m4_2_0\n",
      "m4_3_0\n",
      "m4_4_0\n",
      "m4_0_1\n",
      "m4_1_1\n",
      "m4_2_1\n",
      "m4_3_1\n",
      "m4_4_1\n",
      "m4_0_2\n",
      "m4_1_2\n",
      "m4_2_2\n",
      "m4_3_2\n",
      "m4_4_2\n",
      "m4_0_3\n",
      "m4_1_3\n",
      "m4_2_3\n",
      "m4_3_3\n",
      "m4_4_3\n",
      "m4_0_4\n",
      "m4_1_4\n",
      "m4_2_4\n",
      "m4_3_4\n",
      "m4_4_4\n",
      "m5_0_0\n",
      "m5_1_0\n",
      "m5_2_0\n",
      "m5_3_0\n",
      "m5_4_0\n",
      "m5_0_1\n",
      "m5_1_1\n",
      "m5_2_1\n",
      "m5_3_1\n",
      "m5_4_1\n",
      "m5_0_2\n",
      "m5_1_2\n",
      "m5_2_2\n",
      "m5_3_2\n",
      "m5_4_2\n",
      "m5_0_3\n",
      "m5_1_3\n",
      "m5_2_3\n",
      "m5_3_3\n",
      "m5_4_3\n",
      "m5_0_4\n",
      "m5_1_4\n",
      "m5_2_4\n",
      "m5_3_4\n",
      "m5_4_4\n",
      "m6_0_0\n",
      "m6_1_0\n",
      "m6_2_0\n",
      "m6_3_0\n",
      "m6_4_0\n",
      "m6_0_1\n",
      "m6_1_1\n",
      "m6_2_1\n",
      "m6_3_1\n",
      "m6_4_1\n",
      "m6_0_2\n",
      "m6_1_2\n",
      "m6_2_2\n",
      "m6_3_2\n",
      "m6_4_2\n",
      "m6_0_3\n",
      "m6_1_3\n",
      "m6_2_3\n",
      "m6_3_3\n",
      "m6_4_3\n",
      "m6_0_4\n",
      "m6_1_4\n",
      "m6_2_4\n",
      "m6_3_4\n",
      "m6_4_4\n"
     ]
    }
   ],
   "source": [
    "for d in range(0,7):\n",
    "    temp = testList[d].copy()\n",
    "    for idx,model in enumerate(models):\n",
    "        for i in range(len(model)):\n",
    "            testList[d][f'm_{i}_{idx}'] = model[i].predict_proba(temp)[:,1]\n",
    "            print(f'm{d}_{i}_{idx}')\n",
    "    del temp\n",
    "    gc.collect()"
   ]
  },
  {
   "cell_type": "code",
   "execution_count": 19,
   "id": "ff6fc269",
   "metadata": {
    "execution": {
     "iopub.execute_input": "2022-07-14T16:41:52.546099Z",
     "iopub.status.busy": "2022-07-14T16:41:52.545066Z",
     "iopub.status.idle": "2022-07-14T16:41:57.615688Z",
     "shell.execute_reply": "2022-07-14T16:41:57.614316Z"
    },
    "papermill": {
     "duration": 5.108155,
     "end_time": "2022-07-14T16:41:57.619090",
     "exception": false,
     "start_time": "2022-07-14T16:41:52.510935",
     "status": "completed"
    },
    "tags": []
   },
   "outputs": [],
   "source": [
    "with open('testList.pickle','wb') as file:\n",
    "    pickle.dump(testList,file)"
   ]
  },
  {
   "cell_type": "code",
   "execution_count": 20,
   "id": "13107def",
   "metadata": {
    "execution": {
     "iopub.execute_input": "2022-07-14T16:41:58.249535Z",
     "iopub.status.busy": "2022-07-14T16:41:58.246375Z",
     "iopub.status.idle": "2022-07-14T16:41:59.269372Z",
     "shell.execute_reply": "2022-07-14T16:41:59.268154Z"
    },
    "papermill": {
     "duration": 1.438854,
     "end_time": "2022-07-14T16:41:59.272068",
     "exception": false,
     "start_time": "2022-07-14T16:41:57.833214",
     "status": "completed"
    },
    "tags": []
   },
   "outputs": [],
   "source": [
    "for i in range(len(testList)):\n",
    "    testList[i] = testList[i].iloc[:,-25:]\n",
    "    gc.collect()"
   ]
  },
  {
   "cell_type": "code",
   "execution_count": 21,
   "id": "191a0869",
   "metadata": {
    "execution": {
     "iopub.execute_input": "2022-07-14T16:41:59.338775Z",
     "iopub.status.busy": "2022-07-14T16:41:59.337987Z",
     "iopub.status.idle": "2022-07-14T16:42:22.307664Z",
     "shell.execute_reply": "2022-07-14T16:42:22.306397Z"
    },
    "papermill": {
     "duration": 23.00632,
     "end_time": "2022-07-14T16:42:22.310685",
     "exception": false,
     "start_time": "2022-07-14T16:41:59.304365",
     "status": "completed"
    },
    "tags": []
   },
   "outputs": [
    {
     "name": "stdout",
     "output_type": "stream",
     "text": [
      "924621\n",
      "924621\n",
      "924621\n",
      "924621\n",
      "924621\n"
     ]
    }
   ],
   "source": [
    "result = []\n",
    "for model in stage2Models:\n",
    "    array = []\n",
    "    for i in range(0,7):\n",
    "        array+=list(model.predict_proba(testList[i])[:,1])   \n",
    "    \n",
    "    gc.collect() \n",
    "    print(len(array))                 \n",
    "    result.append(array)  "
   ]
  },
  {
   "cell_type": "code",
   "execution_count": 22,
   "id": "bc8622d1",
   "metadata": {
    "execution": {
     "iopub.execute_input": "2022-07-14T16:42:22.378942Z",
     "iopub.status.busy": "2022-07-14T16:42:22.378549Z",
     "iopub.status.idle": "2022-07-14T16:42:22.590007Z",
     "shell.execute_reply": "2022-07-14T16:42:22.588840Z"
    },
    "papermill": {
     "duration": 0.247432,
     "end_time": "2022-07-14T16:42:22.592355",
     "exception": false,
     "start_time": "2022-07-14T16:42:22.344923",
     "status": "completed"
    },
    "tags": []
   },
   "outputs": [],
   "source": [
    "combined = np.mean(np.array(result),axis=0)"
   ]
  },
  {
   "cell_type": "code",
   "execution_count": 23,
   "id": "b6970aa6",
   "metadata": {
    "execution": {
     "iopub.execute_input": "2022-07-14T16:42:22.660312Z",
     "iopub.status.busy": "2022-07-14T16:42:22.659601Z",
     "iopub.status.idle": "2022-07-14T16:42:27.033896Z",
     "shell.execute_reply": "2022-07-14T16:42:27.032919Z"
    },
    "papermill": {
     "duration": 4.410982,
     "end_time": "2022-07-14T16:42:27.036491",
     "exception": false,
     "start_time": "2022-07-14T16:42:22.625509",
     "status": "completed"
    },
    "tags": []
   },
   "outputs": [],
   "source": [
    "ids = pd.read_pickle('../input/amexlgbselectedfeatures/ids.pkl')\n",
    "submission = pd.DataFrame({'customer_ID':ids,'prediction':combined})\n",
    "submission.to_csv('submission.csv',index=False)"
   ]
  },
  {
   "cell_type": "code",
   "execution_count": 24,
   "id": "12732184",
   "metadata": {
    "execution": {
     "iopub.execute_input": "2022-07-14T16:42:27.104469Z",
     "iopub.status.busy": "2022-07-14T16:42:27.103843Z",
     "iopub.status.idle": "2022-07-14T16:42:31.215178Z",
     "shell.execute_reply": "2022-07-14T16:42:31.213222Z"
    },
    "papermill": {
     "duration": 4.149019,
     "end_time": "2022-07-14T16:42:31.218136",
     "exception": false,
     "start_time": "2022-07-14T16:42:27.069117",
     "status": "completed"
    },
    "tags": []
   },
   "outputs": [
    {
     "name": "stderr",
     "output_type": "stream",
     "text": [
      "/opt/conda/lib/python3.7/site-packages/seaborn/distributions.py:2619: FutureWarning: `distplot` is a deprecated function and will be removed in a future version. Please adapt your code to use either `displot` (a figure-level function with similar flexibility) or `histplot` (an axes-level function for histograms).\n",
      "  warnings.warn(msg, FutureWarning)\n"
     ]
    },
    {
     "name": "stdout",
     "output_type": "stream",
     "text": [
      "count    924621.000000\n",
      "mean          0.252619\n",
      "std           0.331128\n",
      "min           0.004472\n",
      "25%           0.006775\n",
      "50%           0.044823\n",
      "75%           0.460001\n",
      "max           0.980609\n",
      "Name: prediction, dtype: float64\n",
      "41061\n"
     ]
    },
    {
     "data": {
      "image/png": "[encoded data removed]",
      "text/plain": [
       "<Figure size 432x288 with 1 Axes>"
      ]
     },
     "metadata": {
      "needs_background": "light"
     },
     "output_type": "display_data"
    }
   ],
   "source": [
    "def plot_submission(df):  \n",
    "    sns.distplot(df['prediction'])\n",
    "    print(df['prediction'].describe())\n",
    "    print(len(df[df['prediction']>0.95]))\n",
    "    plt.show()\n",
    "\n",
    "plot_submission(submission)"
   ]
  },
  {
   "cell_type": "code",
   "execution_count": 25,
   "id": "029fca75",
   "metadata": {
    "execution": {
     "iopub.execute_input": "2022-07-14T16:42:31.302409Z",
     "iopub.status.busy": "2022-07-14T16:42:31.302030Z",
     "iopub.status.idle": "2022-07-14T16:42:31.306543Z",
     "shell.execute_reply": "2022-07-14T16:42:31.305505Z"
    },
    "papermill": {
     "duration": 0.044285,
     "end_time": "2022-07-14T16:42:31.308957",
     "exception": false,
     "start_time": "2022-07-14T16:42:31.264672",
     "status": "completed"
    },
    "tags": []
   },
   "outputs": [],
   "source": [
    "# submission['prediction'] *= .99\n",
    "# submission.to_csv('submission.csv',index=FaAalse)"
   ]
  },
  {
   "cell_type": "code",
   "execution_count": 26,
   "id": "68486f81",
   "metadata": {
    "execution": {
     "iopub.execute_input": "2022-07-14T16:42:31.382873Z",
     "iopub.status.busy": "2022-07-14T16:42:31.381761Z",
     "iopub.status.idle": "2022-07-14T16:42:31.386625Z",
     "shell.execute_reply": "2022-07-14T16:42:31.385559Z"
    },
    "papermill": {
     "duration": 0.043529,
     "end_time": "2022-07-14T16:42:31.388698",
     "exception": false,
     "start_time": "2022-07-14T16:42:31.345169",
     "status": "completed"
    },
    "tags": []
   },
   "outputs": [],
   "source": [
    "# submission['prediction'] /= 0.99\n",
    "# submission.to_csv('submission.csv',index=False)"
   ]
  },
  {
   "cell_type": "code",
   "execution_count": 27,
   "id": "4f037cd7",
   "metadata": {
    "execution": {
     "iopub.execute_input": "2022-07-14T16:42:31.459820Z",
     "iopub.status.busy": "2022-07-14T16:42:31.458814Z",
     "iopub.status.idle": "2022-07-14T16:42:31.463349Z",
     "shell.execute_reply": "2022-07-14T16:42:31.462583Z"
    },
    "papermill": {
     "duration": 0.042243,
     "end_time": "2022-07-14T16:42:31.465278",
     "exception": false,
     "start_time": "2022-07-14T16:42:31.423035",
     "status": "completed"
    },
    "tags": []
   },
   "outputs": [],
   "source": [
    "# plot_submission(submission)"
   ]
  },
  {
   "cell_type": "code",
   "execution_count": null,
   "id": "92dd74c6",
   "metadata": {
    "papermill": {
     "duration": 0.037351,
     "end_time": "2022-07-14T16:42:31.539687",
     "exception": false,
     "start_time": "2022-07-14T16:42:31.502336",
     "status": "completed"
    },
    "tags": []
   },
   "outputs": [],
   "source": []
  }
 ],
 "metadata": {
  "kernelspec": {
   "display_name": "Python 3",
   "language": "python",
   "name": "python3"
  },
  "language_info": {
   "codemirror_mode": {
    "name": "ipython",
    "version": 3
   },
   "file_extension": ".py",
   "mimetype": "text/x-python",
   "name": "python",
   "nbconvert_exporter": "python",
   "pygments_lexer": "ipython3",
   "version": "3.7.12"
  },
  "papermill": {
   "default_parameters": {},
   "duration": 24070.525228,
   "end_time": "2022-07-14T16:42:33.237143",
   "environment_variables": {},
   "exception": null,
   "input_path": "__notebook__.ipynb",
   "output_path": "__notebook__.ipynb",
   "parameters": {},
   "start_time": "2022-07-14T10:01:22.711915",
   "version": "2.3.4"
  }
 },
 "nbformat": 4,
 "nbformat_minor": 5
}
