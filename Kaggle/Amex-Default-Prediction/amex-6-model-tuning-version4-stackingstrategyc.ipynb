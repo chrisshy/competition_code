{
 "cells": [
  {
   "cell_type": "markdown",
   "id": "cd15414f",
   "metadata": {
    "papermill": {
     "duration": 0.009357,
     "end_time": "2022-07-23T14:07:01.916313",
     "exception": false,
     "start_time": "2022-07-23T14:07:01.906956",
     "status": "completed"
    },
    "tags": []
   },
   "source": [
    "# Amex - Model Part\n",
    "\n",
    "\n",
    "This is a starter code template for model tuning \n",
    "\n",
    "##### DDL: 7.21(Meet on 7.14)\n",
    "##### Deliverables: code(shown above)\n",
    "\n",
    "Data Address: https://www.kaggle.com/datasets/hongyishao/amexshycombinedfeatures\n",
    "\n",
    "#### Explaination:\n",
    "- '../input/amexshycombinedfeatures/trainRFCVSelected.pkl' -> Final combined Data with 600 features\n",
    "- '../input/amexshycombinedfeatures/trainKsSelected.pkl' -> Use KS to select from 1299 to 800\n",
    "- '../input/amexshycombinedfeatures/trainClean.pkl' -> Just combine and clean without selection\n",
    "\n",
    "Features' Dictionary: https://docs.google.com/spreadsheets/d/1UsodGz_lkmzVmvweA_0YZZwRoB2VBpdAVuEuPtb38wI/edit?usp=sharing\n",
    "\n",
    "### Details\n",
    "\n",
    "- Hongyi: XGBOOST,CATBOOST MODEL TUNING + MODEL STACKING\n",
    "- Delivables: Model performance in Excel sheet, a stacking function\n",
    "\n",
    "\n",
    "- Duanmu: MODEL BLENDING METHOD RESEARCH(RANK,WEIGHT,...)\n",
    "- Delivables: A blending function and improved performance better than the records in Excel Sheet\n",
    "\n",
    "\n",
    "- Ziyi: LR,SVM,BAYES,RF,LIGHTGBM MODEL TUNING\n",
    "- Delivables: Model performance in Excel sheet\n",
    "\n",
    "\n",
    "- Haobo: TUNING NN MODELS PARAMETERS\n",
    "- Delivables: NN code + performance record\n"
   ]
  },
  {
   "cell_type": "code",
   "execution_count": 1,
   "id": "cea72e6a",
   "metadata": {
    "execution": {
     "iopub.execute_input": "2022-07-23T14:07:01.935558Z",
     "iopub.status.busy": "2022-07-23T14:07:01.935026Z",
     "iopub.status.idle": "2022-07-23T14:07:04.861004Z",
     "shell.execute_reply": "2022-07-23T14:07:04.859788Z"
    },
    "papermill": {
     "duration": 2.939779,
     "end_time": "2022-07-23T14:07:04.864399",
     "exception": false,
     "start_time": "2022-07-23T14:07:01.924620",
     "status": "completed"
    },
    "tags": []
   },
   "outputs": [
    {
     "data": {
      "text/html": [
       "<style type='text/css'>\n",
       ".datatable table.frame { margin-bottom: 0; }\n",
       ".datatable table.frame thead { border-bottom: none; }\n",
       ".datatable table.frame tr.coltypes td {  color: #FFFFFF;  line-height: 6px;  padding: 0 0.5em;}\n",
       ".datatable .bool    { background: #DDDD99; }\n",
       ".datatable .object  { background: #565656; }\n",
       ".datatable .int     { background: #5D9E5D; }\n",
       ".datatable .float   { background: #4040CC; }\n",
       ".datatable .str     { background: #CC4040; }\n",
       ".datatable .time    { background: #40CC40; }\n",
       ".datatable .row_index {  background: var(--jp-border-color3);  border-right: 1px solid var(--jp-border-color0);  color: var(--jp-ui-font-color3);  font-size: 9px;}\n",
       ".datatable .frame tbody td { text-align: left; }\n",
       ".datatable .frame tr.coltypes .row_index {  background: var(--jp-border-color0);}\n",
       ".datatable th:nth-child(2) { padding-left: 12px; }\n",
       ".datatable .hellipsis {  color: var(--jp-cell-editor-border-color);}\n",
       ".datatable .vellipsis {  background: var(--jp-layout-color0);  color: var(--jp-cell-editor-border-color);}\n",
       ".datatable .na {  color: var(--jp-cell-editor-border-color);  font-size: 80%;}\n",
       ".datatable .sp {  opacity: 0.25;}\n",
       ".datatable .footer { font-size: 9px; }\n",
       ".datatable .frame_dimensions {  background: var(--jp-border-color3);  border-top: 1px solid var(--jp-border-color0);  color: var(--jp-ui-font-color3);  display: inline-block;  opacity: 0.6;  padding: 1px 10px 1px 5px;}\n",
       "</style>\n"
      ],
      "text/plain": [
       "<IPython.core.display.HTML object>"
      ]
     },
     "metadata": {},
     "output_type": "display_data"
    }
   ],
   "source": [
    "import numpy as np\n",
    "import pandas as pd\n",
    "import os\n",
    "\n",
    "import gc\n",
    "import matplotlib.pyplot as plt\n",
    "import seaborn as sns\n",
    "from sklearn.naive_bayes import GaussianNB\n",
    "from sklearn.model_selection import KFold, StratifiedKFold\n",
    "import lightgbm as lgb\n",
    "import xgboost as xgb\n",
    "import sklearn"
   ]
  },
  {
   "cell_type": "code",
   "execution_count": 2,
   "id": "79f0909b",
   "metadata": {
    "execution": {
     "iopub.execute_input": "2022-07-23T14:07:04.882784Z",
     "iopub.status.busy": "2022-07-23T14:07:04.881844Z",
     "iopub.status.idle": "2022-07-23T14:07:30.858771Z",
     "shell.execute_reply": "2022-07-23T14:07:30.857497Z"
    },
    "papermill": {
     "duration": 25.989353,
     "end_time": "2022-07-23T14:07:30.861894",
     "exception": false,
     "start_time": "2022-07-23T14:07:04.872541",
     "status": "completed"
    },
    "tags": []
   },
   "outputs": [],
   "source": [
    "train = pd.read_pickle('../input/amexshycombinedfeatures/train.pkl')\n",
    "trainY = pd.read_pickle('../input/amexshycombinedfeatures/trainY.pkl')"
   ]
  },
  {
   "cell_type": "code",
   "execution_count": 3,
   "id": "b080fb97",
   "metadata": {
    "execution": {
     "iopub.execute_input": "2022-07-23T14:07:30.880864Z",
     "iopub.status.busy": "2022-07-23T14:07:30.879672Z",
     "iopub.status.idle": "2022-07-23T14:07:39.731745Z",
     "shell.execute_reply": "2022-07-23T14:07:39.730165Z"
    },
    "papermill": {
     "duration": 8.865759,
     "end_time": "2022-07-23T14:07:39.735417",
     "exception": false,
     "start_time": "2022-07-23T14:07:30.869658",
     "status": "completed"
    },
    "tags": []
   },
   "outputs": [
    {
     "data": {
      "text/plain": [
       "0"
      ]
     },
     "execution_count": 3,
     "metadata": {},
     "output_type": "execute_result"
    }
   ],
   "source": [
    "train.columns = [f'f_{_}' for _ in range(0,train.shape[1])]\n",
    "for i in train.columns:\n",
    "    if train[i].dtypes == 'object':\n",
    "        train[i]=train[i].apply(lambda x: hash(str(x))%997)\n",
    "import pickle\n",
    "with open('../input/amexshycombinedfeatures/selected1.pickle', 'rb') as file:    \n",
    "    selected1 = pickle.load(file)    \n",
    "with open('../input/amexshycombinedfeatures/selected2.pickle', 'rb') as file:    \n",
    "    selected2 = pickle.load(file)    \n",
    "with open('../input/amexshycombinedfeatures/selected3.pickle', 'rb') as file:    \n",
    "    selected3 = pickle.load(file)    \n",
    "columns = []\n",
    "for i,j,k,l in zip(train.columns,selected1,selected2,selected3):\n",
    "    if j == k == l == True:\n",
    "        columns.append(i)\n",
    "train = train[columns]\n",
    "gc.collect()"
   ]
  },
  {
   "cell_type": "code",
   "execution_count": 4,
   "id": "e6ed3b6c",
   "metadata": {
    "execution": {
     "iopub.execute_input": "2022-07-23T14:07:39.755606Z",
     "iopub.status.busy": "2022-07-23T14:07:39.754788Z",
     "iopub.status.idle": "2022-07-23T14:07:39.781922Z",
     "shell.execute_reply": "2022-07-23T14:07:39.780640Z"
    },
    "papermill": {
     "duration": 0.041036,
     "end_time": "2022-07-23T14:07:39.785709",
     "exception": false,
     "start_time": "2022-07-23T14:07:39.744673",
     "status": "completed"
    },
    "tags": []
   },
   "outputs": [],
   "source": [
    "# model robustness indicator\n",
    "def calc_vdr(pred, actual, vdr_cutoff = 0.2):\n",
    "    # Function to calculate VDR at a given cutoff\n",
    "\n",
    "    df_vdr_train = pd.DataFrame(zip(pred), columns = ['predicted_proba'])\n",
    "    df_vdr_train['actual'] = np.array(actual)\n",
    "    df_vdr_train = df_vdr_train.sort_values(by = 'predicted_proba', ascending = False)\n",
    "    num_bad = df_vdr_train['actual'].sum()\n",
    "    top_20_pct = int(len(df_vdr_train['actual'])*vdr_cutoff)\n",
    "    vdr = df_vdr_train.head(top_20_pct)['actual'].sum()/num_bad\n",
    "    return vdr\n",
    "\n",
    "# evaluation matrix\n",
    "\n",
    "# 4% cutoff measures the true positive rate of the 4% data\n",
    "# positives are given 20x weights\n",
    "# cut_vals   = labels[np.cumsum(weights) <= int(0.04 * np.sum(weights))]\n",
    "# the code above indicates that if we successfully detect more positive cases, we will get less cut_samples\n",
    "# since negative samples have weight of 1, we should have more samples to let cut_vals reach threshold\n",
    "# the top four value equals to the ture positive numbers in cut_vals samples/the number of all true positive samples\n",
    "# therefore, our models should be more sensitive to true positive cases and have a larger true positive rate\n",
    "\n",
    "# gini = 2(ROC-0.5)\n",
    "\n",
    "def amex_metric_mod(y_true, y_pred):\n",
    "\n",
    "    labels     = np.transpose(np.array([y_true, y_pred]))\n",
    "    labels     = labels[labels[:, 1].argsort()[::-1]]\n",
    "    weights    = np.where(labels[:,0]==0, 20, 1)\n",
    "    cut_vals   = labels[np.cumsum(weights) <= int(0.04 * np.sum(weights))]\n",
    "    top_four   = np.sum(cut_vals[:,0]) / np.sum(labels[:,0])\n",
    "    print(f'Top four({len(cut_vals[:,0])} total cases) has {top_four*100}% positives cases being predicted')    \n",
    "\n",
    "    gini = [0,0]\n",
    "    for i in [1,0]:\n",
    "        labels         = np.transpose(np.array([y_true, y_pred]))\n",
    "        labels         = labels[labels[:, i].argsort()[::-1]]\n",
    "        weight         = np.where(labels[:,0]==0, 20, 1)\n",
    "        weight_random  = np.cumsum(weight / np.sum(weight))\n",
    "        total_pos      = np.sum(labels[:, 0] *  weight)\n",
    "        cum_pos_found  = np.cumsum(labels[:, 0] * weight)\n",
    "        lorentz        = cum_pos_found / total_pos\n",
    "        gini[i]        = np.sum((lorentz - weight_random) * weight)\n",
    "    print(f'Gini value is {gini[1]/gini[0]}')\n",
    "    \n",
    "    \n",
    "    return 0.5 * (gini[1]/gini[0] + top_four)\n",
    "\n",
    "# matplotlib\n",
    "def plot_auc(y_test, pred_prob1,pred_prob2,modelname,modelname2):\n",
    "    from sklearn.metrics import roc_curve\n",
    "\n",
    "    # roc curve for models\n",
    "    fpr1, tpr1, thresh1 = roc_curve(y_test, pred_prob1, pos_label=1)\n",
    "    fpr2, tpr2, thresh2 = roc_curve(y_test, pred_prob2, pos_label=1)\n",
    "\n",
    "\n",
    "    # roc curve for tpr = fpr \n",
    "    random_probs = [0 for i in range(len(y_test))]\n",
    "    p_fpr, p_tpr, _ = roc_curve(y_test, random_probs, pos_label=1)\n",
    "\n",
    "    plt.style.use('seaborn')\n",
    "\n",
    "    # plot roc curves\n",
    "    plt.plot(fpr1, tpr1, linestyle='--',color='orange', label=modelname)\n",
    "    plt.plot(fpr2, tpr2, linestyle='--',color='green', label=modelname2)\n",
    "    plt.plot(p_fpr, p_tpr, linestyle='--', color='blue')\n",
    "    # title\n",
    "    plt.title('ROC curve')\n",
    "    # x label\n",
    "    plt.xlabel('False Positive Rate')\n",
    "    # y label\n",
    "    plt.ylabel('True Positive rate')\n",
    "\n",
    "    plt.legend(loc='best')\n",
    "#     plt.savefig('ROC',dpi=)\n",
    "    plt.show()\n",
    "    \n",
    "def evaluation(gbm, train_x, valid_x):\n",
    "    # lightgbm single model evaluation in cv\n",
    "    # predict the valid dataset in cv\n",
    "    train_score_lgm = gbm.predict_proba(train_x)[:,1]\n",
    "    valid_score_lgm = gbm.predict_proba(valid_x)[:,1]\n",
    "    # get roc score\n",
    "    roc_auc_train = sklearn.metrics.roc_auc_score(train_y, train_score_lgm)\n",
    "    roc_auc_valid = sklearn.metrics.roc_auc_score(valid_y, valid_score_lgm)\n",
    "    # get the provided evaluation metrics of Gini and D score\n",
    "    score_train = amex_metric_mod(train_y, train_score_lgm)\n",
    "    score_valid = amex_metric_mod(valid_y, valid_score_lgm)\n",
    "\n",
    "    print('LGB - METRICS')\n",
    "    print('LGB: Train_score: {:.4f} valid_score: {:.4f}'.format(roc_auc_train , roc_auc_valid))\n",
    "    print(f'LGB: train_vdr score: {calc_vdr(train_score_lgm,actual=train_y)}')\n",
    "    print(f'LGB: valid_vdr score: {calc_vdr(valid_score_lgm,actual=valid_y)}')\n",
    "    #joblib.dump(gbm,'./model_shy/lgm'+str(round(sklearn.metrics.roc_auc_score(valid_y, valid_score_lgm),5)).replace('0.','')+'.model')\n",
    "    print('LGB: Train_score: {:.4f} valid_score: {:.4f}'.format(score_train, score_valid))"
   ]
  },
  {
   "cell_type": "code",
   "execution_count": 5,
   "id": "386a9382",
   "metadata": {
    "execution": {
     "iopub.execute_input": "2022-07-23T14:07:39.804569Z",
     "iopub.status.busy": "2022-07-23T14:07:39.803656Z",
     "iopub.status.idle": "2022-07-23T18:14:30.577265Z",
     "shell.execute_reply": "2022-07-23T18:14:30.575690Z"
    },
    "papermill": {
     "duration": 14810.786016,
     "end_time": "2022-07-23T18:14:30.580496",
     "exception": false,
     "start_time": "2022-07-23T14:07:39.794480",
     "status": "completed"
    },
    "tags": []
   },
   "outputs": [
    {
     "name": "stderr",
     "output_type": "stream",
     "text": [
      "/opt/conda/lib/python3.7/site-packages/lightgbm/sklearn.py:726: UserWarning: 'early_stopping_rounds' argument is deprecated and will be removed in a future release of LightGBM. Pass 'early_stopping()' callback via 'callbacks' argument instead.\n",
      "  _log_warning(\"'early_stopping_rounds' argument is deprecated and will be removed in a future release of LightGBM. \"\n",
      "/opt/conda/lib/python3.7/site-packages/lightgbm/sklearn.py:736: UserWarning: 'verbose' argument is deprecated and will be removed in a future release of LightGBM. Pass 'log_evaluation()' callback via 'callbacks' argument instead.\n",
      "  _log_warning(\"'verbose' argument is deprecated and will be removed in a future release of LightGBM. \"\n"
     ]
    },
    {
     "name": "stdout",
     "output_type": "stream",
     "text": [
      "[100]\tvalid_0's auc: 0.957873\tvalid_0's binary_logloss: 0.23137\n",
      "[200]\tvalid_0's auc: 0.96031\tvalid_0's binary_logloss: 0.22152\n",
      "[300]\tvalid_0's auc: 0.961046\tvalid_0's binary_logloss: 0.219281\n",
      "[400]\tvalid_0's auc: 0.961355\tvalid_0's binary_logloss: 0.218394\n",
      "[500]\tvalid_0's auc: 0.961482\tvalid_0's binary_logloss: 0.218031\n",
      "[600]\tvalid_0's auc: 0.961577\tvalid_0's binary_logloss: 0.217776\n",
      "[700]\tvalid_0's auc: 0.961634\tvalid_0's binary_logloss: 0.217641\n",
      "[800]\tvalid_0's auc: 0.961634\tvalid_0's binary_logloss: 0.217689\n"
     ]
    },
    {
     "name": "stderr",
     "output_type": "stream",
     "text": [
      "/opt/conda/lib/python3.7/site-packages/lightgbm/sklearn.py:726: UserWarning: 'early_stopping_rounds' argument is deprecated and will be removed in a future release of LightGBM. Pass 'early_stopping()' callback via 'callbacks' argument instead.\n",
      "  _log_warning(\"'early_stopping_rounds' argument is deprecated and will be removed in a future release of LightGBM. \"\n",
      "/opt/conda/lib/python3.7/site-packages/lightgbm/sklearn.py:736: UserWarning: 'verbose' argument is deprecated and will be removed in a future release of LightGBM. Pass 'log_evaluation()' callback via 'callbacks' argument instead.\n",
      "  _log_warning(\"'verbose' argument is deprecated and will be removed in a future release of LightGBM. \"\n"
     ]
    },
    {
     "name": "stdout",
     "output_type": "stream",
     "text": [
      "[100]\tvalid_0's auc: 0.957875\tvalid_0's binary_logloss: 0.230863\n",
      "[200]\tvalid_0's auc: 0.960187\tvalid_0's binary_logloss: 0.221567\n",
      "[300]\tvalid_0's auc: 0.960969\tvalid_0's binary_logloss: 0.219292\n",
      "[400]\tvalid_0's auc: 0.961275\tvalid_0's binary_logloss: 0.218431\n",
      "[500]\tvalid_0's auc: 0.961405\tvalid_0's binary_logloss: 0.21809\n",
      "[600]\tvalid_0's auc: 0.961425\tvalid_0's binary_logloss: 0.218071\n",
      "[700]\tvalid_0's auc: 0.96145\tvalid_0's binary_logloss: 0.218074\n"
     ]
    },
    {
     "name": "stderr",
     "output_type": "stream",
     "text": [
      "/opt/conda/lib/python3.7/site-packages/lightgbm/sklearn.py:726: UserWarning: 'early_stopping_rounds' argument is deprecated and will be removed in a future release of LightGBM. Pass 'early_stopping()' callback via 'callbacks' argument instead.\n",
      "  _log_warning(\"'early_stopping_rounds' argument is deprecated and will be removed in a future release of LightGBM. \"\n",
      "/opt/conda/lib/python3.7/site-packages/lightgbm/sklearn.py:736: UserWarning: 'verbose' argument is deprecated and will be removed in a future release of LightGBM. Pass 'log_evaluation()' callback via 'callbacks' argument instead.\n",
      "  _log_warning(\"'verbose' argument is deprecated and will be removed in a future release of LightGBM. \"\n"
     ]
    },
    {
     "name": "stdout",
     "output_type": "stream",
     "text": [
      "[100]\tvalid_0's auc: 0.958827\tvalid_0's binary_logloss: 0.22859\n",
      "[200]\tvalid_0's auc: 0.961239\tvalid_0's binary_logloss: 0.218898\n",
      "[300]\tvalid_0's auc: 0.961979\tvalid_0's binary_logloss: 0.216625\n",
      "[400]\tvalid_0's auc: 0.962257\tvalid_0's binary_logloss: 0.215805\n",
      "[500]\tvalid_0's auc: 0.962409\tvalid_0's binary_logloss: 0.21538\n",
      "[600]\tvalid_0's auc: 0.962493\tvalid_0's binary_logloss: 0.21515\n",
      "[700]\tvalid_0's auc: 0.962544\tvalid_0's binary_logloss: 0.21501\n",
      "[800]\tvalid_0's auc: 0.962559\tvalid_0's binary_logloss: 0.215016\n"
     ]
    },
    {
     "name": "stderr",
     "output_type": "stream",
     "text": [
      "/opt/conda/lib/python3.7/site-packages/lightgbm/sklearn.py:726: UserWarning: 'early_stopping_rounds' argument is deprecated and will be removed in a future release of LightGBM. Pass 'early_stopping()' callback via 'callbacks' argument instead.\n",
      "  _log_warning(\"'early_stopping_rounds' argument is deprecated and will be removed in a future release of LightGBM. \"\n",
      "/opt/conda/lib/python3.7/site-packages/lightgbm/sklearn.py:736: UserWarning: 'verbose' argument is deprecated and will be removed in a future release of LightGBM. Pass 'log_evaluation()' callback via 'callbacks' argument instead.\n",
      "  _log_warning(\"'verbose' argument is deprecated and will be removed in a future release of LightGBM. \"\n"
     ]
    },
    {
     "name": "stdout",
     "output_type": "stream",
     "text": [
      "[100]\tvalid_0's auc: 0.958422\tvalid_0's binary_logloss: 0.229782\n",
      "[200]\tvalid_0's auc: 0.96056\tvalid_0's binary_logloss: 0.220699\n",
      "[300]\tvalid_0's auc: 0.96123\tvalid_0's binary_logloss: 0.218652\n",
      "[400]\tvalid_0's auc: 0.961515\tvalid_0's binary_logloss: 0.217847\n",
      "[500]\tvalid_0's auc: 0.961645\tvalid_0's binary_logloss: 0.217513\n",
      "[600]\tvalid_0's auc: 0.961713\tvalid_0's binary_logloss: 0.217347\n",
      "[700]\tvalid_0's auc: 0.961739\tvalid_0's binary_logloss: 0.21732\n",
      "[800]\tvalid_0's auc: 0.961765\tvalid_0's binary_logloss: 0.217305\n"
     ]
    },
    {
     "name": "stderr",
     "output_type": "stream",
     "text": [
      "/opt/conda/lib/python3.7/site-packages/lightgbm/sklearn.py:726: UserWarning: 'early_stopping_rounds' argument is deprecated and will be removed in a future release of LightGBM. Pass 'early_stopping()' callback via 'callbacks' argument instead.\n",
      "  _log_warning(\"'early_stopping_rounds' argument is deprecated and will be removed in a future release of LightGBM. \"\n",
      "/opt/conda/lib/python3.7/site-packages/lightgbm/sklearn.py:736: UserWarning: 'verbose' argument is deprecated and will be removed in a future release of LightGBM. Pass 'log_evaluation()' callback via 'callbacks' argument instead.\n",
      "  _log_warning(\"'verbose' argument is deprecated and will be removed in a future release of LightGBM. \"\n"
     ]
    },
    {
     "name": "stdout",
     "output_type": "stream",
     "text": [
      "[100]\tvalid_0's auc: 0.957639\tvalid_0's binary_logloss: 0.231379\n",
      "[200]\tvalid_0's auc: 0.959998\tvalid_0's binary_logloss: 0.222134\n",
      "[300]\tvalid_0's auc: 0.960761\tvalid_0's binary_logloss: 0.219892\n",
      "[400]\tvalid_0's auc: 0.96105\tvalid_0's binary_logloss: 0.219077\n",
      "[500]\tvalid_0's auc: 0.961203\tvalid_0's binary_logloss: 0.218659\n",
      "[600]\tvalid_0's auc: 0.961248\tvalid_0's binary_logloss: 0.218543\n",
      "[700]\tvalid_0's auc: 0.961292\tvalid_0's binary_logloss: 0.218465\n",
      "[800]\tvalid_0's auc: 0.961278\tvalid_0's binary_logloss: 0.218559\n"
     ]
    },
    {
     "name": "stderr",
     "output_type": "stream",
     "text": [
      "/opt/conda/lib/python3.7/site-packages/lightgbm/sklearn.py:726: UserWarning: 'early_stopping_rounds' argument is deprecated and will be removed in a future release of LightGBM. Pass 'early_stopping()' callback via 'callbacks' argument instead.\n",
      "  _log_warning(\"'early_stopping_rounds' argument is deprecated and will be removed in a future release of LightGBM. \"\n",
      "/opt/conda/lib/python3.7/site-packages/lightgbm/sklearn.py:736: UserWarning: 'verbose' argument is deprecated and will be removed in a future release of LightGBM. Pass 'log_evaluation()' callback via 'callbacks' argument instead.\n",
      "  _log_warning(\"'verbose' argument is deprecated and will be removed in a future release of LightGBM. \"\n"
     ]
    },
    {
     "name": "stdout",
     "output_type": "stream",
     "text": [
      "[100]\tvalid_0's auc: 0.958538\tvalid_0's binary_logloss: 0.229556\n",
      "[200]\tvalid_0's auc: 0.961006\tvalid_0's binary_logloss: 0.219587\n",
      "[300]\tvalid_0's auc: 0.96173\tvalid_0's binary_logloss: 0.21734\n",
      "[400]\tvalid_0's auc: 0.962031\tvalid_0's binary_logloss: 0.216434\n",
      "[500]\tvalid_0's auc: 0.962171\tvalid_0's binary_logloss: 0.216006\n",
      "[600]\tvalid_0's auc: 0.962276\tvalid_0's binary_logloss: 0.215708\n",
      "[700]\tvalid_0's auc: 0.962351\tvalid_0's binary_logloss: 0.215523\n",
      "[800]\tvalid_0's auc: 0.962364\tvalid_0's binary_logloss: 0.215514\n"
     ]
    },
    {
     "name": "stderr",
     "output_type": "stream",
     "text": [
      "/opt/conda/lib/python3.7/site-packages/lightgbm/sklearn.py:726: UserWarning: 'early_stopping_rounds' argument is deprecated and will be removed in a future release of LightGBM. Pass 'early_stopping()' callback via 'callbacks' argument instead.\n",
      "  _log_warning(\"'early_stopping_rounds' argument is deprecated and will be removed in a future release of LightGBM. \"\n",
      "/opt/conda/lib/python3.7/site-packages/lightgbm/sklearn.py:736: UserWarning: 'verbose' argument is deprecated and will be removed in a future release of LightGBM. Pass 'log_evaluation()' callback via 'callbacks' argument instead.\n",
      "  _log_warning(\"'verbose' argument is deprecated and will be removed in a future release of LightGBM. \"\n"
     ]
    },
    {
     "name": "stdout",
     "output_type": "stream",
     "text": [
      "[100]\tvalid_0's auc: 0.957652\tvalid_0's binary_logloss: 0.231696\n",
      "[200]\tvalid_0's auc: 0.959993\tvalid_0's binary_logloss: 0.222248\n",
      "[300]\tvalid_0's auc: 0.960757\tvalid_0's binary_logloss: 0.219928\n",
      "[400]\tvalid_0's auc: 0.961052\tvalid_0's binary_logloss: 0.219051\n",
      "[500]\tvalid_0's auc: 0.961197\tvalid_0's binary_logloss: 0.218623\n",
      "[600]\tvalid_0's auc: 0.961265\tvalid_0's binary_logloss: 0.218439\n",
      "[700]\tvalid_0's auc: 0.961293\tvalid_0's binary_logloss: 0.218378\n",
      "[800]\tvalid_0's auc: 0.961323\tvalid_0's binary_logloss: 0.218346\n"
     ]
    },
    {
     "name": "stderr",
     "output_type": "stream",
     "text": [
      "/opt/conda/lib/python3.7/site-packages/lightgbm/sklearn.py:726: UserWarning: 'early_stopping_rounds' argument is deprecated and will be removed in a future release of LightGBM. Pass 'early_stopping()' callback via 'callbacks' argument instead.\n",
      "  _log_warning(\"'early_stopping_rounds' argument is deprecated and will be removed in a future release of LightGBM. \"\n",
      "/opt/conda/lib/python3.7/site-packages/lightgbm/sklearn.py:736: UserWarning: 'verbose' argument is deprecated and will be removed in a future release of LightGBM. Pass 'log_evaluation()' callback via 'callbacks' argument instead.\n",
      "  _log_warning(\"'verbose' argument is deprecated and will be removed in a future release of LightGBM. \"\n"
     ]
    },
    {
     "name": "stdout",
     "output_type": "stream",
     "text": [
      "[100]\tvalid_0's auc: 0.958287\tvalid_0's binary_logloss: 0.229987\n",
      "[200]\tvalid_0's auc: 0.960561\tvalid_0's binary_logloss: 0.220712\n",
      "[300]\tvalid_0's auc: 0.961281\tvalid_0's binary_logloss: 0.21851\n",
      "[400]\tvalid_0's auc: 0.961633\tvalid_0's binary_logloss: 0.217544\n",
      "[500]\tvalid_0's auc: 0.961815\tvalid_0's binary_logloss: 0.217056\n",
      "[600]\tvalid_0's auc: 0.961874\tvalid_0's binary_logloss: 0.216934\n",
      "[700]\tvalid_0's auc: 0.961932\tvalid_0's binary_logloss: 0.216821\n",
      "[800]\tvalid_0's auc: 0.961962\tvalid_0's binary_logloss: 0.216817\n"
     ]
    },
    {
     "name": "stderr",
     "output_type": "stream",
     "text": [
      "/opt/conda/lib/python3.7/site-packages/lightgbm/sklearn.py:726: UserWarning: 'early_stopping_rounds' argument is deprecated and will be removed in a future release of LightGBM. Pass 'early_stopping()' callback via 'callbacks' argument instead.\n",
      "  _log_warning(\"'early_stopping_rounds' argument is deprecated and will be removed in a future release of LightGBM. \"\n",
      "/opt/conda/lib/python3.7/site-packages/lightgbm/sklearn.py:736: UserWarning: 'verbose' argument is deprecated and will be removed in a future release of LightGBM. Pass 'log_evaluation()' callback via 'callbacks' argument instead.\n",
      "  _log_warning(\"'verbose' argument is deprecated and will be removed in a future release of LightGBM. \"\n"
     ]
    },
    {
     "name": "stdout",
     "output_type": "stream",
     "text": [
      "[100]\tvalid_0's auc: 0.958323\tvalid_0's binary_logloss: 0.230043\n",
      "[200]\tvalid_0's auc: 0.960778\tvalid_0's binary_logloss: 0.220363\n",
      "[300]\tvalid_0's auc: 0.961515\tvalid_0's binary_logloss: 0.218112\n",
      "[400]\tvalid_0's auc: 0.961779\tvalid_0's binary_logloss: 0.217347\n",
      "[500]\tvalid_0's auc: 0.96193\tvalid_0's binary_logloss: 0.216929\n",
      "[600]\tvalid_0's auc: 0.96202\tvalid_0's binary_logloss: 0.216714\n",
      "[700]\tvalid_0's auc: 0.962034\tvalid_0's binary_logloss: 0.216726\n",
      "[800]\tvalid_0's auc: 0.962028\tvalid_0's binary_logloss: 0.216812\n"
     ]
    },
    {
     "name": "stderr",
     "output_type": "stream",
     "text": [
      "/opt/conda/lib/python3.7/site-packages/lightgbm/sklearn.py:726: UserWarning: 'early_stopping_rounds' argument is deprecated and will be removed in a future release of LightGBM. Pass 'early_stopping()' callback via 'callbacks' argument instead.\n",
      "  _log_warning(\"'early_stopping_rounds' argument is deprecated and will be removed in a future release of LightGBM. \"\n",
      "/opt/conda/lib/python3.7/site-packages/lightgbm/sklearn.py:736: UserWarning: 'verbose' argument is deprecated and will be removed in a future release of LightGBM. Pass 'log_evaluation()' callback via 'callbacks' argument instead.\n",
      "  _log_warning(\"'verbose' argument is deprecated and will be removed in a future release of LightGBM. \"\n"
     ]
    },
    {
     "name": "stdout",
     "output_type": "stream",
     "text": [
      "[100]\tvalid_0's auc: 0.957886\tvalid_0's binary_logloss: 0.230624\n",
      "[200]\tvalid_0's auc: 0.960194\tvalid_0's binary_logloss: 0.221424\n",
      "[300]\tvalid_0's auc: 0.960916\tvalid_0's binary_logloss: 0.219307\n",
      "[400]\tvalid_0's auc: 0.961275\tvalid_0's binary_logloss: 0.218312\n",
      "[500]\tvalid_0's auc: 0.961421\tvalid_0's binary_logloss: 0.217908\n",
      "[600]\tvalid_0's auc: 0.961479\tvalid_0's binary_logloss: 0.217748\n",
      "[700]\tvalid_0's auc: 0.961507\tvalid_0's binary_logloss: 0.21767\n",
      "[800]\tvalid_0's auc: 0.961516\tvalid_0's binary_logloss: 0.217698\n"
     ]
    },
    {
     "name": "stderr",
     "output_type": "stream",
     "text": [
      "/opt/conda/lib/python3.7/site-packages/lightgbm/sklearn.py:726: UserWarning: 'early_stopping_rounds' argument is deprecated and will be removed in a future release of LightGBM. Pass 'early_stopping()' callback via 'callbacks' argument instead.\n",
      "  _log_warning(\"'early_stopping_rounds' argument is deprecated and will be removed in a future release of LightGBM. \"\n",
      "/opt/conda/lib/python3.7/site-packages/lightgbm/sklearn.py:736: UserWarning: 'verbose' argument is deprecated and will be removed in a future release of LightGBM. Pass 'log_evaluation()' callback via 'callbacks' argument instead.\n",
      "  _log_warning(\"'verbose' argument is deprecated and will be removed in a future release of LightGBM. \"\n"
     ]
    },
    {
     "name": "stdout",
     "output_type": "stream",
     "text": [
      "[100]\tvalid_0's auc: 0.95788\tvalid_0's binary_logloss: 0.231033\n",
      "[200]\tvalid_0's auc: 0.96025\tvalid_0's binary_logloss: 0.221489\n",
      "[300]\tvalid_0's auc: 0.961021\tvalid_0's binary_logloss: 0.2192\n",
      "[400]\tvalid_0's auc: 0.961319\tvalid_0's binary_logloss: 0.218322\n",
      "[500]\tvalid_0's auc: 0.961473\tvalid_0's binary_logloss: 0.217879\n",
      "[600]\tvalid_0's auc: 0.96156\tvalid_0's binary_logloss: 0.217643\n",
      "[700]\tvalid_0's auc: 0.961604\tvalid_0's binary_logloss: 0.21755\n",
      "[800]\tvalid_0's auc: 0.961647\tvalid_0's binary_logloss: 0.217475\n"
     ]
    },
    {
     "name": "stderr",
     "output_type": "stream",
     "text": [
      "/opt/conda/lib/python3.7/site-packages/lightgbm/sklearn.py:726: UserWarning: 'early_stopping_rounds' argument is deprecated and will be removed in a future release of LightGBM. Pass 'early_stopping()' callback via 'callbacks' argument instead.\n",
      "  _log_warning(\"'early_stopping_rounds' argument is deprecated and will be removed in a future release of LightGBM. \"\n",
      "/opt/conda/lib/python3.7/site-packages/lightgbm/sklearn.py:736: UserWarning: 'verbose' argument is deprecated and will be removed in a future release of LightGBM. Pass 'log_evaluation()' callback via 'callbacks' argument instead.\n",
      "  _log_warning(\"'verbose' argument is deprecated and will be removed in a future release of LightGBM. \"\n"
     ]
    },
    {
     "name": "stdout",
     "output_type": "stream",
     "text": [
      "[100]\tvalid_0's auc: 0.958446\tvalid_0's binary_logloss: 0.229487\n",
      "[200]\tvalid_0's auc: 0.960667\tvalid_0's binary_logloss: 0.220381\n",
      "[300]\tvalid_0's auc: 0.961309\tvalid_0's binary_logloss: 0.218426\n",
      "[400]\tvalid_0's auc: 0.961569\tvalid_0's binary_logloss: 0.217677\n",
      "[500]\tvalid_0's auc: 0.961708\tvalid_0's binary_logloss: 0.217294\n",
      "[600]\tvalid_0's auc: 0.961759\tvalid_0's binary_logloss: 0.217186\n",
      "[700]\tvalid_0's auc: 0.961825\tvalid_0's binary_logloss: 0.217041\n",
      "[800]\tvalid_0's auc: 0.961849\tvalid_0's binary_logloss: 0.217032\n"
     ]
    },
    {
     "name": "stderr",
     "output_type": "stream",
     "text": [
      "/opt/conda/lib/python3.7/site-packages/lightgbm/sklearn.py:726: UserWarning: 'early_stopping_rounds' argument is deprecated and will be removed in a future release of LightGBM. Pass 'early_stopping()' callback via 'callbacks' argument instead.\n",
      "  _log_warning(\"'early_stopping_rounds' argument is deprecated and will be removed in a future release of LightGBM. \"\n",
      "/opt/conda/lib/python3.7/site-packages/lightgbm/sklearn.py:736: UserWarning: 'verbose' argument is deprecated and will be removed in a future release of LightGBM. Pass 'log_evaluation()' callback via 'callbacks' argument instead.\n",
      "  _log_warning(\"'verbose' argument is deprecated and will be removed in a future release of LightGBM. \"\n"
     ]
    },
    {
     "name": "stdout",
     "output_type": "stream",
     "text": [
      "[100]\tvalid_0's auc: 0.958057\tvalid_0's binary_logloss: 0.230582\n",
      "[200]\tvalid_0's auc: 0.960555\tvalid_0's binary_logloss: 0.220733\n",
      "[300]\tvalid_0's auc: 0.961319\tvalid_0's binary_logloss: 0.218451\n",
      "[400]\tvalid_0's auc: 0.961673\tvalid_0's binary_logloss: 0.217445\n",
      "[500]\tvalid_0's auc: 0.961808\tvalid_0's binary_logloss: 0.217055\n",
      "[600]\tvalid_0's auc: 0.961894\tvalid_0's binary_logloss: 0.21682\n",
      "[700]\tvalid_0's auc: 0.961932\tvalid_0's binary_logloss: 0.216739\n",
      "[800]\tvalid_0's auc: 0.961946\tvalid_0's binary_logloss: 0.216736\n"
     ]
    },
    {
     "name": "stderr",
     "output_type": "stream",
     "text": [
      "/opt/conda/lib/python3.7/site-packages/lightgbm/sklearn.py:726: UserWarning: 'early_stopping_rounds' argument is deprecated and will be removed in a future release of LightGBM. Pass 'early_stopping()' callback via 'callbacks' argument instead.\n",
      "  _log_warning(\"'early_stopping_rounds' argument is deprecated and will be removed in a future release of LightGBM. \"\n",
      "/opt/conda/lib/python3.7/site-packages/lightgbm/sklearn.py:736: UserWarning: 'verbose' argument is deprecated and will be removed in a future release of LightGBM. Pass 'log_evaluation()' callback via 'callbacks' argument instead.\n",
      "  _log_warning(\"'verbose' argument is deprecated and will be removed in a future release of LightGBM. \"\n"
     ]
    },
    {
     "name": "stdout",
     "output_type": "stream",
     "text": [
      "[100]\tvalid_0's auc: 0.958868\tvalid_0's binary_logloss: 0.228619\n",
      "[200]\tvalid_0's auc: 0.961205\tvalid_0's binary_logloss: 0.218975\n",
      "[300]\tvalid_0's auc: 0.961898\tvalid_0's binary_logloss: 0.216825\n",
      "[400]\tvalid_0's auc: 0.96216\tvalid_0's binary_logloss: 0.216038\n",
      "[500]\tvalid_0's auc: 0.96231\tvalid_0's binary_logloss: 0.215595\n",
      "[600]\tvalid_0's auc: 0.96237\tvalid_0's binary_logloss: 0.215441\n",
      "[700]\tvalid_0's auc: 0.962411\tvalid_0's binary_logloss: 0.215354\n",
      "[800]\tvalid_0's auc: 0.962414\tvalid_0's binary_logloss: 0.215378\n"
     ]
    },
    {
     "name": "stderr",
     "output_type": "stream",
     "text": [
      "/opt/conda/lib/python3.7/site-packages/lightgbm/sklearn.py:726: UserWarning: 'early_stopping_rounds' argument is deprecated and will be removed in a future release of LightGBM. Pass 'early_stopping()' callback via 'callbacks' argument instead.\n",
      "  _log_warning(\"'early_stopping_rounds' argument is deprecated and will be removed in a future release of LightGBM. \"\n",
      "/opt/conda/lib/python3.7/site-packages/lightgbm/sklearn.py:736: UserWarning: 'verbose' argument is deprecated and will be removed in a future release of LightGBM. Pass 'log_evaluation()' callback via 'callbacks' argument instead.\n",
      "  _log_warning(\"'verbose' argument is deprecated and will be removed in a future release of LightGBM. \"\n"
     ]
    },
    {
     "name": "stdout",
     "output_type": "stream",
     "text": [
      "[100]\tvalid_0's auc: 0.957361\tvalid_0's binary_logloss: 0.232297\n",
      "[200]\tvalid_0's auc: 0.959754\tvalid_0's binary_logloss: 0.222984\n",
      "[300]\tvalid_0's auc: 0.960462\tvalid_0's binary_logloss: 0.220883\n",
      "[400]\tvalid_0's auc: 0.960712\tvalid_0's binary_logloss: 0.220185\n",
      "[500]\tvalid_0's auc: 0.960859\tvalid_0's binary_logloss: 0.219798\n",
      "[600]\tvalid_0's auc: 0.96091\tvalid_0's binary_logloss: 0.219702\n",
      "[700]\tvalid_0's auc: 0.960963\tvalid_0's binary_logloss: 0.219615\n",
      "[800]\tvalid_0's auc: 0.960978\tvalid_0's binary_logloss: 0.219647\n"
     ]
    },
    {
     "name": "stderr",
     "output_type": "stream",
     "text": [
      "/opt/conda/lib/python3.7/site-packages/lightgbm/sklearn.py:726: UserWarning: 'early_stopping_rounds' argument is deprecated and will be removed in a future release of LightGBM. Pass 'early_stopping()' callback via 'callbacks' argument instead.\n",
      "  _log_warning(\"'early_stopping_rounds' argument is deprecated and will be removed in a future release of LightGBM. \"\n",
      "/opt/conda/lib/python3.7/site-packages/lightgbm/sklearn.py:736: UserWarning: 'verbose' argument is deprecated and will be removed in a future release of LightGBM. Pass 'log_evaluation()' callback via 'callbacks' argument instead.\n",
      "  _log_warning(\"'verbose' argument is deprecated and will be removed in a future release of LightGBM. \"\n"
     ]
    },
    {
     "name": "stdout",
     "output_type": "stream",
     "text": [
      "[100]\tvalid_0's auc: 0.957468\tvalid_0's binary_logloss: 0.231449\n",
      "[200]\tvalid_0's auc: 0.959937\tvalid_0's binary_logloss: 0.222097\n",
      "[300]\tvalid_0's auc: 0.960718\tvalid_0's binary_logloss: 0.219884\n",
      "[400]\tvalid_0's auc: 0.961067\tvalid_0's binary_logloss: 0.218928\n",
      "[500]\tvalid_0's auc: 0.961225\tvalid_0's binary_logloss: 0.218499\n",
      "[600]\tvalid_0's auc: 0.961333\tvalid_0's binary_logloss: 0.218232\n",
      "[700]\tvalid_0's auc: 0.961386\tvalid_0's binary_logloss: 0.218128\n",
      "[800]\tvalid_0's auc: 0.961437\tvalid_0's binary_logloss: 0.218055\n"
     ]
    },
    {
     "name": "stderr",
     "output_type": "stream",
     "text": [
      "/opt/conda/lib/python3.7/site-packages/lightgbm/sklearn.py:726: UserWarning: 'early_stopping_rounds' argument is deprecated and will be removed in a future release of LightGBM. Pass 'early_stopping()' callback via 'callbacks' argument instead.\n",
      "  _log_warning(\"'early_stopping_rounds' argument is deprecated and will be removed in a future release of LightGBM. \"\n",
      "/opt/conda/lib/python3.7/site-packages/lightgbm/sklearn.py:736: UserWarning: 'verbose' argument is deprecated and will be removed in a future release of LightGBM. Pass 'log_evaluation()' callback via 'callbacks' argument instead.\n",
      "  _log_warning(\"'verbose' argument is deprecated and will be removed in a future release of LightGBM. \"\n"
     ]
    },
    {
     "name": "stdout",
     "output_type": "stream",
     "text": [
      "[100]\tvalid_0's auc: 0.957926\tvalid_0's binary_logloss: 0.231098\n",
      "[200]\tvalid_0's auc: 0.960338\tvalid_0's binary_logloss: 0.221506\n",
      "[300]\tvalid_0's auc: 0.96109\tvalid_0's binary_logloss: 0.219217\n",
      "[400]\tvalid_0's auc: 0.961391\tvalid_0's binary_logloss: 0.218364\n",
      "[500]\tvalid_0's auc: 0.961533\tvalid_0's binary_logloss: 0.217962\n",
      "[600]\tvalid_0's auc: 0.961609\tvalid_0's binary_logloss: 0.217793\n",
      "[700]\tvalid_0's auc: 0.961691\tvalid_0's binary_logloss: 0.217602\n",
      "[800]\tvalid_0's auc: 0.961703\tvalid_0's binary_logloss: 0.217612\n"
     ]
    },
    {
     "name": "stderr",
     "output_type": "stream",
     "text": [
      "/opt/conda/lib/python3.7/site-packages/lightgbm/sklearn.py:726: UserWarning: 'early_stopping_rounds' argument is deprecated and will be removed in a future release of LightGBM. Pass 'early_stopping()' callback via 'callbacks' argument instead.\n",
      "  _log_warning(\"'early_stopping_rounds' argument is deprecated and will be removed in a future release of LightGBM. \"\n",
      "/opt/conda/lib/python3.7/site-packages/lightgbm/sklearn.py:736: UserWarning: 'verbose' argument is deprecated and will be removed in a future release of LightGBM. Pass 'log_evaluation()' callback via 'callbacks' argument instead.\n",
      "  _log_warning(\"'verbose' argument is deprecated and will be removed in a future release of LightGBM. \"\n"
     ]
    },
    {
     "name": "stdout",
     "output_type": "stream",
     "text": [
      "[100]\tvalid_0's auc: 0.958386\tvalid_0's binary_logloss: 0.229588\n",
      "[200]\tvalid_0's auc: 0.96062\tvalid_0's binary_logloss: 0.220448\n",
      "[300]\tvalid_0's auc: 0.961328\tvalid_0's binary_logloss: 0.218356\n",
      "[400]\tvalid_0's auc: 0.961601\tvalid_0's binary_logloss: 0.217556\n",
      "[500]\tvalid_0's auc: 0.961745\tvalid_0's binary_logloss: 0.217152\n",
      "[600]\tvalid_0's auc: 0.961852\tvalid_0's binary_logloss: 0.216853\n",
      "[700]\tvalid_0's auc: 0.961897\tvalid_0's binary_logloss: 0.216776\n",
      "[800]\tvalid_0's auc: 0.961892\tvalid_0's binary_logloss: 0.216851\n"
     ]
    },
    {
     "name": "stderr",
     "output_type": "stream",
     "text": [
      "/opt/conda/lib/python3.7/site-packages/lightgbm/sklearn.py:726: UserWarning: 'early_stopping_rounds' argument is deprecated and will be removed in a future release of LightGBM. Pass 'early_stopping()' callback via 'callbacks' argument instead.\n",
      "  _log_warning(\"'early_stopping_rounds' argument is deprecated and will be removed in a future release of LightGBM. \"\n",
      "/opt/conda/lib/python3.7/site-packages/lightgbm/sklearn.py:736: UserWarning: 'verbose' argument is deprecated and will be removed in a future release of LightGBM. Pass 'log_evaluation()' callback via 'callbacks' argument instead.\n",
      "  _log_warning(\"'verbose' argument is deprecated and will be removed in a future release of LightGBM. \"\n"
     ]
    },
    {
     "name": "stdout",
     "output_type": "stream",
     "text": [
      "[100]\tvalid_0's auc: 0.958285\tvalid_0's binary_logloss: 0.230031\n",
      "[200]\tvalid_0's auc: 0.960566\tvalid_0's binary_logloss: 0.22073\n",
      "[300]\tvalid_0's auc: 0.961258\tvalid_0's binary_logloss: 0.218669\n",
      "[400]\tvalid_0's auc: 0.961528\tvalid_0's binary_logloss: 0.217911\n",
      "[500]\tvalid_0's auc: 0.961662\tvalid_0's binary_logloss: 0.21755\n",
      "[600]\tvalid_0's auc: 0.96174\tvalid_0's binary_logloss: 0.217365\n",
      "[700]\tvalid_0's auc: 0.961744\tvalid_0's binary_logloss: 0.217391\n",
      "[800]\tvalid_0's auc: 0.961778\tvalid_0's binary_logloss: 0.217384\n"
     ]
    },
    {
     "name": "stderr",
     "output_type": "stream",
     "text": [
      "/opt/conda/lib/python3.7/site-packages/lightgbm/sklearn.py:726: UserWarning: 'early_stopping_rounds' argument is deprecated and will be removed in a future release of LightGBM. Pass 'early_stopping()' callback via 'callbacks' argument instead.\n",
      "  _log_warning(\"'early_stopping_rounds' argument is deprecated and will be removed in a future release of LightGBM. \"\n",
      "/opt/conda/lib/python3.7/site-packages/lightgbm/sklearn.py:736: UserWarning: 'verbose' argument is deprecated and will be removed in a future release of LightGBM. Pass 'log_evaluation()' callback via 'callbacks' argument instead.\n",
      "  _log_warning(\"'verbose' argument is deprecated and will be removed in a future release of LightGBM. \"\n"
     ]
    },
    {
     "name": "stdout",
     "output_type": "stream",
     "text": [
      "[100]\tvalid_0's auc: 0.95853\tvalid_0's binary_logloss: 0.229793\n",
      "[200]\tvalid_0's auc: 0.960754\tvalid_0's binary_logloss: 0.220312\n",
      "[300]\tvalid_0's auc: 0.961461\tvalid_0's binary_logloss: 0.218101\n",
      "[400]\tvalid_0's auc: 0.961724\tvalid_0's binary_logloss: 0.217281\n",
      "[500]\tvalid_0's auc: 0.961838\tvalid_0's binary_logloss: 0.216919\n",
      "[600]\tvalid_0's auc: 0.961895\tvalid_0's binary_logloss: 0.216759\n",
      "[700]\tvalid_0's auc: 0.961937\tvalid_0's binary_logloss: 0.216658\n",
      "[800]\tvalid_0's auc: 0.961933\tvalid_0's binary_logloss: 0.216681\n"
     ]
    },
    {
     "name": "stderr",
     "output_type": "stream",
     "text": [
      "/opt/conda/lib/python3.7/site-packages/lightgbm/sklearn.py:726: UserWarning: 'early_stopping_rounds' argument is deprecated and will be removed in a future release of LightGBM. Pass 'early_stopping()' callback via 'callbacks' argument instead.\n",
      "  _log_warning(\"'early_stopping_rounds' argument is deprecated and will be removed in a future release of LightGBM. \"\n",
      "/opt/conda/lib/python3.7/site-packages/lightgbm/sklearn.py:736: UserWarning: 'verbose' argument is deprecated and will be removed in a future release of LightGBM. Pass 'log_evaluation()' callback via 'callbacks' argument instead.\n",
      "  _log_warning(\"'verbose' argument is deprecated and will be removed in a future release of LightGBM. \"\n"
     ]
    },
    {
     "name": "stdout",
     "output_type": "stream",
     "text": [
      "[100]\tvalid_0's auc: 0.958195\tvalid_0's binary_logloss: 0.230143\n",
      "[200]\tvalid_0's auc: 0.96054\tvalid_0's binary_logloss: 0.220762\n",
      "[300]\tvalid_0's auc: 0.96128\tvalid_0's binary_logloss: 0.218573\n",
      "[400]\tvalid_0's auc: 0.961546\tvalid_0's binary_logloss: 0.217781\n",
      "[500]\tvalid_0's auc: 0.961684\tvalid_0's binary_logloss: 0.217406\n",
      "[600]\tvalid_0's auc: 0.961796\tvalid_0's binary_logloss: 0.217112\n",
      "[700]\tvalid_0's auc: 0.961817\tvalid_0's binary_logloss: 0.21708\n",
      "[800]\tvalid_0's auc: 0.961839\tvalid_0's binary_logloss: 0.217079\n"
     ]
    },
    {
     "name": "stderr",
     "output_type": "stream",
     "text": [
      "/opt/conda/lib/python3.7/site-packages/lightgbm/sklearn.py:726: UserWarning: 'early_stopping_rounds' argument is deprecated and will be removed in a future release of LightGBM. Pass 'early_stopping()' callback via 'callbacks' argument instead.\n",
      "  _log_warning(\"'early_stopping_rounds' argument is deprecated and will be removed in a future release of LightGBM. \"\n",
      "/opt/conda/lib/python3.7/site-packages/lightgbm/sklearn.py:736: UserWarning: 'verbose' argument is deprecated and will be removed in a future release of LightGBM. Pass 'log_evaluation()' callback via 'callbacks' argument instead.\n",
      "  _log_warning(\"'verbose' argument is deprecated and will be removed in a future release of LightGBM. \"\n"
     ]
    },
    {
     "name": "stdout",
     "output_type": "stream",
     "text": [
      "[100]\tvalid_0's auc: 0.958363\tvalid_0's binary_logloss: 0.229865\n",
      "[200]\tvalid_0's auc: 0.960652\tvalid_0's binary_logloss: 0.220534\n",
      "[300]\tvalid_0's auc: 0.961372\tvalid_0's binary_logloss: 0.218376\n",
      "[400]\tvalid_0's auc: 0.961657\tvalid_0's binary_logloss: 0.217548\n",
      "[500]\tvalid_0's auc: 0.961814\tvalid_0's binary_logloss: 0.21711\n",
      "[600]\tvalid_0's auc: 0.961868\tvalid_0's binary_logloss: 0.216956\n",
      "[700]\tvalid_0's auc: 0.961912\tvalid_0's binary_logloss: 0.216857\n",
      "[800]\tvalid_0's auc: 0.961913\tvalid_0's binary_logloss: 0.216915\n"
     ]
    },
    {
     "name": "stderr",
     "output_type": "stream",
     "text": [
      "/opt/conda/lib/python3.7/site-packages/lightgbm/sklearn.py:726: UserWarning: 'early_stopping_rounds' argument is deprecated and will be removed in a future release of LightGBM. Pass 'early_stopping()' callback via 'callbacks' argument instead.\n",
      "  _log_warning(\"'early_stopping_rounds' argument is deprecated and will be removed in a future release of LightGBM. \"\n",
      "/opt/conda/lib/python3.7/site-packages/lightgbm/sklearn.py:736: UserWarning: 'verbose' argument is deprecated and will be removed in a future release of LightGBM. Pass 'log_evaluation()' callback via 'callbacks' argument instead.\n",
      "  _log_warning(\"'verbose' argument is deprecated and will be removed in a future release of LightGBM. \"\n"
     ]
    },
    {
     "name": "stdout",
     "output_type": "stream",
     "text": [
      "[100]\tvalid_0's auc: 0.957869\tvalid_0's binary_logloss: 0.231136\n",
      "[200]\tvalid_0's auc: 0.960147\tvalid_0's binary_logloss: 0.221788\n",
      "[300]\tvalid_0's auc: 0.960848\tvalid_0's binary_logloss: 0.219667\n",
      "[400]\tvalid_0's auc: 0.961152\tvalid_0's binary_logloss: 0.218779\n",
      "[500]\tvalid_0's auc: 0.961259\tvalid_0's binary_logloss: 0.218488\n",
      "[600]\tvalid_0's auc: 0.961345\tvalid_0's binary_logloss: 0.218265\n",
      "[700]\tvalid_0's auc: 0.961371\tvalid_0's binary_logloss: 0.218219\n",
      "[800]\tvalid_0's auc: 0.961383\tvalid_0's binary_logloss: 0.218237\n"
     ]
    },
    {
     "name": "stderr",
     "output_type": "stream",
     "text": [
      "/opt/conda/lib/python3.7/site-packages/lightgbm/sklearn.py:726: UserWarning: 'early_stopping_rounds' argument is deprecated and will be removed in a future release of LightGBM. Pass 'early_stopping()' callback via 'callbacks' argument instead.\n",
      "  _log_warning(\"'early_stopping_rounds' argument is deprecated and will be removed in a future release of LightGBM. \"\n",
      "/opt/conda/lib/python3.7/site-packages/lightgbm/sklearn.py:736: UserWarning: 'verbose' argument is deprecated and will be removed in a future release of LightGBM. Pass 'log_evaluation()' callback via 'callbacks' argument instead.\n",
      "  _log_warning(\"'verbose' argument is deprecated and will be removed in a future release of LightGBM. \"\n"
     ]
    },
    {
     "name": "stdout",
     "output_type": "stream",
     "text": [
      "[100]\tvalid_0's auc: 0.958569\tvalid_0's binary_logloss: 0.229461\n",
      "[200]\tvalid_0's auc: 0.960936\tvalid_0's binary_logloss: 0.219699\n",
      "[300]\tvalid_0's auc: 0.96171\tvalid_0's binary_logloss: 0.217331\n",
      "[400]\tvalid_0's auc: 0.961992\tvalid_0's binary_logloss: 0.216477\n",
      "[500]\tvalid_0's auc: 0.962116\tvalid_0's binary_logloss: 0.216097\n",
      "[600]\tvalid_0's auc: 0.962196\tvalid_0's binary_logloss: 0.215852\n",
      "[700]\tvalid_0's auc: 0.962234\tvalid_0's binary_logloss: 0.215762\n",
      "[800]\tvalid_0's auc: 0.962266\tvalid_0's binary_logloss: 0.215706\n"
     ]
    },
    {
     "name": "stderr",
     "output_type": "stream",
     "text": [
      "/opt/conda/lib/python3.7/site-packages/lightgbm/sklearn.py:726: UserWarning: 'early_stopping_rounds' argument is deprecated and will be removed in a future release of LightGBM. Pass 'early_stopping()' callback via 'callbacks' argument instead.\n",
      "  _log_warning(\"'early_stopping_rounds' argument is deprecated and will be removed in a future release of LightGBM. \"\n",
      "/opt/conda/lib/python3.7/site-packages/lightgbm/sklearn.py:736: UserWarning: 'verbose' argument is deprecated and will be removed in a future release of LightGBM. Pass 'log_evaluation()' callback via 'callbacks' argument instead.\n",
      "  _log_warning(\"'verbose' argument is deprecated and will be removed in a future release of LightGBM. \"\n"
     ]
    },
    {
     "name": "stdout",
     "output_type": "stream",
     "text": [
      "[100]\tvalid_0's auc: 0.957961\tvalid_0's binary_logloss: 0.230813\n",
      "[200]\tvalid_0's auc: 0.960149\tvalid_0's binary_logloss: 0.221848\n",
      "[300]\tvalid_0's auc: 0.96082\tvalid_0's binary_logloss: 0.219878\n",
      "[400]\tvalid_0's auc: 0.961119\tvalid_0's binary_logloss: 0.219039\n",
      "[500]\tvalid_0's auc: 0.96128\tvalid_0's binary_logloss: 0.218611\n",
      "[600]\tvalid_0's auc: 0.961336\tvalid_0's binary_logloss: 0.218484\n",
      "[700]\tvalid_0's auc: 0.96135\tvalid_0's binary_logloss: 0.218497\n",
      "[800]\tvalid_0's auc: 0.961375\tvalid_0's binary_logloss: 0.218496\n"
     ]
    },
    {
     "name": "stderr",
     "output_type": "stream",
     "text": [
      "/opt/conda/lib/python3.7/site-packages/lightgbm/sklearn.py:726: UserWarning: 'early_stopping_rounds' argument is deprecated and will be removed in a future release of LightGBM. Pass 'early_stopping()' callback via 'callbacks' argument instead.\n",
      "  _log_warning(\"'early_stopping_rounds' argument is deprecated and will be removed in a future release of LightGBM. \"\n",
      "/opt/conda/lib/python3.7/site-packages/lightgbm/sklearn.py:736: UserWarning: 'verbose' argument is deprecated and will be removed in a future release of LightGBM. Pass 'log_evaluation()' callback via 'callbacks' argument instead.\n",
      "  _log_warning(\"'verbose' argument is deprecated and will be removed in a future release of LightGBM. \"\n"
     ]
    },
    {
     "name": "stdout",
     "output_type": "stream",
     "text": [
      "[100]\tvalid_0's auc: 0.958586\tvalid_0's binary_logloss: 0.229386\n",
      "[200]\tvalid_0's auc: 0.96081\tvalid_0's binary_logloss: 0.220039\n",
      "[300]\tvalid_0's auc: 0.961448\tvalid_0's binary_logloss: 0.218048\n",
      "[400]\tvalid_0's auc: 0.961716\tvalid_0's binary_logloss: 0.217257\n",
      "[500]\tvalid_0's auc: 0.961836\tvalid_0's binary_logloss: 0.216919\n",
      "[600]\tvalid_0's auc: 0.961906\tvalid_0's binary_logloss: 0.216725\n",
      "[700]\tvalid_0's auc: 0.961975\tvalid_0's binary_logloss: 0.216561\n",
      "[800]\tvalid_0's auc: 0.962003\tvalid_0's binary_logloss: 0.216511\n"
     ]
    },
    {
     "name": "stderr",
     "output_type": "stream",
     "text": [
      "/opt/conda/lib/python3.7/site-packages/lightgbm/sklearn.py:726: UserWarning: 'early_stopping_rounds' argument is deprecated and will be removed in a future release of LightGBM. Pass 'early_stopping()' callback via 'callbacks' argument instead.\n",
      "  _log_warning(\"'early_stopping_rounds' argument is deprecated and will be removed in a future release of LightGBM. \"\n",
      "/opt/conda/lib/python3.7/site-packages/lightgbm/sklearn.py:736: UserWarning: 'verbose' argument is deprecated and will be removed in a future release of LightGBM. Pass 'log_evaluation()' callback via 'callbacks' argument instead.\n",
      "  _log_warning(\"'verbose' argument is deprecated and will be removed in a future release of LightGBM. \"\n"
     ]
    },
    {
     "name": "stdout",
     "output_type": "stream",
     "text": [
      "[100]\tvalid_0's auc: 0.957629\tvalid_0's binary_logloss: 0.231484\n",
      "[200]\tvalid_0's auc: 0.959858\tvalid_0's binary_logloss: 0.222464\n",
      "[300]\tvalid_0's auc: 0.96058\tvalid_0's binary_logloss: 0.220388\n",
      "[400]\tvalid_0's auc: 0.960864\tvalid_0's binary_logloss: 0.219588\n",
      "[500]\tvalid_0's auc: 0.961006\tvalid_0's binary_logloss: 0.219218\n",
      "[600]\tvalid_0's auc: 0.961074\tvalid_0's binary_logloss: 0.219068\n",
      "[700]\tvalid_0's auc: 0.961099\tvalid_0's binary_logloss: 0.219056\n",
      "[800]\tvalid_0's auc: 0.961094\tvalid_0's binary_logloss: 0.219131\n"
     ]
    },
    {
     "name": "stderr",
     "output_type": "stream",
     "text": [
      "/opt/conda/lib/python3.7/site-packages/lightgbm/sklearn.py:726: UserWarning: 'early_stopping_rounds' argument is deprecated and will be removed in a future release of LightGBM. Pass 'early_stopping()' callback via 'callbacks' argument instead.\n",
      "  _log_warning(\"'early_stopping_rounds' argument is deprecated and will be removed in a future release of LightGBM. \"\n",
      "/opt/conda/lib/python3.7/site-packages/lightgbm/sklearn.py:736: UserWarning: 'verbose' argument is deprecated and will be removed in a future release of LightGBM. Pass 'log_evaluation()' callback via 'callbacks' argument instead.\n",
      "  _log_warning(\"'verbose' argument is deprecated and will be removed in a future release of LightGBM. \"\n"
     ]
    },
    {
     "name": "stdout",
     "output_type": "stream",
     "text": [
      "[100]\tvalid_0's auc: 0.958165\tvalid_0's binary_logloss: 0.230493\n",
      "[200]\tvalid_0's auc: 0.960579\tvalid_0's binary_logloss: 0.220803\n",
      "[300]\tvalid_0's auc: 0.961379\tvalid_0's binary_logloss: 0.218412\n",
      "[400]\tvalid_0's auc: 0.961681\tvalid_0's binary_logloss: 0.217536\n",
      "[500]\tvalid_0's auc: 0.961809\tvalid_0's binary_logloss: 0.217182\n",
      "[600]\tvalid_0's auc: 0.961933\tvalid_0's binary_logloss: 0.216867\n",
      "[700]\tvalid_0's auc: 0.961961\tvalid_0's binary_logloss: 0.216818\n",
      "[800]\tvalid_0's auc: 0.962005\tvalid_0's binary_logloss: 0.216742\n"
     ]
    },
    {
     "name": "stderr",
     "output_type": "stream",
     "text": [
      "/opt/conda/lib/python3.7/site-packages/lightgbm/sklearn.py:726: UserWarning: 'early_stopping_rounds' argument is deprecated and will be removed in a future release of LightGBM. Pass 'early_stopping()' callback via 'callbacks' argument instead.\n",
      "  _log_warning(\"'early_stopping_rounds' argument is deprecated and will be removed in a future release of LightGBM. \"\n",
      "/opt/conda/lib/python3.7/site-packages/lightgbm/sklearn.py:736: UserWarning: 'verbose' argument is deprecated and will be removed in a future release of LightGBM. Pass 'log_evaluation()' callback via 'callbacks' argument instead.\n",
      "  _log_warning(\"'verbose' argument is deprecated and will be removed in a future release of LightGBM. \"\n"
     ]
    },
    {
     "name": "stdout",
     "output_type": "stream",
     "text": [
      "[100]\tvalid_0's auc: 0.958419\tvalid_0's binary_logloss: 0.229597\n",
      "[200]\tvalid_0's auc: 0.960787\tvalid_0's binary_logloss: 0.220039\n",
      "[300]\tvalid_0's auc: 0.961541\tvalid_0's binary_logloss: 0.217765\n",
      "[400]\tvalid_0's auc: 0.961815\tvalid_0's binary_logloss: 0.216952\n",
      "[500]\tvalid_0's auc: 0.96194\tvalid_0's binary_logloss: 0.216598\n",
      "[600]\tvalid_0's auc: 0.962037\tvalid_0's binary_logloss: 0.216349\n",
      "[700]\tvalid_0's auc: 0.962091\tvalid_0's binary_logloss: 0.216239\n",
      "[800]\tvalid_0's auc: 0.962106\tvalid_0's binary_logloss: 0.216268\n"
     ]
    },
    {
     "name": "stderr",
     "output_type": "stream",
     "text": [
      "/opt/conda/lib/python3.7/site-packages/lightgbm/sklearn.py:726: UserWarning: 'early_stopping_rounds' argument is deprecated and will be removed in a future release of LightGBM. Pass 'early_stopping()' callback via 'callbacks' argument instead.\n",
      "  _log_warning(\"'early_stopping_rounds' argument is deprecated and will be removed in a future release of LightGBM. \"\n",
      "/opt/conda/lib/python3.7/site-packages/lightgbm/sklearn.py:736: UserWarning: 'verbose' argument is deprecated and will be removed in a future release of LightGBM. Pass 'log_evaluation()' callback via 'callbacks' argument instead.\n",
      "  _log_warning(\"'verbose' argument is deprecated and will be removed in a future release of LightGBM. \"\n"
     ]
    },
    {
     "name": "stdout",
     "output_type": "stream",
     "text": [
      "[100]\tvalid_0's auc: 0.958233\tvalid_0's binary_logloss: 0.230358\n",
      "[200]\tvalid_0's auc: 0.960552\tvalid_0's binary_logloss: 0.22082\n",
      "[300]\tvalid_0's auc: 0.961238\tvalid_0's binary_logloss: 0.218704\n",
      "[400]\tvalid_0's auc: 0.96152\tvalid_0's binary_logloss: 0.217859\n",
      "[500]\tvalid_0's auc: 0.961662\tvalid_0's binary_logloss: 0.217448\n",
      "[600]\tvalid_0's auc: 0.961716\tvalid_0's binary_logloss: 0.217311\n",
      "[700]\tvalid_0's auc: 0.961771\tvalid_0's binary_logloss: 0.217183\n",
      "[800]\tvalid_0's auc: 0.961775\tvalid_0's binary_logloss: 0.217214\n"
     ]
    }
   ],
   "source": [
    "modelNum = [2022,725,233,514,2333,0]\n",
    "models = []\n",
    "newTrainDF = pd.DataFrame()\n",
    "\n",
    "for _ in modelNum:\n",
    "    folds = StratifiedKFold(n_splits= 5, shuffle=True, random_state=_)\n",
    "    list_ = []\n",
    "    y_ = []\n",
    "    for n_fold, (train_idx, valid_idx) in enumerate(folds.split(train, trainY)):\n",
    "        train_x, train_y = train.iloc[train_idx], trainY.iloc[train_idx]\n",
    "        valid_x, valid_y = train.iloc[valid_idx], trainY.iloc[valid_idx]\n",
    "        gbm = lgb.LGBMClassifier(\n",
    "            objective='binary', \n",
    "            boosting_type='gbdt',\n",
    "            num_leaves=120, \n",
    "            learning_rate=0.04,\n",
    "            n_estimators=800,\n",
    "            class_weight = {1:1,0:1},\n",
    "            min_child_samples = 200,\n",
    "            subsample = 0.4,\n",
    "            colsample_bytree = 0.3,\n",
    "            reg_alpha = 10,\n",
    "            reg_lambda = 10,\n",
    "            # n_jobs = 4,\n",
    "            random_state = _  , \n",
    "        )\n",
    "        gbm.fit(train_x, \n",
    "                train_y, \n",
    "                eval_set=[(valid_x, valid_y)], \n",
    "                eval_metric='auc', \n",
    "                early_stopping_rounds=200,\n",
    "                verbose = 100)\n",
    "        \n",
    "        list_+= list(gbm.predict_proba(valid_x)[:,1])\n",
    "        y_ += list(valid_y)\n",
    "        \n",
    "        models.append([gbm])\n",
    "        \n",
    "        del train_x, train_y, valid_x, valid_y\n",
    "        gc.collect()  \n",
    "    newTrainDF[f'{_}_pred'] = list_\n",
    "    gc.collect()\n",
    "           "
   ]
  },
  {
   "cell_type": "code",
   "execution_count": 6,
   "id": "cd5f8d60",
   "metadata": {
    "execution": {
     "iopub.execute_input": "2022-07-23T18:14:30.635455Z",
     "iopub.status.busy": "2022-07-23T18:14:30.634910Z",
     "iopub.status.idle": "2022-07-23T18:14:30.667806Z",
     "shell.execute_reply": "2022-07-23T18:14:30.666860Z"
    },
    "papermill": {
     "duration": 0.063553,
     "end_time": "2022-07-23T18:14:30.670214",
     "exception": false,
     "start_time": "2022-07-23T18:14:30.606661",
     "status": "completed"
    },
    "tags": []
   },
   "outputs": [
    {
     "data": {
      "text/html": [
       "<div>\n",
       "<style scoped>\n",
       "    .dataframe tbody tr th:only-of-type {\n",
       "        vertical-align: middle;\n",
       "    }\n",
       "\n",
       "    .dataframe tbody tr th {\n",
       "        vertical-align: top;\n",
       "    }\n",
       "\n",
       "    .dataframe thead th {\n",
       "        text-align: right;\n",
       "    }\n",
       "</style>\n",
       "<table border=\"1\" class=\"dataframe\">\n",
       "  <thead>\n",
       "    <tr style=\"text-align: right;\">\n",
       "      <th></th>\n",
       "      <th>2022_pred</th>\n",
       "      <th>725_pred</th>\n",
       "      <th>233_pred</th>\n",
       "      <th>514_pred</th>\n",
       "      <th>2333_pred</th>\n",
       "      <th>0_pred</th>\n",
       "    </tr>\n",
       "  </thead>\n",
       "  <tbody>\n",
       "    <tr>\n",
       "      <th>0</th>\n",
       "      <td>0.001537</td>\n",
       "      <td>0.006927</td>\n",
       "      <td>0.001243</td>\n",
       "      <td>0.886417</td>\n",
       "      <td>0.001085</td>\n",
       "      <td>0.722048</td>\n",
       "    </tr>\n",
       "    <tr>\n",
       "      <th>1</th>\n",
       "      <td>0.001430</td>\n",
       "      <td>0.990736</td>\n",
       "      <td>0.001484</td>\n",
       "      <td>0.000722</td>\n",
       "      <td>0.119951</td>\n",
       "      <td>0.000971</td>\n",
       "    </tr>\n",
       "    <tr>\n",
       "      <th>2</th>\n",
       "      <td>0.983996</td>\n",
       "      <td>0.010351</td>\n",
       "      <td>0.002058</td>\n",
       "      <td>0.001845</td>\n",
       "      <td>0.001491</td>\n",
       "      <td>0.002172</td>\n",
       "    </tr>\n",
       "    <tr>\n",
       "      <th>3</th>\n",
       "      <td>0.149591</td>\n",
       "      <td>0.002504</td>\n",
       "      <td>0.498665</td>\n",
       "      <td>0.932963</td>\n",
       "      <td>0.001985</td>\n",
       "      <td>0.001972</td>\n",
       "    </tr>\n",
       "    <tr>\n",
       "      <th>4</th>\n",
       "      <td>0.001427</td>\n",
       "      <td>0.988716</td>\n",
       "      <td>0.009554</td>\n",
       "      <td>0.006551</td>\n",
       "      <td>0.882162</td>\n",
       "      <td>0.989175</td>\n",
       "    </tr>\n",
       "    <tr>\n",
       "      <th>...</th>\n",
       "      <td>...</td>\n",
       "      <td>...</td>\n",
       "      <td>...</td>\n",
       "      <td>...</td>\n",
       "      <td>...</td>\n",
       "      <td>...</td>\n",
       "    </tr>\n",
       "    <tr>\n",
       "      <th>458908</th>\n",
       "      <td>0.991970</td>\n",
       "      <td>0.763026</td>\n",
       "      <td>0.002231</td>\n",
       "      <td>0.002091</td>\n",
       "      <td>0.166840</td>\n",
       "      <td>0.991105</td>\n",
       "    </tr>\n",
       "    <tr>\n",
       "      <th>458909</th>\n",
       "      <td>0.001083</td>\n",
       "      <td>0.011002</td>\n",
       "      <td>0.887271</td>\n",
       "      <td>0.386149</td>\n",
       "      <td>0.334099</td>\n",
       "      <td>0.000934</td>\n",
       "    </tr>\n",
       "    <tr>\n",
       "      <th>458910</th>\n",
       "      <td>0.315031</td>\n",
       "      <td>0.000463</td>\n",
       "      <td>0.002453</td>\n",
       "      <td>0.399601</td>\n",
       "      <td>0.014033</td>\n",
       "      <td>0.011904</td>\n",
       "    </tr>\n",
       "    <tr>\n",
       "      <th>458911</th>\n",
       "      <td>0.012102</td>\n",
       "      <td>0.886622</td>\n",
       "      <td>0.005382</td>\n",
       "      <td>0.006829</td>\n",
       "      <td>0.001950</td>\n",
       "      <td>0.004805</td>\n",
       "    </tr>\n",
       "    <tr>\n",
       "      <th>458912</th>\n",
       "      <td>0.079841</td>\n",
       "      <td>0.635276</td>\n",
       "      <td>0.831160</td>\n",
       "      <td>0.002726</td>\n",
       "      <td>0.067379</td>\n",
       "      <td>0.001863</td>\n",
       "    </tr>\n",
       "  </tbody>\n",
       "</table>\n",
       "<p>458913 rows × 6 columns</p>\n",
       "</div>"
      ],
      "text/plain": [
       "        2022_pred  725_pred  233_pred  514_pred  2333_pred    0_pred\n",
       "0        0.001537  0.006927  0.001243  0.886417   0.001085  0.722048\n",
       "1        0.001430  0.990736  0.001484  0.000722   0.119951  0.000971\n",
       "2        0.983996  0.010351  0.002058  0.001845   0.001491  0.002172\n",
       "3        0.149591  0.002504  0.498665  0.932963   0.001985  0.001972\n",
       "4        0.001427  0.988716  0.009554  0.006551   0.882162  0.989175\n",
       "...           ...       ...       ...       ...        ...       ...\n",
       "458908   0.991970  0.763026  0.002231  0.002091   0.166840  0.991105\n",
       "458909   0.001083  0.011002  0.887271  0.386149   0.334099  0.000934\n",
       "458910   0.315031  0.000463  0.002453  0.399601   0.014033  0.011904\n",
       "458911   0.012102  0.886622  0.005382  0.006829   0.001950  0.004805\n",
       "458912   0.079841  0.635276  0.831160  0.002726   0.067379  0.001863\n",
       "\n",
       "[458913 rows x 6 columns]"
      ]
     },
     "execution_count": 6,
     "metadata": {},
     "output_type": "execute_result"
    }
   ],
   "source": [
    "newTrainDF"
   ]
  },
  {
   "cell_type": "code",
   "execution_count": 7,
   "id": "6ceea3ad",
   "metadata": {
    "execution": {
     "iopub.execute_input": "2022-07-23T18:14:30.725561Z",
     "iopub.status.busy": "2022-07-23T18:14:30.724735Z",
     "iopub.status.idle": "2022-07-23T18:14:39.589767Z",
     "shell.execute_reply": "2022-07-23T18:14:39.588544Z"
    },
    "papermill": {
     "duration": 8.896162,
     "end_time": "2022-07-23T18:14:39.592614",
     "exception": false,
     "start_time": "2022-07-23T18:14:30.696452",
     "status": "completed"
    },
    "tags": []
   },
   "outputs": [],
   "source": [
    "import pickle\n",
    "with open('models.pickle','wb') as file:      \n",
    "    pickle.dump(models,file)            \n",
    "newTrainDF.to_pickle('./newTrainDF.pkl')"
   ]
  },
  {
   "cell_type": "code",
   "execution_count": 8,
   "id": "2f7d5429",
   "metadata": {
    "execution": {
     "iopub.execute_input": "2022-07-23T18:14:39.647502Z",
     "iopub.status.busy": "2022-07-23T18:14:39.647071Z",
     "iopub.status.idle": "2022-07-23T18:14:39.696535Z",
     "shell.execute_reply": "2022-07-23T18:14:39.695152Z"
    },
    "papermill": {
     "duration": 0.079983,
     "end_time": "2022-07-23T18:14:39.699403",
     "exception": false,
     "start_time": "2022-07-23T18:14:39.619420",
     "status": "completed"
    },
    "tags": []
   },
   "outputs": [],
   "source": [
    "with open('y_.pickle','wb') as file:\n",
    "    pickle.dump(y_,file)"
   ]
  },
  {
   "cell_type": "code",
   "execution_count": 9,
   "id": "a3f6be27",
   "metadata": {
    "execution": {
     "iopub.execute_input": "2022-07-23T18:14:39.754327Z",
     "iopub.status.busy": "2022-07-23T18:14:39.753534Z",
     "iopub.status.idle": "2022-07-23T18:14:39.831049Z",
     "shell.execute_reply": "2022-07-23T18:14:39.829852Z"
    },
    "papermill": {
     "duration": 0.107902,
     "end_time": "2022-07-23T18:14:39.833914",
     "exception": false,
     "start_time": "2022-07-23T18:14:39.726012",
     "status": "completed"
    },
    "tags": []
   },
   "outputs": [],
   "source": [
    "trainY2 = pd.Series(y_)"
   ]
  },
  {
   "cell_type": "code",
   "execution_count": 10,
   "id": "42fc7c28",
   "metadata": {
    "execution": {
     "iopub.execute_input": "2022-07-23T18:14:39.888525Z",
     "iopub.status.busy": "2022-07-23T18:14:39.887420Z",
     "iopub.status.idle": "2022-07-23T18:16:54.978111Z",
     "shell.execute_reply": "2022-07-23T18:16:54.977266Z"
    },
    "papermill": {
     "duration": 135.120445,
     "end_time": "2022-07-23T18:16:54.980443",
     "exception": false,
     "start_time": "2022-07-23T18:14:39.859998",
     "status": "completed"
    },
    "tags": []
   },
   "outputs": [
    {
     "name": "stderr",
     "output_type": "stream",
     "text": [
      "/opt/conda/lib/python3.7/site-packages/lightgbm/sklearn.py:726: UserWarning: 'early_stopping_rounds' argument is deprecated and will be removed in a future release of LightGBM. Pass 'early_stopping()' callback via 'callbacks' argument instead.\n",
      "  _log_warning(\"'early_stopping_rounds' argument is deprecated and will be removed in a future release of LightGBM. \"\n",
      "/opt/conda/lib/python3.7/site-packages/lightgbm/sklearn.py:736: UserWarning: 'verbose' argument is deprecated and will be removed in a future release of LightGBM. Pass 'log_evaluation()' callback via 'callbacks' argument instead.\n",
      "  _log_warning(\"'verbose' argument is deprecated and will be removed in a future release of LightGBM. \"\n",
      "/opt/conda/lib/python3.7/site-packages/lightgbm/callback.py:223: UserWarning: Early stopping is not available in dart mode\n",
      "  _log_warning('Early stopping is not available in dart mode')\n"
     ]
    },
    {
     "name": "stdout",
     "output_type": "stream",
     "text": [
      "[10]\tvalid_0's auc: 0.960646\tvalid_0's binary_logloss: 0.296764\n",
      "[20]\tvalid_0's auc: 0.96092\tvalid_0's binary_logloss: 0.272154\n",
      "[30]\tvalid_0's auc: 0.961105\tvalid_0's binary_logloss: 0.235886\n",
      "[40]\tvalid_0's auc: 0.961107\tvalid_0's binary_logloss: 0.243154\n",
      "[50]\tvalid_0's auc: 0.961087\tvalid_0's binary_logloss: 0.239254\n",
      "[60]\tvalid_0's auc: 0.961145\tvalid_0's binary_logloss: 0.235533\n",
      "[70]\tvalid_0's auc: 0.961149\tvalid_0's binary_logloss: 0.224807\n",
      "[80]\tvalid_0's auc: 0.961139\tvalid_0's binary_logloss: 0.222645\n",
      "[90]\tvalid_0's auc: 0.961126\tvalid_0's binary_logloss: 0.220626\n",
      "[100]\tvalid_0's auc: 0.96112\tvalid_0's binary_logloss: 0.221537\n",
      "[110]\tvalid_0's auc: 0.961108\tvalid_0's binary_logloss: 0.220986\n",
      "[120]\tvalid_0's auc: 0.961089\tvalid_0's binary_logloss: 0.220135\n",
      "[130]\tvalid_0's auc: 0.961067\tvalid_0's binary_logloss: 0.219608\n",
      "[140]\tvalid_0's auc: 0.961053\tvalid_0's binary_logloss: 0.219128\n",
      "[150]\tvalid_0's auc: 0.961105\tvalid_0's binary_logloss: 0.219125\n",
      "[160]\tvalid_0's auc: 0.96111\tvalid_0's binary_logloss: 0.219746\n",
      "[170]\tvalid_0's auc: 0.961092\tvalid_0's binary_logloss: 0.219369\n",
      "[180]\tvalid_0's auc: 0.961097\tvalid_0's binary_logloss: 0.219679\n",
      "[190]\tvalid_0's auc: 0.961082\tvalid_0's binary_logloss: 0.219394\n",
      "[200]\tvalid_0's auc: 0.96108\tvalid_0's binary_logloss: 0.219568\n",
      "Top four(72097 total cases) has 67.57274199995791% positives cases being predicted\n",
      "Gini value is 0.9266807394679234\n",
      "Top four(17672 total cases) has 66.01447445931163% positives cases being predicted\n",
      "Gini value is 0.9221650738472351\n",
      "LGB - METRICS\n",
      "LGB: Train_score: 0.9633 valid_score: 0.9611\n",
      "LGB: train_vdr score: 0.685331678273127\n",
      "LGB: valid_vdr score: 0.6795422031473534\n",
      "LGB: Train_score: 0.8012 valid_score: 0.7912\n"
     ]
    },
    {
     "name": "stderr",
     "output_type": "stream",
     "text": [
      "/opt/conda/lib/python3.7/site-packages/lightgbm/sklearn.py:726: UserWarning: 'early_stopping_rounds' argument is deprecated and will be removed in a future release of LightGBM. Pass 'early_stopping()' callback via 'callbacks' argument instead.\n",
      "  _log_warning(\"'early_stopping_rounds' argument is deprecated and will be removed in a future release of LightGBM. \"\n",
      "/opt/conda/lib/python3.7/site-packages/lightgbm/sklearn.py:736: UserWarning: 'verbose' argument is deprecated and will be removed in a future release of LightGBM. Pass 'log_evaluation()' callback via 'callbacks' argument instead.\n",
      "  _log_warning(\"'verbose' argument is deprecated and will be removed in a future release of LightGBM. \"\n",
      "/opt/conda/lib/python3.7/site-packages/lightgbm/callback.py:223: UserWarning: Early stopping is not available in dart mode\n",
      "  _log_warning('Early stopping is not available in dart mode')\n"
     ]
    },
    {
     "name": "stdout",
     "output_type": "stream",
     "text": [
      "[10]\tvalid_0's auc: 0.960274\tvalid_0's binary_logloss: 0.296813\n",
      "[20]\tvalid_0's auc: 0.960475\tvalid_0's binary_logloss: 0.272224\n",
      "[30]\tvalid_0's auc: 0.960628\tvalid_0's binary_logloss: 0.236238\n",
      "[40]\tvalid_0's auc: 0.960636\tvalid_0's binary_logloss: 0.243303\n",
      "[50]\tvalid_0's auc: 0.960649\tvalid_0's binary_logloss: 0.239364\n",
      "[60]\tvalid_0's auc: 0.960887\tvalid_0's binary_logloss: 0.235636\n",
      "[70]\tvalid_0's auc: 0.960923\tvalid_0's binary_logloss: 0.225123\n",
      "[80]\tvalid_0's auc: 0.960996\tvalid_0's binary_logloss: 0.223021\n",
      "[90]\tvalid_0's auc: 0.961\tvalid_0's binary_logloss: 0.221039\n",
      "[100]\tvalid_0's auc: 0.960997\tvalid_0's binary_logloss: 0.221858\n",
      "[110]\tvalid_0's auc: 0.96098\tvalid_0's binary_logloss: 0.22133\n",
      "[120]\tvalid_0's auc: 0.960959\tvalid_0's binary_logloss: 0.220528\n",
      "[130]\tvalid_0's auc: 0.960937\tvalid_0's binary_logloss: 0.220015\n",
      "[140]\tvalid_0's auc: 0.960965\tvalid_0's binary_logloss: 0.219566\n",
      "[150]\tvalid_0's auc: 0.960956\tvalid_0's binary_logloss: 0.219554\n",
      "[160]\tvalid_0's auc: 0.960968\tvalid_0's binary_logloss: 0.220083\n",
      "[170]\tvalid_0's auc: 0.960959\tvalid_0's binary_logloss: 0.219715\n",
      "[180]\tvalid_0's auc: 0.960957\tvalid_0's binary_logloss: 0.219998\n",
      "[190]\tvalid_0's auc: 0.960939\tvalid_0's binary_logloss: 0.219757\n",
      "[200]\tvalid_0's auc: 0.960944\tvalid_0's binary_logloss: 0.219892\n",
      "Top four(71862 total cases) has 67.3129115734994% positives cases being predicted\n",
      "Gini value is 0.9267582407416235\n",
      "Top four(17668 total cases) has 65.99343600100984% positives cases being predicted\n",
      "Gini value is 0.9218876210973429\n",
      "LGB - METRICS\n",
      "LGB: Train_score: 0.9634 valid_score: 0.9609\n",
      "LGB: train_vdr score: 0.6847215501462204\n",
      "LGB: valid_vdr score: 0.6799208953967854\n",
      "LGB: Train_score: 0.7999 valid_score: 0.7909\n"
     ]
    },
    {
     "name": "stderr",
     "output_type": "stream",
     "text": [
      "/opt/conda/lib/python3.7/site-packages/lightgbm/sklearn.py:726: UserWarning: 'early_stopping_rounds' argument is deprecated and will be removed in a future release of LightGBM. Pass 'early_stopping()' callback via 'callbacks' argument instead.\n",
      "  _log_warning(\"'early_stopping_rounds' argument is deprecated and will be removed in a future release of LightGBM. \"\n",
      "/opt/conda/lib/python3.7/site-packages/lightgbm/sklearn.py:736: UserWarning: 'verbose' argument is deprecated and will be removed in a future release of LightGBM. Pass 'log_evaluation()' callback via 'callbacks' argument instead.\n",
      "  _log_warning(\"'verbose' argument is deprecated and will be removed in a future release of LightGBM. \"\n",
      "/opt/conda/lib/python3.7/site-packages/lightgbm/callback.py:223: UserWarning: Early stopping is not available in dart mode\n",
      "  _log_warning('Early stopping is not available in dart mode')\n"
     ]
    },
    {
     "name": "stdout",
     "output_type": "stream",
     "text": [
      "[10]\tvalid_0's auc: 0.961949\tvalid_0's binary_logloss: 0.294981\n",
      "[20]\tvalid_0's auc: 0.96224\tvalid_0's binary_logloss: 0.270186\n",
      "[30]\tvalid_0's auc: 0.962598\tvalid_0's binary_logloss: 0.233376\n",
      "[40]\tvalid_0's auc: 0.962602\tvalid_0's binary_logloss: 0.24091\n",
      "[50]\tvalid_0's auc: 0.962608\tvalid_0's binary_logloss: 0.23692\n",
      "[60]\tvalid_0's auc: 0.96261\tvalid_0's binary_logloss: 0.233095\n",
      "[70]\tvalid_0's auc: 0.962672\tvalid_0's binary_logloss: 0.221982\n",
      "[80]\tvalid_0's auc: 0.962648\tvalid_0's binary_logloss: 0.219753\n",
      "[90]\tvalid_0's auc: 0.962623\tvalid_0's binary_logloss: 0.217599\n",
      "[100]\tvalid_0's auc: 0.962616\tvalid_0's binary_logloss: 0.218612\n",
      "[110]\tvalid_0's auc: 0.962613\tvalid_0's binary_logloss: 0.217982\n",
      "[120]\tvalid_0's auc: 0.962602\tvalid_0's binary_logloss: 0.217019\n",
      "[130]\tvalid_0's auc: 0.962588\tvalid_0's binary_logloss: 0.216389\n",
      "[140]\tvalid_0's auc: 0.962616\tvalid_0's binary_logloss: 0.215761\n",
      "[150]\tvalid_0's auc: 0.962621\tvalid_0's binary_logloss: 0.215755\n",
      "[160]\tvalid_0's auc: 0.962633\tvalid_0's binary_logloss: 0.216502\n",
      "[170]\tvalid_0's auc: 0.96263\tvalid_0's binary_logloss: 0.215989\n",
      "[180]\tvalid_0's auc: 0.962628\tvalid_0's binary_logloss: 0.216388\n",
      "[190]\tvalid_0's auc: 0.962616\tvalid_0's binary_logloss: 0.216039\n",
      "[200]\tvalid_0's auc: 0.962618\tvalid_0's binary_logloss: 0.216239\n",
      "Top four(71827 total cases) has 67.27398960678295% positives cases being predicted\n",
      "Gini value is 0.925821848607159\n",
      "Top four(17706 total cases) has 66.16174366742406% positives cases being predicted\n",
      "Gini value is 0.9252293240435684\n",
      "LGB - METRICS\n",
      "LGB: Train_score: 0.9629 valid_score: 0.9626\n",
      "LGB: train_vdr score: 0.6842902526772001\n",
      "LGB: valid_vdr score: 0.6807624337288564\n",
      "LGB: Train_score: 0.7993 valid_score: 0.7934\n"
     ]
    },
    {
     "name": "stderr",
     "output_type": "stream",
     "text": [
      "/opt/conda/lib/python3.7/site-packages/lightgbm/sklearn.py:726: UserWarning: 'early_stopping_rounds' argument is deprecated and will be removed in a future release of LightGBM. Pass 'early_stopping()' callback via 'callbacks' argument instead.\n",
      "  _log_warning(\"'early_stopping_rounds' argument is deprecated and will be removed in a future release of LightGBM. \"\n",
      "/opt/conda/lib/python3.7/site-packages/lightgbm/sklearn.py:736: UserWarning: 'verbose' argument is deprecated and will be removed in a future release of LightGBM. Pass 'log_evaluation()' callback via 'callbacks' argument instead.\n",
      "  _log_warning(\"'verbose' argument is deprecated and will be removed in a future release of LightGBM. \"\n",
      "/opt/conda/lib/python3.7/site-packages/lightgbm/callback.py:223: UserWarning: Early stopping is not available in dart mode\n",
      "  _log_warning('Early stopping is not available in dart mode')\n"
     ]
    },
    {
     "name": "stdout",
     "output_type": "stream",
     "text": [
      "[10]\tvalid_0's auc: 0.96045\tvalid_0's binary_logloss: 0.296228\n",
      "[20]\tvalid_0's auc: 0.960704\tvalid_0's binary_logloss: 0.271571\n",
      "[30]\tvalid_0's auc: 0.961072\tvalid_0's binary_logloss: 0.235495\n",
      "[40]\tvalid_0's auc: 0.961084\tvalid_0's binary_logloss: 0.242815\n",
      "[50]\tvalid_0's auc: 0.961066\tvalid_0's binary_logloss: 0.23902\n",
      "[60]\tvalid_0's auc: 0.96111\tvalid_0's binary_logloss: 0.235423\n",
      "[70]\tvalid_0's auc: 0.961198\tvalid_0's binary_logloss: 0.224666\n",
      "[80]\tvalid_0's auc: 0.961207\tvalid_0's binary_logloss: 0.22247\n",
      "[90]\tvalid_0's auc: 0.961194\tvalid_0's binary_logloss: 0.220451\n",
      "[100]\tvalid_0's auc: 0.961193\tvalid_0's binary_logloss: 0.221344\n",
      "[110]\tvalid_0's auc: 0.961228\tvalid_0's binary_logloss: 0.220797\n",
      "[120]\tvalid_0's auc: 0.961201\tvalid_0's binary_logloss: 0.219956\n",
      "[130]\tvalid_0's auc: 0.961186\tvalid_0's binary_logloss: 0.219408\n",
      "[140]\tvalid_0's auc: 0.961174\tvalid_0's binary_logloss: 0.218927\n",
      "[150]\tvalid_0's auc: 0.961174\tvalid_0's binary_logloss: 0.218905\n",
      "[160]\tvalid_0's auc: 0.961187\tvalid_0's binary_logloss: 0.219515\n",
      "[170]\tvalid_0's auc: 0.961172\tvalid_0's binary_logloss: 0.219135\n",
      "[180]\tvalid_0's auc: 0.961179\tvalid_0's binary_logloss: 0.219443\n",
      "[190]\tvalid_0's auc: 0.96116\tvalid_0's binary_logloss: 0.219181\n",
      "[200]\tvalid_0's auc: 0.961164\tvalid_0's binary_logloss: 0.219309\n",
      "Top four(71821 total cases) has 67.2669703249424% positives cases being predicted\n",
      "Gini value is 0.9265839601020546\n",
      "Top four(17668 total cases) has 65.99621291815694% positives cases being predicted\n",
      "Gini value is 0.9223138177863095\n",
      "LGB - METRICS\n",
      "LGB: Train_score: 0.9633 valid_score: 0.9612\n",
      "LGB: train_vdr score: 0.6842409770362812\n",
      "LGB: valid_vdr score: 0.680033662949716\n",
      "LGB: Train_score: 0.7996 valid_score: 0.7911\n"
     ]
    },
    {
     "name": "stderr",
     "output_type": "stream",
     "text": [
      "/opt/conda/lib/python3.7/site-packages/lightgbm/sklearn.py:726: UserWarning: 'early_stopping_rounds' argument is deprecated and will be removed in a future release of LightGBM. Pass 'early_stopping()' callback via 'callbacks' argument instead.\n",
      "  _log_warning(\"'early_stopping_rounds' argument is deprecated and will be removed in a future release of LightGBM. \"\n",
      "/opt/conda/lib/python3.7/site-packages/lightgbm/sklearn.py:736: UserWarning: 'verbose' argument is deprecated and will be removed in a future release of LightGBM. Pass 'log_evaluation()' callback via 'callbacks' argument instead.\n",
      "  _log_warning(\"'verbose' argument is deprecated and will be removed in a future release of LightGBM. \"\n",
      "/opt/conda/lib/python3.7/site-packages/lightgbm/callback.py:223: UserWarning: Early stopping is not available in dart mode\n",
      "  _log_warning('Early stopping is not available in dart mode')\n"
     ]
    },
    {
     "name": "stdout",
     "output_type": "stream",
     "text": [
      "[10]\tvalid_0's auc: 0.961742\tvalid_0's binary_logloss: 0.295105\n",
      "[20]\tvalid_0's auc: 0.961875\tvalid_0's binary_logloss: 0.270304\n",
      "[30]\tvalid_0's auc: 0.962209\tvalid_0's binary_logloss: 0.233472\n",
      "[40]\tvalid_0's auc: 0.962213\tvalid_0's binary_logloss: 0.241004\n",
      "[50]\tvalid_0's auc: 0.962214\tvalid_0's binary_logloss: 0.237001\n",
      "[60]\tvalid_0's auc: 0.962281\tvalid_0's binary_logloss: 0.233146\n",
      "[70]\tvalid_0's auc: 0.962327\tvalid_0's binary_logloss: 0.222083\n",
      "[80]\tvalid_0's auc: 0.962329\tvalid_0's binary_logloss: 0.219853\n",
      "[90]\tvalid_0's auc: 0.962319\tvalid_0's binary_logloss: 0.217707\n",
      "[100]\tvalid_0's auc: 0.962312\tvalid_0's binary_logloss: 0.218734\n",
      "[110]\tvalid_0's auc: 0.962308\tvalid_0's binary_logloss: 0.218114\n",
      "[120]\tvalid_0's auc: 0.962324\tvalid_0's binary_logloss: 0.217119\n",
      "[130]\tvalid_0's auc: 0.96231\tvalid_0's binary_logloss: 0.216513\n",
      "[140]\tvalid_0's auc: 0.962353\tvalid_0's binary_logloss: 0.215935\n",
      "[150]\tvalid_0's auc: 0.962351\tvalid_0's binary_logloss: 0.215931\n",
      "[160]\tvalid_0's auc: 0.962355\tvalid_0's binary_logloss: 0.216689\n",
      "[170]\tvalid_0's auc: 0.962335\tvalid_0's binary_logloss: 0.216215\n",
      "[180]\tvalid_0's auc: 0.962337\tvalid_0's binary_logloss: 0.216603\n",
      "[190]\tvalid_0's auc: 0.962334\tvalid_0's binary_logloss: 0.216267\n",
      "[200]\tvalid_0's auc: 0.96234\tvalid_0's binary_logloss: 0.216458\n",
      "Top four(71831 total cases) has 67.27748966474863% positives cases being predicted\n",
      "Gini value is 0.9259745714664479\n",
      "Top four(17782 total cases) has 66.50115716389648% positives cases being predicted\n",
      "Gini value is 0.9246980690053496\n",
      "LGB - METRICS\n",
      "LGB: Train_score: 0.9630 valid_score: 0.9623\n",
      "LGB: train_vdr score: 0.6844618831722121\n",
      "LGB: valid_vdr score: 0.6818430464969493\n",
      "LGB: Train_score: 0.7994 valid_score: 0.7949\n"
     ]
    },
    {
     "data": {
      "text/plain": [
       "0"
      ]
     },
     "execution_count": 10,
     "metadata": {},
     "output_type": "execute_result"
    }
   ],
   "source": [
    "folds = StratifiedKFold(n_splits= 5, shuffle=True, random_state=0)\n",
    "models_stage2 = []\n",
    "for n_fold, (train_idx, valid_idx) in enumerate(folds.split(newTrainDF, trainY2)):\n",
    "    train_x, train_y = newTrainDF.iloc[train_idx], trainY2.iloc[train_idx]\n",
    "    valid_x, valid_y = newTrainDF.iloc[valid_idx], trainY2.iloc[valid_idx]\n",
    "    gbm = lgb.LGBMClassifier(\n",
    "        objective='binary', \n",
    "        boosting_type='dart',\n",
    "        num_leaves=100, \n",
    "        learning_rate=0.1,\n",
    "        n_estimators=200,\n",
    "        class_weight = {1:1,0:1},\n",
    "        min_child_samples = 100,\n",
    "        subsample = 0.5,\n",
    "        colsample_bytree = 1,\n",
    "        reg_alpha = 10,\n",
    "        reg_lambda = 10,\n",
    "        # n_jobs = 4,\n",
    "        random_state = 2022  , \n",
    "    )\n",
    "    gbm.fit(train_x, \n",
    "            train_y, \n",
    "            eval_set=[(valid_x, valid_y)], \n",
    "            eval_metric='auc', \n",
    "            early_stopping_rounds=20,\n",
    "            verbose = 10)\n",
    "\n",
    "    models_stage2.append([gbm])\n",
    "    evaluation(gbm,train_x,valid_x)\n",
    "\n",
    "    del train_x, train_y, valid_x, valid_y\n",
    "    gc.collect()  \n",
    "gc.collect()"
   ]
  },
  {
   "cell_type": "code",
   "execution_count": 11,
   "id": "2800b835",
   "metadata": {
    "execution": {
     "iopub.execute_input": "2022-07-23T18:16:55.051847Z",
     "iopub.status.busy": "2022-07-23T18:16:55.051437Z",
     "iopub.status.idle": "2022-07-23T18:16:55.255228Z",
     "shell.execute_reply": "2022-07-23T18:16:55.254139Z"
    },
    "papermill": {
     "duration": 0.242307,
     "end_time": "2022-07-23T18:16:55.257685",
     "exception": false,
     "start_time": "2022-07-23T18:16:55.015378",
     "status": "completed"
    },
    "tags": []
   },
   "outputs": [
    {
     "data": {
      "text/plain": [
       "21"
      ]
     },
     "execution_count": 11,
     "metadata": {},
     "output_type": "execute_result"
    }
   ],
   "source": [
    "del train\n",
    "gc.collect()"
   ]
  },
  {
   "cell_type": "code",
   "execution_count": 12,
   "id": "a6ddec56",
   "metadata": {
    "execution": {
     "iopub.execute_input": "2022-07-23T18:16:55.328879Z",
     "iopub.status.busy": "2022-07-23T18:16:55.328458Z",
     "iopub.status.idle": "2022-07-23T18:17:25.585026Z",
     "shell.execute_reply": "2022-07-23T18:17:25.583745Z"
    },
    "papermill": {
     "duration": 30.295903,
     "end_time": "2022-07-23T18:17:25.588167",
     "exception": false,
     "start_time": "2022-07-23T18:16:55.292264",
     "status": "completed"
    },
    "tags": []
   },
   "outputs": [],
   "source": [
    "test1 = pd.read_pickle('../input/amexshycombinedfeatures/test1.pkl')\n",
    "test2 = pd.read_pickle('../input/amexshycombinedfeatures/test2.pkl')\n",
    "test3 = pd.read_pickle('../input/amexshycombinedfeatures/test3.pkl')\n",
    "test4 = pd.read_pickle('../input/amexshycombinedfeatures/test4.pkl')\n",
    "test5 = pd.read_pickle('../input/amexshycombinedfeatures/test5.pkl')\n",
    "test6 = pd.read_pickle('../input/amexshycombinedfeatures/test6.pkl')   \n",
    "test7 = pd.read_pickle('../input/amexshycombinedfeatures/test7.pkl')"
   ]
  },
  {
   "cell_type": "code",
   "execution_count": 13,
   "id": "51e4430c",
   "metadata": {
    "execution": {
     "iopub.execute_input": "2022-07-23T18:17:25.662962Z",
     "iopub.status.busy": "2022-07-23T18:17:25.662540Z",
     "iopub.status.idle": "2022-07-23T18:17:25.813141Z",
     "shell.execute_reply": "2022-07-23T18:17:25.811903Z"
    },
    "papermill": {
     "duration": 0.1905,
     "end_time": "2022-07-23T18:17:25.816068",
     "exception": false,
     "start_time": "2022-07-23T18:17:25.625568",
     "status": "completed"
    },
    "tags": []
   },
   "outputs": [
    {
     "data": {
      "text/plain": [
       "21"
      ]
     },
     "execution_count": 13,
     "metadata": {},
     "output_type": "execute_result"
    }
   ],
   "source": [
    "gc.collect()"
   ]
  },
  {
   "cell_type": "code",
   "execution_count": 14,
   "id": "7c63030d",
   "metadata": {
    "execution": {
     "iopub.execute_input": "2022-07-23T18:17:25.892322Z",
     "iopub.status.busy": "2022-07-23T18:17:25.891917Z",
     "iopub.status.idle": "2022-07-23T18:17:34.671301Z",
     "shell.execute_reply": "2022-07-23T18:17:34.670185Z"
    },
    "papermill": {
     "duration": 8.822394,
     "end_time": "2022-07-23T18:17:34.674182",
     "exception": false,
     "start_time": "2022-07-23T18:17:25.851788",
     "status": "completed"
    },
    "tags": []
   },
   "outputs": [],
   "source": [
    "for i in test1.columns:\n",
    "    if test1[i].dtypes == 'object':\n",
    "        test1[i]=test1[i].apply(lambda x: hash(str(x))%997)\n",
    "for i in test2.columns:\n",
    "    if test2[i].dtypes == 'object':\n",
    "        test2[i]=test2[i].apply(lambda x: hash(str(x))%997)\n",
    "for i in test3.columns:\n",
    "    if test3[i].dtypes == 'object':\n",
    "        test3[i]=test3[i].apply(lambda x: hash(str(x))%997)\n",
    "for i in test4.columns:\n",
    "    if test4[i].dtypes == 'object':\n",
    "        test4[i]=test4[i].apply(lambda x: hash(str(x))%997)\n",
    "for i in test1.columns:\n",
    "    if test5[i].dtypes == 'object':\n",
    "        test5[i]=test5[i].apply(lambda x: hash(str(x))%997)\n",
    "for i in test6.columns:\n",
    "    if test6[i].dtypes == 'object':\n",
    "        test6[i]=test6[i].apply(lambda x: hash(str(x))%997)\n",
    "for i in test1.columns:\n",
    "    if test7[i].dtypes == 'object':\n",
    "        test7[i]=test7[i].apply(lambda x: hash(str(x))%997)\n"
   ]
  },
  {
   "cell_type": "code",
   "execution_count": 15,
   "id": "69503000",
   "metadata": {
    "execution": {
     "iopub.execute_input": "2022-07-23T18:17:34.747486Z",
     "iopub.status.busy": "2022-07-23T18:17:34.747057Z",
     "iopub.status.idle": "2022-07-23T18:49:17.097735Z",
     "shell.execute_reply": "2022-07-23T18:49:17.096358Z"
    },
    "papermill": {
     "duration": 1902.402035,
     "end_time": "2022-07-23T18:49:17.110924",
     "exception": false,
     "start_time": "2022-07-23T18:17:34.708889",
     "status": "completed"
    },
    "tags": []
   },
   "outputs": [
    {
     "name": "stdout",
     "output_type": "stream",
     "text": [
      "924621\n",
      "924621\n",
      "924621\n",
      "924621\n",
      "924621\n",
      "924621\n",
      "924621\n",
      "924621\n",
      "924621\n",
      "924621\n",
      "924621\n",
      "924621\n",
      "924621\n",
      "924621\n",
      "924621\n",
      "924621\n",
      "924621\n",
      "924621\n",
      "924621\n",
      "924621\n",
      "924621\n",
      "924621\n",
      "924621\n",
      "924621\n",
      "924621\n",
      "924621\n",
      "924621\n",
      "924621\n",
      "924621\n",
      "924621\n"
     ]
    },
    {
     "data": {
      "text/html": [
       "<div>\n",
       "<style scoped>\n",
       "    .dataframe tbody tr th:only-of-type {\n",
       "        vertical-align: middle;\n",
       "    }\n",
       "\n",
       "    .dataframe tbody tr th {\n",
       "        vertical-align: top;\n",
       "    }\n",
       "\n",
       "    .dataframe thead th {\n",
       "        text-align: right;\n",
       "    }\n",
       "</style>\n",
       "<table border=\"1\" class=\"dataframe\">\n",
       "  <thead>\n",
       "    <tr style=\"text-align: right;\">\n",
       "      <th></th>\n",
       "      <th>m_0</th>\n",
       "      <th>m_1</th>\n",
       "      <th>m_2</th>\n",
       "      <th>m_3</th>\n",
       "      <th>m_4</th>\n",
       "      <th>m_5</th>\n",
       "      <th>m_6</th>\n",
       "      <th>m_7</th>\n",
       "      <th>m_8</th>\n",
       "      <th>m_9</th>\n",
       "      <th>...</th>\n",
       "      <th>m_20</th>\n",
       "      <th>m_21</th>\n",
       "      <th>m_22</th>\n",
       "      <th>m_23</th>\n",
       "      <th>m_24</th>\n",
       "      <th>m_25</th>\n",
       "      <th>m_26</th>\n",
       "      <th>m_27</th>\n",
       "      <th>m_28</th>\n",
       "      <th>m_29</th>\n",
       "    </tr>\n",
       "  </thead>\n",
       "  <tbody>\n",
       "    <tr>\n",
       "      <th>0</th>\n",
       "      <td>0.022053</td>\n",
       "      <td>0.034194</td>\n",
       "      <td>0.018526</td>\n",
       "      <td>0.022605</td>\n",
       "      <td>0.016699</td>\n",
       "      <td>0.015076</td>\n",
       "      <td>0.015588</td>\n",
       "      <td>0.011299</td>\n",
       "      <td>0.024964</td>\n",
       "      <td>0.021537</td>\n",
       "      <td>...</td>\n",
       "      <td>0.017289</td>\n",
       "      <td>0.024406</td>\n",
       "      <td>0.019512</td>\n",
       "      <td>0.016450</td>\n",
       "      <td>0.016838</td>\n",
       "      <td>0.017143</td>\n",
       "      <td>0.018741</td>\n",
       "      <td>0.021234</td>\n",
       "      <td>0.016829</td>\n",
       "      <td>0.021888</td>\n",
       "    </tr>\n",
       "    <tr>\n",
       "      <th>1</th>\n",
       "      <td>0.000706</td>\n",
       "      <td>0.000808</td>\n",
       "      <td>0.001453</td>\n",
       "      <td>0.000652</td>\n",
       "      <td>0.000832</td>\n",
       "      <td>0.000675</td>\n",
       "      <td>0.000713</td>\n",
       "      <td>0.001088</td>\n",
       "      <td>0.000786</td>\n",
       "      <td>0.000846</td>\n",
       "      <td>...</td>\n",
       "      <td>0.000778</td>\n",
       "      <td>0.000803</td>\n",
       "      <td>0.000685</td>\n",
       "      <td>0.000589</td>\n",
       "      <td>0.000791</td>\n",
       "      <td>0.000873</td>\n",
       "      <td>0.000629</td>\n",
       "      <td>0.000788</td>\n",
       "      <td>0.000676</td>\n",
       "      <td>0.000856</td>\n",
       "    </tr>\n",
       "    <tr>\n",
       "      <th>2</th>\n",
       "      <td>0.031482</td>\n",
       "      <td>0.039327</td>\n",
       "      <td>0.035907</td>\n",
       "      <td>0.030679</td>\n",
       "      <td>0.027090</td>\n",
       "      <td>0.025659</td>\n",
       "      <td>0.036131</td>\n",
       "      <td>0.031992</td>\n",
       "      <td>0.019148</td>\n",
       "      <td>0.025743</td>\n",
       "      <td>...</td>\n",
       "      <td>0.036864</td>\n",
       "      <td>0.021709</td>\n",
       "      <td>0.041574</td>\n",
       "      <td>0.024576</td>\n",
       "      <td>0.030001</td>\n",
       "      <td>0.035465</td>\n",
       "      <td>0.021231</td>\n",
       "      <td>0.023347</td>\n",
       "      <td>0.038918</td>\n",
       "      <td>0.032181</td>\n",
       "    </tr>\n",
       "    <tr>\n",
       "      <th>3</th>\n",
       "      <td>0.160739</td>\n",
       "      <td>0.196740</td>\n",
       "      <td>0.230995</td>\n",
       "      <td>0.191449</td>\n",
       "      <td>0.267505</td>\n",
       "      <td>0.190363</td>\n",
       "      <td>0.212807</td>\n",
       "      <td>0.160541</td>\n",
       "      <td>0.188752</td>\n",
       "      <td>0.203171</td>\n",
       "      <td>...</td>\n",
       "      <td>0.161042</td>\n",
       "      <td>0.162554</td>\n",
       "      <td>0.195035</td>\n",
       "      <td>0.141441</td>\n",
       "      <td>0.203713</td>\n",
       "      <td>0.238012</td>\n",
       "      <td>0.250645</td>\n",
       "      <td>0.232690</td>\n",
       "      <td>0.222571</td>\n",
       "      <td>0.291150</td>\n",
       "    </tr>\n",
       "    <tr>\n",
       "      <th>4</th>\n",
       "      <td>0.872793</td>\n",
       "      <td>0.818598</td>\n",
       "      <td>0.866939</td>\n",
       "      <td>0.842797</td>\n",
       "      <td>0.828979</td>\n",
       "      <td>0.847666</td>\n",
       "      <td>0.848817</td>\n",
       "      <td>0.851573</td>\n",
       "      <td>0.762699</td>\n",
       "      <td>0.817761</td>\n",
       "      <td>...</td>\n",
       "      <td>0.823178</td>\n",
       "      <td>0.823614</td>\n",
       "      <td>0.829021</td>\n",
       "      <td>0.825741</td>\n",
       "      <td>0.828832</td>\n",
       "      <td>0.823534</td>\n",
       "      <td>0.801565</td>\n",
       "      <td>0.877732</td>\n",
       "      <td>0.853231</td>\n",
       "      <td>0.860755</td>\n",
       "    </tr>\n",
       "  </tbody>\n",
       "</table>\n",
       "<p>5 rows × 30 columns</p>\n",
       "</div>"
      ],
      "text/plain": [
       "        m_0       m_1       m_2       m_3       m_4       m_5       m_6  \\\n",
       "0  0.022053  0.034194  0.018526  0.022605  0.016699  0.015076  0.015588   \n",
       "1  0.000706  0.000808  0.001453  0.000652  0.000832  0.000675  0.000713   \n",
       "2  0.031482  0.039327  0.035907  0.030679  0.027090  0.025659  0.036131   \n",
       "3  0.160739  0.196740  0.230995  0.191449  0.267505  0.190363  0.212807   \n",
       "4  0.872793  0.818598  0.866939  0.842797  0.828979  0.847666  0.848817   \n",
       "\n",
       "        m_7       m_8       m_9  ...      m_20      m_21      m_22      m_23  \\\n",
       "0  0.011299  0.024964  0.021537  ...  0.017289  0.024406  0.019512  0.016450   \n",
       "1  0.001088  0.000786  0.000846  ...  0.000778  0.000803  0.000685  0.000589   \n",
       "2  0.031992  0.019148  0.025743  ...  0.036864  0.021709  0.041574  0.024576   \n",
       "3  0.160541  0.188752  0.203171  ...  0.161042  0.162554  0.195035  0.141441   \n",
       "4  0.851573  0.762699  0.817761  ...  0.823178  0.823614  0.829021  0.825741   \n",
       "\n",
       "       m_24      m_25      m_26      m_27      m_28      m_29  \n",
       "0  0.016838  0.017143  0.018741  0.021234  0.016829  0.021888  \n",
       "1  0.000791  0.000873  0.000629  0.000788  0.000676  0.000856  \n",
       "2  0.030001  0.035465  0.021231  0.023347  0.038918  0.032181  \n",
       "3  0.203713  0.238012  0.250645  0.232690  0.222571  0.291150  \n",
       "4  0.828832  0.823534  0.801565  0.877732  0.853231  0.860755  \n",
       "\n",
       "[5 rows x 30 columns]"
      ]
     },
     "execution_count": 15,
     "metadata": {},
     "output_type": "execute_result"
    }
   ],
   "source": [
    "result = pd.DataFrame()\n",
    "for idx,model in enumerate(models):\n",
    "    array = []\n",
    "    array1 = []\n",
    "    \n",
    "    array+=list(model[0].predict_proba(test1)[:,1])\n",
    "    array+=list(model[0].predict_proba(test2)[:,1])\n",
    "    array+=list(model[0].predict_proba(test3)[:,1])\n",
    "    array+=list(model[0].predict_proba(test4)[:,1])\n",
    "    array+=list(model[0].predict_proba(test5)[:,1])\n",
    "    array+=list(model[0].predict_proba(test6)[:,1])\n",
    "    array+=list(model[0].predict_proba(test7)[:,1])\n",
    "    \n",
    "#     array1+=list(model[1].predict_proba(test1)[:,1])\n",
    "#     array1+=list(model[1].predict_proba(test2)[:,1])\n",
    "#     array1+=list(model[1].predict_proba(test3)[:,1])\n",
    "#     array1+=list(model[1].predict_proba(test4)[:,1])\n",
    "#     array1+=list(model[1].predict_proba(test5)[:,1])\n",
    "#     array1+=list(model[1].predict_proba(test6)[:,1])      \n",
    "#     array1+=list(model[1].predict_proba(test7)[:,1])    \n",
    "          \n",
    "    gc.collect()   \n",
    "    print(len(array))    \n",
    "    \n",
    "#     result.append(np.mean(np.array([array,array1]),axis=0))\n",
    "    result[f'm_{idx}'] = array\n",
    "result.head()\n",
    "    "
   ]
  },
  {
   "cell_type": "code",
   "execution_count": 16,
   "id": "60ab125f",
   "metadata": {
    "execution": {
     "iopub.execute_input": "2022-07-23T18:49:17.188473Z",
     "iopub.status.busy": "2022-07-23T18:49:17.188038Z",
     "iopub.status.idle": "2022-07-23T18:49:17.280324Z",
     "shell.execute_reply": "2022-07-23T18:49:17.279109Z"
    },
    "papermill": {
     "duration": 0.134506,
     "end_time": "2022-07-23T18:49:17.283244",
     "exception": false,
     "start_time": "2022-07-23T18:49:17.148738",
     "status": "completed"
    },
    "tags": []
   },
   "outputs": [],
   "source": [
    "result['2022_pred'] = (result['m_0']+result['m_1']+result['m_2']+result['m_3']+result['m_4'])/5\n",
    "result['725_pred'] = (result['m_5']+result['m_6']+result['m_7']+result['m_8']+result['m_9'])/5\n",
    "result['233_pred'] = (result['m_10']+result['m_11']+result['m_12']+result['m_13']+result['m_14'])/5\n",
    "result['514_pred'] = (result['m_15']+result['m_16']+result['m_17']+result['m_18']+result['m_19'])/5\n",
    "result['2333_pred'] = (result['m_20']+result['m_21']+result['m_22']+result['m_23']+result['m_24'])/5\n",
    "result['0_pred'] = (result['m_25']+result['m_26']+result['m_27']+result['m_28']+result['m_29'])/5"
   ]
  },
  {
   "cell_type": "code",
   "execution_count": 17,
   "id": "0d86e392",
   "metadata": {
    "execution": {
     "iopub.execute_input": "2022-07-23T18:49:17.360105Z",
     "iopub.status.busy": "2022-07-23T18:49:17.359725Z",
     "iopub.status.idle": "2022-07-23T18:49:17.383457Z",
     "shell.execute_reply": "2022-07-23T18:49:17.382609Z"
    },
    "papermill": {
     "duration": 0.065877,
     "end_time": "2022-07-23T18:49:17.386610",
     "exception": false,
     "start_time": "2022-07-23T18:49:17.320733",
     "status": "completed"
    },
    "tags": []
   },
   "outputs": [],
   "source": [
    "result['combined'] = (result['2022_pred']+result['725_pred']+result['233_pred']+result['514_pred']+result['2333_pred']+result['0_pred'])/6"
   ]
  },
  {
   "cell_type": "code",
   "execution_count": 18,
   "id": "29755fa7",
   "metadata": {
    "execution": {
     "iopub.execute_input": "2022-07-23T18:49:17.469448Z",
     "iopub.status.busy": "2022-07-23T18:49:17.469023Z",
     "iopub.status.idle": "2022-07-23T18:49:24.330791Z",
     "shell.execute_reply": "2022-07-23T18:49:24.329638Z"
    },
    "papermill": {
     "duration": 6.904589,
     "end_time": "2022-07-23T18:49:24.333730",
     "exception": false,
     "start_time": "2022-07-23T18:49:17.429141",
     "status": "completed"
    },
    "tags": []
   },
   "outputs": [],
   "source": [
    "ids = pd.read_pickle('../input/amexlgbselectedfeatures/ids.pkl')\n",
    "submission = pd.DataFrame({'customer_ID':ids,'prediction':result['combined']})\n",
    "submission.to_csv('submission.csv',index=False)"
   ]
  },
  {
   "cell_type": "code",
   "execution_count": 19,
   "id": "35b32310",
   "metadata": {
    "execution": {
     "iopub.execute_input": "2022-07-23T18:49:24.410379Z",
     "iopub.status.busy": "2022-07-23T18:49:24.409589Z",
     "iopub.status.idle": "2022-07-23T18:49:28.520796Z",
     "shell.execute_reply": "2022-07-23T18:49:28.519672Z"
    },
    "papermill": {
     "duration": 4.15251,
     "end_time": "2022-07-23T18:49:28.523245",
     "exception": false,
     "start_time": "2022-07-23T18:49:24.370735",
     "status": "completed"
    },
    "tags": []
   },
   "outputs": [
    {
     "name": "stderr",
     "output_type": "stream",
     "text": [
      "/opt/conda/lib/python3.7/site-packages/seaborn/distributions.py:2619: FutureWarning: `distplot` is a deprecated function and will be removed in a future version. Please adapt your code to use either `displot` (a figure-level function with similar flexibility) or `histplot` (an axes-level function for histograms).\n",
      "  warnings.warn(msg, FutureWarning)\n"
     ]
    },
    {
     "name": "stdout",
     "output_type": "stream",
     "text": [
      "count    924621.000000\n",
      "mean          0.243266\n",
      "std           0.345044\n",
      "min           0.000106\n",
      "25%           0.002347\n",
      "50%           0.021611\n",
      "75%           0.465437\n",
      "max           0.999510\n",
      "Name: prediction, dtype: float64\n",
      "57149\n"
     ]
    },
    {
     "data": {
      "image/png": "[encoded data removed]",
      "text/plain": [
       "<Figure size 432x288 with 1 Axes>"
      ]
     },
     "metadata": {
      "needs_background": "light"
     },
     "output_type": "display_data"
    }
   ],
   "source": [
    "def plot_submission(df):\n",
    "    sns.distplot(df['prediction'])\n",
    "    print(df['prediction'].describe())\n",
    "    print(len(df[df['prediction']>0.95]))\n",
    "    plt.show()\n",
    "\n",
    "plot_submission(submission)"
   ]
  },
  {
   "cell_type": "code",
   "execution_count": 20,
   "id": "47f446ea",
   "metadata": {
    "execution": {
     "iopub.execute_input": "2022-07-23T18:49:28.600709Z",
     "iopub.status.busy": "2022-07-23T18:49:28.600293Z",
     "iopub.status.idle": "2022-07-23T18:49:28.605303Z",
     "shell.execute_reply": "2022-07-23T18:49:28.604050Z"
    },
    "papermill": {
     "duration": 0.046657,
     "end_time": "2022-07-23T18:49:28.607654",
     "exception": false,
     "start_time": "2022-07-23T18:49:28.560997",
     "status": "completed"
    },
    "tags": []
   },
   "outputs": [],
   "source": [
    "# submission['prediction'] *= .99\n",
    "# submission.to_csv('submission.csv',index=False)"
   ]
  }
 ],
 "metadata": {
  "kernelspec": {
   "display_name": "Python 3",
   "language": "python",
   "name": "python3"
  },
  "language_info": {
   "codemirror_mode": {
    "name": "ipython",
    "version": 3
   },
   "file_extension": ".py",
   "mimetype": "text/x-python",
   "name": "python",
   "nbconvert_exporter": "python",
   "pygments_lexer": "ipython3",
   "version": "3.7.12"
  },
  "papermill": {
   "default_parameters": {},
   "duration": 16962.19963,
   "end_time": "2022-07-23T18:49:30.130255",
   "environment_variables": {},
   "exception": null,
   "input_path": "__notebook__.ipynb",
   "output_path": "__notebook__.ipynb",
   "parameters": {},
   "start_time": "2022-07-23T14:06:47.930625",
   "version": "2.3.4"
  }
 },
 "nbformat": 4,
 "nbformat_minor": 5
}
